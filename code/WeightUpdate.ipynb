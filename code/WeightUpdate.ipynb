{
 "cells": [
  {
   "cell_type": "code",
   "execution_count": 12,
   "metadata": {},
   "outputs": [
    {
     "name": "stdout",
     "output_type": "stream",
     "text": [
      "[ 0.99109325  0.03513259  0.02296001]\n"
     ]
    }
   ],
   "source": [
    "import numpy as np\n",
    "\n",
    "def e_(num_output, w_backstep, r, target_val):\n",
    "    z_min_t = 0\n",
    "    for i in range(num_output):\n",
    "        z_min_t = w_backstep[i] * r[i]\n",
    "    \n",
    "    return (z_min_t - target_val)\n",
    "\n",
    "def P_t(num_output, P_backstep, r):\n",
    "    p_top = np.dot(r, np.transpose(r))\n",
    "    \n",
    "    p_top = np.dot(p_top, P_backstep)\n",
    "    p_top = np.dot(P_backstep, p_top)\n",
    "    \n",
    "    p_bot = np.dot(P_backstep, r)\n",
    "    p_bot = np.dot(np.transpose(r), p_bot) + 1\n",
    "    \n",
    "    return (P_backstep - (p_top / p_bot))\n",
    "    \n",
    "\"\"\" Calculate w(T) for all num_output neurons in the feedout mechanism according\n",
    "    to the evolution equation:\n",
    "    \n",
    "    w(t) = w(t - delT) - e_(t)P(t)r(t)\n",
    "    \n",
    "    or, in terms of the function parameters\n",
    "    \n",
    "    w(T) = w_backstep - e_(T)P(T)r(T)\n",
    "    \n",
    "    w is a dim(num_output x 1), P is dim(num_output x num_output), \n",
    "    r is dim(num_output x 1)\n",
    "\"\"\"\n",
    "def w_t(num_output, P_backstep, r, w_backstep, target_val):\n",
    "    return (w_backstep - e_(num_output, w_backstep, r, target_val) \n",
    "            * np.dot(P_t(num_output, P_backstep, r), r))\n",
    "\n",
    "\n",
    "P = np.array([[1, 0, 0], [0, 1, 0], [0, 0, 1]])\n",
    "num_output = 3\n",
    "timestep = 1e-3\n",
    "target_val = 0.0576927\n",
    "r = np.array([0.003, 0.8729, 0.1274])\n",
    "w_backstep = np.array([0.991, 0.008, 0.019])\n",
    "w = w_t(num_output, timestep, P, r, w_backstep, target_val)\n",
    "print(w[:])"
   ]
  },
  {
   "cell_type": "code",
   "execution_count": null,
   "metadata": {},
   "outputs": [],
   "source": []
  }
 ],
 "metadata": {
  "kernelspec": {
   "display_name": "Python 3",
   "language": "python",
   "name": "python3"
  },
  "language_info": {
   "codemirror_mode": {
    "name": "ipython",
    "version": 3
   },
   "file_extension": ".py",
   "mimetype": "text/x-python",
   "name": "python",
   "nbconvert_exporter": "python",
   "pygments_lexer": "ipython3",
   "version": "3.6.2"
  }
 },
 "nbformat": 4,
 "nbformat_minor": 2
}

{
 "cells": [
  {
   "cell_type": "code",
   "execution_count": 1,
   "metadata": {},
   "outputs": [
    {
     "data": {
      "text/plain": [
       "\"\\ndecode = np.load('test_decoder_1000_0_all.npy')\\nplt.figure()\\nfor i in range(18, 36):\\n\\tplt.plot(decode[0][371*i:371*(i+1)])\\n\\t\\nplt.plot([95, 95+0.0001], [0, decode[0][95]], '--')\\nplt.plot([105, 105+0.0001], [0, decode[0][105]], '--')\\nplt.plot([270, 270+0.0001], [0, decode[0][270]], '--')\\n# plt.plot(decode[0][30*371:31*371])\\nplt.ylim((-1.2, 1.2))\\nplt.annotate('', xy=(-5, 0), xytext=(370, 0), arrowprops={'arrowstyle':'|-|'})\\nplt.scatter([0, 95, 105, 270], [0,0,0,0])\\nplt.annotate(r'Input \\\\ signal ON', xy=(0, 0), xytext=(0, 0.5), size=13,\\n\\tarrowprops={'facecolor':'black', 'arrowstyle':'->'})\\nplt.annotate(r'Input \\\\ signal OFF', xy=(95, 0.0), xytext=(70, 0.4), size=13,\\n\\tarrowprops={'facecolor':'black', 'arrowstyle':'->'})\\nplt.annotate(r'Go \\\\ cue ON', xy=(105, 0), xytext=(110, -0.4), size=13,\\n\\tarrowprops={'facecolor':'black', 'arrowstyle':'->'})\\nplt.annotate(r'Go cue OFF', xy=(270, 0), xytext=(255, 0.2), size=13,\\n\\tarrowprops={'facecolor':'black', 'arrowstyle':'->'})\\nplt.title(r'Decoding experiment')\\nplt.ylabel(r'$$z(t)$$')\\nplt.xlabel(r'$$t$$')\\n# plt.savefig('decode_1', dpi=300)\\nplt.show()\\n\""
      ]
     },
     "execution_count": 1,
     "metadata": {},
     "output_type": "execute_result"
    }
   ],
   "source": [
    "%matplotlib ipympl\n",
    "import matplotlib.pyplot as plt\n",
    "import numpy as np\n",
    "\n",
    "from matplotlib import rc\n",
    "# rc('font',**{'family':'sans-serif','sans-serif':['Helvetica']})\n",
    "rc('text', usetex=True)\n",
    "\n",
    "######################################################################\n",
    "## \t\t\t\t\t\t\t\t\t\t\t\t\t\t\t\t\t##\n",
    "##   \t\t\t\t\t\t\t\t\t\t\t\t\t\t\t\t##\n",
    "##                 Decoding experiment plotting\t\t\t\t\t\t##\n",
    "##\t\t\t\t\t\t\t\t\t\t\t\t\t\t\t\t\t##\n",
    "## \t\t\t\t\t\t\t\t\t\t\t\t\t\t\t\t\t##\n",
    "######################################################################\n",
    "\n",
    "\"\"\"\n",
    "decode = np.load('test_decoder_1000_0_all.npy')\n",
    "plt.figure()\n",
    "for i in range(18, 36):\n",
    "\tplt.plot(decode[0][371*i:371*(i+1)])\n",
    "\t\n",
    "plt.plot([95, 95+0.0001], [0, decode[0][95]], '--')\n",
    "plt.plot([105, 105+0.0001], [0, decode[0][105]], '--')\n",
    "plt.plot([270, 270+0.0001], [0, decode[0][270]], '--')\n",
    "# plt.plot(decode[0][30*371:31*371])\n",
    "plt.ylim((-1.2, 1.2))\n",
    "plt.annotate('', xy=(-5, 0), xytext=(370, 0), arrowprops={'arrowstyle':'|-|'})\n",
    "plt.scatter([0, 95, 105, 270], [0,0,0,0])\n",
    "plt.annotate(r'Input \\\\ signal ON', xy=(0, 0), xytext=(0, 0.5), size=13,\n",
    "\tarrowprops={'facecolor':'black', 'arrowstyle':'->'})\n",
    "plt.annotate(r'Input \\\\ signal OFF', xy=(95, 0.0), xytext=(70, 0.4), size=13,\n",
    "\tarrowprops={'facecolor':'black', 'arrowstyle':'->'})\n",
    "plt.annotate(r'Go \\\\ cue ON', xy=(105, 0), xytext=(110, -0.4), size=13,\n",
    "\tarrowprops={'facecolor':'black', 'arrowstyle':'->'})\n",
    "plt.annotate(r'Go cue OFF', xy=(270, 0), xytext=(255, 0.2), size=13,\n",
    "\tarrowprops={'facecolor':'black', 'arrowstyle':'->'})\n",
    "plt.title(r'Decoding experiment')\n",
    "plt.ylabel(r'$$z(t)$$')\n",
    "plt.xlabel(r'$$t$$')\n",
    "# plt.savefig('decode_1', dpi=300)\n",
    "plt.show()\n",
    "\"\"\""
   ]
  },
  {
   "cell_type": "code",
   "execution_count": 2,
   "metadata": {},
   "outputs": [
    {
     "data": {
      "text/plain": [
       "\"\\ntarget_in_network = np.load('../datafiles/jp2/april_17_2018.npy')\\ntarg = np.load('../datafiles/jp2/loaded_data0.npy')\\nt = 1\\nimport math\\ndef sigmoid(x):\\n    return x / math.sqrt(100 + x * x)\\n\\nposs_maps = {\\n    'baseline': [ 0 for i in range(target_in_network.shape[2]-200)   ],\\n    'pos'     : [ sigmoid(i) for i in range(100)                     ],\\n    'neg'     : [ -1 * sigmoid(i) for i in range(100)                ],\\n    'r_pos'   : [ 1 - sigmoid(i) for i in range(100)                 ],\\n    'r_neg'   : [ -1 * (1 - sigmoid(i)) for i in range(100)          ],\\n    'base'    : [ 0 for i in range(100)                              ]\\n}\\n\\nappendpos = np.append(poss_maps['baseline'], np.append(poss_maps['pos'], poss_maps['r_pos']))\\nappendneg = np.append(poss_maps['baseline'], np.append(poss_maps['neg'], poss_maps['r_neg']))\\n\\nft = [ targ[k][t] for k in range(len(targ)) ]\\nft = np.concatenate(( [np.linspace(0, ft[p][0], 20) for p in range(len(ft))], ft), axis=1)\\nft = np.concatenate(( ft, [np.linspace(ft[p][-1], 0, 20) for p in range(len(ft))]), axis=1)\\nft = np.concatenate(( ft, [np.zeros(200) for i in range(len(ft))]), axis=1)\\n\\nplt.figure()\\nplt.subplot(221)\\nim1 = plt.imshow(target_in_network[t][0:-1], aspect='auto')\\nplt.colorbar(im1)\\nplt.title('network output')\\n\\nplt.subplot(222)\\nplt.title('target output')\\nim = plt.imshow(ft, aspect='auto')\\nplt.colorbar(im)\\n\\nplt.subplot(212)\\nplt.title('stimulus response')\\nplt.plot(target_in_network[t][-1], label='network')\\nplt.plot(appendneg, 'r--', label='target')\\nplt.legend()\\nplt.tight_layout()\\nplt.savefig('target_in_network_0', dpi=300)\\n# plt.show()\\n\""
      ]
     },
     "execution_count": 2,
     "metadata": {},
     "output_type": "execute_result"
    }
   ],
   "source": [
    "######################################################################\n",
    "## \t\t\t\t\t\t\t\t\t\t\t\t\t\t\t\t\t##\n",
    "##   \t\t\t\t\t\t\t\t\t\t\t\t\t\t\t\t##\n",
    "##          Target in network experiment plotting (delayed)\t\t    ##\n",
    "##\t\t\t\t\t\t\t\t\t\t\t\t\t\t\t\t\t##\n",
    "## \t\t\t\t\t\t\t\t\t\t\t\t\t\t\t\t\t##\n",
    "######################################################################\n",
    "\n",
    "\"\"\"\n",
    "target_in_network = np.load('../datafiles/jp2/april_17_2018.npy')\n",
    "targ = np.load('../datafiles/jp2/loaded_data0.npy')\n",
    "t = 1\n",
    "import math\n",
    "def sigmoid(x):\n",
    "    return x / math.sqrt(100 + x * x)\n",
    "\n",
    "poss_maps = {\n",
    "    'baseline': [ 0 for i in range(target_in_network.shape[2]-200)   ],\n",
    "    'pos'     : [ sigmoid(i) for i in range(100)                     ],\n",
    "    'neg'     : [ -1 * sigmoid(i) for i in range(100)                ],\n",
    "    'r_pos'   : [ 1 - sigmoid(i) for i in range(100)                 ],\n",
    "    'r_neg'   : [ -1 * (1 - sigmoid(i)) for i in range(100)          ],\n",
    "    'base'    : [ 0 for i in range(100)                              ]\n",
    "}\n",
    "\n",
    "appendpos = np.append(poss_maps['baseline'], np.append(poss_maps['pos'], poss_maps['r_pos']))\n",
    "appendneg = np.append(poss_maps['baseline'], np.append(poss_maps['neg'], poss_maps['r_neg']))\n",
    "\n",
    "ft = [ targ[k][t] for k in range(len(targ)) ]\n",
    "ft = np.concatenate(( [np.linspace(0, ft[p][0], 20) for p in range(len(ft))], ft), axis=1)\n",
    "ft = np.concatenate(( ft, [np.linspace(ft[p][-1], 0, 20) for p in range(len(ft))]), axis=1)\n",
    "ft = np.concatenate(( ft, [np.zeros(200) for i in range(len(ft))]), axis=1)\n",
    "\n",
    "plt.figure()\n",
    "plt.subplot(221)\n",
    "im1 = plt.imshow(target_in_network[t][0:-1], aspect='auto')\n",
    "plt.colorbar(im1)\n",
    "plt.title('network output')\n",
    "\n",
    "plt.subplot(222)\n",
    "plt.title('target output')\n",
    "im = plt.imshow(ft, aspect='auto')\n",
    "plt.colorbar(im)\n",
    "\n",
    "plt.subplot(212)\n",
    "plt.title('stimulus response')\n",
    "plt.plot(target_in_network[t][-1], label='network')\n",
    "plt.plot(appendneg, 'r--', label='target')\n",
    "plt.legend()\n",
    "plt.tight_layout()\n",
    "plt.savefig('target_in_network_0', dpi=300)\n",
    "# plt.show()\n",
    "\"\"\""
   ]
  },
  {
   "cell_type": "code",
   "execution_count": null,
   "metadata": {},
   "outputs": [],
   "source": [
    "######################################################################\n",
    "## \t\t\t\t\t\t\t\t\t\t\t\t\t\t\t\t\t##\n",
    "##   \t\t\t\t\t\t\t\t\t\t\t\t\t\t\t\t##\n",
    "##          Target in network experiment plotting (t = 0)\t\t    ##\n",
    "##\t\t\t\t\t\t\t\t\t\t\t\t\t\t\t\t\t##\n",
    "## \t\t\t\t\t\t\t\t\t\t\t\t\t\t\t\t\t##\n",
    "######################################################################\n",
    "\n",
    "# target_in_network = np.load('../datafiles/jp2/april_18_2018_t=0.npy')\n",
    "# targ = np.load('../datafiles/jp2/loaded_data0.npy')\n",
    "# t = 3\n",
    "# import math\n",
    "# def sigmoid(x):\n",
    "#     return x / math.sqrt(100 + x * x)\n",
    "\n",
    "# poss_maps = {\n",
    "#     'baseline': [ 0 for i in range(int((target_in_network.shape[2]-80)/2)) ],\n",
    "#     'pos'     : [ sigmoid(i) for i in range(int((target_in_network.shape[2]-100))) ],\n",
    "#     'neg'     : [ -1 * sigmoid(i) for i in range(int((target_in_network.shape[2]-100))) ],\n",
    "#     'r_pos'   : [ 1 - sigmoid(i) for i in range(100)                 ],\n",
    "#     'r_neg'   : [ -1 * (1 - sigmoid(i)) for i in range(100)          ],\n",
    "#     'base'    : [ 0 for i in range(100)                              ]\n",
    "# }\n",
    "\n",
    "# appendpos = np.append(np.zeros(20), np.append(poss_maps['pos'], poss_maps['r_pos'][0:80]))\n",
    "# appendneg = np.append(np.zeros(20), np.append(poss_maps['neg'], poss_maps['r_neg'][0:80]))\n",
    "\n",
    "# ft = [ targ[k][t] for k in range(len(targ)) ]\n",
    "# ft = np.concatenate(( [np.linspace(0, ft[p][0], 20) for p in range(len(ft))], ft), axis=1)\n",
    "# ft = np.concatenate(( ft, [np.linspace(ft[p][-1], 0, 20) for p in range(len(ft))]), axis=1)\n",
    "# ft = np.concatenate(( ft, [np.zeros(80) for i in range(len(ft))]), axis=1)\n",
    "\n",
    "# plt.figure()\n",
    "# plt.subplot(221)\n",
    "# im1 = plt.imshow(target_in_network[t][0:-1], aspect='auto')\n",
    "# plt.colorbar(im1)\n",
    "# plt.title('network output')\n",
    "\n",
    "# plt.subplot(222)\n",
    "# plt.title('target output')\n",
    "# im = plt.imshow(ft, aspect='auto')\n",
    "# plt.colorbar(im)\n",
    "\n",
    "# plt.subplot(212)\n",
    "# plt.title('stimulus response')\n",
    "# plt.plot(target_in_network[t][-1], label='network')\n",
    "# plt.plot(appendneg, 'r--', label='target')\n",
    "# plt.legend()\n",
    "# plt.tight_layout()\n",
    "# plt.savefig('target_in_network_1', dpi=300)\n",
    "#plt.show()"
   ]
  },
  {
   "cell_type": "code",
   "execution_count": null,
   "metadata": {},
   "outputs": [],
   "source": [
    "######################################################################\n",
    "## \t\t\t\t\t\t\t\t\t\t\t\t\t\t\t\t\t##\n",
    "##   \t\t\t\t\t\t\t\t\t\t\t\t\t\t\t\t##\n",
    "##                      FORCE v full-FORCE\t\t                    ##\n",
    "##\t\t\t\t\t\t\t\t\t\t\t\t\t\t\t\t\t##\n",
    "## \t\t\t\t\t\t\t\t\t\t\t\t\t\t\t\t\t##\n",
    "######################################################################\n",
    "\n",
    "\"\"\"\n",
    "target_FORCE = np.load('../datafiles/jp2/april_17_2018.npy')\n",
    "target_ff = np.load('../datafiles/jp2/ff_resp.npy')\n",
    "targ = np.load('../datafiles/jp2/loaded_data0.npy')\n",
    "t=0\n",
    "\n",
    "ft = [ targ[k][t] for k in range(len(targ)) ]\n",
    "ft = np.concatenate(( [np.linspace(0, ft[p][0], 20) for p in range(len(ft))], ft), axis=1)\n",
    "ft = np.concatenate(( ft, [np.linspace(ft[p][-1], 0, 20) for p in range(len(ft))]), axis=1)\n",
    "ft = np.concatenate(( ft, [np.zeros(90) for i in range(len(ft))]), axis=1)\n",
    "ft2 = np.copy(ft)\n",
    "\n",
    "show_force = [ target_FORCE[t][i][0:250] for i in range(726) ]\n",
    "\n",
    "plt.figure()\n",
    "plt.subplot(221)\n",
    "im1 = plt.imshow(ft, aspect='auto')\n",
    "plt.colorbar(im1)\n",
    "plt.title('target output')\n",
    "\n",
    "plt.subplot(222)\n",
    "plt.title('FORCE network output')\n",
    "im = plt.imshow(show_force, aspect='auto')\n",
    "plt.colorbar(im)\n",
    "\n",
    "plt.subplot(223)\n",
    "im1 = plt.imshow(ft2, aspect='auto')\n",
    "plt.colorbar(im1)\n",
    "plt.title('target output')\n",
    "\n",
    "plt.subplot(224)\n",
    "plt.title('full-FORCE network output')\n",
    "im = plt.imshow(target_ff, aspect='auto')\n",
    "plt.colorbar(im)\n",
    "\n",
    "plt.tight_layout()\n",
    "plt.savefig('ff_v_FORCE', dpi=300)\n",
    "# plt.show()\n",
    "\"\"\""
   ]
  },
  {
   "cell_type": "code",
   "execution_count": 2,
   "metadata": {},
   "outputs": [
    {
     "name": "stdout",
     "output_type": "stream",
     "text": [
      "(4, 2, 72)\n"
     ]
    },
    {
     "data": {
      "image/png": "[encoded data removed]",
      "text/plain": [
       "<Figure size 720x288 with 10 Axes>"
      ]
     },
     "metadata": {
      "needs_background": "light"
     },
     "output_type": "display_data"
    }
   ],
   "source": [
    "######################################################################\n",
    "## \t\t\t\t\t\t\t\t\t\t\t\t\t\t\t\t\t##\n",
    "##   \t\t\t\t\t\t\t\t\t\t\t\t\t\t\t\t##\n",
    "##                  Noise level comparison\t\t                    ##\n",
    "##\t\t\t\t\t\t\t\t\t\t\t\t\t\t\t\t\t##\n",
    "## \t\t\t\t\t\t\t\t\t\t\t\t\t\t\t\t\t##\n",
    "######################################################################\n",
    "\n",
    "res = np.load('noise_experiment_9.npy', encoding='latin1')\n",
    "targ = np.load('../datafiles/jp2/loaded_data0.npy')\n",
    "\n",
    "print(np.shape(res))\n",
    "\n",
    "# noise = 2\n",
    "# neuron = 8\n",
    "# neuron1_network = [ res[i][neuron] for i in range(len(res)) ]\n",
    "# neuron1_network = neuron1_network / np.linalg.norm(neuron1_network)\n",
    "# target = targ[neuron] / np.linalg.norm(targ[neuron])\n",
    "\n",
    "cc   = [-0.5, -0.17, -0.05, 0.05, 0.17, 0.5] # color coherence values\n",
    "mc   = [-0.5, -0.17, -0.05, 0.05, 0.17, 0.5] # motion coherence values\n",
    "vecs = []  # context / coherence vecs\n",
    "ret = [0, 0, 0, 0, 1]\n",
    "\n",
    "for i in range(2):\n",
    "    for j in range(len(cc)):\n",
    "        for k in range(len(mc)):\n",
    "            if i == 0: vecs.append((np.array([ cc[j], mc[k], 1, 0, 0 ]), True if cc[j] > 0 else False))\n",
    "            else: vecs.append((np.array([ cc[j], mc[k], 0, 1, 0 ]), True if mc[k] > 0 else False))\n",
    "\n",
    "networks = []\n",
    "targets = []\n",
    "noise = 2\n",
    "for i in [12, 7, 40, 8, 53]:\n",
    "\tn = [ res[noise][0][j][i][20:131] for j in range(len(res[noise][0])) ]\n",
    "\tnetworks.append(n / np.linalg.norm(n))\n",
    "\ttargets.append( targ[i] / np.linalg.norm(targ[i]) )\n",
    "\n",
    "\n",
    "fig = plt.figure(figsize=(10,4))\n",
    "# plt.suptitle(r'Network, $$\\rho = $$' + str(0.0) + ', clc = ' + str(vecs[18][0][0]))\n",
    "for i in range(5):\n",
    "\tax1 = None\n",
    "\tif i == 0:\n",
    "\t\tax1 = plt.subplot(2,5,1)\n",
    "\t\tax1.set_ylim(-0.04, 0.04)\n",
    "\t\tax1.set_xticks([])\n",
    "\t\tax1.set_ylabel('Network output')\n",
    "\t\t# title = 'Network, $$\\rho = ' + str(0.0) + '$$, clc = ' + str(vecs[18][0])\n",
    "\t\t# ax1.set_title(title)\n",
    "\telse:\n",
    "\t\tax = plt.subplot(2,5,(i+1), sharey=ax1)\n",
    "\t\tax.set_xticks([])\n",
    "\t\tax.set_yticks([])\n",
    "\t\t# title = 'Network, $$\\rho = $$' + str(0.0) + ', clc = ' + str(vecs[18][0])\n",
    "\t\t# ax.set_title(title)\n",
    "\tplt.plot(networks[i][18], label='-0.5', linestyle='-', color='cornflowerblue', alpha=1)\n",
    "\tplt.plot(networks[i][19], label='-0.17', linestyle='-', color='cornflowerblue', alpha=0.55)\n",
    "\tplt.plot(networks[i][20], label='-0.05', linestyle='-', color='cornflowerblue', alpha=0.25)\n",
    "\tplt.plot(networks[i][21], label='0.05', linestyle='-', color='red', alpha=0.25)\n",
    "\tplt.plot(networks[i][22], label='0.17', linestyle='-', color='red', alpha=0.55)\n",
    "    # plt.plot(networks[i][23], label='0.5', linestyle='-', color='red', alpha=0.1)\n",
    "\tplt.plot(networks[i][23], label='0.5', linestyle='-', color='red', alpha=1)\n",
    "\tif i == 0: plt.legend(loc='upper left')\n",
    "\n",
    "for i in range(5):\n",
    "\tax2 = None\n",
    "\tif i == 0:\n",
    "\t\tax2 = plt.subplot(2,5,6)\n",
    "\t\tax2.set_ylim(-0.04, 0.04)\n",
    "\t\tax2.set_xticks([])\n",
    "\t\tax2.set_ylabel('Target output')\n",
    "\t\t# title = 'Target, $$\\rho = ' + str(0.0) + '$$, clc = ' + str(vecs[18][0])\n",
    "\t\t# ax2.set_title(title)\n",
    "\telse:\n",
    "\t\tax = plt.subplot(2,5,(i+6), sharey=ax2)\n",
    "\t\tax.set_xticks([])\n",
    "\t\tax.set_yticks([])\n",
    "\t\t# title = 'Target, $$\\rho = ' + str(0.0) + '$$, clc = ' + str(vecs[18][0])\n",
    "\t\t# ax.set_title(title)\n",
    "\tplt.plot(targets[i][18], label='-0.5', linestyle='-', color='cornflowerblue', alpha=1)\n",
    "\tplt.plot(targets[i][19], label='-0.17', linestyle='-', color='cornflowerblue', alpha=0.55)\n",
    "\tplt.plot(targets[i][20], label='-0.05', linestyle='-', color='cornflowerblue', alpha=0.25)\n",
    "\tplt.plot(targets[i][21], label='0.05', linestyle='-', color='red', alpha=0.25)\n",
    "\tplt.plot(targets[i][22], label='0.17', linestyle='-', color='red', alpha=0.55)\n",
    "\tplt.plot(targets[i][23], label='0.5', linestyle='-', color='red', alpha=1)\n",
    "\t#if i == 0: plt.legend(loc='upper left')\n",
    "fig.tight_layout()\n",
    "# # plt.savefig('nc1', dpi=300, bbox_inches='tight')\n",
    "#plt.show()"
   ]
  },
  {
   "cell_type": "code",
   "execution_count": 32,
   "metadata": {},
   "outputs": [
    {
     "name": "stdout",
     "output_type": "stream",
     "text": [
      "(72, 727, 231)\n"
     ]
    },
    {
     "data": {
      "image/png": "[encoded data removed]",
      "text/plain": [
       "<Figure size 1008x432 with 10 Axes>"
      ]
     },
     "metadata": {
      "needs_background": "light"
     },
     "output_type": "display_data"
    }
   ],
   "source": [
    "######################################################################\n",
    "## \t\t\t\t\t\t\t\t\t\t\t\t\t\t\t\t\t##\n",
    "##   \t\t\t\t\t\t\t\t\t\t\t\t\t\t\t\t##\n",
    "##                  Noise level comparison\t\t                    ##\n",
    "##\t\t\t\t\t\t\t\t\t\t\t\t\t\t\t\t\t##\n",
    "## \t\t\t\t\t\t\t\t\t\t\t\t\t\t\t\t\t##\n",
    "######################################################################\n",
    "\n",
    "# res = np.load('no_noise_n1500_rpin_1.npy', encoding='latin1')[1]\n",
    "res = np.load('noise_n1800_0.npy', encoding='latin1')[1]\n",
    "targ = np.load('../datafiles/jp2/loaded_data0.npy')\n",
    "\n",
    "print(np.shape(res))\n",
    "\n",
    "# noise = 2\n",
    "# neuron = 8\n",
    "# neuron1_network = [ res[i][neuron] for i in range(len(res)) ]\n",
    "# neuron1_network = neuron1_network / np.linalg.norm(neuron1_network)\n",
    "# target = targ[neuron] / np.linalg.norm(targ[neuron])\n",
    "\n",
    "cc   = [-0.5, -0.17, -0.05, 0.05, 0.17, 0.5] # color coherence values\n",
    "mc   = [-0.5, -0.17, -0.05, 0.05, 0.17, 0.5] # motion coherence values\n",
    "vecs = []  # context / coherence vecs\n",
    "ret = [0, 0, 0, 0, 1]\n",
    "\n",
    "for i in range(2):\n",
    "    for j in range(len(cc)):\n",
    "        for k in range(len(mc)):\n",
    "            if i == 0: vecs.append((np.array([ cc[j], mc[k], 1, 0, 0 ]), cc[j] > 0))\n",
    "            else: vecs.append((np.array([ cc[j], mc[k], 0, 1, 0 ]), mc[k] > 0))\n",
    "\n",
    "networks = []\n",
    "targets = []\n",
    "for i in [2, 60, 40, 8, 30]:\n",
    "\tn = [ res[j][i][20:131] for j in range(len(res)) ]\n",
    "\tnetworks.append(n / np.linalg.norm(n))\n",
    "\ttargets.append( targ[i] / np.linalg.norm(targ[i]) )\n",
    "\n",
    "\n",
    "fig = plt.figure(figsize=(14,6))\n",
    "# plt.suptitle(r'Network, $$\\rho = $$' + str(0.0) + ', clc = ' + str(vecs[18][0][0]))\n",
    "for i in range(5):\n",
    "\tax1 = None\n",
    "\tif i == 0:\n",
    "\t\tax1 = plt.subplot(2,5,6)\n",
    "\t\tax1.set_ylim(-0.04, 0.04)\n",
    "\t\tax1.set_xticks([])\n",
    "\t\tax1.set_ylabel('Network output')\n",
    "\t\t# title = 'Network, $$\\rho = ' + str(0.0) + '$$, clc = ' + str(vecs[18][0])\n",
    "\t\t# ax1.set_title(title)\n",
    "\telse:\n",
    "\t\tax = plt.subplot(2,5,(i+6), sharey=ax1)\n",
    "\t\tax.set_xticks([])\n",
    "\t\tax.set_yticks([])\n",
    "\t\t# title = 'Network, $$\\rho = $$' + str(0.0) + ', clc = ' + str(vecs[18][0])\n",
    "\t\t# ax.set_title(title)\n",
    "\tplt.plot(networks[i][0], label='-0.5', linestyle='-', color='cornflowerblue', alpha=1)\n",
    "\tplt.plot(networks[i][1], label='-0.17', linestyle='-', color='cornflowerblue', alpha=0.55)\n",
    "\tplt.plot(networks[i][2], label='-0.05', linestyle='-', color='cornflowerblue', alpha=0.25)\n",
    "\tplt.plot(networks[i][36], label='0.05', linestyle='-', color='red', alpha=0.25)\n",
    "\tplt.plot(networks[i][37], label='0.17', linestyle='-', color='red', alpha=0.55)\n",
    "\tplt.plot(networks[i][38], label='0.5', linestyle='-', color='red', alpha=1)\n",
    "\tif i == 0: plt.legend(loc='upper left')\n",
    "\n",
    "for i in range(5):\n",
    "\tax2 = None\n",
    "\tif i == 0:\n",
    "\t\tax2 = plt.subplot(2,5,1)\n",
    "\t\tax2.set_ylim(-0.04, 0.04)\n",
    "\t\tax2.set_xticks([])\n",
    "\t\tax2.set_ylabel('Target output')\n",
    "\t\t# title = 'Target, $$\\rho = ' + str(0.0) + '$$, clc = ' + str(vecs[18][0])\n",
    "\t\t# ax2.set_title(title)\n",
    "\telse:\n",
    "\t\tax = plt.subplot(2,5,(i+1), sharey=ax2)\n",
    "\t\tax.set_xticks([])\n",
    "\t\tax.set_yticks([])\n",
    "\t\t# title = 'Target, $$\\rho = ' + str(0.0) + '$$, clc = ' + str(vecs[18][0])\n",
    "\t\t# ax.set_title(title)\n",
    "\tplt.plot(targets[i][0], label='-0.5', linestyle='-', color='cornflowerblue', alpha=1)\n",
    "\tplt.plot(targets[i][1], label='-0.17', linestyle='-', color='cornflowerblue', alpha=0.55)\n",
    "\tplt.plot(targets[i][2], label='-0.05', linestyle='-', color='cornflowerblue', alpha=0.25)\n",
    "\tplt.plot(targets[i][36], label='0.05', linestyle='-', color='red', alpha=0.25)\n",
    "\tplt.plot(targets[i][37], label='0.17', linestyle='-', color='red', alpha=0.55)\n",
    "\tplt.plot(targets[i][38], label='0.5', linestyle='-', color='red', alpha=1)\n",
    "\t#if i == 0: plt.legend(loc='upper left')\n",
    "fig.tight_layout()\n",
    "# # plt.savefig('nc1', dpi=300, bbox_inches='tight')\n",
    "#plt.show()"
   ]
  },
  {
   "cell_type": "code",
   "execution_count": 28,
   "metadata": {},
   "outputs": [
    {
     "ename": "KeyboardInterrupt",
     "evalue": "",
     "output_type": "error",
     "traceback": [
      "\u001b[0;31m---------------------------------------------------------------------------\u001b[0m",
      "\u001b[0;31mKeyboardInterrupt\u001b[0m                         Traceback (most recent call last)",
      "\u001b[0;32m<ipython-input-28-b8f7c99f236b>\u001b[0m in \u001b[0;36m<module>\u001b[0;34m\u001b[0m\n\u001b[1;32m      6\u001b[0m \u001b[0;31m##                                                                                                                                      ##\u001b[0m\u001b[0;34m\u001b[0m\u001b[0;34m\u001b[0m\u001b[0m\n\u001b[1;32m      7\u001b[0m \u001b[0;31m######################################################################\u001b[0m\u001b[0;34m\u001b[0m\u001b[0;34m\u001b[0m\u001b[0m\n\u001b[0;32m----> 8\u001b[0;31m \u001b[0mres\u001b[0m \u001b[0;34m=\u001b[0m \u001b[0mnp\u001b[0m\u001b[0;34m.\u001b[0m\u001b[0mload\u001b[0m\u001b[0;34m(\u001b[0m\u001b[0;34m'noise_experiment_3.npy'\u001b[0m\u001b[0;34m,\u001b[0m \u001b[0mencoding\u001b[0m\u001b[0;34m=\u001b[0m\u001b[0;34m'latin1'\u001b[0m\u001b[0;34m)\u001b[0m\u001b[0;34m\u001b[0m\u001b[0m\n\u001b[0m\u001b[1;32m      9\u001b[0m \u001b[0mtarg\u001b[0m \u001b[0;34m=\u001b[0m \u001b[0mnp\u001b[0m\u001b[0;34m.\u001b[0m\u001b[0mload\u001b[0m\u001b[0;34m(\u001b[0m\u001b[0;34m'../datafiles/jp2/loaded_data0.npy'\u001b[0m\u001b[0;34m)\u001b[0m\u001b[0;34m\u001b[0m\u001b[0m\n\u001b[1;32m     10\u001b[0m \u001b[0;34m\u001b[0m\u001b[0m\n",
      "\u001b[0;32m/usr/local/lib/python3.7/site-packages/numpy/lib/npyio.py\u001b[0m in \u001b[0;36mload\u001b[0;34m(file, mmap_mode, allow_pickle, fix_imports, encoding)\u001b[0m\n\u001b[1;32m    431\u001b[0m             \u001b[0;32melse\u001b[0m\u001b[0;34m:\u001b[0m\u001b[0;34m\u001b[0m\u001b[0m\n\u001b[1;32m    432\u001b[0m                 return format.read_array(fid, allow_pickle=allow_pickle,\n\u001b[0;32m--> 433\u001b[0;31m                                          pickle_kwargs=pickle_kwargs)\n\u001b[0m\u001b[1;32m    434\u001b[0m         \u001b[0;32melse\u001b[0m\u001b[0;34m:\u001b[0m\u001b[0;34m\u001b[0m\u001b[0m\n\u001b[1;32m    435\u001b[0m             \u001b[0;31m# Try a pickle\u001b[0m\u001b[0;34m\u001b[0m\u001b[0;34m\u001b[0m\u001b[0m\n",
      "\u001b[0;32m/usr/local/lib/python3.7/site-packages/numpy/lib/format.py\u001b[0m in \u001b[0;36mread_array\u001b[0;34m(fp, allow_pickle, pickle_kwargs)\u001b[0m\n\u001b[1;32m    655\u001b[0m             \u001b[0mpickle_kwargs\u001b[0m \u001b[0;34m=\u001b[0m \u001b[0;34m{\u001b[0m\u001b[0;34m}\u001b[0m\u001b[0;34m\u001b[0m\u001b[0m\n\u001b[1;32m    656\u001b[0m         \u001b[0;32mtry\u001b[0m\u001b[0;34m:\u001b[0m\u001b[0;34m\u001b[0m\u001b[0m\n\u001b[0;32m--> 657\u001b[0;31m             \u001b[0marray\u001b[0m \u001b[0;34m=\u001b[0m \u001b[0mpickle\u001b[0m\u001b[0;34m.\u001b[0m\u001b[0mload\u001b[0m\u001b[0;34m(\u001b[0m\u001b[0mfp\u001b[0m\u001b[0;34m,\u001b[0m \u001b[0;34m**\u001b[0m\u001b[0mpickle_kwargs\u001b[0m\u001b[0;34m)\u001b[0m\u001b[0;34m\u001b[0m\u001b[0m\n\u001b[0m\u001b[1;32m    658\u001b[0m         \u001b[0;32mexcept\u001b[0m \u001b[0mUnicodeError\u001b[0m \u001b[0;32mas\u001b[0m \u001b[0merr\u001b[0m\u001b[0;34m:\u001b[0m\u001b[0;34m\u001b[0m\u001b[0m\n\u001b[1;32m    659\u001b[0m             \u001b[0;32mif\u001b[0m \u001b[0msys\u001b[0m\u001b[0;34m.\u001b[0m\u001b[0mversion_info\u001b[0m\u001b[0;34m[\u001b[0m\u001b[0;36m0\u001b[0m\u001b[0;34m]\u001b[0m \u001b[0;34m>=\u001b[0m \u001b[0;36m3\u001b[0m\u001b[0;34m:\u001b[0m\u001b[0;34m\u001b[0m\u001b[0m\n",
      "\u001b[0;31mKeyboardInterrupt\u001b[0m: "
     ]
    }
   ],
   "source": [
    "######################################################################\n",
    "## \t\t\t\t\t\t\t\t\t\t\t\t\t\t\t\t\t##\n",
    "##   \t\t\t\t\t\t\t\t\t\t\t\t\t\t\t\t##\n",
    "##                  \t\tPCA experiment\t                        ##\n",
    "##\t\t\t\t\t\t\t\t\t\t\t\t\t\t\t\t\t##\n",
    "## \t\t\t\t\t\t\t\t\t\t\t\t\t\t\t\t\t##\n",
    "######################################################################\n",
    "res = np.load('noise_experiment_3.npy', encoding='latin1')\n",
    "targ = np.load('../datafiles/jp2/loaded_data0.npy')\n",
    "\n",
    "# print(np.shape(res))\n",
    "\n",
    "# # noise = 2\n",
    "# # neuron = 8\n",
    "# # neuron1_network = [ res[i][neuron] for i in range(len(res)) ]\n",
    "# # neuron1_network = neuron1_network / np.linalg.norm(neuron1_network)\n",
    "# # target = targ[neuron] / np.linalg.norm(targ[neuron])\n",
    "\n",
    "cc   = [-0.5, -0.17, -0.05, 0.05, 0.17, 0.5] # color coherence values\n",
    "mc   = [-0.5, -0.17, -0.05, 0.05, 0.17, 0.5] # motion coherence values\n",
    "vecs = []  # context / coherence vecs\n",
    "ret = [0, 0, 0, 0, 1]\n",
    "\n",
    "for i in range(2):\n",
    "    for j in range(len(cc)):\n",
    "        for k in range(len(mc)):\n",
    "            if i == 0: vecs.append((np.array([ cc[j], mc[k], 1, 0, 0 ]), True if cc[j] > 0 else False))\n",
    "            else: vecs.append((np.array([ cc[j], mc[k], 0, 1, 0 ]), True if mc[k] > 0 else False))\n",
    "                \n",
    "\n",
    "noise = 0\n",
    "contexts = [ [] for i in range(72) ]\n",
    "for i in range(72):\n",
    "\tcontexts[i] = np.array([ res[noise][0][i][j][20:131] for j in range(len(res[0][0][i])-1) ])\n",
    "# mean_vec = noise1_act - np.mean(noise1_act, axis=0)\n",
    "# x = np.dot(mean_vec.T, mean_vec)\n",
    "# u, s, vt = np.linalg.svd(x)\n",
    "\n",
    "# datavar = np.zeros(len(s))\n",
    "# datavar[0] = s[0]\n",
    "# for i in range(1, len(s)):\n",
    "# \tdatavar[i] = datavar[i - 1] + s[i] \n",
    "\n",
    "# datavar = datavar / np.sum(s)\n",
    "\n",
    "# plt.figure()\n",
    "# plt.scatter(np.arange(len(s)), datavar)\n",
    "# plt.show()\n",
    "\n",
    "### seems like 95% of the variance is described by 5 pcs. Let's choose 12 to be safe\n",
    "from sklearn.decomposition import PCA\n",
    "ts = [ [] for i in range(72) ]\n",
    "pca = PCA(n_components=6, svd_solver='full')\n",
    "\n",
    "for i in range(72):\n",
    "\tpca.fit(contexts[i].T)\n",
    "\tts[i] = pca.transform(contexts[i].T)\n",
    "\n",
    "# cons = [0, 1, 2, 3, 4, 5, 35, 47, 53, 59, 65, 71]\n",
    "#  cons = [2, 3]\n",
    "# print(vecs[65][0], vecs[71][0])\n",
    "\n",
    "# plt.figure()\n",
    "# plt.subplot(111)\n",
    "# plt.ylim(-30, 50)\n",
    "# label = None\n",
    "# for i, con in enumerate(cons):\n",
    "# \tif vecs[con][1]: \n",
    "# \t\tlabel = 'report positive'\n",
    "# \t\t# color = 'red'\n",
    "# \telse: \n",
    "# \t\tlabel = 'report negative'\n",
    "# \t\t# color = 'cornflowerblue'\n",
    "# \tif con == 2: color = 'red'\n",
    "# \t# if con < 36: color = 'red'\n",
    "# \telse: color = 'cornflowerblue'\n",
    "# \tplt.plot(ts[con].T[0], label=label, color=color)\n",
    "# \tplt.plot(ts[con].T[1], label=label, color=color)\n",
    "# plt.legend()\n",
    "\n",
    "# plt.subplot(122)\n",
    "# plt.ylim(-30, 50)\n",
    "# for i, con in enumerate(cons):\n",
    "# \tif vecs[con][1]: \n",
    "# \t\tlabel = 'report positive'\n",
    "# \t\t# color = 'red'\n",
    "# \telse: \n",
    "# \t\tlabel = 'report negative'\n",
    "# \t\t# color = 'cornflowerblue'\n",
    "# \tif con < 36: color = 'red'\n",
    "# \telse: color = 'cornflowerblue'\n",
    "# \tplt.plot(ts[con].T[1], label=label, color=color)\n",
    "# plt.legend()\n",
    "\n",
    "# plt.subplot(133)\n",
    "# plt.ylim(-30, 50)\n",
    "# for i, con in enumerate(cons):\n",
    "# \tif vecs[con][1]: \n",
    "# \t\tlabel = 'report positive'\n",
    "# \t\t# color = 'red'\n",
    "# \telse: \n",
    "# \t\tlabel = 'report negative'\n",
    "# \t\t# color = 'cornflowerblue'\n",
    "# \tif con < 36: color = 'red'\n",
    "# \telse: color = 'cornflowerblue'\n",
    "# \tplt.plot(ts[con].T[2], label=label, color=color)\n",
    "# plt.legend()"
   ]
  },
  {
   "cell_type": "code",
   "execution_count": 4,
   "metadata": {},
   "outputs": [],
   "source": [
    "def organize(ts_):\n",
    "    \"\"\"\n",
    "        avgs[0]: cc < 0, mc > 0, col\n",
    "        avgs[1]: cc < 0, mc > 0, mo\n",
    "        avgs[2], cc < 0, mc < 0, col\n",
    "        avgs[3], cc < 0, mc < 0, mo\n",
    "        avgs[4]: cc > 0, mc > 0, col\n",
    "        avgs[5]: cc > 0, mc > 0, mo\n",
    "        avgs[6], cc > 0, mc < 0, col\n",
    "        avgs[7], cc > 0, mc < 0, mo\n",
    "    \"\"\"\n",
    "    collected = [ [] for i in range(8) ]\n",
    "    num = np.zeros(8)\n",
    "    \n",
    "    for i, vec in enumerate(vecs):\n",
    "        cc, mc, ac, am = vec[0][0], vec[0][1], vec[0][2], vec[0][3]\n",
    "        _dir = vec[1]\n",
    "        if cc < 0 and mc > 0 and ac==1:\n",
    "            if collected[0] == []: collected[0] = ts_[i].T\n",
    "            else: collected[0] = collected[0] + ts_[i].T\n",
    "            num[0] += 1\n",
    "        elif cc < 0 and mc > 0 and am==1:\n",
    "            if collected[1] == []: collected[1] = ts_[i].T\n",
    "            else: collected[1] = collected[1] + ts_[i].T\n",
    "            num[1] += 1\n",
    "        elif cc < 0 and mc < 0 and ac==1:\n",
    "            if collected[2] == []: collected[2] = ts_[i].T\n",
    "            else: collected[2] = collected[2] + ts_[i].T\n",
    "            num[2] += 1\n",
    "        elif cc < 0 and mc < 0 and am==1:\n",
    "            if collected[3] == []: collected[3] = ts_[i].T\n",
    "            else: collected[3] = collected[3] + ts_[i].T\n",
    "            num[3] += 1\n",
    "        elif cc > 0 and mc > 0 and ac==1:\n",
    "            if collected[4] == []: collected[4] = ts_[i].T\n",
    "            else: collected[4] = collected[4] + ts_[i].T\n",
    "            num[4] += 1\n",
    "        elif cc > 0 and mc > 0 and am==1:\n",
    "            if collected[5] == []: collected[5] = ts_[i].T\n",
    "            else: collected[5] = collected[5] + ts_[i].T\n",
    "            num[5] += 1\n",
    "        elif cc > 0 and mc < 0 and ac==1:\n",
    "            if collected[6] == []: collected[6] = ts_[i].T\n",
    "            else: collected[6] = collected[6] + ts_[i].T\n",
    "            num[6] += 1\n",
    "        elif cc > 0 and mc < 0 and am==1:\n",
    "            if collected[7] == []: collected[7] = ts_[i].T\n",
    "            else: collected[7] = collected[7] + ts_[i].T\n",
    "            num[7] += 1\n",
    "   \n",
    "    collected = [ collected[i] / num[i] for i in range(8) ]\n",
    "    return collected"
   ]
  },
  {
   "cell_type": "code",
   "execution_count": 5,
   "metadata": {},
   "outputs": [
    {
     "name": "stderr",
     "output_type": "stream",
     "text": [
      "/Library/Frameworks/Python.framework/Versions/3.6/lib/python3.6/site-packages/ipykernel_launcher.py:27: DeprecationWarning: elementwise == comparison failed; this will raise an error in the future.\n",
      "/Library/Frameworks/Python.framework/Versions/3.6/lib/python3.6/site-packages/ipykernel_launcher.py:19: DeprecationWarning: elementwise == comparison failed; this will raise an error in the future.\n",
      "/Library/Frameworks/Python.framework/Versions/3.6/lib/python3.6/site-packages/ipykernel_launcher.py:43: DeprecationWarning: elementwise == comparison failed; this will raise an error in the future.\n",
      "/Library/Frameworks/Python.framework/Versions/3.6/lib/python3.6/site-packages/ipykernel_launcher.py:35: DeprecationWarning: elementwise == comparison failed; this will raise an error in the future.\n",
      "/Library/Frameworks/Python.framework/Versions/3.6/lib/python3.6/site-packages/ipykernel_launcher.py:31: DeprecationWarning: elementwise == comparison failed; this will raise an error in the future.\n",
      "/Library/Frameworks/Python.framework/Versions/3.6/lib/python3.6/site-packages/ipykernel_launcher.py:23: DeprecationWarning: elementwise == comparison failed; this will raise an error in the future.\n",
      "/Library/Frameworks/Python.framework/Versions/3.6/lib/python3.6/site-packages/ipykernel_launcher.py:47: DeprecationWarning: elementwise == comparison failed; this will raise an error in the future.\n",
      "/Library/Frameworks/Python.framework/Versions/3.6/lib/python3.6/site-packages/ipykernel_launcher.py:39: DeprecationWarning: elementwise == comparison failed; this will raise an error in the future.\n"
     ]
    }
   ],
   "source": [
    "avgs_pc1_attend_color = organize(ts)\n",
    "\n",
    "avgs_pc1_attend_color1 = [ avgs_pc1_attend_color[i][0] / np.linalg.norm(avgs_pc1_attend_color[i][0]) for i in range(6) ]\n",
    "avgs_pc1_attend_color2 = [ avgs_pc1_attend_color[i][1] / np.linalg.norm(avgs_pc1_attend_color[i][1]) for i in range(6) ]\n",
    "avgs_pc1_attend_color3 = [ avgs_pc1_attend_color[i][2] / np.linalg.norm(avgs_pc1_attend_color[i][2]) for i in range(6) ]\n",
    "avgs_pc1_attend_color_ = [ [avgs_pc1_attend_color1[i], avgs_pc1_attend_color2[i], avgs_pc1_attend_color3[i]] for i in range(6) ]\n",
    "# plt.figure()\n",
    "# plt.subplot(121)\n",
    "# for i in range(6):\n",
    "#     plt.plot(avgs_pc1_attend_color_[i][0], label=str(i))\n",
    "\n",
    "# plt.subplot(122)\n",
    "# for i in range(6):\n",
    "#     plt.plot(avgs_pc1_attend_color_[i][1], label=str(i))\n",
    "\n",
    "# plt.legend()\n",
    "# plt.show()"
   ]
  },
  {
   "cell_type": "code",
   "execution_count": 6,
   "metadata": {},
   "outputs": [
    {
     "data": {
      "image/png": "[encoded data removed]",
      "text/plain": [
       "<matplotlib.figure.Figure at 0x14baf4278>"
      ]
     },
     "metadata": {},
     "output_type": "display_data"
    }
   ],
   "source": [
    "plt.figure()\n",
    "plt.subplot(231)\n",
    "plt.imshow(avgs_pc1_attend_color_[0][0:3], aspect='auto')\n",
    "\n",
    "plt.subplot(232)\n",
    "plt.imshow(avgs_pc1_attend_color_[5][0:3], aspect='auto')\n",
    "\n",
    "plt.subplot(233)\n",
    "plt.imshow(avgs_pc1_attend_color_[2][0:3], aspect='auto')\n",
    "\n",
    "plt.subplot(234)\n",
    "plt.imshow(avgs_pc1_attend_color_[4][0:3], aspect='auto')\n",
    "\n",
    "plt.subplot(235)\n",
    "plt.imshow(avgs_pc1_attend_color_[1][0:3], aspect='auto')\n",
    "\n",
    "plt.subplot(236)\n",
    "plt.imshow(avgs_pc1_attend_color_[3][0:3], aspect='auto')\n",
    "plt.tight_layout()"
   ]
  },
  {
   "cell_type": "code",
   "execution_count": 7,
   "metadata": {},
   "outputs": [],
   "source": [
    "noise = 1\n",
    "contexts1 = [ [] for i in range(72) ]\n",
    "for i in range(72):\n",
    "\tcontexts1[i] = np.array([ res[noise][0][i][j][20:131] for j in range(len(res[0][0][i])-1) ])\n",
    "\n",
    "ts2 = [ [] for i in range(72) ]\n",
    "pca = PCA(n_components=6, svd_solver='full')\n",
    "\n",
    "for i in range(72):\n",
    "\tpca.fit(contexts1[i].T)\n",
    "\tts2[i] = pca.transform(contexts1[i].T)"
   ]
  },
  {
   "cell_type": "code",
   "execution_count": 8,
   "metadata": {},
   "outputs": [
    {
     "name": "stderr",
     "output_type": "stream",
     "text": [
      "/Library/Frameworks/Python.framework/Versions/3.6/lib/python3.6/site-packages/ipykernel_launcher.py:27: DeprecationWarning: elementwise == comparison failed; this will raise an error in the future.\n",
      "/Library/Frameworks/Python.framework/Versions/3.6/lib/python3.6/site-packages/ipykernel_launcher.py:19: DeprecationWarning: elementwise == comparison failed; this will raise an error in the future.\n",
      "/Library/Frameworks/Python.framework/Versions/3.6/lib/python3.6/site-packages/ipykernel_launcher.py:43: DeprecationWarning: elementwise == comparison failed; this will raise an error in the future.\n",
      "/Library/Frameworks/Python.framework/Versions/3.6/lib/python3.6/site-packages/ipykernel_launcher.py:35: DeprecationWarning: elementwise == comparison failed; this will raise an error in the future.\n",
      "/Library/Frameworks/Python.framework/Versions/3.6/lib/python3.6/site-packages/ipykernel_launcher.py:31: DeprecationWarning: elementwise == comparison failed; this will raise an error in the future.\n",
      "/Library/Frameworks/Python.framework/Versions/3.6/lib/python3.6/site-packages/ipykernel_launcher.py:23: DeprecationWarning: elementwise == comparison failed; this will raise an error in the future.\n",
      "/Library/Frameworks/Python.framework/Versions/3.6/lib/python3.6/site-packages/ipykernel_launcher.py:47: DeprecationWarning: elementwise == comparison failed; this will raise an error in the future.\n",
      "/Library/Frameworks/Python.framework/Versions/3.6/lib/python3.6/site-packages/ipykernel_launcher.py:39: DeprecationWarning: elementwise == comparison failed; this will raise an error in the future.\n"
     ]
    }
   ],
   "source": [
    "avgs_pc1_attend_color1 = organize(ts2)\n",
    "\n",
    "avgs_pc1_attend_color11 = [ avgs_pc1_attend_color1[i][0] / np.linalg.norm(avgs_pc1_attend_color1[i][0]) for i in range(8) ]\n",
    "avgs_pc1_attend_color12 = [ avgs_pc1_attend_color1[i][1] / np.linalg.norm(avgs_pc1_attend_color1[i][1]) for i in range(8) ]\n",
    "avgs_pc1_attend_color13 = [ avgs_pc1_attend_color1[i][2] / np.linalg.norm(avgs_pc1_attend_color1[i][2]) for i in range(8) ]\n",
    "avgs_pc1_attend_color1_ = [ [avgs_pc1_attend_color11[i], avgs_pc1_attend_color12[i], avgs_pc1_attend_color13[i]] for i in range(8) ]\n",
    "# plt.figure()\n",
    "# plt.subplot(121)\n",
    "# for i in range(6):\n",
    "#     plt.plot(avgs_pc1_attend_color1_[i][0], label=str(i))\n",
    "\n",
    "# plt.subplot(122)\n",
    "# for i in range(6):\n",
    "#     plt.plot(avgs_pc1_attend_color1_[i][1], label=str(i))\n",
    "\n",
    "# plt.legend()\n",
    "# plt.show()"
   ]
  },
  {
   "cell_type": "code",
   "execution_count": null,
   "metadata": {},
   "outputs": [],
   "source": [
    "plt.figure()\n",
    "plt.subplot(231)\n",
    "plt.imshow(avgs_pc1_attend_color1_[0][0:3], aspect='auto')\n",
    "\n",
    "plt.subplot(232)\n",
    "plt.imshow(avgs_pc1_attend_color1_[5][0:3], aspect='auto')\n",
    "\n",
    "plt.subplot(233)\n",
    "plt.imshow(avgs_pc1_attend_color1_[2][0:3], aspect='auto')\n",
    "\n",
    "plt.subplot(234)\n",
    "plt.imshow(avgs_pc1_attend_color1_[4][0:3], aspect='auto')\n",
    "\n",
    "plt.subplot(235)\n",
    "plt.imshow(avgs_pc1_attend_color1_[1][0:3], aspect='auto')\n",
    "\n",
    "plt.subplot(236)\n",
    "plt.imshow(avgs_pc1_attend_color1_[3][0:3], aspect='auto')\n",
    "plt.tight_layout()"
   ]
  },
  {
   "cell_type": "code",
   "execution_count": 9,
   "metadata": {},
   "outputs": [
    {
     "data": {
      "application/vnd.jupyter.widget-view+json": {
       "model_id": "f90bbac9a03e47958b6754266c5555fb",
       "version_major": 2,
       "version_minor": 0
      },
      "text/html": [
       "<p>Failed to display Jupyter Widget of type <code>FigureCanvasNbAgg</code>.</p>\n",
       "<p>\n",
       "  If you're reading this message in Jupyter Notebook or JupyterLab, it may mean\n",
       "  that the widgets JavaScript is still loading. If this message persists, it\n",
       "  likely means that the widgets JavaScript library is either not installed or\n",
       "  not enabled. See the <a href=\"https://ipywidgets.readthedocs.io/en/stable/user_install.html\">Jupyter\n",
       "  Widgets Documentation</a> for setup instructions.\n",
       "</p>\n",
       "<p>\n",
       "  If you're reading this message in another notebook frontend (for example, a static\n",
       "  rendering on GitHub or <a href=\"https://nbviewer.jupyter.org/\">NBViewer</a>),\n",
       "  it may mean that your frontend doesn't currently support widgets.\n",
       "</p>\n"
      ],
      "text/plain": [
       "FigureCanvasNbAgg()"
      ]
     },
     "metadata": {},
     "output_type": "display_data"
    },
    {
     "data": {
      "application/vnd.jupyter.widget-view+json": {
       "model_id": "447b0af866c34727b6197b91a3302e35",
       "version_major": 2,
       "version_minor": 0
      },
      "text/html": [
       "<p>Failed to display Jupyter Widget of type <code>FigureCanvasNbAgg</code>.</p>\n",
       "<p>\n",
       "  If you're reading this message in Jupyter Notebook or JupyterLab, it may mean\n",
       "  that the widgets JavaScript is still loading. If this message persists, it\n",
       "  likely means that the widgets JavaScript library is either not installed or\n",
       "  not enabled. See the <a href=\"https://ipywidgets.readthedocs.io/en/stable/user_install.html\">Jupyter\n",
       "  Widgets Documentation</a> for setup instructions.\n",
       "</p>\n",
       "<p>\n",
       "  If you're reading this message in another notebook frontend (for example, a static\n",
       "  rendering on GitHub or <a href=\"https://nbviewer.jupyter.org/\">NBViewer</a>),\n",
       "  it may mean that your frontend doesn't currently support widgets.\n",
       "</p>\n"
      ],
      "text/plain": [
       "FigureCanvasNbAgg()"
      ]
     },
     "metadata": {},
     "output_type": "display_data"
    },
    {
     "data": {
      "application/vnd.jupyter.widget-view+json": {
       "model_id": "e8f1b16645d64d26b0af63703f325aba",
       "version_major": 2,
       "version_minor": 0
      },
      "text/html": [
       "<p>Failed to display Jupyter Widget of type <code>FigureCanvasNbAgg</code>.</p>\n",
       "<p>\n",
       "  If you're reading this message in Jupyter Notebook or JupyterLab, it may mean\n",
       "  that the widgets JavaScript is still loading. If this message persists, it\n",
       "  likely means that the widgets JavaScript library is either not installed or\n",
       "  not enabled. See the <a href=\"https://ipywidgets.readthedocs.io/en/stable/user_install.html\">Jupyter\n",
       "  Widgets Documentation</a> for setup instructions.\n",
       "</p>\n",
       "<p>\n",
       "  If you're reading this message in another notebook frontend (for example, a static\n",
       "  rendering on GitHub or <a href=\"https://nbviewer.jupyter.org/\">NBViewer</a>),\n",
       "  it may mean that your frontend doesn't currently support widgets.\n",
       "</p>\n"
      ],
      "text/plain": [
       "FigureCanvasNbAgg()"
      ]
     },
     "metadata": {},
     "output_type": "display_data"
    },
    {
     "data": {
      "application/vnd.jupyter.widget-view+json": {
       "model_id": "392f9ffb2a5e400f9d7da989340af56e",
       "version_major": 2,
       "version_minor": 0
      },
      "text/html": [
       "<p>Failed to display Jupyter Widget of type <code>FigureCanvasNbAgg</code>.</p>\n",
       "<p>\n",
       "  If you're reading this message in Jupyter Notebook or JupyterLab, it may mean\n",
       "  that the widgets JavaScript is still loading. If this message persists, it\n",
       "  likely means that the widgets JavaScript library is either not installed or\n",
       "  not enabled. See the <a href=\"https://ipywidgets.readthedocs.io/en/stable/user_install.html\">Jupyter\n",
       "  Widgets Documentation</a> for setup instructions.\n",
       "</p>\n",
       "<p>\n",
       "  If you're reading this message in another notebook frontend (for example, a static\n",
       "  rendering on GitHub or <a href=\"https://nbviewer.jupyter.org/\">NBViewer</a>),\n",
       "  it may mean that your frontend doesn't currently support widgets.\n",
       "</p>\n"
      ],
      "text/plain": [
       "FigureCanvasNbAgg()"
      ]
     },
     "metadata": {},
     "output_type": "display_data"
    }
   ],
   "source": [
    "from mpl_toolkits.mplot3d import Axes3D\n",
    "%matplotlib ipympl\n",
    "for i in range(8):\n",
    "    avgs_pc1_attend_color[i][0] = avgs_pc1_attend_color[i][0] / np.linalg.norm(avgs_pc1_attend_color[i][0])\n",
    "    avgs_pc1_attend_color[i][1] = avgs_pc1_attend_color[i][1] / np.linalg.norm(avgs_pc1_attend_color[i][1])\n",
    "    avgs_pc1_attend_color[i][2] = avgs_pc1_attend_color[i][2] / np.linalg.norm(avgs_pc1_attend_color[i][2])\n",
    "    \n",
    "    avgs_pc1_attend_color1[i][0] = avgs_pc1_attend_color1[i][0] / np.linalg.norm(avgs_pc1_attend_color1[i][0])\n",
    "    avgs_pc1_attend_color1[i][1] = avgs_pc1_attend_color1[i][1] / np.linalg.norm(avgs_pc1_attend_color1[i][1])\n",
    "    avgs_pc1_attend_color1[i][2] = avgs_pc1_attend_color1[i][2] / np.linalg.norm(avgs_pc1_attend_color1[i][2])\n",
    "    \n",
    "plot_no_noise = [ [avgs_pc1_attend_color[i][0], avgs_pc1_attend_color[i][1], avgs_pc1_attend_color[i][2] ] for i in range(8) ]\n",
    "plot_noise_sm = [ [avgs_pc1_attend_color1[i][0], avgs_pc1_attend_color1[i][1], avgs_pc1_attend_color1[i][2] ] for i in range(8) ]\n",
    "\n",
    "fig = plt.figure()\n",
    "ax = fig.add_subplot(111, projection='3d')\n",
    "ax.w_xaxis.set_pane_color(color=(1,1,1,1))\n",
    "ax.w_yaxis.set_pane_color(color=(1,1,1,1))\n",
    "ax.w_zaxis.set_pane_color(color=(1,1,1,1))\n",
    "\n",
    "ax.set_xticks([])\n",
    "ax.set_yticks([])\n",
    "ax.set_zticks([])\n",
    "# 0, 2, 3 go left\n",
    "ax.grid(False)\n",
    "for i in range(8):\n",
    "    if i in [1,4,5]: col = 'red'\n",
    "    else: col = 'cornflowerblue' \n",
    "    ax.plot3D(plot_no_noise[i][0], plot_no_noise[i][1], plot_no_noise[i][2], color=col)\n",
    "    ax.scatter3D(plot_no_noise[i][0][0], plot_no_noise[i][1][0], plot_no_noise[i][2][0], color='black', alpha=0.3)\n",
    "    ax.scatter3D(plot_no_noise[i][0][-1], plot_no_noise[i][1][-1], plot_no_noise[i][2][-1], color='yellow', alpha=0.7)\n",
    "\n",
    "ax.set_xlabel('PC1')\n",
    "ax.set_ylabel('PC2')\n",
    "ax.set_zlabel('PC3')\n",
    "\n",
    "plt.figure()\n",
    "plt.subplot(131)\n",
    "for i in range(8):\n",
    "    if i in [1,4,5]: col = 'red'\n",
    "    else: col = 'cornflowerblue' \n",
    "    plt.plot(plot_no_noise[i][0], plot_no_noise[i][1], color=col)\n",
    "    plt.scatter(plot_no_noise[i][0][0], plot_no_noise[i][1][0], color='black', alpha=0.3)\n",
    "    plt.scatter(plot_no_noise[i][0][-1], plot_no_noise[i][1][-1], color='yellow', alpha=0.7)\n",
    "plt.xlabel('PC1')\n",
    "plt.ylabel('PC2')\n",
    "\n",
    "plt.subplot(132)\n",
    "for i in range(8):\n",
    "    if i in [1,4,5]: col = 'red'\n",
    "    else: col = 'cornflowerblue' \n",
    "    plt.plot(plot_no_noise[i][0], plot_no_noise[i][2], color=col)\n",
    "    plt.scatter(plot_no_noise[i][0][0], plot_no_noise[i][2][0], color='black', alpha=0.3)\n",
    "    plt.scatter(plot_no_noise[i][0][-1], plot_no_noise[i][2][-1], color='yellow', alpha=0.7)\n",
    "plt.xlabel('PC1')\n",
    "plt.ylabel('PC3')\n",
    "\n",
    "plt.subplot(133)\n",
    "for i in range(8):\n",
    "    if i in [1,4,5]: col = 'red'\n",
    "    else: col = 'cornflowerblue' \n",
    "    plt.plot(plot_no_noise[i][1], plot_no_noise[i][2], color=col)\n",
    "    plt.scatter(plot_no_noise[i][1][0], plot_no_noise[i][2][0], color='black', alpha=0.3)\n",
    "    plt.scatter(plot_no_noise[i][1][-1], plot_no_noise[i][2][-1], color='yellow', alpha=0.7)\n",
    "plt.xlabel('PC2')\n",
    "plt.ylabel('PC3')\n",
    "plt.tight_layout()\n",
    "\n",
    "fig = plt.figure()\n",
    "ax = fig.add_subplot(111, projection='3d')\n",
    "ax.w_xaxis.set_pane_color(color=(1,1,1,1))\n",
    "ax.w_yaxis.set_pane_color(color=(1,1,1,1))\n",
    "ax.w_zaxis.set_pane_color(color=(1,1,1,1))\n",
    "\n",
    "ax.set_xticks([])\n",
    "ax.set_yticks([])\n",
    "ax.set_zticks([])\n",
    "\n",
    "for i in range(8):\n",
    "    if i in [1,4,5]: col = 'red'\n",
    "    else: col = 'cornflowerblue' \n",
    "    ax.plot3D(plot_noise_sm[i][0], plot_noise_sm[i][1], plot_noise_sm[i][2], color=col)\n",
    "    ax.scatter3D(plot_noise_sm[i][0][0], plot_noise_sm[i][1][0], plot_noise_sm[i][2][0], color='black', alpha=0.3)\n",
    "    ax.scatter3D(plot_noise_sm[i][0][-1], plot_noise_sm[i][1][-1], plot_noise_sm[i][2][-1], color='yellow', alpha=0.7)\n",
    "    \n",
    "ax.set_xlabel('PC1')\n",
    "ax.set_ylabel('PC2')\n",
    "ax.set_zlabel('PC3')\n",
    "\n",
    "plt.figure()\n",
    "plt.subplot(131)\n",
    "for i in range(8):\n",
    "    if i in [1,4,5]: col = 'red'\n",
    "    else: col = 'cornflowerblue' \n",
    "    plt.plot(plot_noise_sm[i][0], plot_noise_sm[i][1], color=col)\n",
    "    plt.scatter(plot_noise_sm[i][0][0], plot_noise_sm[i][1][0], color='black', alpha=0.3)\n",
    "    plt.scatter(plot_noise_sm[i][0][-1], plot_noise_sm[i][1][-1], color='yellow', alpha=0.7)\n",
    "plt.xlabel('PC1')\n",
    "plt.ylabel('PC2')\n",
    "\n",
    "plt.subplot(132)\n",
    "for i in range(8):\n",
    "    if i in [1,4,5]: col = 'red'\n",
    "    else: col = 'cornflowerblue' \n",
    "    plt.plot(plot_noise_sm[i][0], plot_noise_sm[i][2], color=col)\n",
    "    plt.scatter(plot_noise_sm[i][0][0], plot_noise_sm[i][2][0], color='black', alpha=0.3)\n",
    "    plt.scatter(plot_noise_sm[i][0][-1], plot_noise_sm[i][2][-1], color='yellow', alpha=0.7)\n",
    "plt.xlabel('PC1')\n",
    "plt.ylabel('PC3')\n",
    "\n",
    "plt.subplot(133)\n",
    "for i in range(8):\n",
    "    if i in [1,4,5]: col = 'red'\n",
    "    else: col = 'cornflowerblue' \n",
    "    plt.plot(plot_noise_sm[i][1], plot_noise_sm[i][2], color=col)\n",
    "    plt.scatter(plot_noise_sm[i][1][0], plot_noise_sm[i][2][0], color='black', alpha=0.3)\n",
    "    plt.scatter(plot_noise_sm[i][1][-1], plot_noise_sm[i][2][-1], color='yellow', alpha=0.7)\n",
    "plt.xlabel('PC2')\n",
    "plt.ylabel('PC3')\n",
    "plt.tight_layout()"
   ]
  },
  {
   "cell_type": "code",
   "execution_count": 10,
   "metadata": {},
   "outputs": [],
   "source": [
    "ts_Targ = [ [] for i in range(72) ]\n",
    "pca = PCA(n_components=6, svd_solver='full')\n",
    "\n",
    "for i in range(72):\n",
    "\tpca.fit(targ[i].T)\n",
    "\tts_Targ[i] = pca.transform(targ[i].T)"
   ]
  },
  {
   "cell_type": "code",
   "execution_count": 11,
   "metadata": {},
   "outputs": [
    {
     "name": "stderr",
     "output_type": "stream",
     "text": [
      "/Library/Frameworks/Python.framework/Versions/3.6/lib/python3.6/site-packages/ipykernel_launcher.py:27: DeprecationWarning: elementwise == comparison failed; this will raise an error in the future.\n",
      "/Library/Frameworks/Python.framework/Versions/3.6/lib/python3.6/site-packages/ipykernel_launcher.py:19: DeprecationWarning: elementwise == comparison failed; this will raise an error in the future.\n",
      "/Library/Frameworks/Python.framework/Versions/3.6/lib/python3.6/site-packages/ipykernel_launcher.py:43: DeprecationWarning: elementwise == comparison failed; this will raise an error in the future.\n",
      "/Library/Frameworks/Python.framework/Versions/3.6/lib/python3.6/site-packages/ipykernel_launcher.py:35: DeprecationWarning: elementwise == comparison failed; this will raise an error in the future.\n",
      "/Library/Frameworks/Python.framework/Versions/3.6/lib/python3.6/site-packages/ipykernel_launcher.py:31: DeprecationWarning: elementwise == comparison failed; this will raise an error in the future.\n",
      "/Library/Frameworks/Python.framework/Versions/3.6/lib/python3.6/site-packages/ipykernel_launcher.py:23: DeprecationWarning: elementwise == comparison failed; this will raise an error in the future.\n",
      "/Library/Frameworks/Python.framework/Versions/3.6/lib/python3.6/site-packages/ipykernel_launcher.py:47: DeprecationWarning: elementwise == comparison failed; this will raise an error in the future.\n",
      "/Library/Frameworks/Python.framework/Versions/3.6/lib/python3.6/site-packages/ipykernel_launcher.py:39: DeprecationWarning: elementwise == comparison failed; this will raise an error in the future.\n"
     ]
    }
   ],
   "source": [
    "avgs_targ = organize(ts_Targ)\n",
    "\n",
    "for i in range(8):\n",
    "    avgs_targ[i][0] = avgs_targ[i][0] / np.linalg.norm(avgs_targ[i][0])\n",
    "    avgs_targ[i][1] = avgs_targ[i][1] / np.linalg.norm(avgs_targ[i][1])\n",
    "    avgs_targ[i][2] = avgs_targ[i][2] / np.linalg.norm(avgs_targ[i][2])\n",
    "\n",
    "target_no_noise = [ [avgs_targ[i][0], avgs_targ[i][1], avgs_targ[i][2] ] for i in range(8) ]"
   ]
  },
  {
   "cell_type": "code",
   "execution_count": 23,
   "metadata": {},
   "outputs": [
    {
     "data": {
      "application/vnd.jupyter.widget-view+json": {
       "model_id": "997c9a0660554c3898c821f083d3f862",
       "version_major": 2,
       "version_minor": 0
      },
      "text/html": [
       "<p>Failed to display Jupyter Widget of type <code>FigureCanvasNbAgg</code>.</p>\n",
       "<p>\n",
       "  If you're reading this message in Jupyter Notebook or JupyterLab, it may mean\n",
       "  that the widgets JavaScript is still loading. If this message persists, it\n",
       "  likely means that the widgets JavaScript library is either not installed or\n",
       "  not enabled. See the <a href=\"https://ipywidgets.readthedocs.io/en/stable/user_install.html\">Jupyter\n",
       "  Widgets Documentation</a> for setup instructions.\n",
       "</p>\n",
       "<p>\n",
       "  If you're reading this message in another notebook frontend (for example, a static\n",
       "  rendering on GitHub or <a href=\"https://nbviewer.jupyter.org/\">NBViewer</a>),\n",
       "  it may mean that your frontend doesn't currently support widgets.\n",
       "</p>\n"
      ],
      "text/plain": [
       "FigureCanvasNbAgg()"
      ]
     },
     "metadata": {},
     "output_type": "display_data"
    }
   ],
   "source": [
    "fig = plt.figure(figsize=(10, 4))\n",
    "which = 7 # 5 is best, 4 is good\n",
    "ax = fig.add_subplot(151, projection='3d')\n",
    "ax.w_xaxis.set_pane_color(color=(1,1,1,1))\n",
    "ax.w_yaxis.set_pane_color(color=(1,1,1,1))\n",
    "ax.w_zaxis.set_pane_color(color=(1,1,1,1))\n",
    "\n",
    "ax.set_xticks([])\n",
    "ax.set_yticks([])\n",
    "ax.set_zticks([])\n",
    "\n",
    "ax.set_xlabel('PC1')\n",
    "ax.set_ylabel('PC2')\n",
    "ax.set_zlabel('PC3')\n",
    "\n",
    "ax.plot3D(target_no_noise[which][0], target_no_noise[which][1], target_no_noise[which][2], color='red', label='target', alpha=1)\n",
    "ax.plot3D(plot_no_noise[which][0], plot_no_noise[which][1], plot_no_noise[which][2], color='pink', label='no noise', alpha=0.75)\n",
    "ax.plot3D(plot_noise_sm[which][0], plot_noise_sm[which][1], plot_noise_sm[which][2], color='cornflowerblue', label='noise', alpha=0.5)\n",
    "ax.scatter3D(target_no_noise[which][0], target_no_noise[which][1], target_no_noise[which][2], color='red', alpha=1)\n",
    "ax.scatter3D(plot_no_noise[which][0], plot_no_noise[which][1], plot_no_noise[which][2], color='pink', alpha=0.75)\n",
    "ax.scatter3D(plot_noise_sm[which][0], plot_noise_sm[which][1], plot_noise_sm[which][2], color='cornflowerblue', alpha=0.5)\n",
    "plt.title('negative cc, positive mc, ac')\n",
    "plt.legend(loc='upper left')\n",
    "ax = fig.add_subplot(152, projection='3d')\n",
    "ax.w_xaxis.set_pane_color(color=(1,1,1,1))\n",
    "ax.w_yaxis.set_pane_color(color=(1,1,1,1))\n",
    "ax.w_zaxis.set_pane_color(color=(1,1,1,1))\n",
    "\n",
    "ax.set_xticks([])\n",
    "ax.set_yticks([])\n",
    "ax.set_zticks([])\n",
    "\n",
    "ax.set_xlabel('PC1')\n",
    "ax.set_ylabel('PC2')\n",
    "ax.set_zlabel('PC3')\n",
    "ax.view_init(elev=20, azim=-136)\n",
    "ax.plot3D(target_no_noise[which][0], target_no_noise[which][1], target_no_noise[which][2], color='red', label='target', alpha=1)\n",
    "ax.plot3D(plot_no_noise[which][0], plot_no_noise[which][1], plot_no_noise[which][2], color='pink', label='no noise', alpha=0.75)\n",
    "ax.plot3D(plot_noise_sm[which][0], plot_noise_sm[which][1], plot_noise_sm[which][2], color='cornflowerblue', label='noise', alpha=0.5)\n",
    "ax.scatter3D(target_no_noise[which][0], target_no_noise[which][1], target_no_noise[which][2], color='red', alpha=1)\n",
    "ax.scatter3D(plot_no_noise[which][0], plot_no_noise[which][1], plot_no_noise[which][2], color='pink', alpha=0.75)\n",
    "ax.scatter3D(plot_noise_sm[which][0], plot_noise_sm[which][1], plot_noise_sm[which][2], color='cornflowerblue', alpha=0.5)\n",
    "\n",
    "\n",
    "s=4\n",
    "# plt.figure()\n",
    "ax = plt.subplot(153)\n",
    "ax.set_xticks([])\n",
    "ax.set_yticks([])\n",
    "plt.plot(target_no_noise[which][0], target_no_noise[which][1], color='red', label='target', alpha=1)\n",
    "plt.plot(plot_no_noise[which][0], plot_no_noise[which][1], color='pink', label='no noise', alpha=0.75)\n",
    "plt.plot(plot_noise_sm[which][0], plot_noise_sm[which][1], color='cornflowerblue', label='noise', alpha=0.5)\n",
    "plt.scatter(target_no_noise[which][0], target_no_noise[which][1], color='red', label='target', alpha=1,s=s)\n",
    "plt.scatter(plot_no_noise[which][0], plot_no_noise[which][1], color='pink', label='no noise', alpha=0.75,s=s)\n",
    "plt.scatter(plot_noise_sm[which][0], plot_noise_sm[which][1], color='cornflowerblue', label='noise', alpha=0.5,s=s)\n",
    "plt.xlabel('PC1')\n",
    "plt.ylabel('PC2')\n",
    "\n",
    "ax = plt.subplot(154)\n",
    "ax.set_xticks([])\n",
    "ax.set_yticks([])\n",
    "plt.plot(target_no_noise[which][0], target_no_noise[which][2], color='red', label='target', alpha=1)\n",
    "plt.plot(plot_no_noise[which][0], plot_no_noise[which][2], color='pink', label='no noise', alpha=0.75)\n",
    "plt.plot(plot_noise_sm[which][0], plot_noise_sm[which][2], color='cornflowerblue', label='noise', alpha=0.5)\n",
    "plt.scatter(target_no_noise[which][0], target_no_noise[which][2], color='red', label='target', alpha=1,s=s)\n",
    "plt.scatter(plot_no_noise[which][0], plot_no_noise[which][2], color='pink', label='no noise', alpha=0.75,s=s)\n",
    "plt.scatter(plot_noise_sm[which][0], plot_noise_sm[which][2], color='cornflowerblue', label='noise', alpha=0.5,s=s)\n",
    "plt.xlabel('PC1')\n",
    "plt.ylabel('PC3')\n",
    "\n",
    "ax = plt.subplot(155)\n",
    "ax.set_xticks([])\n",
    "ax.set_yticks([])\n",
    "plt.plot(target_no_noise[which][1], target_no_noise[which][2], color='red', label='target', alpha=1)\n",
    "plt.plot(plot_no_noise[which][1], plot_no_noise[which][2], color='pink', label='no noise', alpha=0.75)\n",
    "plt.plot(plot_noise_sm[which][1], plot_noise_sm[which][2], color='cornflowerblue', label='noise', alpha=0.5)\n",
    "plt.scatter(target_no_noise[which][1], target_no_noise[which][2], color='red', label='target', alpha=1,s=s)\n",
    "plt.scatter(plot_no_noise[which][1], plot_no_noise[which][2], color='pink', label='no noise', alpha=0.75,s=s)\n",
    "plt.scatter(plot_noise_sm[which][1], plot_noise_sm[which][2], color='cornflowerblue', label='noise', alpha=0.5,s=s)\n",
    "plt.xlabel('PC2')\n",
    "plt.ylabel('PC3')\n",
    "plt.tight_layout()"
   ]
  },
  {
   "cell_type": "code",
   "execution_count": 2,
   "metadata": {},
   "outputs": [],
   "source": [
    "counts = np.load('counts_3.npy')\n",
    "cc   = [-0.5, -0.17, -0.05, 0.05, 0.17, 0.5] # color coherence values\n",
    "mc   = [-0.5, -0.17, -0.05, 0.05, 0.17, 0.5] # motion coherence values\n",
    "vecs = []  # context / coherence vecs\n",
    "ret = [0, 0, 0, 0, 1]\n",
    "%matplotlib ipympl\n",
    "for i in range(2):\n",
    "    for j in range(len(cc)):\n",
    "        for k in range(len(mc)):\n",
    "            if i == 0: vecs.append((np.array([ cc[j], mc[k], 1, 0, 0 ]), True if cc[j] > 0 else False))\n",
    "            else: vecs.append((np.array([ cc[j], mc[k], 0, 1, 0 ]), True if mc[k] > 0 else False))\n",
    "                \n",
    "qs = [0.0, 0.1, 0.25, 0.5]\n",
    "HIT, MISS = 0, 1\n",
    "\n",
    "# hitsx, hitsy, missx, missy = [], [], [], []\n",
    "# for i, q in enumerate(qs):\n",
    "#     for z in range(72):\n",
    "#         cc, mc, ac, am = vecs[z][0][0], vecs[z][0][1], vecs[z][0][2], vecs[z][0][3]\n",
    "#         if ac == 1:\n",
    "#             if cc == 0.5 or cc == -0.5:\n",
    "#                 if \n",
    "#             elif cc == 0.17 or cc = -0.17:\n",
    "            \n",
    "#             elif cc == 0.05 or cc = -0.05:\n",
    "\n",
    "# width = 0.5\n",
    "# plt.figure()\n",
    "# plt.subplot(221) # q = 0\n",
    "# plt.title(r'$$\\rho^2 = 0$$')\n",
    "# plt.bar(np.arange(72), counts[0][HIT], width, color='cornflowerblue', label='hit')\n",
    "# plt.bar(np.arange(72), counts[0][MISS], width, color='red', label='miss')\n",
    "# plt.legend()\n",
    "\n",
    "# plt.subplot(222)\n",
    "# plt.title(r'$$\\rho^2 = 0.1$$')\n",
    "# plt.bar(np.arange(72), counts[1][HIT], width, color='cornflowerblue', label='hit')\n",
    "# plt.bar(np.arange(72), counts[1][MISS], width, color='red', label='miss')\n",
    "\n",
    "# plt.subplot(223)\n",
    "# plt.title(r'$$\\rho^2 = 0.25$$')\n",
    "# plt.bar(np.arange(72), counts[2][HIT], width, color='cornflowerblue', label='hit')\n",
    "# plt.bar(np.arange(72), counts[2][MISS], width, color='red', label='miss')\n",
    "\n",
    "# plt.subplot(224)\n",
    "# plt.title(r'$$\\rho^2 = 0.5$$')\n",
    "# plt.bar(np.arange(72), counts[3][HIT], width, color='cornflowerblue', label='hit')\n",
    "# plt.bar(np.arange(72), counts[3][MISS], width, color='red', label='miss')\n",
    "# plt.tight_layout()"
   ]
  },
  {
   "cell_type": "code",
   "execution_count": 12,
   "metadata": {},
   "outputs": [
    {
     "name": "stdout",
     "output_type": "stream",
     "text": [
      "(4, 2, 72)\n"
     ]
    }
   ],
   "source": [
    "print(np.shape(counts))"
   ]
  },
  {
   "cell_type": "code",
   "execution_count": 7,
   "metadata": {},
   "outputs": [],
   "source": [
    "ress = np.load('noise_experiment_11.npy', encoding='latin1')\n",
    "targ = np.load('../datafiles/jp2/loaded_data0.npy')\n",
    "\n",
    "context = 1\n",
    "neuron = 18\n",
    "noise = 0\n",
    "trimmed_psth0 = [ ress[noise][HIT][context][i][20:131] for i in range(727) ]\n",
    "neuron1_network0 = [ ress[noise][HIT][i][neuron][20:len(targ[0][0])+20] for i in range(len(ress[0][0])) ]\n",
    "neuron1_network0 = neuron1_network0 / np.linalg.norm(neuron1_network0)\n",
    "\n",
    "noise = 1\n",
    "trimmed_psth1 = [ ress[noise][HIT][context][i][20:131] for i in range(727) ]\n",
    "neuron1_network1 = [ ress[noise][HIT][i][neuron][20:len(targ[0][0])+20] for i in range(len(ress[0][0])) ]\n",
    "neuron1_network1 = neuron1_network1 / np.linalg.norm(neuron1_network1)\n",
    "\n",
    "noise = 2\n",
    "trimmed_psth2 = [ ress[noise][HIT][context][i][20:131] for i in range(727) ]\n",
    "neuron1_network2 = [ ress[noise][HIT][i][neuron][20:len(targ[0][0])+20] for i in range(len(ress[0][0])) ]\n",
    "neuron1_network2 = neuron1_network2 / np.linalg.norm(neuron1_network2)\n",
    "\n",
    "noise = 3\n",
    "trimmed_psth3 = [ ress[noise][HIT][context][i][20:131] for i in range(727) ]\n",
    "neuron1_network3 = [ ress[noise][HIT][i][neuron][20:len(targ[0][0])+20] for i in range(len(ress[0][0])) ]\n",
    "neuron1_network3 = neuron1_network3 / np.linalg.norm(neuron1_network3)\n",
    "\n",
    "target_psth = [ targ[k][context] for k in range(len(targ)) ]\n",
    "target = targ[neuron] / np.linalg.norm(targ[neuron])"
   ]
  },
  {
   "cell_type": "code",
   "execution_count": 8,
   "metadata": {},
   "outputs": [
    {
     "data": {
      "application/vnd.jupyter.widget-view+json": {
       "model_id": "bee8c9af3dba4c8b9dffb5fee8b607bd",
       "version_major": 2,
       "version_minor": 0
      },
      "text/html": [
       "<p>Failed to display Jupyter Widget of type <code>FigureCanvasNbAgg</code>.</p>\n",
       "<p>\n",
       "  If you're reading this message in Jupyter Notebook or JupyterLab, it may mean\n",
       "  that the widgets JavaScript is still loading. If this message persists, it\n",
       "  likely means that the widgets JavaScript library is either not installed or\n",
       "  not enabled. See the <a href=\"https://ipywidgets.readthedocs.io/en/stable/user_install.html\">Jupyter\n",
       "  Widgets Documentation</a> for setup instructions.\n",
       "</p>\n",
       "<p>\n",
       "  If you're reading this message in another notebook frontend (for example, a static\n",
       "  rendering on GitHub or <a href=\"https://nbviewer.jupyter.org/\">NBViewer</a>),\n",
       "  it may mean that your frontend doesn't currently support widgets.\n",
       "</p>\n"
      ],
      "text/plain": [
       "FigureCanvasNbAgg()"
      ]
     },
     "metadata": {},
     "output_type": "display_data"
    }
   ],
   "source": [
    "# plt.figure()\n",
    "# plt.imshow(neuron1_network, aspect='auto')\n",
    "\n",
    "# plt.figure()\n",
    "# plt.imshow(target, aspect='auto')\n",
    "\n",
    "plt.figure()\n",
    "plt.subplot(251)\n",
    "plt.imshow(target_psth / np.linalg.norm(target_psth), aspect='auto')\n",
    "plt.title('target')\n",
    "\n",
    "plt.subplot(252)\n",
    "plt.imshow(trimmed_psth0, aspect='auto')\n",
    "plt.title(r'$$\\rho = 0$$')\n",
    "\n",
    "plt.subplot(253)\n",
    "plt.imshow(trimmed_psth1, aspect='auto')\n",
    "plt.title(r'$$\\rho = 0.1$$')\n",
    "\n",
    "plt.subplot(254)\n",
    "plt.imshow(trimmed_psth2, aspect='auto')\n",
    "plt.title(r'$$\\rho = 0.25$$')\n",
    "\n",
    "plt.subplot(255)\n",
    "plt.imshow(trimmed_psth3, aspect='auto')\n",
    "plt.title(r'$$\\rho = 0.5$$')\n",
    "\n",
    "plt.subplot(256)\n",
    "plt.imshow(target, aspect='auto')\n",
    "\n",
    "plt.subplot(257)\n",
    "plt.imshow(neuron1_network0, aspect='auto')\n",
    "\n",
    "plt.subplot(258)\n",
    "plt.imshow(neuron1_network1, aspect='auto')\n",
    "\n",
    "plt.subplot(259)\n",
    "plt.imshow(neuron1_network2, aspect='auto')\n",
    "\n",
    "plt.subplot(2,5,10)\n",
    "plt.imshow(neuron1_network3, aspect='auto')\n",
    "plt.suptitle('all HITs')\n",
    "plt.tight_layout()"
   ]
  },
  {
   "cell_type": "code",
   "execution_count": 64,
   "metadata": {},
   "outputs": [
    {
     "name": "stdout",
     "output_type": "stream",
     "text": [
      "[ 25.   0.   0.   0.   0.   0.   2.   0.   0.   0.   0.   0.   3.   4.   3.\n",
      "   2.   4.  12.   8.   8.  11.   6.  11.   2.   0.   0.   0.   0.   1.   0.\n",
      "   0.   0.   0.   0.   0.   0.   0.   0.   7.   5.   0.   3.   0.   0.   6.\n",
      "   3.   0.   5.   0.   0.  12.   3.   0.   6.   0.   0.   8.   7.   0.   4.\n",
      "   0.   0.   6.   2.   0.   6.   0.   0.   2.  19.  10.  37.]\n"
     ]
    }
   ],
   "source": [
    "print(counts[3][MISS])"
   ]
  },
  {
   "cell_type": "code",
   "execution_count": 68,
   "metadata": {},
   "outputs": [],
   "source": [
    "context = 0\n",
    "neuron = 18\n",
    "noise = 0\n",
    "# trimmed_psth0m = [ ress[noise][MISS][context][i][20:131] for i in range(727) ]\n",
    "# neuron1_network0 = [ ress[noise][MISS][i][neuron][20:len(targ[0][0])+20] for i in range(len(ress[0][0])) ]\n",
    "# neuron1_network0 = neuron1_network0 / np.linalg.norm(neuron1_network0)\n",
    "\n",
    "noise = 1\n",
    "trimmed_psth1m = [ ress[noise][MISS][context][i][20:131] for i in range(727) ]\n",
    "# neuron1_network1 = [ ress[noise][MISS][i][neuron][20:len(targ[0][0])+20] for i in range(len(ress[0][0])) ]\n",
    "# neuron1_network1 = neuron1_network1 / np.linalg.norm(neuron1_network1)\n",
    "\n",
    "noise = 2\n",
    "trimmed_psth2m = [ ress[noise][MISS][context][i][20:131] for i in range(727) ]\n",
    "# neuron1_network2 = [ ress[noise][MISS][i][neuron][20:len(targ[0][0])+20] for i in range(len(ress[0][0])) ]\n",
    "# neuron1_network2 = neuron1_network2 / np.linalg.norm(neuron1_network2)\n",
    "\n",
    "noise = 3\n",
    "trimmed_psth3m = [ ress[noise][MISS][context][i][20:131] for i in range(727) ]\n",
    "# neuron1_network3 = [ ress[noise][MISS][i][neuron][20:len(targ[0][0])+20] for i in range(len(ress[0][0])) ]\n",
    "# neuron1_network3 = neuron1_network3 / np.linalg.norm(neuron1_network3)\n",
    "\n",
    "target_psthm = [ targ[k][context] for k in range(len(targ)) ]\n",
    "target = targ[neuron] / np.linalg.norm(targ[neuron])"
   ]
  },
  {
   "cell_type": "code",
   "execution_count": 69,
   "metadata": {},
   "outputs": [
    {
     "name": "stderr",
     "output_type": "stream",
     "text": [
      "/Library/Frameworks/Python.framework/Versions/3.6/lib/python3.6/site-packages/matplotlib/pyplot.py:523: RuntimeWarning: More than 20 figures have been opened. Figures created through the pyplot interface (`matplotlib.pyplot.figure`) are retained until explicitly closed and may consume too much memory. (To control this warning, see the rcParam `figure.max_open_warning`).\n",
      "  max_open_warning, RuntimeWarning)\n"
     ]
    },
    {
     "data": {
      "application/vnd.jupyter.widget-view+json": {
       "model_id": "b81e493bc44f4f33b44a9a74cd7368f6",
       "version_major": 2,
       "version_minor": 0
      },
      "text/html": [
       "<p>Failed to display Jupyter Widget of type <code>FigureCanvasNbAgg</code>.</p>\n",
       "<p>\n",
       "  If you're reading this message in Jupyter Notebook or JupyterLab, it may mean\n",
       "  that the widgets JavaScript is still loading. If this message persists, it\n",
       "  likely means that the widgets JavaScript library is either not installed or\n",
       "  not enabled. See the <a href=\"https://ipywidgets.readthedocs.io/en/stable/user_install.html\">Jupyter\n",
       "  Widgets Documentation</a> for setup instructions.\n",
       "</p>\n",
       "<p>\n",
       "  If you're reading this message in another notebook frontend (for example, a static\n",
       "  rendering on GitHub or <a href=\"https://nbviewer.jupyter.org/\">NBViewer</a>),\n",
       "  it may mean that your frontend doesn't currently support widgets.\n",
       "</p>\n"
      ],
      "text/plain": [
       "FigureCanvasNbAgg()"
      ]
     },
     "metadata": {},
     "output_type": "display_data"
    }
   ],
   "source": [
    "plt.figure()\n",
    "plt.subplot(141)\n",
    "plt.imshow(target_psth / np.linalg.norm(target_psth), aspect='auto')\n",
    "plt.title('target')\n",
    "\n",
    "# plt.subplot(152)\n",
    "# plt.imshow(trimmed_psth0m, aspect='auto')\n",
    "# plt.title(r'$$\\rho = 0$$')\n",
    "\n",
    "plt.subplot(142)\n",
    "plt.imshow(trimmed_psth1m, aspect='auto')\n",
    "plt.title(r'$$\\rho = 0.1$$')\n",
    "\n",
    "plt.subplot(143)\n",
    "plt.imshow(trimmed_psth2m, aspect='auto')\n",
    "plt.title(r'$$\\rho = 0.25$$')\n",
    "\n",
    "plt.subplot(144)\n",
    "plt.imshow(trimmed_psth3m, aspect='auto')\n",
    "plt.title(r'$$\\rho = 0.5$$')\n",
    "\n",
    "# plt.subplot(256)\n",
    "# plt.imshow(target, aspect='auto')\n",
    "\n",
    "# plt.subplot(257)\n",
    "# plt.imshow(neuron1_network0, aspect='auto')\n",
    "\n",
    "# plt.subplot(258)\n",
    "# plt.imshow(neuron1_network1, aspect='auto')\n",
    "\n",
    "# plt.subplot(259)\n",
    "# plt.imshow(neuron1_network2, aspect='auto')\n",
    "\n",
    "# plt.subplot(2,5,10)\n",
    "# plt.imshow(neuron1_network3, aspect='auto')\n",
    "plt.suptitle('all MISS')\n",
    "plt.tight_layout()"
   ]
  },
  {
   "cell_type": "code",
   "execution_count": 25,
   "metadata": {},
   "outputs": [
    {
     "name": "stderr",
     "output_type": "stream",
     "text": [
      "/usr/local/Cellar/ipython/7.0.1/libexec/vendor/lib/python3.7/site-packages/ipykernel_launcher.py:9: RuntimeWarning: overflow encountered in exp\n",
      "  if __name__ == '__main__':\n"
     ]
    },
    {
     "data": {
      "image/png": "[encoded data removed]",
      "text/plain": [
       "<Figure size 864x432 with 2 Axes>"
      ]
     },
     "metadata": {
      "needs_background": "light"
     },
     "output_type": "display_data"
    }
   ],
   "source": [
    "counts = np.load('x_bind_counts_1.npy')\n",
    "from scipy.optimize import curve_fit\n",
    "\n",
    "HIT, MISS = 0, 1\n",
    "mot = [ np.zeros(6) for i in range(7) ] # num pos\n",
    "col = [ np.zeros(6) for i in range(7) ] # num pos\n",
    "\n",
    "def sigmoid(x, x0, k, t):\n",
    "    y = t * 1 / (1 + np.exp(-k*(x-x0)))\n",
    "    return y\n",
    "\n",
    "divsc = [ np.zeros(6) for i in range(7) ]\n",
    "divsm = [ np.zeros(6) for i in range(7) ]\n",
    "\n",
    "for q in range(7):\n",
    "    for z in range(72):\n",
    "        cc_, mc_, ac, am = vecs[z][0][0], vecs[z][0][1], vecs[z][0][2], vecs[z][0][3]\n",
    "        if cc_ > 0 and ac == 1: # hit is pos, miss is neg\n",
    "            col[q][np.where(cc_ == cc)] += counts[q][HIT][z]\n",
    "            divsc[q][np.where(cc_ == cc)] += counts[q][HIT][z] + counts[q][MISS][z]\n",
    "        if cc_ < 0 and ac == 1: # hit is neg, miss is pos\n",
    "            col[q][np.where(cc_ == cc)] += counts[q][MISS][z]\n",
    "            divsc[q][np.where(cc_ == cc)] += counts[q][MISS][z] + counts[q][HIT][z] \n",
    "        if mc_ > 0 and am == 1: # hit is pos, miss is neg\n",
    "            mot[q][np.where(mc_ == mc)] += counts[q][HIT][z]\n",
    "            divsm[q][np.where(mc_ == mc)] += counts[q][HIT][z] + counts[q][MISS][z]\n",
    "        if mc_ < 0 and am == 1: # hit is neg, miss is pos\n",
    "            mot[q][np.where(mc_ == mc)] += counts[q][MISS][z]\n",
    "            divsm[q][np.where(mc_ == mc)] += counts[q][MISS][z] + counts[q][HIT][z]\n",
    "\n",
    "mot = [ (mot[i] / divsc[i]) * 100 for i in range(7) ] \n",
    "col = [ (col[i] / divsm[i]) * 100 for i in range(7) ]\n",
    "for i in range(7):\n",
    "    col[i][5] = 100\n",
    "    \n",
    "curves_col = [ [] for i in range(7) ]\n",
    "curves_mot = [ [] for i in range(7) ]\n",
    "\n",
    "points = 100\n",
    "for i in range(7):\n",
    "    popt, pcov = curve_fit(sigmoid, cc, col[i], p0=[-40, 0.01, 50])\n",
    "    curves_col[i] = sigmoid(np.linspace(cc[0],cc[-1],num=points), *popt)\n",
    "    \n",
    "    popt, pcov = curve_fit(sigmoid, cc, mot[i], p0=[-40, 0.01, 50])\n",
    "    curves_mot[i] = sigmoid(np.linspace(cc[0],cc[-1],num=points), *popt)\n",
    "\n",
    "\n",
    "alphas = [0.1, 0.2, 0.3, 0.5, 0.7, 0.9, 1]\n",
    "labels = ['0.00', '0.10', '0.25', '0.50', '0.75', '1', '1.5']\n",
    "plt.figure(figsize=(12,6))\n",
    "plt.subplot(121)\n",
    "for i in range(7):\n",
    "    plt.scatter(cc, col[i], label=labels[i], color='cornflowerblue', alpha=alphas[i])\n",
    "    plt.plot(np.linspace(cc[0],cc[-1],num=points), curves_col[i], color='cornflowerblue', alpha=alphas[i])\n",
    "\n",
    "inferred_psych = [2, 7, 34, 65, 89, 99]\n",
    "popt, pcov = curve_fit(sigmoid, cc, inferred_psych, p0=[-40, 0.01, 50])\n",
    "curve = sigmoid(np.linspace(cc[0],cc[-1],num=points), *popt)\n",
    "plt.scatter(cc, inferred_psych, label='monkey', color='black', alpha=alphas[i])\n",
    "plt.plot(np.linspace(cc[0],cc[-1],num=points), curve, color='black', alpha=alphas[i])\n",
    "\n",
    "plt.xticks(cc, ['-0.5', '-0.17', '-0.05', '0.05', '0.17', '0.5'])\n",
    "plt.xlabel('color coherence, color context')\n",
    "plt.ylabel('percent \\'red\\'')\n",
    "plt.legend()\n",
    "\n",
    "plt.subplot(122)\n",
    "for i in range(7):\n",
    "    plt.scatter(cc, mot[i], label=labels[i], color='red', alpha=alphas[i])\n",
    "    plt.plot(np.linspace(cc[0],cc[-1],num=points), curves_mot[i], color='red', alpha=alphas[i])\n",
    "\n",
    "inferred_psych = [2, 14, 41, 64, 87, 99]\n",
    "popt, pcov = curve_fit(sigmoid, cc, inferred_psych, p0=[-40, 0.01, 50])\n",
    "curve = sigmoid(np.linspace(cc[0],cc[-1],num=points), *popt)\n",
    "plt.scatter(cc, inferred_psych, label='monkey', color='black', alpha=alphas[i])\n",
    "plt.plot(np.linspace(cc[0],cc[-1],num=points), curve, color='black', alpha=alphas[i])\n",
    "plt.xticks(cc, ['-0.5', '-0.17', '-0.05', '0.05', '0.17', '0.5'])\n",
    "plt.xlabel('motion coherence, motion context')\n",
    "plt.ylabel('percent \\'right\\'')\n",
    "plt.legend()\n",
    "plt.tight_layout()\n",
    "# plt.savefig('psychometric_curves', dpi=300, bbox_inches='tight')"
   ]
  },
  {
   "cell_type": "code",
   "execution_count": 75,
   "metadata": {},
   "outputs": [],
   "source": [
    "from scipy.io import loadmat\n",
    "monkey_counts = loadmat('../../../../ManteData_justdata/PFCData1/ar090313_1_a2_Vstim_100_850_ms.mat')"
   ]
  },
  {
   "cell_type": "code",
   "execution_count": 76,
   "metadata": {},
   "outputs": [],
   "source": [
    "hit_or_miss = monkey_counts['unit'][0][0][1][0][0][5]\n",
    "color_sig = monkey_counts['unit'][0][0][1][0][0][1]\n",
    "motion_sig = monkey_counts['unit'][0][0][1][0][0][0]\n",
    "context = monkey_counts['unit'][0][0][1][0][0][4]\n",
    "\n",
    "ctarg = np.sort(np.unique(color_sig)).tolist() # color coherence\n",
    "mtarg = np.sort(np.unique(motion_sig)).tolist() # motion coherence\n",
    "\n",
    "counts_monkey = [ np.zeros(72) for i in range(2) ]\n",
    "\n",
    "def det_ind(col, mot, con):\n",
    "    con = 0 if con == 1 else 36\n",
    "    return (ctarg.index(col) * 6 + mtarg.index(mot)) + con\n",
    "\n",
    "for col, mot, con, hit in zip(color_sig, motion_sig, context, hit_or_miss):\n",
    "    ind = det_ind(col, mot, con)\n",
    "    if hit == 1: counts_monkey[HIT][ind] += 1\n",
    "    else: counts_monkey[MISS][ind] += 1"
   ]
  },
  {
   "cell_type": "code",
   "execution_count": 77,
   "metadata": {},
   "outputs": [
    {
     "data": {
      "text/plain": [
       "[array([ 28.,  22.,  16.,  12.,  22.,  27.,  28.,  22.,  19.,   9.,  17.,\n",
       "         27.,  28.,  25.,  14.,  17.,  17.,  30.,  29.,  25.,  18.,  12.,\n",
       "         23.,  26.,  28.,  22.,  16.,  11.,  22.,  29.,  25.,  27.,  18.,\n",
       "         17.,  26.,  25.,  28.,  27.,  22.,  28.,  28.,  27.,  24.,  25.,\n",
       "         24.,  21.,  24.,  22.,  12.,  13.,  18.,  19.,  15.,  16.,  20.,\n",
       "         18.,  23.,  17.,  20.,  22.,  27.,  25.,  26.,  22.,  22.,  22.,\n",
       "         26.,  27.,  27.,  28.,  27.,  28.]),\n",
       " array([  0.,   7.,  12.,  16.,   7.,   2.,   1.,   7.,  10.,  20.,  11.,\n",
       "          1.,   0.,   4.,  15.,  12.,  11.,   0.,   0.,   4.,  11.,  16.,\n",
       "          6.,   2.,   2.,   6.,  12.,  18.,   7.,   0.,   3.,   2.,  12.,\n",
       "         12.,   3.,   4.,   0.,   1.,   6.,   0.,   0.,   1.,   4.,   3.,\n",
       "          4.,   7.,   4.,   6.,  16.,  15.,  10.,   9.,  13.,  12.,   8.,\n",
       "         10.,   5.,  11.,   8.,   6.,   1.,   3.,   2.,   6.,   6.,   6.,\n",
       "          2.,   1.,   1.,   0.,   1.,   0.])]"
      ]
     },
     "execution_count": 77,
     "metadata": {},
     "output_type": "execute_result"
    }
   ],
   "source": [
    "counts_monkey"
   ]
  },
  {
   "cell_type": "code",
   "execution_count": 78,
   "metadata": {},
   "outputs": [],
   "source": [
    "mok_mot = np.zeros(6) # num pos\n",
    "mok_col = np.zeros(6) # num pos\n",
    "\n",
    "divsc_mok = np.zeros(6)\n",
    "divsm_mok = np.zeros(6)\n",
    "\n",
    "for z in range(72):\n",
    "    cc_, mc_, ac, am = vecs[z][0][0], vecs[z][0][1], vecs[z][0][2], vecs[z][0][3]\n",
    "    if cc_ > 0 and ac == 1: # hit is pos, miss is neg\n",
    "        mok_col[np.where(cc_ == cc)] += counts_monkey[HIT][z]\n",
    "        divsc_mok[np.where(cc_ == cc)] += counts_monkey[HIT][z] + counts_monkey[MISS][z]\n",
    "    if cc_ < 0 and ac == 1: # hit is neg, miss is pos\n",
    "        mok_col[np.where(cc_ == cc)] += counts_monkey[MISS][z]\n",
    "        divsc_mok[np.where(cc_ == cc)] += counts_monkey[MISS][z] + counts_monkey[HIT][z] \n",
    "    if mc_ > 0 and am == 1: # hit is pos, miss is neg\n",
    "        mok_mot[np.where(mc_ == mc)] += counts_monkey[HIT][z]\n",
    "        divsm_mok[np.where(mc_ == mc)] += counts_monkey[HIT][z] + counts_monkey[MISS][z]\n",
    "    if mc_ < 0 and am == 1: # hit is neg, miss is pos\n",
    "        mok_mot[np.where(mc_ == mc)] += counts_monkey[MISS][z]\n",
    "        divsm_mok[np.where(mc_ == mc)] += counts_monkey[MISS][z] + counts_monkey[HIT][z]"
   ]
  },
  {
   "cell_type": "code",
   "execution_count": null,
   "metadata": {},
   "outputs": [],
   "source": []
  },
  {
   "cell_type": "code",
   "execution_count": 79,
   "metadata": {},
   "outputs": [
    {
     "name": "stderr",
     "output_type": "stream",
     "text": [
      "/Library/Frameworks/Python.framework/Versions/3.6/lib/python3.6/site-packages/ipykernel_launcher.py:9: RuntimeWarning: overflow encountered in exp\n",
      "  if __name__ == '__main__':\n"
     ]
    }
   ],
   "source": [
    "mok_mot = mok_mot / divsc_mok * 100  \n",
    "mok_col = mok_col / divsm_mok * 100 \n",
    "\n",
    "points = 100\n",
    "popt, pcov = curve_fit(sigmoid, np.arange(6), mok_col, p0=[-40, 0.01, 50])\n",
    "mok_curvec = sigmoid(np.linspace(0,5,num=points), *popt)\n",
    "\n",
    "popt, pcov = curve_fit(sigmoid, np.arange(6), mok_mot, p0=[-40, 0.01, 50])\n",
    "mok_curvem = sigmoid(np.linspace(0,5,num=points), *popt)"
   ]
  },
  {
   "cell_type": "code",
   "execution_count": 80,
   "metadata": {},
   "outputs": [
    {
     "data": {
      "application/vnd.jupyter.widget-view+json": {
       "model_id": "194ee9220eee4f2fab7ff332bb265698",
       "version_major": 2,
       "version_minor": 0
      },
      "text/html": [
       "<p>Failed to display Jupyter Widget of type <code>FigureCanvasNbAgg</code>.</p>\n",
       "<p>\n",
       "  If you're reading this message in Jupyter Notebook or JupyterLab, it may mean\n",
       "  that the widgets JavaScript is still loading. If this message persists, it\n",
       "  likely means that the widgets JavaScript library is either not installed or\n",
       "  not enabled. See the <a href=\"https://ipywidgets.readthedocs.io/en/stable/user_install.html\">Jupyter\n",
       "  Widgets Documentation</a> for setup instructions.\n",
       "</p>\n",
       "<p>\n",
       "  If you're reading this message in another notebook frontend (for example, a static\n",
       "  rendering on GitHub or <a href=\"https://nbviewer.jupyter.org/\">NBViewer</a>),\n",
       "  it may mean that your frontend doesn't currently support widgets.\n",
       "</p>\n"
      ],
      "text/plain": [
       "FigureCanvasNbAgg()"
      ]
     },
     "metadata": {},
     "output_type": "display_data"
    }
   ],
   "source": [
    "plt.figure(figsize=(8,4))\n",
    "plt.subplot(121)\n",
    "plt.scatter(np.arange(6), mok_col, label='monkey', color='cornflowerblue', alpha=0.95)\n",
    "plt.plot(np.linspace(0,5,num=points), mok_curvec, color='cornflowerblue', alpha=0.95)\n",
    "\n",
    "plt.xticks(np.arange(6), ['-0.5', '-0.17', '-0.05', '0.05', '0.17', '0.5'])\n",
    "plt.xlabel('color coherence, color context')\n",
    "plt.ylabel('percent \\'red\\'')\n",
    "plt.legend()\n",
    "\n",
    "plt.subplot(122)\n",
    "plt.scatter(np.arange(6), mok_mot, label='monkey', color='cornflowerblue', alpha=0.95)\n",
    "plt.plot(np.linspace(0,5,num=points), mok_curvem, color='cornflowerblue', alpha=0.95)\n",
    "\n",
    "plt.xticks(np.arange(6), ['-0.5', '-0.17', '-0.05', '0.05', '0.17', '0.5'])\n",
    "plt.xlabel('motion coherence, motion context')\n",
    "plt.ylabel('percent \\'right\\'')\n",
    "plt.tight_layout()"
   ]
  },
  {
   "cell_type": "code",
   "execution_count": 99,
   "metadata": {},
   "outputs": [
    {
     "name": "stderr",
     "output_type": "stream",
     "text": [
      "/Library/Frameworks/Python.framework/Versions/3.6/lib/python3.6/site-packages/matplotlib/pyplot.py:523: RuntimeWarning: More than 20 figures have been opened. Figures created through the pyplot interface (`matplotlib.pyplot.figure`) are retained until explicitly closed and may consume too much memory. (To control this warning, see the rcParam `figure.max_open_warning`).\n",
      "  max_open_warning, RuntimeWarning)\n"
     ]
    },
    {
     "data": {
      "application/vnd.jupyter.widget-view+json": {
       "model_id": "47621b03feaa4749be931922e30963ba",
       "version_major": 2,
       "version_minor": 0
      },
      "text/html": [
       "<p>Failed to display Jupyter Widget of type <code>FigureCanvasNbAgg</code>.</p>\n",
       "<p>\n",
       "  If you're reading this message in Jupyter Notebook or JupyterLab, it may mean\n",
       "  that the widgets JavaScript is still loading. If this message persists, it\n",
       "  likely means that the widgets JavaScript library is either not installed or\n",
       "  not enabled. See the <a href=\"https://ipywidgets.readthedocs.io/en/stable/user_install.html\">Jupyter\n",
       "  Widgets Documentation</a> for setup instructions.\n",
       "</p>\n",
       "<p>\n",
       "  If you're reading this message in another notebook frontend (for example, a static\n",
       "  rendering on GitHub or <a href=\"https://nbviewer.jupyter.org/\">NBViewer</a>),\n",
       "  it may mean that your frontend doesn't currently support widgets.\n",
       "</p>\n"
      ],
      "text/plain": [
       "FigureCanvasNbAgg()"
      ]
     },
     "metadata": {},
     "output_type": "display_data"
    },
    {
     "data": {
      "application/vnd.jupyter.widget-view+json": {
       "model_id": "c13a8b65f8ad454a85c764b4587c35e6",
       "version_major": 2,
       "version_minor": 0
      },
      "text/html": [
       "<p>Failed to display Jupyter Widget of type <code>FigureCanvasNbAgg</code>.</p>\n",
       "<p>\n",
       "  If you're reading this message in Jupyter Notebook or JupyterLab, it may mean\n",
       "  that the widgets JavaScript is still loading. If this message persists, it\n",
       "  likely means that the widgets JavaScript library is either not installed or\n",
       "  not enabled. See the <a href=\"https://ipywidgets.readthedocs.io/en/stable/user_install.html\">Jupyter\n",
       "  Widgets Documentation</a> for setup instructions.\n",
       "</p>\n",
       "<p>\n",
       "  If you're reading this message in another notebook frontend (for example, a static\n",
       "  rendering on GitHub or <a href=\"https://nbviewer.jupyter.org/\">NBViewer</a>),\n",
       "  it may mean that your frontend doesn't currently support widgets.\n",
       "</p>\n"
      ],
      "text/plain": [
       "FigureCanvasNbAgg()"
      ]
     },
     "metadata": {},
     "output_type": "display_data"
    },
    {
     "data": {
      "text/plain": [
       "Text(0,0.5,'PC3')"
      ]
     },
     "execution_count": 99,
     "metadata": {},
     "output_type": "execute_result"
    }
   ],
   "source": [
    "from mpl_toolkits.mplot3d import Axes3D\n",
    "proj_points = np.load('proj_fixed_points1.npy')\n",
    "trace1 = np.load('mot_con.npy')\n",
    "trace2 = np.load('col_con.npy')\n",
    "\n",
    "\n",
    "fig = plt.figure(figsize=(10, 4))\n",
    "ax = fig.add_subplot(151, projection='3d')\n",
    "ax.w_xaxis.set_pane_color(color=(1,1,1,1))\n",
    "ax.w_yaxis.set_pane_color(color=(1,1,1,1))\n",
    "ax.w_zaxis.set_pane_color(color=(1,1,1,1))\n",
    "\n",
    "ax.set_xticks([])\n",
    "ax.set_yticks([])\n",
    "ax.set_zticks([])\n",
    "\n",
    "ax.set_xlabel('PC1')\n",
    "ax.set_ylabel('PC2')\n",
    "ax.set_zlabel('PC3')\n",
    "\n",
    "alphas = [0.5, 0.45, 0.35, 0.25, 0.15]\n",
    "ax.view_init(elev=-137, azim=33)\n",
    "for i in range(5):\n",
    "    ax.scatter3D(trace1[i][:,0], trace1[i][:,1], trace1[i][:,2], color='cornflowerblue', s=5, alpha=alphas[i])\n",
    "    ax.plot3D(trace1[i][:,0], trace1[i][:,1], trace1[i][:,2], color='cornflowerblue', alpha=alphas[i])\n",
    "    \n",
    "    ax.scatter3D(trace2[i][:,0], trace2[i][:,1], trace2[i][:,2], color='red', s=5, alpha=alphas[i])\n",
    "    ax.plot3D(trace2[i][:,0], trace2[i][:,1], trace2[i][:,2], color='red', alpha=alphas[i])\n",
    "    \n",
    "ax.scatter3D(proj_points[0,0], proj_points[0,1], proj_points[0,2], color='red', s=40)\n",
    "\n",
    "fig = plt.figure(figsize=(10, 4))\n",
    "ax = fig.add_subplot(152, projection='3d')\n",
    "ax.w_xaxis.set_pane_color(color=(1,1,1,1))\n",
    "ax.w_yaxis.set_pane_color(color=(1,1,1,1))\n",
    "ax.w_zaxis.set_pane_color(color=(1,1,1,1))\n",
    "\n",
    "ax.set_xticks([])\n",
    "ax.set_yticks([])\n",
    "ax.set_zticks([])\n",
    "\n",
    "ax.set_xlabel('PC1')\n",
    "ax.set_ylabel('PC2')\n",
    "ax.set_zlabel('PC3')\n",
    "\n",
    "alphas = [0.5, 0.45, 0.35, 0.25, 0.15]\n",
    "ax.view_init(elev=-129, azim=-44)\n",
    "for i in range(5):\n",
    "    ax.scatter3D(trace1[i][:,0], trace1[i][:,1], trace1[i][:,2], color='cornflowerblue', s=5, alpha=alphas[i])\n",
    "    ax.plot3D(trace1[i][:,0], trace1[i][:,1], trace1[i][:,2], color='cornflowerblue', alpha=alphas[i])\n",
    "    \n",
    "    ax.scatter3D(trace2[i][:,0], trace2[i][:,1], trace2[i][:,2], color='red', s=5, alpha=alphas[i])\n",
    "    ax.plot3D(trace2[i][:,0], trace2[i][:,1], trace2[i][:,2], color='red', alpha=alphas[i])\n",
    "    \n",
    "ax.scatter3D(proj_points[0,0], proj_points[0,1], proj_points[0,2], color='red', s=40)\n",
    "\n",
    "plt.subplot(153)\n",
    "for i in range(5):\n",
    "    plt.scatter(trace1[i][:,0], trace1[i][:,1], color='red', s=5, alpha=alphas[i])\n",
    "    plt.scatter(trace2[i][:,0], trace2[i][:,1], color='cornflowerblue', s=5, alpha=alphas[i])\n",
    "    plt.plot(trace1[i][:,0], trace1[i][:,1], color='red', alpha=alphas[i])\n",
    "    plt.plot(trace2[i][:,0], trace2[i][:,1], color='cornflowerblue', alpha=alphas[i])\n",
    "plt.xticks([])\n",
    "plt.yticks([])\n",
    "plt.xlabel('PC1')\n",
    "plt.ylabel('PC2')\n",
    "\n",
    "plt.subplot(154)\n",
    "for i in range(5):\n",
    "    plt.scatter(trace1[i][:,0], trace1[i][:,2], color='red', s=5, alpha=alphas[i])\n",
    "    plt.scatter(trace1[i][:,0], trace1[i][:,2], color='cornflowerblue', s=5, alpha=alphas[i])\n",
    "    plt.plot(trace1[i][:,0], trace1[i][:,2], color='red', alpha=alphas[i])\n",
    "    plt.plot(trace1[i][:,0], trace1[i][:,2], color='cornflowerblue', alpha=alphas[i])\n",
    "plt.xticks([])\n",
    "plt.yticks([])\n",
    "plt.xlabel('PC1')\n",
    "plt.ylabel('PC3')\n",
    "\n",
    "plt.subplot(155)\n",
    "for i in range(5):\n",
    "    plt.scatter(trace1[i][:,1], trace1[i][:,2], color='red', s=5, alpha=alphas[i])\n",
    "    plt.scatter(trace1[i][:,1], trace1[i][:,2],color='cornflowerblue', s=5, alpha=alphas[i])\n",
    "    plt.plot(trace1[i][:,1], trace1[i][:,2], color='red', alpha=alphas[i])\n",
    "    plt.plot(trace1[i][:,1], trace1[i][:,2], color='cornflowerblue', alpha=alphas[i])\n",
    "plt.xticks([])\n",
    "plt.yticks([])\n",
    "plt.xlabel('PC2')\n",
    "plt.ylabel('PC3')"
   ]
  },
  {
   "cell_type": "markdown",
   "metadata": {},
   "source": [
    "$$pVar = 1 - \\frac{\\Big(\\sum_{j=1}^N \\sum_{t=1}^T D_i(t) - r_i(t)\\Big)^2}{\\Big(\\sum_{j=1}^N \\sum_{t=1}^T D_i(t) - D_m(t)\\Big)^2}$$"
   ]
  },
  {
   "cell_type": "code",
   "execution_count": 10,
   "metadata": {},
   "outputs": [
    {
     "name": "stderr",
     "output_type": "stream",
     "text": [
      "/usr/local/Cellar/ipython/7.0.1/libexec/vendor/lib/python3.7/site-packages/ipykernel_launcher.py:7: DeprecationWarning: elementwise == comparison failed; this will raise an error in the future.\n",
      "  import sys\n"
     ]
    }
   ],
   "source": [
    "ress = np.load('noise_experiment_10.npy', encoding='latin1')\n",
    "targ = np.load('../datafiles/jp2/loaded_data0.npy')\n",
    "HIT, MISS = 0, 1\n",
    "\n",
    "for q in range(4):\n",
    "    for z in range(72):\n",
    "        if ress[q][HIT][z] == []:\n",
    "            ress[q][HIT][z] = ress[q][MISS][z]\n",
    "        \n",
    "def pVar(targ, net, t_avg):\n",
    "    # normalize first\n",
    "    #targ = targ / np.linalg.norm(targ)\n",
    "    #net = net / np.linalg.norm(net)\n",
    "    \n",
    "    d_m = np.tile(t_avg, (np.shape(targ)[0], 1))\n",
    "    targ_var = np.sum((targ - d_m) ** 2)\n",
    "    net_var = np.sum((targ - net) ** 2)\n",
    "    return 1 - net_var / targ_var\n",
    "\n",
    "\n",
    "pvars = [ np.zeros(72) for i in range(4) ]\n",
    "by_time = [ [] for i in range(4) ]\n",
    "for q in range(4):\n",
    "    for t in range(72):\n",
    "        target_psth = np.array([ targ[k][t] for k in range(len(targ)) ])\n",
    "        target_psth = target_psth / np.linalg.norm(target_psth)\n",
    "        by_time[q].append(np.mean(target_psth, axis=0))\n",
    "    by_time[q] = np.mean(np.array(by_time[q]), axis=0)\n",
    "\n",
    "for q in range(4):\n",
    "    for t in range(72):\n",
    "        trimmed_psth = np.array([ ress[q][HIT][t][i][20:131] for i in range(726) ])\n",
    "        target_psth = np.array([ targ[k][t] for k in range(len(targ)) ])\n",
    "        pvars[q][t] = max(pVar(target_psth, trimmed_psth, by_time[q]), 0)"
   ]
  },
  {
   "cell_type": "code",
   "execution_count": 58,
   "metadata": {},
   "outputs": [],
   "source": [
    "#pvars = [ np.array(list(filter(lambda x: not x == 0, pvars[i]))) for i in range(4)]"
   ]
  },
  {
   "cell_type": "code",
   "execution_count": 59,
   "metadata": {},
   "outputs": [
    {
     "name": "stdout",
     "output_type": "stream",
     "text": [
      "72\n"
     ]
    }
   ],
   "source": [
    "print(len(pvars[0]))"
   ]
  },
  {
   "cell_type": "code",
   "execution_count": 11,
   "metadata": {},
   "outputs": [],
   "source": [
    "test = [ np.mean(pvars[q]) for q in range(4) ]\n",
    "var = [ np.var(pvars[q]) for q in range(4) ]"
   ]
  },
  {
   "cell_type": "code",
   "execution_count": 12,
   "metadata": {},
   "outputs": [
    {
     "name": "stdout",
     "output_type": "stream",
     "text": [
      "[0.8664882182379314, 0.6552545095561162, 0.24955503202645093, 0.037877315665352455]\n",
      "[0.01272062341140325, 0.053082784725511506, 0.046147692270097455, 0.005270844729583752]\n"
     ]
    }
   ],
   "source": [
    "print(test)\n",
    "print(var)"
   ]
  },
  {
   "cell_type": "code",
   "execution_count": 13,
   "metadata": {},
   "outputs": [
    {
     "data": {
      "text/plain": [
       "Text(0, 0.5, 'pVar')"
      ]
     },
     "execution_count": 13,
     "metadata": {},
     "output_type": "execute_result"
    },
    {
     "data": {
      "image/png": "[encoded data removed]",
      "text/plain": [
       "<Figure size 432x288 with 1 Axes>"
      ]
     },
     "metadata": {
      "needs_background": "light"
     },
     "output_type": "display_data"
    }
   ],
   "source": [
    "plt.figure()\n",
    "plt.errorbar(np.arange(4), test, yerr=var, fmt='o', capthick=2, capsize=3)\n",
    "plt.xticks(np.arange(4), ['0.0', '0.1', '0.25', '0.5'])\n",
    "plt.xlabel(r'$$\\rho^2$$')\n",
    "plt.ylim((0,1))\n",
    "plt.ylabel('pVar')"
   ]
  },
  {
   "cell_type": "code",
   "execution_count": 30,
   "metadata": {},
   "outputs": [
    {
     "name": "stdout",
     "output_type": "stream",
     "text": [
      "(726, 72, 111)\n",
      "[0.8996433157797179, 0.8996224075421679, 0.8995528155390579, 0.8995809484493326] [0.9048306930505695, 0.9046990521871974, 0.9042676315035515, 0.9041565225061032]\n"
     ]
    },
    {
     "data": {
      "text/plain": [
       "<matplotlib.legend.Legend at 0x119830dd8>"
      ]
     },
     "execution_count": 30,
     "metadata": {},
     "output_type": "execute_result"
    },
    {
     "data": {
      "image/png": "[encoded data removed]",
      "text/plain": [
       "<Figure size 432x288 with 1 Axes>"
      ]
     },
     "metadata": {
      "needs_background": "light"
     },
     "output_type": "display_data"
    }
   ],
   "source": [
    "ress = np.load('no_noise_n1000_rpin_2.npy', encoding='latin1')\n",
    "res3 = np.load('noise_n1800_0.npy', encoding='latin1')\n",
    "targ = np.load('../datafiles/jp2/loaded_data0.npy')\n",
    "print(np.shape(targ))\n",
    "\n",
    "def normalize(arg, max_, min_):\n",
    "    return min_ + (((arg - np.min(arg)) * (max_ - min_)) / (np.max(arg) - np.min(arg)))\n",
    "\n",
    "targ = [[ targ[i][j] for i in range(len(targ)) ] for j in range(72) ]\n",
    "targ = np.array([ normalize(targ[i], 0.1, 0.9) for i in range(72) ])\n",
    "targ = targ / np.linalg.norm(targ)\n",
    "ress = ress / np.linalg.norm(ress)\n",
    "res3 = res3 / np.linalg.norm(res3)\n",
    "\n",
    "def pVar(targ, net, t_avg):\n",
    "    d_m = np.tile(t_avg, (np.shape(targ)[0], 1))\n",
    "    targ_var = np.linalg.norm(targ - d_m, 'fro')\n",
    "    net_var = np.linalg.norm(targ - net, 'fro')\n",
    "    #targ_var = np.sum((targ - d_m) ** 2)\n",
    "    #net_var = np.sum((targ - net) ** 2)\n",
    "    return 1 - net_var / targ_var\n",
    "\n",
    "pvars = [ np.zeros(72) for i in range(4) ]\n",
    "pvars2 = [ np.zeros(72) for i in range(4) ]\n",
    "pvars3 = [ np.zeros(72) for i in range(4) ]\n",
    "by_time = [ [] for i in range(4) ]\n",
    "for q in range(4):\n",
    "    for t in range(72):\n",
    "        target_psth = targ[t] # np.array([ targ[k][t] for k in range(len(targ)) ])\n",
    "        target_psth = target_psth / np.linalg.norm(target_psth)\n",
    "        by_time[q].append(np.mean(target_psth, axis=0))\n",
    "    by_time[q] = np.mean(np.array(by_time[q]), axis=0)\n",
    "\n",
    "\n",
    "for q in range(4):\n",
    "    for t in range(72):\n",
    "        trimmed_psth = np.array([ ress[q][t][i][20:131] for i in range(726) ])\n",
    "        #trimmed_psth2 = np.array([ res2[q][t][i][20:131] for i in range(726) ])\n",
    "        trimmed_psth3 = np.array([ res3[q][t][i][20:131] for i in range(726) ])\n",
    "        target_psth = targ[t] # np.array([ targ[k][t] for k in range(len(targ)) ])\n",
    "        #pvars2[q][t] = max(pVar(target_psth, trimmed_psth2, by_time[q]), 0)\n",
    "        pvars[q][t] = max(pVar(target_psth, trimmed_psth, by_time[q]), 0)\n",
    "        pvars3[q][t] = max(pVar(target_psth, trimmed_psth3, by_time[q]), 0)\n",
    "\n",
    "\n",
    "test = [ np.mean(pvars[q]) for q in range(4) ]\n",
    "var = [ np.var(pvars[q]) for q in range(4) ]\n",
    "#test2 = [ np.mean(pvars2[q]) for q in range(4) ]\n",
    "#var2 = [ np.var(pvars2[q]) for q in range(4) ]\n",
    "test3 = [ np.mean(pvars3[q]) for q in range(4) ]\n",
    "var3 = [ np.var(pvars3[q]) for q in range(4) ]\n",
    "print(test, test3)\n",
    "\n",
    "plt.figure()\n",
    "plt.errorbar(np.arange(4), test, yerr=var, fmt='o', capthick=2, capsize=3, label='N = 1800')\n",
    "plt.errorbar(np.arange(4), test3, yerr=var3, fmt='o', capthick=2, capsize=3, label='N = 726')\n",
    "plt.xticks(np.arange(4), ['0.0', '0.1', '0.25', '0.5'])\n",
    "plt.xlabel(r'$$\\rho^2$$')\n",
    "plt.ylim((0,1))\n",
    "plt.ylabel('pVar')\n",
    "plt.legend()"
   ]
  },
  {
   "cell_type": "code",
   "execution_count": 247,
   "metadata": {},
   "outputs": [],
   "source": [
    "from mpl_toolkits.axes_grid.inset_locator import inset_axes\n",
    "ress = np.load('noise_experiment_9.npy', encoding='latin1')\n",
    "targ = np.load('../datafiles/jp2/loaded_data0.npy')\n",
    "\n",
    "context = 18\n",
    "neuron = 18\n",
    "noise = 0\n",
    "trimmed_psth0 = [ ress[noise][HIT][context][i][20:131] for i in range(727) ]\n",
    "neuron1_network0 = [ ress[noise][HIT][i][neuron][20:len(targ[0][0])+20] for i in range(len(ress[0][0])) ]\n",
    "neuron1_network0 = neuron1_network0 / np.linalg.norm(neuron1_network0)\n",
    "\n",
    "noise = 1\n",
    "trimmed_psth1 = [ ress[noise][HIT][context][i][20:131] for i in range(727) ]\n",
    "neuron1_network1 = [ ress[noise][HIT][i][neuron][20:len(targ[0][0])+20] for i in range(len(ress[0][0])) ]\n",
    "neuron1_network1 = neuron1_network1 / np.linalg.norm(neuron1_network1)\n",
    "\n",
    "noise = 2\n",
    "trimmed_psth2 = [ ress[noise][HIT][context][i][20:131] for i in range(727) ]\n",
    "neuron1_network2 = [ ress[noise][HIT][i][neuron][20:len(targ[0][0])+20] for i in range(len(ress[0][0])) ]\n",
    "neuron1_network2 = neuron1_network2 / np.linalg.norm(neuron1_network2)\n",
    "\n",
    "noise = 3\n",
    "trimmed_psth3 = [ ress[noise][HIT][context][i][20:131] for i in range(727) ]\n",
    "neuron1_network3 = [ ress[noise][HIT][i][neuron][20:len(targ[0][0])+20] for i in range(len(ress[0][0])) ]\n",
    "neuron1_network3 = neuron1_network3 / np.linalg.norm(neuron1_network3)\n",
    "\n",
    "target_psth = [ targ[k][context] for k in range(len(targ)) ]\n",
    "target = targ[neuron] / np.linalg.norm(targ[neuron])"
   ]
  },
  {
   "cell_type": "code",
   "execution_count": 250,
   "metadata": {},
   "outputs": [],
   "source": [
    "import math\n",
    "def sigmoid(x):\n",
    "    return x / math.sqrt(100 + x * x)\n",
    "\n",
    "poss_maps = {\n",
    "    'baseline': [ 0 for i in range(100)   ],\n",
    "    'pos'     : [ sigmoid(i) for i in range(100)                     ],\n",
    "    'neg'     : [ -1 * sigmoid(i) for i in range(100)                ],\n",
    "    'r_pos'   : [ 1 - sigmoid(i) for i in range(100)                 ],\n",
    "    'r_neg'   : [ -1 * (1 - sigmoid(i)) for i in range(100)          ],\n",
    "    'base'    : [ 0 for i in range(100)                              ]\n",
    "}\n",
    "\n",
    "appendpos = np.append(np.append(poss_maps['pos'], poss_maps['r_pos']), poss_maps['baseline']) "
   ]
  },
  {
   "cell_type": "code",
   "execution_count": 252,
   "metadata": {},
   "outputs": [
    {
     "name": "stderr",
     "output_type": "stream",
     "text": [
      "/Library/Frameworks/Python.framework/Versions/3.6/lib/python3.6/site-packages/matplotlib/pyplot.py:523: RuntimeWarning: More than 20 figures have been opened. Figures created through the pyplot interface (`matplotlib.pyplot.figure`) are retained until explicitly closed and may consume too much memory. (To control this warning, see the rcParam `figure.max_open_warning`).\n",
      "  max_open_warning, RuntimeWarning)\n"
     ]
    },
    {
     "data": {
      "application/vnd.jupyter.widget-view+json": {
       "model_id": "8b61c4fed8044b3a95b8735ee95b2d71",
       "version_major": 2,
       "version_minor": 0
      },
      "text/html": [
       "<p>Failed to display Jupyter Widget of type <code>FigureCanvasNbAgg</code>.</p>\n",
       "<p>\n",
       "  If you're reading this message in Jupyter Notebook or JupyterLab, it may mean\n",
       "  that the widgets JavaScript is still loading. If this message persists, it\n",
       "  likely means that the widgets JavaScript library is either not installed or\n",
       "  not enabled. See the <a href=\"https://ipywidgets.readthedocs.io/en/stable/user_install.html\">Jupyter\n",
       "  Widgets Documentation</a> for setup instructions.\n",
       "</p>\n",
       "<p>\n",
       "  If you're reading this message in another notebook frontend (for example, a static\n",
       "  rendering on GitHub or <a href=\"https://nbviewer.jupyter.org/\">NBViewer</a>),\n",
       "  it may mean that your frontend doesn't currently support widgets.\n",
       "</p>\n"
      ],
      "text/plain": [
       "FigureCanvasNbAgg()"
      ]
     },
     "metadata": {},
     "output_type": "display_data"
    },
    {
     "name": "stderr",
     "output_type": "stream",
     "text": [
      "/Library/Frameworks/Python.framework/Versions/3.6/lib/python3.6/site-packages/matplotlib/figure.py:1999: UserWarning: This figure includes Axes that are not compatible with tight_layout, so results might be incorrect.\n",
      "  warnings.warn(\"This figure includes Axes that are not compatible \"\n"
     ]
    },
    {
     "data": {
      "text/plain": [
       "[<matplotlib.lines.Line2D at 0x157cf4dd8>]"
      ]
     },
     "execution_count": 252,
     "metadata": {},
     "output_type": "execute_result"
    }
   ],
   "source": [
    "plt.figure()\n",
    "ax = plt.subplot(151)\n",
    "plt.imshow(target_psth / np.linalg.norm(target_psth), aspect='auto')\n",
    "plt.title('target')\n",
    "a = inset_axes(ax, width='83%', height='10%', loc=3)\n",
    "a.set_xticks([])\n",
    "a.set_yticks([])\n",
    "a.plot(appendpos, color='cornflowerblue')\n",
    "\n",
    "ax = plt.subplot(152)\n",
    "plt.imshow(trimmed_psth0, aspect='auto')\n",
    "plt.xticks([])\n",
    "plt.yticks([])\n",
    "plt.title(r'$$\\rho = 0$$')\n",
    "a = inset_axes(ax, width='83%', height='10%', loc=3)\n",
    "a.set_xticks([])\n",
    "a.set_yticks([])\n",
    "a.plot(ress[0][HIT][context][-1], color='cornflowerblue')\n",
    "\n",
    "ax = plt.subplot(153)\n",
    "plt.imshow(trimmed_psth1, aspect='auto')\n",
    "plt.xticks([])\n",
    "plt.yticks([])\n",
    "plt.title(r'$$\\rho = 0.1$$')\n",
    "a = inset_axes(ax, width='83%', height='10%', loc=3)\n",
    "a.set_xticks([])\n",
    "a.set_yticks([])\n",
    "a.plot(ress[1][HIT][context][-1], color='cornflowerblue')\n",
    "\n",
    "ax = plt.subplot(154)\n",
    "plt.imshow(trimmed_psth2, aspect='auto')\n",
    "plt.xticks([])\n",
    "plt.yticks([])\n",
    "plt.title(r'$$\\rho = 0.25$$')\n",
    "a = inset_axes(ax, width='83%', height='10%', loc=3)\n",
    "a.set_xticks([])\n",
    "a.set_yticks([])\n",
    "a.plot(ress[2][HIT][context][-1], color='cornflowerblue')\n",
    "\n",
    "ax = plt.subplot(155)\n",
    "plt.imshow(trimmed_psth3, aspect='auto')\n",
    "plt.xticks([])\n",
    "plt.yticks([])\n",
    "plt.title(r'$$\\rho = 0.5$$')\n",
    "plt.tight_layout()\n",
    "a = inset_axes(ax, width='83%', height='10%', loc=3)\n",
    "a.set_xticks([])\n",
    "a.set_yticks([])\n",
    "a.plot(ress[3][HIT][context][-1], color='cornflowerblue')"
   ]
  },
  {
   "cell_type": "code",
   "execution_count": 33,
   "metadata": {},
   "outputs": [
    {
     "data": {
      "application/vnd.jupyter.widget-view+json": {
       "model_id": "68f26aaa19fa4b30afbef1adff415d2a",
       "version_major": 2,
       "version_minor": 0
      },
      "text/html": [
       "<p>Failed to display Jupyter Widget of type <code>FigureCanvasNbAgg</code>.</p>\n",
       "<p>\n",
       "  If you're reading this message in Jupyter Notebook or JupyterLab, it may mean\n",
       "  that the widgets JavaScript is still loading. If this message persists, it\n",
       "  likely means that the widgets JavaScript library is either not installed or\n",
       "  not enabled. See the <a href=\"https://ipywidgets.readthedocs.io/en/stable/user_install.html\">Jupyter\n",
       "  Widgets Documentation</a> for setup instructions.\n",
       "</p>\n",
       "<p>\n",
       "  If you're reading this message in another notebook frontend (for example, a static\n",
       "  rendering on GitHub or <a href=\"https://nbviewer.jupyter.org/\">NBViewer</a>),\n",
       "  it may mean that your frontend doesn't currently support widgets.\n",
       "</p>\n"
      ],
      "text/plain": [
       "FigureCanvasNbAgg()"
      ]
     },
     "metadata": {},
     "output_type": "display_data"
    },
    {
     "data": {
      "text/plain": [
       "Text(0,0.5,'Re($\\\\lambda$)')"
      ]
     },
     "execution_count": 33,
     "metadata": {},
     "output_type": "execute_result"
    }
   ],
   "source": [
    "%matplotlib ipympl\n",
    "eigs = np.load('eigs.npy')\n",
    "plt.figure()\n",
    "for i in range(41):\n",
    "    plt.plot(np.sort(eigs[i].real), '+', color='cornflowerblue', mew=0.05)\n",
    "plt.xticks([])\n",
    "plt.ylabel(r'Re($\\lambda$)')"
   ]
  },
  {
   "cell_type": "code",
   "execution_count": 2,
   "metadata": {},
   "outputs": [
    {
     "data": {
      "text/plain": [
       "Text(0,0.5,'PC3')"
      ]
     },
     "execution_count": 2,
     "metadata": {},
     "output_type": "execute_result"
    },
    {
     "data": {
      "image/png": "[encoded data removed]",
      "text/plain": [
       "<matplotlib.figure.Figure at 0x111708f60>"
      ]
     },
     "metadata": {},
     "output_type": "display_data"
    }
   ],
   "source": [
    "from mpl_toolkits.mplot3d import Axes3D\n",
    "proj_points = np.load('proj_fixed_points1.npy')\n",
    "\n",
    "fig = plt.figure()\n",
    "ax = fig.add_subplot(141, projection='3d')\n",
    "ax.w_xaxis.set_pane_color(color=(1,1,1,1))\n",
    "ax.w_yaxis.set_pane_color(color=(1,1,1,1))\n",
    "ax.w_zaxis.set_pane_color(color=(1,1,1,1))\n",
    "\n",
    "ax.set_xticks([])\n",
    "ax.set_yticks([])\n",
    "ax.set_zticks([])\n",
    "\n",
    "ax.set_xlabel('PC1')\n",
    "ax.set_ylabel('PC2')\n",
    "ax.set_zlabel('PC3')\n",
    "ax.scatter3D(proj_points[:,0], proj_points[:,1], proj_points[:,2], color='cornflowerblue', s=40)\n",
    "\n",
    "plt.subplot(142)\n",
    "plt.scatter(proj_points[:,0], proj_points[:,1], color='cornflowerblue', s=40)\n",
    "plt.xticks([])\n",
    "plt.yticks([])\n",
    "plt.xlabel('PC1')\n",
    "plt.ylabel('PC2')\n",
    "\n",
    "plt.subplot(143)\n",
    "plt.scatter(proj_points[:,0], proj_points[:,2], color='cornflowerblue', s=40)\n",
    "plt.xticks([])\n",
    "plt.yticks([])\n",
    "plt.xlabel('PC1')\n",
    "plt.ylabel('PC3')\n",
    "\n",
    "plt.subplot(144)\n",
    "plt.scatter(proj_points[:,1], proj_points[:,2], color='cornflowerblue', s=40)\n",
    "plt.xticks([])\n",
    "plt.yticks([])\n",
    "plt.xlabel('PC2')\n",
    "plt.ylabel('PC3')"
   ]
  },
  {
   "cell_type": "code",
   "execution_count": 4,
   "metadata": {},
   "outputs": [
    {
     "data": {
      "application/vnd.jupyter.widget-view+json": {
       "model_id": "5b58b1f67caa4967bc9ec87e967d3c1f",
       "version_major": 2,
       "version_minor": 0
      },
      "text/html": [
       "<p>Failed to display Jupyter Widget of type <code>FigureCanvasNbAgg</code>.</p>\n",
       "<p>\n",
       "  If you're reading this message in Jupyter Notebook or JupyterLab, it may mean\n",
       "  that the widgets JavaScript is still loading. If this message persists, it\n",
       "  likely means that the widgets JavaScript library is either not installed or\n",
       "  not enabled. See the <a href=\"https://ipywidgets.readthedocs.io/en/stable/user_install.html\">Jupyter\n",
       "  Widgets Documentation</a> for setup instructions.\n",
       "</p>\n",
       "<p>\n",
       "  If you're reading this message in another notebook frontend (for example, a static\n",
       "  rendering on GitHub or <a href=\"https://nbviewer.jupyter.org/\">NBViewer</a>),\n",
       "  it may mean that your frontend doesn't currently support widgets.\n",
       "</p>\n"
      ],
      "text/plain": [
       "FigureCanvasNbAgg()"
      ]
     },
     "metadata": {},
     "output_type": "display_data"
    },
    {
     "data": {
      "text/plain": [
       "Text(0,0.5,'PC3')"
      ]
     },
     "execution_count": 4,
     "metadata": {},
     "output_type": "execute_result"
    }
   ],
   "source": [
    "paths = np.load('lots_of_paths.npy')\n",
    "%matplotlib ipympl\n",
    "\n",
    "fig = plt.figure(figsize=(5, 4))\n",
    "ax = fig.add_subplot(151, projection='3d')\n",
    "ax.w_xaxis.set_pane_color(color=(1,1,1,1))\n",
    "ax.w_yaxis.set_pane_color(color=(1,1,1,1))\n",
    "ax.w_zaxis.set_pane_color(color=(1,1,1,1))\n",
    "\n",
    "ax.set_xticks([])\n",
    "ax.set_yticks([])\n",
    "ax.set_zticks([])\n",
    "\n",
    "ax.set_xlabel('PC1')\n",
    "ax.set_ylabel('PC2')\n",
    "ax.set_zlabel('PC3')\n",
    "ax.view_init(elev=-137, azim=33)\n",
    "ax.scatter3D(proj_points[:,0], proj_points[:,1], proj_points[:,2], color='cornflowerblue', s=40)\n",
    "for i in range(int(len(paths) / 2)):\n",
    "    ax.scatter3D(paths[i][50,0], paths[i][50,1], paths[i][50,2], color='#fd411e', s=1)\n",
    "    # ax.plot3D(paths[i][:,0], paths[i][:,1], paths[i][:,2], color='#fd411e', linewidth=0.5)\n",
    "\n",
    "ax = fig.add_subplot(152, projection='3d')\n",
    "ax.w_xaxis.set_pane_color(color=(1,1,1,1))\n",
    "ax.w_yaxis.set_pane_color(color=(1,1,1,1))\n",
    "ax.w_zaxis.set_pane_color(color=(1,1,1,1))\n",
    "\n",
    "ax.set_xticks([])\n",
    "ax.set_yticks([])\n",
    "ax.set_zticks([])\n",
    "\n",
    "ax.set_xlabel('PC1')\n",
    "ax.set_ylabel('PC2')\n",
    "ax.set_zlabel('PC3')\n",
    "ax.view_init(elev=-129, azim=-44)\n",
    "ax.scatter3D(proj_points[:,0], proj_points[:,1], proj_points[:,2], color='cornflowerblue', s=40)\n",
    "for i in range(int(len(paths) / 2)):\n",
    "    ax.scatter3D(paths[i][50,0], paths[i][50,1], paths[i][50,2], color='#fd411e', s=1)\n",
    "    # ax.plot3D(paths[i][:,0], paths[i][:,1], paths[i][:,2], color='#fd411e', linewidth=0.5)\n",
    "\n",
    "plt.subplot(153)\n",
    "plt.scatter(proj_points[:,0], proj_points[:,1], color='cornflowerblue', s=40)\n",
    "for i in range(int(len(paths) / 2)):\n",
    "    plt.scatter(paths[i][50,0], paths[i][50,1], color='#fd411e', s=1)\n",
    "plt.xticks([])\n",
    "plt.yticks([])\n",
    "plt.xlabel('PC1')\n",
    "plt.ylabel('PC2')\n",
    "\n",
    "plt.subplot(154)\n",
    "plt.scatter(proj_points[:,0], proj_points[:,2], color='cornflowerblue', s=40)\n",
    "for i in range(int(len(paths) / 2)):\n",
    "    plt.scatter(paths[i][50,0], paths[i][50,2], color='#fd411e', s=1)\n",
    "plt.xticks([])\n",
    "plt.yticks([])\n",
    "plt.xlabel('PC1')\n",
    "plt.ylabel('PC3')\n",
    "\n",
    "plt.subplot(155)\n",
    "plt.scatter(proj_points[:,1], proj_points[:,2], color='cornflowerblue', s=40)\n",
    "for i in range(int(len(paths) / 2)):\n",
    "    plt.scatter(paths[i][50,1], paths[i][50,2], color='#fd411e', s=1)\n",
    "plt.xticks([])\n",
    "plt.yticks([])\n",
    "plt.xlabel('PC2')\n",
    "plt.ylabel('PC3')"
   ]
  },
  {
   "cell_type": "code",
   "execution_count": 11,
   "metadata": {},
   "outputs": [
    {
     "data": {
      "application/vnd.jupyter.widget-view+json": {
       "model_id": "54b8c36099854df6b1e9735cb884c78f",
       "version_major": 2,
       "version_minor": 0
      },
      "text/html": [
       "<p>Failed to display Jupyter Widget of type <code>FigureCanvasNbAgg</code>.</p>\n",
       "<p>\n",
       "  If you're reading this message in Jupyter Notebook or JupyterLab, it may mean\n",
       "  that the widgets JavaScript is still loading. If this message persists, it\n",
       "  likely means that the widgets JavaScript library is either not installed or\n",
       "  not enabled. See the <a href=\"https://ipywidgets.readthedocs.io/en/stable/user_install.html\">Jupyter\n",
       "  Widgets Documentation</a> for setup instructions.\n",
       "</p>\n",
       "<p>\n",
       "  If you're reading this message in another notebook frontend (for example, a static\n",
       "  rendering on GitHub or <a href=\"https://nbviewer.jupyter.org/\">NBViewer</a>),\n",
       "  it may mean that your frontend doesn't currently support widgets.\n",
       "</p>\n"
      ],
      "text/plain": [
       "FigureCanvasNbAgg()"
      ]
     },
     "metadata": {},
     "output_type": "display_data"
    },
    {
     "data": {
      "text/plain": [
       "Text(0,0.5,'PC3')"
      ]
     },
     "execution_count": 11,
     "metadata": {},
     "output_type": "execute_result"
    }
   ],
   "source": [
    "ls = np.load('ls.npy')\n",
    "\n",
    "fig = plt.figure(figsize=(10, 4))\n",
    "ax = fig.add_subplot(151, projection='3d')\n",
    "ax.w_xaxis.set_pane_color(color=(1,1,1,1))\n",
    "ax.w_yaxis.set_pane_color(color=(1,1,1,1))\n",
    "ax.w_zaxis.set_pane_color(color=(1,1,1,1))\n",
    "\n",
    "ax.set_xticks([])\n",
    "ax.set_yticks([])\n",
    "ax.set_zticks([])\n",
    "\n",
    "ax.set_xlabel('PC1')\n",
    "ax.set_ylabel('PC2')\n",
    "ax.set_zlabel('PC3')\n",
    "ax.view_init(elev=-137, azim=33)\n",
    "ax.scatter3D(proj_points[:,0], proj_points[:,1], proj_points[:,2], color='cornflowerblue', s=40)\n",
    "for i in range(int(len(paths) / 2), len(paths)):\n",
    "    ax.scatter3D(paths[i][:,0], paths[i][:,1], paths[i][:,2], color='#02ccfe', s=1)\n",
    "    # ax.plot3D(paths[i][:,0], paths[i][:,1], paths[i][:,2], color='#fd411e', linewidth=0.5)\n",
    "    \n",
    "ax = fig.add_subplot(152, projection='3d')\n",
    "ax.w_xaxis.set_pane_color(color=(1,1,1,1))\n",
    "ax.w_yaxis.set_pane_color(color=(1,1,1,1))\n",
    "ax.w_zaxis.set_pane_color(color=(1,1,1,1))\n",
    "\n",
    "ax.set_xticks([])\n",
    "ax.set_yticks([])\n",
    "ax.set_zticks([])\n",
    "\n",
    "ax.set_xlabel('PC1')\n",
    "ax.set_ylabel('PC2')\n",
    "ax.set_zlabel('PC3')\n",
    "ax.view_init(elev=-129, azim=-44)\n",
    "ax.scatter3D(proj_points[:,0], proj_points[:,1], proj_points[:,2], color='cornflowerblue', s=40)\n",
    "for i in range(int(len(paths) / 2), len(paths)):\n",
    "    ax.scatter3D(paths[i][:,0], paths[i][:,1], paths[i][:,2], color='#02ccfe', s=1)\n",
    "    # ax.plot3D(paths[i][:,0], paths[i][:,1], paths[i][:,2], color='#fd411e', linewidth=0.5)\n",
    "ax.plot3D(np.array([0, 40+ ls[489][0]]), np.array([0, 40+ls[489][1]]), np.array([0, 40+ls[489][2]]), color='red', linewidth=7)\n",
    "\n",
    "\n",
    "plt.subplot(153)\n",
    "plt.scatter(proj_points[:,0], proj_points[:,1], color='cornflowerblue', s=40)\n",
    "for i in range(int(len(paths) / 2), len(paths)):\n",
    "    plt.scatter(paths[i][:,0], paths[i][:,1], color='#02ccfe', s=1)\n",
    "plt.plot(np.array([0, ls[489][0]]), np.array([0, ls[489][1]]), color='red', linewidth=7)\n",
    "plt.xticks([])\n",
    "plt.yticks([])\n",
    "plt.xlabel('PC1')\n",
    "plt.ylabel('PC2')\n",
    "\n",
    "plt.subplot(154)\n",
    "plt.scatter(proj_points[:,0], proj_points[:,2], color='cornflowerblue', s=40)\n",
    "for i in range(int(len(paths) / 2), len(paths)):\n",
    "    plt.scatter(paths[i][:,0], paths[i][:,2], color='#02ccfe', s=1)\n",
    "plt.plot(np.array([0, ls[489][0]]), np.array([0, ls[489][2]]), color='red', linewidth=7)\n",
    "plt.xticks([])\n",
    "plt.yticks([])\n",
    "plt.xlabel('PC1')\n",
    "plt.ylabel('PC3')\n",
    "\n",
    "plt.subplot(155)\n",
    "plt.scatter(proj_points[:,1], proj_points[:,2], color='cornflowerblue', s=40)\n",
    "for i in range(int(len(paths) / 2), len(paths)):\n",
    "    plt.scatter(paths[i][:,1], paths[i][:,2], color='#02ccfe', s=1)\n",
    "plt.plot(np.array([0, ls[489][1]]), np.array([0, ls[489][2]]), color='red', linewidth=7)\n",
    "plt.xticks([])\n",
    "plt.yticks([])\n",
    "plt.xlabel('PC2')\n",
    "plt.ylabel('PC3')"
   ]
  },
  {
   "cell_type": "code",
   "execution_count": 27,
   "metadata": {},
   "outputs": [
    {
     "data": {
      "application/vnd.jupyter.widget-view+json": {
       "model_id": "8992735467f844168e4af0be03ae4a5b",
       "version_major": 2,
       "version_minor": 0
      },
      "text/plain": [
       "FigureCanvasNbAgg()"
      ]
     },
     "metadata": {},
     "output_type": "display_data"
    },
    {
     "data": {
      "text/plain": [
       "<mpl_toolkits.mplot3d.art3d.Path3DCollection at 0x139e731d0>"
      ]
     },
     "execution_count": 27,
     "metadata": {},
     "output_type": "execute_result"
    }
   ],
   "source": [
    "#%matplotlib ipympl\n",
    "from mpl_toolkits.mplot3d import Axes3D\n",
    "colp = np.load('new_projected_points_colp_2.npy')\n",
    "motp = np.load('new_projected_points_motp_2.npy')\n",
    "coln = np.load('new_projected_points_coln_2.npy')\n",
    "motn = np.load('new_projected_points_motn_2.npy')\n",
    "\n",
    "fig = plt.figure()\n",
    "ax = fig.add_subplot(111, projection='3d')\n",
    "#ax.view_init(elev=25, azim=128)\n",
    "ax.w_xaxis.set_pane_color(color=(1,1,1,1))\n",
    "ax.w_yaxis.set_pane_color(color=(1,1,1,1))\n",
    "ax.w_zaxis.set_pane_color(color=(1,1,1,1))\n",
    "ax.set_xticks([])\n",
    "ax.set_yticks([])\n",
    "ax.set_zticks([])\n",
    "ax.scatter3D(colp[:,0,0], colp[:,0,1], colp[:,0,2], color='cornflowerblue', s=2)\n",
    "ax.scatter3D(motp[:,0,0], motp[:,0,1], motp[:,0,2], color='red', s=2)\n",
    "ax.scatter3D(coln[:,0,0], coln[:,0,1], coln[:,0,2], color='magenta', s=2)\n",
    "ax.scatter3D(motn[:,0,0], motn[:,0,1], motn[:,0,2], color='y', s=2)\n",
    "\n",
    "#plt.savefig('model_3_fixed', dpi=300, bbox_inches='tight')"
   ]
  },
  {
   "cell_type": "code",
   "execution_count": 28,
   "metadata": {},
   "outputs": [
    {
     "data": {
      "application/vnd.jupyter.widget-view+json": {
       "model_id": "12d2f523010f45eb94da54938302877a",
       "version_major": 2,
       "version_minor": 0
      },
      "text/plain": [
       "FigureCanvasNbAgg()"
      ]
     },
     "metadata": {},
     "output_type": "display_data"
    },
    {
     "data": {
      "text/plain": [
       "Text(0, 0.5, 'PC3')"
      ]
     },
     "execution_count": 28,
     "metadata": {},
     "output_type": "execute_result"
    }
   ],
   "source": [
    "plt.figure(figsize=(10,4))\n",
    "plt.subplot(131)\n",
    "plt.scatter(colp[:,0,0], colp[:,0,1], color='cornflowerblue', s=2)\n",
    "plt.scatter(motp[:,0,0], motp[:,0,1], color='red', s=2)\n",
    "plt.scatter(coln[:,0,0], coln[:,0,1], color='magenta', s=2)\n",
    "plt.scatter(motn[:,0,0], motn[:,0,1], color='y', s=2)\n",
    "plt.xticks([])\n",
    "plt.yticks([])\n",
    "plt.xlabel('PC1')\n",
    "plt.ylabel('PC2')\n",
    "\n",
    "plt.subplot(132)\n",
    "plt.scatter(colp[:,0,0], colp[:,0,2], color='cornflowerblue', s=2)\n",
    "plt.scatter(motp[:,0,0], motp[:,0,2], color='red', s=2)\n",
    "plt.scatter(coln[:,0,0], coln[:,0,2], color='magenta', s=2)\n",
    "plt.scatter(motn[:,0,0], motn[:,0,2], color='y', s=2)\n",
    "plt.xticks([])\n",
    "plt.yticks([])\n",
    "plt.xlabel('PC1')\n",
    "plt.ylabel('PC3')\n",
    "\n",
    "plt.subplot(133)\n",
    "plt.scatter(colp[:,0,1], colp[:,0,2], color='cornflowerblue', s=2)\n",
    "plt.scatter(motp[:,0,1], motp[:,0,2], color='red', s=2)\n",
    "plt.scatter(coln[:,0,1], coln[:,0,2], color='magenta', s=2)\n",
    "plt.scatter(motn[:,0,1], motn[:,0,2], color='y', s=2)\n",
    "plt.xticks([])\n",
    "plt.yticks([])\n",
    "plt.xlabel('PC2')\n",
    "plt.ylabel('PC3')\n",
    "#plt.savefig('model_3_projected', dpi=300, bbox_inches='tight')"
   ]
  },
  {
   "cell_type": "code",
   "execution_count": 30,
   "metadata": {},
   "outputs": [
    {
     "data": {
      "application/vnd.jupyter.widget-view+json": {
       "model_id": "bfbddf15fbfc4e6797dd8e3714c02869",
       "version_major": 2,
       "version_minor": 0
      },
      "text/plain": [
       "FigureCanvasNbAgg()"
      ]
     },
     "metadata": {},
     "output_type": "display_data"
    },
    {
     "data": {
      "text/plain": [
       "<mpl_toolkits.mplot3d.art3d.Path3DCollection at 0x13d46d320>"
      ]
     },
     "execution_count": 30,
     "metadata": {},
     "output_type": "execute_result"
    }
   ],
   "source": [
    "col = np.load('new_projected_points_col_2.npy')\n",
    "mot = np.load('new_projected_points_mot_2.npy')\n",
    "\n",
    "fig = plt.figure()\n",
    "ax = fig.add_subplot(111, projection='3d')\n",
    "#ax.view_init(elev=25, azim=128)\n",
    "ax.w_xaxis.set_pane_color(color=(1,1,1,1))\n",
    "ax.w_yaxis.set_pane_color(color=(1,1,1,1))\n",
    "ax.w_zaxis.set_pane_color(color=(1,1,1,1))\n",
    "ax.set_xticks([])\n",
    "ax.set_yticks([])\n",
    "ax.set_zticks([])\n",
    "ax.scatter3D(col[:,0,0], col[:,0,1], col[:,0,2], color='cornflowerblue', s=2)\n",
    "ax.scatter3D(mot[:,0,0], mot[:,0,1], mot[:,0,2], color='red', s=2)"
   ]
  },
  {
   "cell_type": "code",
   "execution_count": 31,
   "metadata": {},
   "outputs": [
    {
     "data": {
      "application/vnd.jupyter.widget-view+json": {
       "model_id": "7aed4f8175d64d878ddbaa92cceff7a9",
       "version_major": 2,
       "version_minor": 0
      },
      "text/plain": [
       "FigureCanvasNbAgg()"
      ]
     },
     "metadata": {},
     "output_type": "display_data"
    },
    {
     "data": {
      "text/plain": [
       "Text(0, 0.5, 'PC3')"
      ]
     },
     "execution_count": 31,
     "metadata": {},
     "output_type": "execute_result"
    }
   ],
   "source": [
    "plt.figure(figsize=(10,4))\n",
    "plt.subplot(131)\n",
    "plt.scatter(col[:,0,0], col[:,0,1], color='cornflowerblue', s=2)\n",
    "plt.scatter(mot[:,0,0], mot[:,0,1], color='red', s=2)\n",
    "plt.xticks([])\n",
    "plt.yticks([])\n",
    "plt.xlabel('PC1')\n",
    "plt.ylabel('PC2')\n",
    "\n",
    "plt.subplot(132)\n",
    "plt.scatter(col[:,0,0], col[:,0,2], color='cornflowerblue', s=2)\n",
    "plt.scatter(mot[:,0,0], mot[:,0,2], color='red', s=2)\n",
    "plt.xticks([])\n",
    "plt.yticks([])\n",
    "plt.xlabel('PC1')\n",
    "plt.ylabel('PC3')\n",
    "\n",
    "plt.subplot(133)\n",
    "plt.scatter(col[:,0,1], col[:,0,2], color='cornflowerblue', s=2)\n",
    "plt.scatter(mot[:,0,1], mot[:,0,2], color='red', s=2)\n",
    "plt.xticks([])\n",
    "plt.yticks([])\n",
    "plt.xlabel('PC2')\n",
    "plt.ylabel('PC3')\n",
    "#plt.savefig('model_3_projected', dpi=300, bbox_inches='tight')"
   ]
  },
  {
   "cell_type": "code",
   "execution_count": 50,
   "metadata": {},
   "outputs": [
    {
     "data": {
      "application/vnd.jupyter.widget-view+json": {
       "model_id": "d1516eade23e47e1b1a3fbb9ad17ca08",
       "version_major": 2,
       "version_minor": 0
      },
      "text/plain": [
       "FigureCanvasNbAgg()"
      ]
     },
     "metadata": {},
     "output_type": "display_data"
    },
    {
     "data": {
      "text/plain": [
       "<mpl_toolkits.mplot3d.art3d.Path3DCollection at 0x13369ac50>"
      ]
     },
     "execution_count": 50,
     "metadata": {},
     "output_type": "execute_result"
    }
   ],
   "source": [
    "l_trace = np.load('l_trace_2.npy')\n",
    "fig = plt.figure()\n",
    "ax = fig.add_subplot(111, projection='3d')\n",
    "i = 8\n",
    "ax.w_xaxis.set_pane_color(color=(1,1,1,1))\n",
    "ax.w_yaxis.set_pane_color(color=(1,1,1,1))\n",
    "ax.w_zaxis.set_pane_color(color=(1,1,1,1))\n",
    "ax.set_xticks([])\n",
    "ax.set_yticks([])\n",
    "ax.set_zticks([])\n",
    "ax.scatter3D(col[:,0,0], col[:,0,1], col[:,0,2], color='cornflowerblue', s=2)\n",
    "ax.scatter3D(mot[:,0,0], mot[:,0,1], mot[:,0,2], color='red', s=2)\n",
    "ax.scatter3D(l_trace[:int(len(l_trace)/2)][:,0], l_trace[:int(len(l_trace)/2)][:,1], l_trace[:int(len(l_trace)/2)][:,2], c='pink', s=2)\n",
    "ax.scatter3D(l_trace[int(len(l_trace)/2):][:,0], l_trace[int(len(l_trace)/2):][:,1], l_trace[int(len(l_trace)/2):][:,2], c='magenta', s=2)"
   ]
  },
  {
   "cell_type": "code",
   "execution_count": 46,
   "metadata": {},
   "outputs": [
    {
     "data": {
      "application/vnd.jupyter.widget-view+json": {
       "model_id": "93adfeb7c05a4955b47b99e5bd872f59",
       "version_major": 2,
       "version_minor": 0
      },
      "text/plain": [
       "FigureCanvasNbAgg()"
      ]
     },
     "metadata": {},
     "output_type": "display_data"
    },
    {
     "data": {
      "text/plain": [
       "Text(0, 0.5, 'PC3')"
      ]
     },
     "execution_count": 46,
     "metadata": {},
     "output_type": "execute_result"
    }
   ],
   "source": [
    "plt.figure(figsize=(10,4))\n",
    "plt.subplot(131)\n",
    "plt.scatter(col[:,0,0], col[:,0,1], color='cornflowerblue', s=2)\n",
    "plt.scatter(mot[:,0,0], mot[:,0,1], color='red', s=2)\n",
    "plt.scatter(l_trace[:50][:,0], l_trace[:50][:,1], c='pink', s=2)\n",
    "plt.scatter(l_trace[i*50:(i+1)*50][:,0], l_trace[i*50:(i+1)*50][:,1], c='magenta', s=2)\n",
    "plt.xticks([])\n",
    "plt.yticks([])\n",
    "plt.xlabel('PC1')\n",
    "plt.ylabel('PC2')\n",
    "\n",
    "plt.subplot(132)\n",
    "plt.scatter(col[:,0,0], col[:,0,2], color='cornflowerblue', s=2)\n",
    "plt.scatter(mot[:,0,0], mot[:,0,2], color='red', s=2)\n",
    "plt.scatter(l_trace[:50][:,0], l_trace[:50][:,2], c='pink', s=2)\n",
    "plt.scatter(l_trace[i*50:(i+1)*50][:,0], l_trace[i*50:(i+1)*50][:,2], c='magenta', s=2)\n",
    "plt.xticks([])\n",
    "plt.yticks([])\n",
    "plt.xlabel('PC1')\n",
    "plt.ylabel('PC3')\n",
    "\n",
    "plt.subplot(133)\n",
    "plt.scatter(col[:,0,1], col[:,0,2], color='cornflowerblue', s=2)\n",
    "plt.scatter(mot[:,0,1], mot[:,0,2], color='red', s=2)\n",
    "plt.scatter(l_trace[:50][:,1], l_trace[:50][:,2], c='pink', s=2)\n",
    "plt.scatter(l_trace[i*50:(i+1)*50][:,1], l_trace[i*50:(i+1)*50][:,2], c='magenta', s=2)\n",
    "plt.xticks([])\n",
    "plt.yticks([])\n",
    "plt.xlabel('PC2')\n",
    "plt.ylabel('PC3')"
   ]
  },
  {
   "cell_type": "code",
   "execution_count": null,
   "metadata": {},
   "outputs": [],
   "source": []
  }
 ],
 "metadata": {
  "kernelspec": {
   "display_name": "Python 3",
   "language": "python",
   "name": "python3"
  },
  "language_info": {
   "codemirror_mode": {
    "name": "ipython",
    "version": 3
   },
   "file_extension": ".py",
   "mimetype": "text/x-python",
   "name": "python",
   "nbconvert_exporter": "python",
   "pygments_lexer": "ipython3",
   "version": "3.7.0"
  }
 },
 "nbformat": 4,
 "nbformat_minor": 2
}

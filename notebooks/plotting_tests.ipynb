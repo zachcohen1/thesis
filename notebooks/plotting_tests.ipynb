{
 "cells": [
  {
   "cell_type": "code",
   "execution_count": 1,
   "metadata": {},
   "outputs": [
    {
     "data": {
      "text/plain": [
       "\"\\ndecode = np.load('test_decoder_1000_0_all.npy')\\nplt.figure()\\nfor i in range(18, 36):\\n\\tplt.plot(decode[0][371*i:371*(i+1)])\\n\\t\\nplt.plot([95, 95+0.0001], [0, decode[0][95]], '--')\\nplt.plot([105, 105+0.0001], [0, decode[0][105]], '--')\\nplt.plot([270, 270+0.0001], [0, decode[0][270]], '--')\\n# plt.plot(decode[0][30*371:31*371])\\nplt.ylim((-1.2, 1.2))\\nplt.annotate('', xy=(-5, 0), xytext=(370, 0), arrowprops={'arrowstyle':'|-|'})\\nplt.scatter([0, 95, 105, 270], [0,0,0,0])\\nplt.annotate(r'Input \\\\ signal ON', xy=(0, 0), xytext=(0, 0.5), size=13,\\n\\tarrowprops={'facecolor':'black', 'arrowstyle':'->'})\\nplt.annotate(r'Input \\\\ signal OFF', xy=(95, 0.0), xytext=(70, 0.4), size=13,\\n\\tarrowprops={'facecolor':'black', 'arrowstyle':'->'})\\nplt.annotate(r'Go \\\\ cue ON', xy=(105, 0), xytext=(110, -0.4), size=13,\\n\\tarrowprops={'facecolor':'black', 'arrowstyle':'->'})\\nplt.annotate(r'Go cue OFF', xy=(270, 0), xytext=(255, 0.2), size=13,\\n\\tarrowprops={'facecolor':'black', 'arrowstyle':'->'})\\nplt.title(r'Decoding experiment')\\nplt.ylabel(r'$$z(t)$$')\\nplt.xlabel(r'$$t$$')\\n# plt.savefig('decode_1', dpi=300)\\nplt.show()\\n\""
      ]
     },
     "execution_count": 1,
     "metadata": {},
     "output_type": "execute_result"
    }
   ],
   "source": [
    "%matplotlib ipympl\n",
    "import matplotlib.pyplot as plt\n",
    "import numpy as np\n",
    "\n",
    "from matplotlib import rc\n",
    "# rc('font',**{'family':'sans-serif','sans-serif':['Helvetica']})\n",
    "rc('text', usetex=True)\n",
    "\n",
    "######################################################################\n",
    "## \t\t\t\t\t\t\t\t\t\t\t\t\t\t\t\t\t##\n",
    "##   \t\t\t\t\t\t\t\t\t\t\t\t\t\t\t\t##\n",
    "##                 Decoding experiment plotting\t\t\t\t\t\t##\n",
    "##\t\t\t\t\t\t\t\t\t\t\t\t\t\t\t\t\t##\n",
    "## \t\t\t\t\t\t\t\t\t\t\t\t\t\t\t\t\t##\n",
    "######################################################################\n",
    "\n",
    "\"\"\"\n",
    "decode = np.load('test_decoder_1000_0_all.npy')\n",
    "plt.figure()\n",
    "for i in range(18, 36):\n",
    "\tplt.plot(decode[0][371*i:371*(i+1)])\n",
    "\t\n",
    "plt.plot([95, 95+0.0001], [0, decode[0][95]], '--')\n",
    "plt.plot([105, 105+0.0001], [0, decode[0][105]], '--')\n",
    "plt.plot([270, 270+0.0001], [0, decode[0][270]], '--')\n",
    "# plt.plot(decode[0][30*371:31*371])\n",
    "plt.ylim((-1.2, 1.2))\n",
    "plt.annotate('', xy=(-5, 0), xytext=(370, 0), arrowprops={'arrowstyle':'|-|'})\n",
    "plt.scatter([0, 95, 105, 270], [0,0,0,0])\n",
    "plt.annotate(r'Input \\\\ signal ON', xy=(0, 0), xytext=(0, 0.5), size=13,\n",
    "\tarrowprops={'facecolor':'black', 'arrowstyle':'->'})\n",
    "plt.annotate(r'Input \\\\ signal OFF', xy=(95, 0.0), xytext=(70, 0.4), size=13,\n",
    "\tarrowprops={'facecolor':'black', 'arrowstyle':'->'})\n",
    "plt.annotate(r'Go \\\\ cue ON', xy=(105, 0), xytext=(110, -0.4), size=13,\n",
    "\tarrowprops={'facecolor':'black', 'arrowstyle':'->'})\n",
    "plt.annotate(r'Go cue OFF', xy=(270, 0), xytext=(255, 0.2), size=13,\n",
    "\tarrowprops={'facecolor':'black', 'arrowstyle':'->'})\n",
    "plt.title(r'Decoding experiment')\n",
    "plt.ylabel(r'$$z(t)$$')\n",
    "plt.xlabel(r'$$t$$')\n",
    "# plt.savefig('decode_1', dpi=300)\n",
    "plt.show()\n",
    "\"\"\""
   ]
  },
  {
   "cell_type": "code",
   "execution_count": 2,
   "metadata": {},
   "outputs": [
    {
     "data": {
      "text/plain": [
       "\"\\ntarget_in_network = np.load('../datafiles/jp2/april_17_2018.npy')\\ntarg = np.load('../datafiles/jp2/loaded_data0.npy')\\nt = 1\\nimport math\\ndef sigmoid(x):\\n    return x / math.sqrt(100 + x * x)\\n\\nposs_maps = {\\n    'baseline': [ 0 for i in range(target_in_network.shape[2]-200)   ],\\n    'pos'     : [ sigmoid(i) for i in range(100)                     ],\\n    'neg'     : [ -1 * sigmoid(i) for i in range(100)                ],\\n    'r_pos'   : [ 1 - sigmoid(i) for i in range(100)                 ],\\n    'r_neg'   : [ -1 * (1 - sigmoid(i)) for i in range(100)          ],\\n    'base'    : [ 0 for i in range(100)                              ]\\n}\\n\\nappendpos = np.append(poss_maps['baseline'], np.append(poss_maps['pos'], poss_maps['r_pos']))\\nappendneg = np.append(poss_maps['baseline'], np.append(poss_maps['neg'], poss_maps['r_neg']))\\n\\nft = [ targ[k][t] for k in range(len(targ)) ]\\nft = np.concatenate(( [np.linspace(0, ft[p][0], 20) for p in range(len(ft))], ft), axis=1)\\nft = np.concatenate(( ft, [np.linspace(ft[p][-1], 0, 20) for p in range(len(ft))]), axis=1)\\nft = np.concatenate(( ft, [np.zeros(200) for i in range(len(ft))]), axis=1)\\n\\nplt.figure()\\nplt.subplot(221)\\nim1 = plt.imshow(target_in_network[t][0:-1], aspect='auto')\\nplt.colorbar(im1)\\nplt.title('network output')\\n\\nplt.subplot(222)\\nplt.title('target output')\\nim = plt.imshow(ft, aspect='auto')\\nplt.colorbar(im)\\n\\nplt.subplot(212)\\nplt.title('stimulus response')\\nplt.plot(target_in_network[t][-1], label='network')\\nplt.plot(appendneg, 'r--', label='target')\\nplt.legend()\\nplt.tight_layout()\\nplt.savefig('target_in_network_0', dpi=300)\\n# plt.show()\\n\""
      ]
     },
     "execution_count": 2,
     "metadata": {},
     "output_type": "execute_result"
    }
   ],
   "source": [
    "######################################################################\n",
    "## \t\t\t\t\t\t\t\t\t\t\t\t\t\t\t\t\t##\n",
    "##   \t\t\t\t\t\t\t\t\t\t\t\t\t\t\t\t##\n",
    "##          Target in network experiment plotting (delayed)\t\t    ##\n",
    "##\t\t\t\t\t\t\t\t\t\t\t\t\t\t\t\t\t##\n",
    "## \t\t\t\t\t\t\t\t\t\t\t\t\t\t\t\t\t##\n",
    "######################################################################\n",
    "\n",
    "\"\"\"\n",
    "target_in_network = np.load('../datafiles/jp2/april_17_2018.npy')\n",
    "targ = np.load('../datafiles/jp2/loaded_data0.npy')\n",
    "t = 1\n",
    "import math\n",
    "def sigmoid(x):\n",
    "    return x / math.sqrt(100 + x * x)\n",
    "\n",
    "poss_maps = {\n",
    "    'baseline': [ 0 for i in range(target_in_network.shape[2]-200)   ],\n",
    "    'pos'     : [ sigmoid(i) for i in range(100)                     ],\n",
    "    'neg'     : [ -1 * sigmoid(i) for i in range(100)                ],\n",
    "    'r_pos'   : [ 1 - sigmoid(i) for i in range(100)                 ],\n",
    "    'r_neg'   : [ -1 * (1 - sigmoid(i)) for i in range(100)          ],\n",
    "    'base'    : [ 0 for i in range(100)                              ]\n",
    "}\n",
    "\n",
    "appendpos = np.append(poss_maps['baseline'], np.append(poss_maps['pos'], poss_maps['r_pos']))\n",
    "appendneg = np.append(poss_maps['baseline'], np.append(poss_maps['neg'], poss_maps['r_neg']))\n",
    "\n",
    "ft = [ targ[k][t] for k in range(len(targ)) ]\n",
    "ft = np.concatenate(( [np.linspace(0, ft[p][0], 20) for p in range(len(ft))], ft), axis=1)\n",
    "ft = np.concatenate(( ft, [np.linspace(ft[p][-1], 0, 20) for p in range(len(ft))]), axis=1)\n",
    "ft = np.concatenate(( ft, [np.zeros(200) for i in range(len(ft))]), axis=1)\n",
    "\n",
    "plt.figure()\n",
    "plt.subplot(221)\n",
    "im1 = plt.imshow(target_in_network[t][0:-1], aspect='auto')\n",
    "plt.colorbar(im1)\n",
    "plt.title('network output')\n",
    "\n",
    "plt.subplot(222)\n",
    "plt.title('target output')\n",
    "im = plt.imshow(ft, aspect='auto')\n",
    "plt.colorbar(im)\n",
    "\n",
    "plt.subplot(212)\n",
    "plt.title('stimulus response')\n",
    "plt.plot(target_in_network[t][-1], label='network')\n",
    "plt.plot(appendneg, 'r--', label='target')\n",
    "plt.legend()\n",
    "plt.tight_layout()\n",
    "plt.savefig('target_in_network_0', dpi=300)\n",
    "# plt.show()\n",
    "\"\"\""
   ]
  },
  {
   "cell_type": "code",
   "execution_count": null,
   "metadata": {},
   "outputs": [],
   "source": [
    "######################################################################\n",
    "## \t\t\t\t\t\t\t\t\t\t\t\t\t\t\t\t\t##\n",
    "##   \t\t\t\t\t\t\t\t\t\t\t\t\t\t\t\t##\n",
    "##          Target in network experiment plotting (t = 0)\t\t    ##\n",
    "##\t\t\t\t\t\t\t\t\t\t\t\t\t\t\t\t\t##\n",
    "## \t\t\t\t\t\t\t\t\t\t\t\t\t\t\t\t\t##\n",
    "######################################################################\n",
    "\n",
    "# target_in_network = np.load('../datafiles/jp2/april_18_2018_t=0.npy')\n",
    "# targ = np.load('../datafiles/jp2/loaded_data0.npy')\n",
    "# t = 3\n",
    "# import math\n",
    "# def sigmoid(x):\n",
    "#     return x / math.sqrt(100 + x * x)\n",
    "\n",
    "# poss_maps = {\n",
    "#     'baseline': [ 0 for i in range(int((target_in_network.shape[2]-80)/2)) ],\n",
    "#     'pos'     : [ sigmoid(i) for i in range(int((target_in_network.shape[2]-100))) ],\n",
    "#     'neg'     : [ -1 * sigmoid(i) for i in range(int((target_in_network.shape[2]-100))) ],\n",
    "#     'r_pos'   : [ 1 - sigmoid(i) for i in range(100)                 ],\n",
    "#     'r_neg'   : [ -1 * (1 - sigmoid(i)) for i in range(100)          ],\n",
    "#     'base'    : [ 0 for i in range(100)                              ]\n",
    "# }\n",
    "\n",
    "# appendpos = np.append(np.zeros(20), np.append(poss_maps['pos'], poss_maps['r_pos'][0:80]))\n",
    "# appendneg = np.append(np.zeros(20), np.append(poss_maps['neg'], poss_maps['r_neg'][0:80]))\n",
    "\n",
    "# ft = [ targ[k][t] for k in range(len(targ)) ]\n",
    "# ft = np.concatenate(( [np.linspace(0, ft[p][0], 20) for p in range(len(ft))], ft), axis=1)\n",
    "# ft = np.concatenate(( ft, [np.linspace(ft[p][-1], 0, 20) for p in range(len(ft))]), axis=1)\n",
    "# ft = np.concatenate(( ft, [np.zeros(80) for i in range(len(ft))]), axis=1)\n",
    "\n",
    "# plt.figure()\n",
    "# plt.subplot(221)\n",
    "# im1 = plt.imshow(target_in_network[t][0:-1], aspect='auto')\n",
    "# plt.colorbar(im1)\n",
    "# plt.title('network output')\n",
    "\n",
    "# plt.subplot(222)\n",
    "# plt.title('target output')\n",
    "# im = plt.imshow(ft, aspect='auto')\n",
    "# plt.colorbar(im)\n",
    "\n",
    "# plt.subplot(212)\n",
    "# plt.title('stimulus response')\n",
    "# plt.plot(target_in_network[t][-1], label='network')\n",
    "# plt.plot(appendneg, 'r--', label='target')\n",
    "# plt.legend()\n",
    "# plt.tight_layout()\n",
    "# plt.savefig('target_in_network_1', dpi=300)\n",
    "#plt.show()"
   ]
  },
  {
   "cell_type": "code",
   "execution_count": null,
   "metadata": {},
   "outputs": [],
   "source": [
    "######################################################################\n",
    "## \t\t\t\t\t\t\t\t\t\t\t\t\t\t\t\t\t##\n",
    "##   \t\t\t\t\t\t\t\t\t\t\t\t\t\t\t\t##\n",
    "##                      FORCE v full-FORCE\t\t                    ##\n",
    "##\t\t\t\t\t\t\t\t\t\t\t\t\t\t\t\t\t##\n",
    "## \t\t\t\t\t\t\t\t\t\t\t\t\t\t\t\t\t##\n",
    "######################################################################\n",
    "\n",
    "\"\"\"\n",
    "target_FORCE = np.load('../datafiles/jp2/april_17_2018.npy')\n",
    "target_ff = np.load('../datafiles/jp2/ff_resp.npy')\n",
    "targ = np.load('../datafiles/jp2/loaded_data0.npy')\n",
    "t=0\n",
    "\n",
    "ft = [ targ[k][t] for k in range(len(targ)) ]\n",
    "ft = np.concatenate(( [np.linspace(0, ft[p][0], 20) for p in range(len(ft))], ft), axis=1)\n",
    "ft = np.concatenate(( ft, [np.linspace(ft[p][-1], 0, 20) for p in range(len(ft))]), axis=1)\n",
    "ft = np.concatenate(( ft, [np.zeros(90) for i in range(len(ft))]), axis=1)\n",
    "ft2 = np.copy(ft)\n",
    "\n",
    "show_force = [ target_FORCE[t][i][0:250] for i in range(726) ]\n",
    "\n",
    "plt.figure()\n",
    "plt.subplot(221)\n",
    "im1 = plt.imshow(ft, aspect='auto')\n",
    "plt.colorbar(im1)\n",
    "plt.title('target output')\n",
    "\n",
    "plt.subplot(222)\n",
    "plt.title('FORCE network output')\n",
    "im = plt.imshow(show_force, aspect='auto')\n",
    "plt.colorbar(im)\n",
    "\n",
    "plt.subplot(223)\n",
    "im1 = plt.imshow(ft2, aspect='auto')\n",
    "plt.colorbar(im1)\n",
    "plt.title('target output')\n",
    "\n",
    "plt.subplot(224)\n",
    "plt.title('full-FORCE network output')\n",
    "im = plt.imshow(target_ff, aspect='auto')\n",
    "plt.colorbar(im)\n",
    "\n",
    "plt.tight_layout()\n",
    "plt.savefig('ff_v_FORCE', dpi=300)\n",
    "# plt.show()\n",
    "\"\"\""
   ]
  },
  {
   "cell_type": "code",
   "execution_count": 2,
   "metadata": {},
   "outputs": [
    {
     "name": "stdout",
     "output_type": "stream",
     "text": [
      "(4, 2, 72)\n"
     ]
    },
    {
     "data": {
      "image/png": "[encoded data removed]",
      "text/plain": [
       "<Figure size 720x288 with 10 Axes>"
      ]
     },
     "metadata": {
      "needs_background": "light"
     },
     "output_type": "display_data"
    }
   ],
   "source": [
    "######################################################################\n",
    "## \t\t\t\t\t\t\t\t\t\t\t\t\t\t\t\t\t##\n",
    "##   \t\t\t\t\t\t\t\t\t\t\t\t\t\t\t\t##\n",
    "##                  Noise level comparison\t\t                    ##\n",
    "##\t\t\t\t\t\t\t\t\t\t\t\t\t\t\t\t\t##\n",
    "## \t\t\t\t\t\t\t\t\t\t\t\t\t\t\t\t\t##\n",
    "######################################################################\n",
    "\n",
    "res = np.load('noise_experiment_9.npy', encoding='latin1')\n",
    "targ = np.load('../datafiles/jp2/loaded_data0.npy')\n",
    "\n",
    "print(np.shape(res))\n",
    "\n",
    "# noise = 2\n",
    "# neuron = 8\n",
    "# neuron1_network = [ res[i][neuron] for i in range(len(res)) ]\n",
    "# neuron1_network = neuron1_network / np.linalg.norm(neuron1_network)\n",
    "# target = targ[neuron] / np.linalg.norm(targ[neuron])\n",
    "\n",
    "cc   = [-0.5, -0.17, -0.05, 0.05, 0.17, 0.5] # color coherence values\n",
    "mc   = [-0.5, -0.17, -0.05, 0.05, 0.17, 0.5] # motion coherence values\n",
    "vecs = []  # context / coherence vecs\n",
    "ret = [0, 0, 0, 0, 1]\n",
    "\n",
    "for i in range(2):\n",
    "    for j in range(len(cc)):\n",
    "        for k in range(len(mc)):\n",
    "            if i == 0: vecs.append((np.array([ cc[j], mc[k], 1, 0, 0 ]), True if cc[j] > 0 else False))\n",
    "            else: vecs.append((np.array([ cc[j], mc[k], 0, 1, 0 ]), True if mc[k] > 0 else False))\n",
    "\n",
    "networks = []\n",
    "targets = []\n",
    "noise = 2\n",
    "for i in [12, 7, 40, 8, 53]:\n",
    "\tn = [ res[noise][0][j][i][20:131] for j in range(len(res[noise][0])) ]\n",
    "\tnetworks.append(n / np.linalg.norm(n))\n",
    "\ttargets.append( targ[i] / np.linalg.norm(targ[i]) )\n",
    "\n",
    "\n",
    "fig = plt.figure(figsize=(10,4))\n",
    "# plt.suptitle(r'Network, $$\\rho = $$' + str(0.0) + ', clc = ' + str(vecs[18][0][0]))\n",
    "for i in range(5):\n",
    "\tax1 = None\n",
    "\tif i == 0:\n",
    "\t\tax1 = plt.subplot(2,5,1)\n",
    "\t\tax1.set_ylim(-0.04, 0.04)\n",
    "\t\tax1.set_xticks([])\n",
    "\t\tax1.set_ylabel('Network output')\n",
    "\t\t# title = 'Network, $$\\rho = ' + str(0.0) + '$$, clc = ' + str(vecs[18][0])\n",
    "\t\t# ax1.set_title(title)\n",
    "\telse:\n",
    "\t\tax = plt.subplot(2,5,(i+1), sharey=ax1)\n",
    "\t\tax.set_xticks([])\n",
    "\t\tax.set_yticks([])\n",
    "\t\t# title = 'Network, $$\\rho = $$' + str(0.0) + ', clc = ' + str(vecs[18][0])\n",
    "\t\t# ax.set_title(title)\n",
    "\tplt.plot(networks[i][18], label='-0.5', linestyle='-', color='cornflowerblue', alpha=1)\n",
    "\tplt.plot(networks[i][19], label='-0.17', linestyle='-', color='cornflowerblue', alpha=0.55)\n",
    "\tplt.plot(networks[i][20], label='-0.05', linestyle='-', color='cornflowerblue', alpha=0.25)\n",
    "\tplt.plot(networks[i][21], label='0.05', linestyle='-', color='red', alpha=0.25)\n",
    "\tplt.plot(networks[i][22], label='0.17', linestyle='-', color='red', alpha=0.55)\n",
    "    # plt.plot(networks[i][23], label='0.5', linestyle='-', color='red', alpha=0.1)\n",
    "\tplt.plot(networks[i][23], label='0.5', linestyle='-', color='red', alpha=1)\n",
    "\tif i == 0: plt.legend(loc='upper left')\n",
    "\n",
    "for i in range(5):\n",
    "\tax2 = None\n",
    "\tif i == 0:\n",
    "\t\tax2 = plt.subplot(2,5,6)\n",
    "\t\tax2.set_ylim(-0.04, 0.04)\n",
    "\t\tax2.set_xticks([])\n",
    "\t\tax2.set_ylabel('Target output')\n",
    "\t\t# title = 'Target, $$\\rho = ' + str(0.0) + '$$, clc = ' + str(vecs[18][0])\n",
    "\t\t# ax2.set_title(title)\n",
    "\telse:\n",
    "\t\tax = plt.subplot(2,5,(i+6), sharey=ax2)\n",
    "\t\tax.set_xticks([])\n",
    "\t\tax.set_yticks([])\n",
    "\t\t# title = 'Target, $$\\rho = ' + str(0.0) + '$$, clc = ' + str(vecs[18][0])\n",
    "\t\t# ax.set_title(title)\n",
    "\tplt.plot(targets[i][18], label='-0.5', linestyle='-', color='cornflowerblue', alpha=1)\n",
    "\tplt.plot(targets[i][19], label='-0.17', linestyle='-', color='cornflowerblue', alpha=0.55)\n",
    "\tplt.plot(targets[i][20], label='-0.05', linestyle='-', color='cornflowerblue', alpha=0.25)\n",
    "\tplt.plot(targets[i][21], label='0.05', linestyle='-', color='red', alpha=0.25)\n",
    "\tplt.plot(targets[i][22], label='0.17', linestyle='-', color='red', alpha=0.55)\n",
    "\tplt.plot(targets[i][23], label='0.5', linestyle='-', color='red', alpha=1)\n",
    "\t#if i == 0: plt.legend(loc='upper left')\n",
    "fig.tight_layout()\n",
    "# # plt.savefig('nc1', dpi=300, bbox_inches='tight')\n",
    "#plt.show()"
   ]
  },
  {
   "cell_type": "code",
   "execution_count": 9,
   "metadata": {},
   "outputs": [
    {
     "name": "stdout",
     "output_type": "stream",
     "text": [
      "(72, 727, 231)\n"
     ]
    },
    {
     "data": {
      "application/vnd.jupyter.widget-view+json": {
       "model_id": "6ce7359065e44378b525b74ba91caf2c",
       "version_major": 2,
       "version_minor": 0
      },
      "text/plain": [
       "FigureCanvasNbAgg()"
      ]
     },
     "metadata": {},
     "output_type": "display_data"
    }
   ],
   "source": [
    "######################################################################\n",
    "## \t\t\t\t\t\t\t\t\t\t\t\t\t\t\t\t\t##\n",
    "##   \t\t\t\t\t\t\t\t\t\t\t\t\t\t\t\t##\n",
    "##                  Noise level comparison\t\t                    ##\n",
    "##\t\t\t\t\t\t\t\t\t\t\t\t\t\t\t\t\t##\n",
    "## \t\t\t\t\t\t\t\t\t\t\t\t\t\t\t\t\t##\n",
    "######################################################################\n",
    "\n",
    "# res = np.load('no_noise_n1500_rpin_1.npy', encoding='latin1')[1]\n",
    "res = np.load('../data_files/noise_n1800_0.npy', encoding='latin1')[1]\n",
    "targ = np.load('../data_files/loaded_data0.npy')\n",
    "\n",
    "print(np.shape(res))\n",
    "\n",
    "# noise = 2\n",
    "# neuron = 8\n",
    "# neuron1_network = [ res[i][neuron] for i in range(len(res)) ]\n",
    "# neuron1_network = neuron1_network / np.linalg.norm(neuron1_network)\n",
    "# target = targ[neuron] / np.linalg.norm(targ[neuron])\n",
    "\n",
    "cc   = [-0.5, -0.17, -0.05, 0.05, 0.17, 0.5] # color coherence values\n",
    "mc   = [-0.5, -0.17, -0.05, 0.05, 0.17, 0.5] # motion coherence values\n",
    "vecs = []  # context / coherence vecs\n",
    "ret = [0, 0, 0, 0, 1]\n",
    "\n",
    "for i in range(2):\n",
    "    for j in range(len(cc)):\n",
    "        for k in range(len(mc)):\n",
    "            if i == 0: vecs.append((np.array([ cc[j], mc[k], 1, 0, 0 ]), cc[j] > 0))\n",
    "            else: vecs.append((np.array([ cc[j], mc[k], 0, 1, 0 ]), mc[k] > 0))\n",
    "\n",
    "networks = []\n",
    "targets = []\n",
    "for i in [2, 60, 40, 8, 30]:\n",
    "\tn = [ res[j][i][20:131] for j in range(len(res)) ]\n",
    "\tnetworks.append(n / np.linalg.norm(n))\n",
    "\ttargets.append( targ[i] / np.linalg.norm(targ[i]) )\n",
    "\n",
    "\n",
    "fig = plt.figure(figsize=(11,5))\n",
    "# plt.suptitle(r'Network, $$\\rho = $$' + str(0.0) + ', clc = ' + str(vecs[18][0][0]))\n",
    "for i in range(5):\n",
    "\tax1 = None\n",
    "\tif i == 0:\n",
    "\t\tax1 = plt.subplot(2,5,6)\n",
    "\t\tax1.set_ylim(-0.04, 0.04)\n",
    "\t\tax1.set_xticks([])\n",
    "\t\tax1.set_ylabel('Network output')\n",
    "\t\t# title = 'Network, $$\\rho = ' + str(0.0) + '$$, clc = ' + str(vecs[18][0])\n",
    "\t\t# ax1.set_title(title)\n",
    "\telse:\n",
    "\t\tax = plt.subplot(2,5,(i+6), sharey=ax1)\n",
    "\t\tax.set_xticks([])\n",
    "\t\tax.set_yticks([])\n",
    "\t\t# title = 'Network, $$\\rho = $$' + str(0.0) + ', clc = ' + str(vecs[18][0])\n",
    "\t\t# ax.set_title(title)\n",
    "\tplt.plot(networks[i][0], label='-0.5', linestyle='-', color='cornflowerblue', alpha=1)\n",
    "\tplt.plot(networks[i][1], label='-0.17', linestyle='-', color='cornflowerblue', alpha=0.55)\n",
    "\tplt.plot(networks[i][2], label='-0.05', linestyle='-', color='cornflowerblue', alpha=0.25)\n",
    "\tplt.plot(networks[i][36], label='0.05', linestyle='-', color='red', alpha=0.25)\n",
    "\tplt.plot(networks[i][37], label='0.17', linestyle='-', color='red', alpha=0.55)\n",
    "\tplt.plot(networks[i][38], label='0.5', linestyle='-', color='red', alpha=1)\n",
    "\tif i == 0: plt.legend(loc='upper left')\n",
    "\n",
    "for i in range(5):\n",
    "\tax2 = None\n",
    "\tif i == 0:\n",
    "\t\tax2 = plt.subplot(2,5,1)\n",
    "\t\tax2.set_ylim(-0.04, 0.04)\n",
    "\t\tax2.set_xticks([])\n",
    "\t\tax2.set_ylabel('Target output')\n",
    "\t\t# title = 'Target, $$\\rho = ' + str(0.0) + '$$, clc = ' + str(vecs[18][0])\n",
    "\t\t# ax2.set_title(title)\n",
    "\telse:\n",
    "\t\tax = plt.subplot(2,5,(i+1), sharey=ax2)\n",
    "\t\tax.set_xticks([])\n",
    "\t\tax.set_yticks([])\n",
    "\t\t# title = 'Target, $$\\rho = ' + str(0.0) + '$$, clc = ' + str(vecs[18][0])\n",
    "\t\t# ax.set_title(title)\n",
    "\tplt.plot(targets[i][0], label='-0.5', linestyle='-', color='cornflowerblue', alpha=1)\n",
    "\tplt.plot(targets[i][1], label='-0.17', linestyle='-', color='cornflowerblue', alpha=0.55)\n",
    "\tplt.plot(targets[i][2], label='-0.05', linestyle='-', color='cornflowerblue', alpha=0.25)\n",
    "\tplt.plot(targets[i][36], label='0.05', linestyle='-', color='red', alpha=0.25)\n",
    "\tplt.plot(targets[i][37], label='0.17', linestyle='-', color='red', alpha=0.55)\n",
    "\tplt.plot(targets[i][38], label='0.5', linestyle='-', color='red', alpha=1)\n",
    "\t#if i == 0: plt.legend(loc='upper left')\n",
    "fig.tight_layout()\n",
    "plt.savefig('xpin_model3', dpi=300, bbox_inches='tight')\n",
    "#plt.show()"
   ]
  },
  {
   "cell_type": "code",
   "execution_count": 28,
   "metadata": {},
   "outputs": [
    {
     "ename": "KeyboardInterrupt",
     "evalue": "",
     "output_type": "error",
     "traceback": [
      "\u001b[0;31m---------------------------------------------------------------------------\u001b[0m",
      "\u001b[0;31mKeyboardInterrupt\u001b[0m                         Traceback (most recent call last)",
      "\u001b[0;32m<ipython-input-28-b8f7c99f236b>\u001b[0m in \u001b[0;36m<module>\u001b[0;34m\u001b[0m\n\u001b[1;32m      6\u001b[0m \u001b[0;31m##                                                                                                                                      ##\u001b[0m\u001b[0;34m\u001b[0m\u001b[0;34m\u001b[0m\u001b[0m\n\u001b[1;32m      7\u001b[0m \u001b[0;31m######################################################################\u001b[0m\u001b[0;34m\u001b[0m\u001b[0;34m\u001b[0m\u001b[0m\n\u001b[0;32m----> 8\u001b[0;31m \u001b[0mres\u001b[0m \u001b[0;34m=\u001b[0m \u001b[0mnp\u001b[0m\u001b[0;34m.\u001b[0m\u001b[0mload\u001b[0m\u001b[0;34m(\u001b[0m\u001b[0;34m'noise_experiment_3.npy'\u001b[0m\u001b[0;34m,\u001b[0m \u001b[0mencoding\u001b[0m\u001b[0;34m=\u001b[0m\u001b[0;34m'latin1'\u001b[0m\u001b[0;34m)\u001b[0m\u001b[0;34m\u001b[0m\u001b[0m\n\u001b[0m\u001b[1;32m      9\u001b[0m \u001b[0mtarg\u001b[0m \u001b[0;34m=\u001b[0m \u001b[0mnp\u001b[0m\u001b[0;34m.\u001b[0m\u001b[0mload\u001b[0m\u001b[0;34m(\u001b[0m\u001b[0;34m'../datafiles/jp2/loaded_data0.npy'\u001b[0m\u001b[0;34m)\u001b[0m\u001b[0;34m\u001b[0m\u001b[0m\n\u001b[1;32m     10\u001b[0m \u001b[0;34m\u001b[0m\u001b[0m\n",
      "\u001b[0;32m/usr/local/lib/python3.7/site-packages/numpy/lib/npyio.py\u001b[0m in \u001b[0;36mload\u001b[0;34m(file, mmap_mode, allow_pickle, fix_imports, encoding)\u001b[0m\n\u001b[1;32m    431\u001b[0m             \u001b[0;32melse\u001b[0m\u001b[0;34m:\u001b[0m\u001b[0;34m\u001b[0m\u001b[0m\n\u001b[1;32m    432\u001b[0m                 return format.read_array(fid, allow_pickle=allow_pickle,\n\u001b[0;32m--> 433\u001b[0;31m                                          pickle_kwargs=pickle_kwargs)\n\u001b[0m\u001b[1;32m    434\u001b[0m         \u001b[0;32melse\u001b[0m\u001b[0;34m:\u001b[0m\u001b[0;34m\u001b[0m\u001b[0m\n\u001b[1;32m    435\u001b[0m             \u001b[0;31m# Try a pickle\u001b[0m\u001b[0;34m\u001b[0m\u001b[0;34m\u001b[0m\u001b[0m\n",
      "\u001b[0;32m/usr/local/lib/python3.7/site-packages/numpy/lib/format.py\u001b[0m in \u001b[0;36mread_array\u001b[0;34m(fp, allow_pickle, pickle_kwargs)\u001b[0m\n\u001b[1;32m    655\u001b[0m             \u001b[0mpickle_kwargs\u001b[0m \u001b[0;34m=\u001b[0m \u001b[0;34m{\u001b[0m\u001b[0;34m}\u001b[0m\u001b[0;34m\u001b[0m\u001b[0m\n\u001b[1;32m    656\u001b[0m         \u001b[0;32mtry\u001b[0m\u001b[0;34m:\u001b[0m\u001b[0;34m\u001b[0m\u001b[0m\n\u001b[0;32m--> 657\u001b[0;31m             \u001b[0marray\u001b[0m \u001b[0;34m=\u001b[0m \u001b[0mpickle\u001b[0m\u001b[0;34m.\u001b[0m\u001b[0mload\u001b[0m\u001b[0;34m(\u001b[0m\u001b[0mfp\u001b[0m\u001b[0;34m,\u001b[0m \u001b[0;34m**\u001b[0m\u001b[0mpickle_kwargs\u001b[0m\u001b[0;34m)\u001b[0m\u001b[0;34m\u001b[0m\u001b[0m\n\u001b[0m\u001b[1;32m    658\u001b[0m         \u001b[0;32mexcept\u001b[0m \u001b[0mUnicodeError\u001b[0m \u001b[0;32mas\u001b[0m \u001b[0merr\u001b[0m\u001b[0;34m:\u001b[0m\u001b[0;34m\u001b[0m\u001b[0m\n\u001b[1;32m    659\u001b[0m             \u001b[0;32mif\u001b[0m \u001b[0msys\u001b[0m\u001b[0;34m.\u001b[0m\u001b[0mversion_info\u001b[0m\u001b[0;34m[\u001b[0m\u001b[0;36m0\u001b[0m\u001b[0;34m]\u001b[0m \u001b[0;34m>=\u001b[0m \u001b[0;36m3\u001b[0m\u001b[0;34m:\u001b[0m\u001b[0;34m\u001b[0m\u001b[0m\n",
      "\u001b[0;31mKeyboardInterrupt\u001b[0m: "
     ]
    }
   ],
   "source": [
    "######################################################################\n",
    "## \t\t\t\t\t\t\t\t\t\t\t\t\t\t\t\t\t##\n",
    "##   \t\t\t\t\t\t\t\t\t\t\t\t\t\t\t\t##\n",
    "##                  \t\tPCA experiment\t                        ##\n",
    "##\t\t\t\t\t\t\t\t\t\t\t\t\t\t\t\t\t##\n",
    "## \t\t\t\t\t\t\t\t\t\t\t\t\t\t\t\t\t##\n",
    "######################################################################\n",
    "res = np.load('noise_experiment_3.npy', encoding='latin1')\n",
    "targ = np.load('../datafiles/jp2/loaded_data0.npy')\n",
    "\n",
    "# print(np.shape(res))\n",
    "\n",
    "# # noise = 2\n",
    "# # neuron = 8\n",
    "# # neuron1_network = [ res[i][neuron] for i in range(len(res)) ]\n",
    "# # neuron1_network = neuron1_network / np.linalg.norm(neuron1_network)\n",
    "# # target = targ[neuron] / np.linalg.norm(targ[neuron])\n",
    "\n",
    "cc   = [-0.5, -0.17, -0.05, 0.05, 0.17, 0.5] # color coherence values\n",
    "mc   = [-0.5, -0.17, -0.05, 0.05, 0.17, 0.5] # motion coherence values\n",
    "vecs = []  # context / coherence vecs\n",
    "ret = [0, 0, 0, 0, 1]\n",
    "\n",
    "for i in range(2):\n",
    "    for j in range(len(cc)):\n",
    "        for k in range(len(mc)):\n",
    "            if i == 0: vecs.append((np.array([ cc[j], mc[k], 1, 0, 0 ]), True if cc[j] > 0 else False))\n",
    "            else: vecs.append((np.array([ cc[j], mc[k], 0, 1, 0 ]), True if mc[k] > 0 else False))\n",
    "                \n",
    "\n",
    "noise = 0\n",
    "contexts = [ [] for i in range(72) ]\n",
    "for i in range(72):\n",
    "\tcontexts[i] = np.array([ res[noise][0][i][j][20:131] for j in range(len(res[0][0][i])-1) ])\n",
    "# mean_vec = noise1_act - np.mean(noise1_act, axis=0)\n",
    "# x = np.dot(mean_vec.T, mean_vec)\n",
    "# u, s, vt = np.linalg.svd(x)\n",
    "\n",
    "# datavar = np.zeros(len(s))\n",
    "# datavar[0] = s[0]\n",
    "# for i in range(1, len(s)):\n",
    "# \tdatavar[i] = datavar[i - 1] + s[i] \n",
    "\n",
    "# datavar = datavar / np.sum(s)\n",
    "\n",
    "# plt.figure()\n",
    "# plt.scatter(np.arange(len(s)), datavar)\n",
    "# plt.show()\n",
    "\n",
    "### seems like 95% of the variance is described by 5 pcs. Let's choose 12 to be safe\n",
    "from sklearn.decomposition import PCA\n",
    "ts = [ [] for i in range(72) ]\n",
    "pca = PCA(n_components=6, svd_solver='full')\n",
    "\n",
    "for i in range(72):\n",
    "\tpca.fit(contexts[i].T)\n",
    "\tts[i] = pca.transform(contexts[i].T)\n",
    "\n",
    "# cons = [0, 1, 2, 3, 4, 5, 35, 47, 53, 59, 65, 71]\n",
    "#  cons = [2, 3]\n",
    "# print(vecs[65][0], vecs[71][0])\n",
    "\n",
    "# plt.figure()\n",
    "# plt.subplot(111)\n",
    "# plt.ylim(-30, 50)\n",
    "# label = None\n",
    "# for i, con in enumerate(cons):\n",
    "# \tif vecs[con][1]: \n",
    "# \t\tlabel = 'report positive'\n",
    "# \t\t# color = 'red'\n",
    "# \telse: \n",
    "# \t\tlabel = 'report negative'\n",
    "# \t\t# color = 'cornflowerblue'\n",
    "# \tif con == 2: color = 'red'\n",
    "# \t# if con < 36: color = 'red'\n",
    "# \telse: color = 'cornflowerblue'\n",
    "# \tplt.plot(ts[con].T[0], label=label, color=color)\n",
    "# \tplt.plot(ts[con].T[1], label=label, color=color)\n",
    "# plt.legend()\n",
    "\n",
    "# plt.subplot(122)\n",
    "# plt.ylim(-30, 50)\n",
    "# for i, con in enumerate(cons):\n",
    "# \tif vecs[con][1]: \n",
    "# \t\tlabel = 'report positive'\n",
    "# \t\t# color = 'red'\n",
    "# \telse: \n",
    "# \t\tlabel = 'report negative'\n",
    "# \t\t# color = 'cornflowerblue'\n",
    "# \tif con < 36: color = 'red'\n",
    "# \telse: color = 'cornflowerblue'\n",
    "# \tplt.plot(ts[con].T[1], label=label, color=color)\n",
    "# plt.legend()\n",
    "\n",
    "# plt.subplot(133)\n",
    "# plt.ylim(-30, 50)\n",
    "# for i, con in enumerate(cons):\n",
    "# \tif vecs[con][1]: \n",
    "# \t\tlabel = 'report positive'\n",
    "# \t\t# color = 'red'\n",
    "# \telse: \n",
    "# \t\tlabel = 'report negative'\n",
    "# \t\t# color = 'cornflowerblue'\n",
    "# \tif con < 36: color = 'red'\n",
    "# \telse: color = 'cornflowerblue'\n",
    "# \tplt.plot(ts[con].T[2], label=label, color=color)\n",
    "# plt.legend()"
   ]
  },
  {
   "cell_type": "code",
   "execution_count": 4,
   "metadata": {},
   "outputs": [],
   "source": [
    "def organize(ts_):\n",
    "    \"\"\"\n",
    "        avgs[0]: cc < 0, mc > 0, col\n",
    "        avgs[1]: cc < 0, mc > 0, mo\n",
    "        avgs[2], cc < 0, mc < 0, col\n",
    "        avgs[3], cc < 0, mc < 0, mo\n",
    "        avgs[4]: cc > 0, mc > 0, col\n",
    "        avgs[5]: cc > 0, mc > 0, mo\n",
    "        avgs[6], cc > 0, mc < 0, col\n",
    "        avgs[7], cc > 0, mc < 0, mo\n",
    "    \"\"\"\n",
    "    collected = [ [] for i in range(8) ]\n",
    "    num = np.zeros(8)\n",
    "    \n",
    "    for i, vec in enumerate(vecs):\n",
    "        cc, mc, ac, am = vec[0][0], vec[0][1], vec[0][2], vec[0][3]\n",
    "        _dir = vec[1]\n",
    "        if cc < 0 and mc > 0 and ac==1:\n",
    "            if collected[0] == []: collected[0] = ts_[i].T\n",
    "            else: collected[0] = collected[0] + ts_[i].T\n",
    "            num[0] += 1\n",
    "        elif cc < 0 and mc > 0 and am==1:\n",
    "            if collected[1] == []: collected[1] = ts_[i].T\n",
    "            else: collected[1] = collected[1] + ts_[i].T\n",
    "            num[1] += 1\n",
    "        elif cc < 0 and mc < 0 and ac==1:\n",
    "            if collected[2] == []: collected[2] = ts_[i].T\n",
    "            else: collected[2] = collected[2] + ts_[i].T\n",
    "            num[2] += 1\n",
    "        elif cc < 0 and mc < 0 and am==1:\n",
    "            if collected[3] == []: collected[3] = ts_[i].T\n",
    "            else: collected[3] = collected[3] + ts_[i].T\n",
    "            num[3] += 1\n",
    "        elif cc > 0 and mc > 0 and ac==1:\n",
    "            if collected[4] == []: collected[4] = ts_[i].T\n",
    "            else: collected[4] = collected[4] + ts_[i].T\n",
    "            num[4] += 1\n",
    "        elif cc > 0 and mc > 0 and am==1:\n",
    "            if collected[5] == []: collected[5] = ts_[i].T\n",
    "            else: collected[5] = collected[5] + ts_[i].T\n",
    "            num[5] += 1\n",
    "        elif cc > 0 and mc < 0 and ac==1:\n",
    "            if collected[6] == []: collected[6] = ts_[i].T\n",
    "            else: collected[6] = collected[6] + ts_[i].T\n",
    "            num[6] += 1\n",
    "        elif cc > 0 and mc < 0 and am==1:\n",
    "            if collected[7] == []: collected[7] = ts_[i].T\n",
    "            else: collected[7] = collected[7] + ts_[i].T\n",
    "            num[7] += 1\n",
    "   \n",
    "    collected = [ collected[i] / num[i] for i in range(8) ]\n",
    "    return collected"
   ]
  },
  {
   "cell_type": "code",
   "execution_count": 5,
   "metadata": {},
   "outputs": [
    {
     "name": "stderr",
     "output_type": "stream",
     "text": [
      "/Library/Frameworks/Python.framework/Versions/3.6/lib/python3.6/site-packages/ipykernel_launcher.py:27: DeprecationWarning: elementwise == comparison failed; this will raise an error in the future.\n",
      "/Library/Frameworks/Python.framework/Versions/3.6/lib/python3.6/site-packages/ipykernel_launcher.py:19: DeprecationWarning: elementwise == comparison failed; this will raise an error in the future.\n",
      "/Library/Frameworks/Python.framework/Versions/3.6/lib/python3.6/site-packages/ipykernel_launcher.py:43: DeprecationWarning: elementwise == comparison failed; this will raise an error in the future.\n",
      "/Library/Frameworks/Python.framework/Versions/3.6/lib/python3.6/site-packages/ipykernel_launcher.py:35: DeprecationWarning: elementwise == comparison failed; this will raise an error in the future.\n",
      "/Library/Frameworks/Python.framework/Versions/3.6/lib/python3.6/site-packages/ipykernel_launcher.py:31: DeprecationWarning: elementwise == comparison failed; this will raise an error in the future.\n",
      "/Library/Frameworks/Python.framework/Versions/3.6/lib/python3.6/site-packages/ipykernel_launcher.py:23: DeprecationWarning: elementwise == comparison failed; this will raise an error in the future.\n",
      "/Library/Frameworks/Python.framework/Versions/3.6/lib/python3.6/site-packages/ipykernel_launcher.py:47: DeprecationWarning: elementwise == comparison failed; this will raise an error in the future.\n",
      "/Library/Frameworks/Python.framework/Versions/3.6/lib/python3.6/site-packages/ipykernel_launcher.py:39: DeprecationWarning: elementwise == comparison failed; this will raise an error in the future.\n"
     ]
    }
   ],
   "source": [
    "avgs_pc1_attend_color = organize(ts)\n",
    "\n",
    "avgs_pc1_attend_color1 = [ avgs_pc1_attend_color[i][0] / np.linalg.norm(avgs_pc1_attend_color[i][0]) for i in range(6) ]\n",
    "avgs_pc1_attend_color2 = [ avgs_pc1_attend_color[i][1] / np.linalg.norm(avgs_pc1_attend_color[i][1]) for i in range(6) ]\n",
    "avgs_pc1_attend_color3 = [ avgs_pc1_attend_color[i][2] / np.linalg.norm(avgs_pc1_attend_color[i][2]) for i in range(6) ]\n",
    "avgs_pc1_attend_color_ = [ [avgs_pc1_attend_color1[i], avgs_pc1_attend_color2[i], avgs_pc1_attend_color3[i]] for i in range(6) ]\n",
    "# plt.figure()\n",
    "# plt.subplot(121)\n",
    "# for i in range(6):\n",
    "#     plt.plot(avgs_pc1_attend_color_[i][0], label=str(i))\n",
    "\n",
    "# plt.subplot(122)\n",
    "# for i in range(6):\n",
    "#     plt.plot(avgs_pc1_attend_color_[i][1], label=str(i))\n",
    "\n",
    "# plt.legend()\n",
    "# plt.show()"
   ]
  },
  {
   "cell_type": "code",
   "execution_count": 6,
   "metadata": {},
   "outputs": [
    {
     "data": {
      "image/png": "[encoded data removed]",
      "text/plain": [
       "<matplotlib.figure.Figure at 0x14baf4278>"
      ]
     },
     "metadata": {},
     "output_type": "display_data"
    }
   ],
   "source": [
    "plt.figure()\n",
    "plt.subplot(231)\n",
    "plt.imshow(avgs_pc1_attend_color_[0][0:3], aspect='auto')\n",
    "\n",
    "plt.subplot(232)\n",
    "plt.imshow(avgs_pc1_attend_color_[5][0:3], aspect='auto')\n",
    "\n",
    "plt.subplot(233)\n",
    "plt.imshow(avgs_pc1_attend_color_[2][0:3], aspect='auto')\n",
    "\n",
    "plt.subplot(234)\n",
    "plt.imshow(avgs_pc1_attend_color_[4][0:3], aspect='auto')\n",
    "\n",
    "plt.subplot(235)\n",
    "plt.imshow(avgs_pc1_attend_color_[1][0:3], aspect='auto')\n",
    "\n",
    "plt.subplot(236)\n",
    "plt.imshow(avgs_pc1_attend_color_[3][0:3], aspect='auto')\n",
    "plt.tight_layout()"
   ]
  },
  {
   "cell_type": "code",
   "execution_count": 7,
   "metadata": {},
   "outputs": [],
   "source": [
    "noise = 1\n",
    "contexts1 = [ [] for i in range(72) ]\n",
    "for i in range(72):\n",
    "\tcontexts1[i] = np.array([ res[noise][0][i][j][20:131] for j in range(len(res[0][0][i])-1) ])\n",
    "\n",
    "ts2 = [ [] for i in range(72) ]\n",
    "pca = PCA(n_components=6, svd_solver='full')\n",
    "\n",
    "for i in range(72):\n",
    "\tpca.fit(contexts1[i].T)\n",
    "\tts2[i] = pca.transform(contexts1[i].T)"
   ]
  },
  {
   "cell_type": "code",
   "execution_count": 8,
   "metadata": {},
   "outputs": [
    {
     "name": "stderr",
     "output_type": "stream",
     "text": [
      "/Library/Frameworks/Python.framework/Versions/3.6/lib/python3.6/site-packages/ipykernel_launcher.py:27: DeprecationWarning: elementwise == comparison failed; this will raise an error in the future.\n",
      "/Library/Frameworks/Python.framework/Versions/3.6/lib/python3.6/site-packages/ipykernel_launcher.py:19: DeprecationWarning: elementwise == comparison failed; this will raise an error in the future.\n",
      "/Library/Frameworks/Python.framework/Versions/3.6/lib/python3.6/site-packages/ipykernel_launcher.py:43: DeprecationWarning: elementwise == comparison failed; this will raise an error in the future.\n",
      "/Library/Frameworks/Python.framework/Versions/3.6/lib/python3.6/site-packages/ipykernel_launcher.py:35: DeprecationWarning: elementwise == comparison failed; this will raise an error in the future.\n",
      "/Library/Frameworks/Python.framework/Versions/3.6/lib/python3.6/site-packages/ipykernel_launcher.py:31: DeprecationWarning: elementwise == comparison failed; this will raise an error in the future.\n",
      "/Library/Frameworks/Python.framework/Versions/3.6/lib/python3.6/site-packages/ipykernel_launcher.py:23: DeprecationWarning: elementwise == comparison failed; this will raise an error in the future.\n",
      "/Library/Frameworks/Python.framework/Versions/3.6/lib/python3.6/site-packages/ipykernel_launcher.py:47: DeprecationWarning: elementwise == comparison failed; this will raise an error in the future.\n",
      "/Library/Frameworks/Python.framework/Versions/3.6/lib/python3.6/site-packages/ipykernel_launcher.py:39: DeprecationWarning: elementwise == comparison failed; this will raise an error in the future.\n"
     ]
    }
   ],
   "source": [
    "avgs_pc1_attend_color1 = organize(ts2)\n",
    "\n",
    "avgs_pc1_attend_color11 = [ avgs_pc1_attend_color1[i][0] / np.linalg.norm(avgs_pc1_attend_color1[i][0]) for i in range(8) ]\n",
    "avgs_pc1_attend_color12 = [ avgs_pc1_attend_color1[i][1] / np.linalg.norm(avgs_pc1_attend_color1[i][1]) for i in range(8) ]\n",
    "avgs_pc1_attend_color13 = [ avgs_pc1_attend_color1[i][2] / np.linalg.norm(avgs_pc1_attend_color1[i][2]) for i in range(8) ]\n",
    "avgs_pc1_attend_color1_ = [ [avgs_pc1_attend_color11[i], avgs_pc1_attend_color12[i], avgs_pc1_attend_color13[i]] for i in range(8) ]\n",
    "# plt.figure()\n",
    "# plt.subplot(121)\n",
    "# for i in range(6):\n",
    "#     plt.plot(avgs_pc1_attend_color1_[i][0], label=str(i))\n",
    "\n",
    "# plt.subplot(122)\n",
    "# for i in range(6):\n",
    "#     plt.plot(avgs_pc1_attend_color1_[i][1], label=str(i))\n",
    "\n",
    "# plt.legend()\n",
    "# plt.show()"
   ]
  },
  {
   "cell_type": "code",
   "execution_count": null,
   "metadata": {},
   "outputs": [],
   "source": [
    "plt.figure()\n",
    "plt.subplot(231)\n",
    "plt.imshow(avgs_pc1_attend_color1_[0][0:3], aspect='auto')\n",
    "\n",
    "plt.subplot(232)\n",
    "plt.imshow(avgs_pc1_attend_color1_[5][0:3], aspect='auto')\n",
    "\n",
    "plt.subplot(233)\n",
    "plt.imshow(avgs_pc1_attend_color1_[2][0:3], aspect='auto')\n",
    "\n",
    "plt.subplot(234)\n",
    "plt.imshow(avgs_pc1_attend_color1_[4][0:3], aspect='auto')\n",
    "\n",
    "plt.subplot(235)\n",
    "plt.imshow(avgs_pc1_attend_color1_[1][0:3], aspect='auto')\n",
    "\n",
    "plt.subplot(236)\n",
    "plt.imshow(avgs_pc1_attend_color1_[3][0:3], aspect='auto')\n",
    "plt.tight_layout()"
   ]
  },
  {
   "cell_type": "code",
   "execution_count": 9,
   "metadata": {},
   "outputs": [
    {
     "data": {
      "application/vnd.jupyter.widget-view+json": {
       "model_id": "f90bbac9a03e47958b6754266c5555fb",
       "version_major": 2,
       "version_minor": 0
      },
      "text/html": [
       "<p>Failed to display Jupyter Widget of type <code>FigureCanvasNbAgg</code>.</p>\n",
       "<p>\n",
       "  If you're reading this message in Jupyter Notebook or JupyterLab, it may mean\n",
       "  that the widgets JavaScript is still loading. If this message persists, it\n",
       "  likely means that the widgets JavaScript library is either not installed or\n",
       "  not enabled. See the <a href=\"https://ipywidgets.readthedocs.io/en/stable/user_install.html\">Jupyter\n",
       "  Widgets Documentation</a> for setup instructions.\n",
       "</p>\n",
       "<p>\n",
       "  If you're reading this message in another notebook frontend (for example, a static\n",
       "  rendering on GitHub or <a href=\"https://nbviewer.jupyter.org/\">NBViewer</a>),\n",
       "  it may mean that your frontend doesn't currently support widgets.\n",
       "</p>\n"
      ],
      "text/plain": [
       "FigureCanvasNbAgg()"
      ]
     },
     "metadata": {},
     "output_type": "display_data"
    },
    {
     "data": {
      "application/vnd.jupyter.widget-view+json": {
       "model_id": "447b0af866c34727b6197b91a3302e35",
       "version_major": 2,
       "version_minor": 0
      },
      "text/html": [
       "<p>Failed to display Jupyter Widget of type <code>FigureCanvasNbAgg</code>.</p>\n",
       "<p>\n",
       "  If you're reading this message in Jupyter Notebook or JupyterLab, it may mean\n",
       "  that the widgets JavaScript is still loading. If this message persists, it\n",
       "  likely means that the widgets JavaScript library is either not installed or\n",
       "  not enabled. See the <a href=\"https://ipywidgets.readthedocs.io/en/stable/user_install.html\">Jupyter\n",
       "  Widgets Documentation</a> for setup instructions.\n",
       "</p>\n",
       "<p>\n",
       "  If you're reading this message in another notebook frontend (for example, a static\n",
       "  rendering on GitHub or <a href=\"https://nbviewer.jupyter.org/\">NBViewer</a>),\n",
       "  it may mean that your frontend doesn't currently support widgets.\n",
       "</p>\n"
      ],
      "text/plain": [
       "FigureCanvasNbAgg()"
      ]
     },
     "metadata": {},
     "output_type": "display_data"
    },
    {
     "data": {
      "application/vnd.jupyter.widget-view+json": {
       "model_id": "e8f1b16645d64d26b0af63703f325aba",
       "version_major": 2,
       "version_minor": 0
      },
      "text/html": [
       "<p>Failed to display Jupyter Widget of type <code>FigureCanvasNbAgg</code>.</p>\n",
       "<p>\n",
       "  If you're reading this message in Jupyter Notebook or JupyterLab, it may mean\n",
       "  that the widgets JavaScript is still loading. If this message persists, it\n",
       "  likely means that the widgets JavaScript library is either not installed or\n",
       "  not enabled. See the <a href=\"https://ipywidgets.readthedocs.io/en/stable/user_install.html\">Jupyter\n",
       "  Widgets Documentation</a> for setup instructions.\n",
       "</p>\n",
       "<p>\n",
       "  If you're reading this message in another notebook frontend (for example, a static\n",
       "  rendering on GitHub or <a href=\"https://nbviewer.jupyter.org/\">NBViewer</a>),\n",
       "  it may mean that your frontend doesn't currently support widgets.\n",
       "</p>\n"
      ],
      "text/plain": [
       "FigureCanvasNbAgg()"
      ]
     },
     "metadata": {},
     "output_type": "display_data"
    },
    {
     "data": {
      "application/vnd.jupyter.widget-view+json": {
       "model_id": "392f9ffb2a5e400f9d7da989340af56e",
       "version_major": 2,
       "version_minor": 0
      },
      "text/html": [
       "<p>Failed to display Jupyter Widget of type <code>FigureCanvasNbAgg</code>.</p>\n",
       "<p>\n",
       "  If you're reading this message in Jupyter Notebook or JupyterLab, it may mean\n",
       "  that the widgets JavaScript is still loading. If this message persists, it\n",
       "  likely means that the widgets JavaScript library is either not installed or\n",
       "  not enabled. See the <a href=\"https://ipywidgets.readthedocs.io/en/stable/user_install.html\">Jupyter\n",
       "  Widgets Documentation</a> for setup instructions.\n",
       "</p>\n",
       "<p>\n",
       "  If you're reading this message in another notebook frontend (for example, a static\n",
       "  rendering on GitHub or <a href=\"https://nbviewer.jupyter.org/\">NBViewer</a>),\n",
       "  it may mean that your frontend doesn't currently support widgets.\n",
       "</p>\n"
      ],
      "text/plain": [
       "FigureCanvasNbAgg()"
      ]
     },
     "metadata": {},
     "output_type": "display_data"
    }
   ],
   "source": [
    "from mpl_toolkits.mplot3d import Axes3D\n",
    "%matplotlib ipympl\n",
    "for i in range(8):\n",
    "    avgs_pc1_attend_color[i][0] = avgs_pc1_attend_color[i][0] / np.linalg.norm(avgs_pc1_attend_color[i][0])\n",
    "    avgs_pc1_attend_color[i][1] = avgs_pc1_attend_color[i][1] / np.linalg.norm(avgs_pc1_attend_color[i][1])\n",
    "    avgs_pc1_attend_color[i][2] = avgs_pc1_attend_color[i][2] / np.linalg.norm(avgs_pc1_attend_color[i][2])\n",
    "    \n",
    "    avgs_pc1_attend_color1[i][0] = avgs_pc1_attend_color1[i][0] / np.linalg.norm(avgs_pc1_attend_color1[i][0])\n",
    "    avgs_pc1_attend_color1[i][1] = avgs_pc1_attend_color1[i][1] / np.linalg.norm(avgs_pc1_attend_color1[i][1])\n",
    "    avgs_pc1_attend_color1[i][2] = avgs_pc1_attend_color1[i][2] / np.linalg.norm(avgs_pc1_attend_color1[i][2])\n",
    "    \n",
    "plot_no_noise = [ [avgs_pc1_attend_color[i][0], avgs_pc1_attend_color[i][1], avgs_pc1_attend_color[i][2] ] for i in range(8) ]\n",
    "plot_noise_sm = [ [avgs_pc1_attend_color1[i][0], avgs_pc1_attend_color1[i][1], avgs_pc1_attend_color1[i][2] ] for i in range(8) ]\n",
    "\n",
    "fig = plt.figure()\n",
    "ax = fig.add_subplot(111, projection='3d')\n",
    "ax.w_xaxis.set_pane_color(color=(1,1,1,1))\n",
    "ax.w_yaxis.set_pane_color(color=(1,1,1,1))\n",
    "ax.w_zaxis.set_pane_color(color=(1,1,1,1))\n",
    "\n",
    "ax.set_xticks([])\n",
    "ax.set_yticks([])\n",
    "ax.set_zticks([])\n",
    "# 0, 2, 3 go left\n",
    "ax.grid(False)\n",
    "for i in range(8):\n",
    "    if i in [1,4,5]: col = 'red'\n",
    "    else: col = 'cornflowerblue' \n",
    "    ax.plot3D(plot_no_noise[i][0], plot_no_noise[i][1], plot_no_noise[i][2], color=col)\n",
    "    ax.scatter3D(plot_no_noise[i][0][0], plot_no_noise[i][1][0], plot_no_noise[i][2][0], color='black', alpha=0.3)\n",
    "    ax.scatter3D(plot_no_noise[i][0][-1], plot_no_noise[i][1][-1], plot_no_noise[i][2][-1], color='yellow', alpha=0.7)\n",
    "\n",
    "ax.set_xlabel('PC1')\n",
    "ax.set_ylabel('PC2')\n",
    "ax.set_zlabel('PC3')\n",
    "\n",
    "plt.figure()\n",
    "plt.subplot(131)\n",
    "for i in range(8):\n",
    "    if i in [1,4,5]: col = 'red'\n",
    "    else: col = 'cornflowerblue' \n",
    "    plt.plot(plot_no_noise[i][0], plot_no_noise[i][1], color=col)\n",
    "    plt.scatter(plot_no_noise[i][0][0], plot_no_noise[i][1][0], color='black', alpha=0.3)\n",
    "    plt.scatter(plot_no_noise[i][0][-1], plot_no_noise[i][1][-1], color='yellow', alpha=0.7)\n",
    "plt.xlabel('PC1')\n",
    "plt.ylabel('PC2')\n",
    "\n",
    "plt.subplot(132)\n",
    "for i in range(8):\n",
    "    if i in [1,4,5]: col = 'red'\n",
    "    else: col = 'cornflowerblue' \n",
    "    plt.plot(plot_no_noise[i][0], plot_no_noise[i][2], color=col)\n",
    "    plt.scatter(plot_no_noise[i][0][0], plot_no_noise[i][2][0], color='black', alpha=0.3)\n",
    "    plt.scatter(plot_no_noise[i][0][-1], plot_no_noise[i][2][-1], color='yellow', alpha=0.7)\n",
    "plt.xlabel('PC1')\n",
    "plt.ylabel('PC3')\n",
    "\n",
    "plt.subplot(133)\n",
    "for i in range(8):\n",
    "    if i in [1,4,5]: col = 'red'\n",
    "    else: col = 'cornflowerblue' \n",
    "    plt.plot(plot_no_noise[i][1], plot_no_noise[i][2], color=col)\n",
    "    plt.scatter(plot_no_noise[i][1][0], plot_no_noise[i][2][0], color='black', alpha=0.3)\n",
    "    plt.scatter(plot_no_noise[i][1][-1], plot_no_noise[i][2][-1], color='yellow', alpha=0.7)\n",
    "plt.xlabel('PC2')\n",
    "plt.ylabel('PC3')\n",
    "plt.tight_layout()\n",
    "\n",
    "fig = plt.figure()\n",
    "ax = fig.add_subplot(111, projection='3d')\n",
    "ax.w_xaxis.set_pane_color(color=(1,1,1,1))\n",
    "ax.w_yaxis.set_pane_color(color=(1,1,1,1))\n",
    "ax.w_zaxis.set_pane_color(color=(1,1,1,1))\n",
    "\n",
    "ax.set_xticks([])\n",
    "ax.set_yticks([])\n",
    "ax.set_zticks([])\n",
    "\n",
    "for i in range(8):\n",
    "    if i in [1,4,5]: col = 'red'\n",
    "    else: col = 'cornflowerblue' \n",
    "    ax.plot3D(plot_noise_sm[i][0], plot_noise_sm[i][1], plot_noise_sm[i][2], color=col)\n",
    "    ax.scatter3D(plot_noise_sm[i][0][0], plot_noise_sm[i][1][0], plot_noise_sm[i][2][0], color='black', alpha=0.3)\n",
    "    ax.scatter3D(plot_noise_sm[i][0][-1], plot_noise_sm[i][1][-1], plot_noise_sm[i][2][-1], color='yellow', alpha=0.7)\n",
    "    \n",
    "ax.set_xlabel('PC1')\n",
    "ax.set_ylabel('PC2')\n",
    "ax.set_zlabel('PC3')\n",
    "\n",
    "plt.figure()\n",
    "plt.subplot(131)\n",
    "for i in range(8):\n",
    "    if i in [1,4,5]: col = 'red'\n",
    "    else: col = 'cornflowerblue' \n",
    "    plt.plot(plot_noise_sm[i][0], plot_noise_sm[i][1], color=col)\n",
    "    plt.scatter(plot_noise_sm[i][0][0], plot_noise_sm[i][1][0], color='black', alpha=0.3)\n",
    "    plt.scatter(plot_noise_sm[i][0][-1], plot_noise_sm[i][1][-1], color='yellow', alpha=0.7)\n",
    "plt.xlabel('PC1')\n",
    "plt.ylabel('PC2')\n",
    "\n",
    "plt.subplot(132)\n",
    "for i in range(8):\n",
    "    if i in [1,4,5]: col = 'red'\n",
    "    else: col = 'cornflowerblue' \n",
    "    plt.plot(plot_noise_sm[i][0], plot_noise_sm[i][2], color=col)\n",
    "    plt.scatter(plot_noise_sm[i][0][0], plot_noise_sm[i][2][0], color='black', alpha=0.3)\n",
    "    plt.scatter(plot_noise_sm[i][0][-1], plot_noise_sm[i][2][-1], color='yellow', alpha=0.7)\n",
    "plt.xlabel('PC1')\n",
    "plt.ylabel('PC3')\n",
    "\n",
    "plt.subplot(133)\n",
    "for i in range(8):\n",
    "    if i in [1,4,5]: col = 'red'\n",
    "    else: col = 'cornflowerblue' \n",
    "    plt.plot(plot_noise_sm[i][1], plot_noise_sm[i][2], color=col)\n",
    "    plt.scatter(plot_noise_sm[i][1][0], plot_noise_sm[i][2][0], color='black', alpha=0.3)\n",
    "    plt.scatter(plot_noise_sm[i][1][-1], plot_noise_sm[i][2][-1], color='yellow', alpha=0.7)\n",
    "plt.xlabel('PC2')\n",
    "plt.ylabel('PC3')\n",
    "plt.tight_layout()"
   ]
  },
  {
   "cell_type": "code",
   "execution_count": 10,
   "metadata": {},
   "outputs": [],
   "source": [
    "ts_Targ = [ [] for i in range(72) ]\n",
    "pca = PCA(n_components=6, svd_solver='full')\n",
    "\n",
    "for i in range(72):\n",
    "\tpca.fit(targ[i].T)\n",
    "\tts_Targ[i] = pca.transform(targ[i].T)"
   ]
  },
  {
   "cell_type": "code",
   "execution_count": 11,
   "metadata": {},
   "outputs": [
    {
     "name": "stderr",
     "output_type": "stream",
     "text": [
      "/Library/Frameworks/Python.framework/Versions/3.6/lib/python3.6/site-packages/ipykernel_launcher.py:27: DeprecationWarning: elementwise == comparison failed; this will raise an error in the future.\n",
      "/Library/Frameworks/Python.framework/Versions/3.6/lib/python3.6/site-packages/ipykernel_launcher.py:19: DeprecationWarning: elementwise == comparison failed; this will raise an error in the future.\n",
      "/Library/Frameworks/Python.framework/Versions/3.6/lib/python3.6/site-packages/ipykernel_launcher.py:43: DeprecationWarning: elementwise == comparison failed; this will raise an error in the future.\n",
      "/Library/Frameworks/Python.framework/Versions/3.6/lib/python3.6/site-packages/ipykernel_launcher.py:35: DeprecationWarning: elementwise == comparison failed; this will raise an error in the future.\n",
      "/Library/Frameworks/Python.framework/Versions/3.6/lib/python3.6/site-packages/ipykernel_launcher.py:31: DeprecationWarning: elementwise == comparison failed; this will raise an error in the future.\n",
      "/Library/Frameworks/Python.framework/Versions/3.6/lib/python3.6/site-packages/ipykernel_launcher.py:23: DeprecationWarning: elementwise == comparison failed; this will raise an error in the future.\n",
      "/Library/Frameworks/Python.framework/Versions/3.6/lib/python3.6/site-packages/ipykernel_launcher.py:47: DeprecationWarning: elementwise == comparison failed; this will raise an error in the future.\n",
      "/Library/Frameworks/Python.framework/Versions/3.6/lib/python3.6/site-packages/ipykernel_launcher.py:39: DeprecationWarning: elementwise == comparison failed; this will raise an error in the future.\n"
     ]
    }
   ],
   "source": [
    "avgs_targ = organize(ts_Targ)\n",
    "\n",
    "for i in range(8):\n",
    "    avgs_targ[i][0] = avgs_targ[i][0] / np.linalg.norm(avgs_targ[i][0])\n",
    "    avgs_targ[i][1] = avgs_targ[i][1] / np.linalg.norm(avgs_targ[i][1])\n",
    "    avgs_targ[i][2] = avgs_targ[i][2] / np.linalg.norm(avgs_targ[i][2])\n",
    "\n",
    "target_no_noise = [ [avgs_targ[i][0], avgs_targ[i][1], avgs_targ[i][2] ] for i in range(8) ]"
   ]
  },
  {
   "cell_type": "code",
   "execution_count": 23,
   "metadata": {},
   "outputs": [
    {
     "data": {
      "application/vnd.jupyter.widget-view+json": {
       "model_id": "997c9a0660554c3898c821f083d3f862",
       "version_major": 2,
       "version_minor": 0
      },
      "text/html": [
       "<p>Failed to display Jupyter Widget of type <code>FigureCanvasNbAgg</code>.</p>\n",
       "<p>\n",
       "  If you're reading this message in Jupyter Notebook or JupyterLab, it may mean\n",
       "  that the widgets JavaScript is still loading. If this message persists, it\n",
       "  likely means that the widgets JavaScript library is either not installed or\n",
       "  not enabled. See the <a href=\"https://ipywidgets.readthedocs.io/en/stable/user_install.html\">Jupyter\n",
       "  Widgets Documentation</a> for setup instructions.\n",
       "</p>\n",
       "<p>\n",
       "  If you're reading this message in another notebook frontend (for example, a static\n",
       "  rendering on GitHub or <a href=\"https://nbviewer.jupyter.org/\">NBViewer</a>),\n",
       "  it may mean that your frontend doesn't currently support widgets.\n",
       "</p>\n"
      ],
      "text/plain": [
       "FigureCanvasNbAgg()"
      ]
     },
     "metadata": {},
     "output_type": "display_data"
    }
   ],
   "source": [
    "fig = plt.figure(figsize=(10, 4))\n",
    "which = 7 # 5 is best, 4 is good\n",
    "ax = fig.add_subplot(151, projection='3d')\n",
    "ax.w_xaxis.set_pane_color(color=(1,1,1,1))\n",
    "ax.w_yaxis.set_pane_color(color=(1,1,1,1))\n",
    "ax.w_zaxis.set_pane_color(color=(1,1,1,1))\n",
    "\n",
    "ax.set_xticks([])\n",
    "ax.set_yticks([])\n",
    "ax.set_zticks([])\n",
    "\n",
    "ax.set_xlabel('PC1')\n",
    "ax.set_ylabel('PC2')\n",
    "ax.set_zlabel('PC3')\n",
    "\n",
    "ax.plot3D(target_no_noise[which][0], target_no_noise[which][1], target_no_noise[which][2], color='red', label='target', alpha=1)\n",
    "ax.plot3D(plot_no_noise[which][0], plot_no_noise[which][1], plot_no_noise[which][2], color='pink', label='no noise', alpha=0.75)\n",
    "ax.plot3D(plot_noise_sm[which][0], plot_noise_sm[which][1], plot_noise_sm[which][2], color='cornflowerblue', label='noise', alpha=0.5)\n",
    "ax.scatter3D(target_no_noise[which][0], target_no_noise[which][1], target_no_noise[which][2], color='red', alpha=1)\n",
    "ax.scatter3D(plot_no_noise[which][0], plot_no_noise[which][1], plot_no_noise[which][2], color='pink', alpha=0.75)\n",
    "ax.scatter3D(plot_noise_sm[which][0], plot_noise_sm[which][1], plot_noise_sm[which][2], color='cornflowerblue', alpha=0.5)\n",
    "plt.title('negative cc, positive mc, ac')\n",
    "plt.legend(loc='upper left')\n",
    "ax = fig.add_subplot(152, projection='3d')\n",
    "ax.w_xaxis.set_pane_color(color=(1,1,1,1))\n",
    "ax.w_yaxis.set_pane_color(color=(1,1,1,1))\n",
    "ax.w_zaxis.set_pane_color(color=(1,1,1,1))\n",
    "\n",
    "ax.set_xticks([])\n",
    "ax.set_yticks([])\n",
    "ax.set_zticks([])\n",
    "\n",
    "ax.set_xlabel('PC1')\n",
    "ax.set_ylabel('PC2')\n",
    "ax.set_zlabel('PC3')\n",
    "ax.view_init(elev=20, azim=-136)\n",
    "ax.plot3D(target_no_noise[which][0], target_no_noise[which][1], target_no_noise[which][2], color='red', label='target', alpha=1)\n",
    "ax.plot3D(plot_no_noise[which][0], plot_no_noise[which][1], plot_no_noise[which][2], color='pink', label='no noise', alpha=0.75)\n",
    "ax.plot3D(plot_noise_sm[which][0], plot_noise_sm[which][1], plot_noise_sm[which][2], color='cornflowerblue', label='noise', alpha=0.5)\n",
    "ax.scatter3D(target_no_noise[which][0], target_no_noise[which][1], target_no_noise[which][2], color='red', alpha=1)\n",
    "ax.scatter3D(plot_no_noise[which][0], plot_no_noise[which][1], plot_no_noise[which][2], color='pink', alpha=0.75)\n",
    "ax.scatter3D(plot_noise_sm[which][0], plot_noise_sm[which][1], plot_noise_sm[which][2], color='cornflowerblue', alpha=0.5)\n",
    "\n",
    "\n",
    "s=4\n",
    "# plt.figure()\n",
    "ax = plt.subplot(153)\n",
    "ax.set_xticks([])\n",
    "ax.set_yticks([])\n",
    "plt.plot(target_no_noise[which][0], target_no_noise[which][1], color='red', label='target', alpha=1)\n",
    "plt.plot(plot_no_noise[which][0], plot_no_noise[which][1], color='pink', label='no noise', alpha=0.75)\n",
    "plt.plot(plot_noise_sm[which][0], plot_noise_sm[which][1], color='cornflowerblue', label='noise', alpha=0.5)\n",
    "plt.scatter(target_no_noise[which][0], target_no_noise[which][1], color='red', label='target', alpha=1,s=s)\n",
    "plt.scatter(plot_no_noise[which][0], plot_no_noise[which][1], color='pink', label='no noise', alpha=0.75,s=s)\n",
    "plt.scatter(plot_noise_sm[which][0], plot_noise_sm[which][1], color='cornflowerblue', label='noise', alpha=0.5,s=s)\n",
    "plt.xlabel('PC1')\n",
    "plt.ylabel('PC2')\n",
    "\n",
    "ax = plt.subplot(154)\n",
    "ax.set_xticks([])\n",
    "ax.set_yticks([])\n",
    "plt.plot(target_no_noise[which][0], target_no_noise[which][2], color='red', label='target', alpha=1)\n",
    "plt.plot(plot_no_noise[which][0], plot_no_noise[which][2], color='pink', label='no noise', alpha=0.75)\n",
    "plt.plot(plot_noise_sm[which][0], plot_noise_sm[which][2], color='cornflowerblue', label='noise', alpha=0.5)\n",
    "plt.scatter(target_no_noise[which][0], target_no_noise[which][2], color='red', label='target', alpha=1,s=s)\n",
    "plt.scatter(plot_no_noise[which][0], plot_no_noise[which][2], color='pink', label='no noise', alpha=0.75,s=s)\n",
    "plt.scatter(plot_noise_sm[which][0], plot_noise_sm[which][2], color='cornflowerblue', label='noise', alpha=0.5,s=s)\n",
    "plt.xlabel('PC1')\n",
    "plt.ylabel('PC3')\n",
    "\n",
    "ax = plt.subplot(155)\n",
    "ax.set_xticks([])\n",
    "ax.set_yticks([])\n",
    "plt.plot(target_no_noise[which][1], target_no_noise[which][2], color='red', label='target', alpha=1)\n",
    "plt.plot(plot_no_noise[which][1], plot_no_noise[which][2], color='pink', label='no noise', alpha=0.75)\n",
    "plt.plot(plot_noise_sm[which][1], plot_noise_sm[which][2], color='cornflowerblue', label='noise', alpha=0.5)\n",
    "plt.scatter(target_no_noise[which][1], target_no_noise[which][2], color='red', label='target', alpha=1,s=s)\n",
    "plt.scatter(plot_no_noise[which][1], plot_no_noise[which][2], color='pink', label='no noise', alpha=0.75,s=s)\n",
    "plt.scatter(plot_noise_sm[which][1], plot_noise_sm[which][2], color='cornflowerblue', label='noise', alpha=0.5,s=s)\n",
    "plt.xlabel('PC2')\n",
    "plt.ylabel('PC3')\n",
    "plt.tight_layout()"
   ]
  },
  {
   "cell_type": "code",
   "execution_count": 2,
   "metadata": {},
   "outputs": [],
   "source": [
    "counts = np.load('counts_3.npy')\n",
    "cc   = [-0.5, -0.17, -0.05, 0.05, 0.17, 0.5] # color coherence values\n",
    "mc   = [-0.5, -0.17, -0.05, 0.05, 0.17, 0.5] # motion coherence values\n",
    "vecs = []  # context / coherence vecs\n",
    "ret = [0, 0, 0, 0, 1]\n",
    "%matplotlib ipympl\n",
    "for i in range(2):\n",
    "    for j in range(len(cc)):\n",
    "        for k in range(len(mc)):\n",
    "            if i == 0: vecs.append((np.array([ cc[j], mc[k], 1, 0, 0 ]), True if cc[j] > 0 else False))\n",
    "            else: vecs.append((np.array([ cc[j], mc[k], 0, 1, 0 ]), True if mc[k] > 0 else False))\n",
    "                \n",
    "qs = [0.0, 0.1, 0.25, 0.5]\n",
    "HIT, MISS = 0, 1\n",
    "\n",
    "# hitsx, hitsy, missx, missy = [], [], [], []\n",
    "# for i, q in enumerate(qs):\n",
    "#     for z in range(72):\n",
    "#         cc, mc, ac, am = vecs[z][0][0], vecs[z][0][1], vecs[z][0][2], vecs[z][0][3]\n",
    "#         if ac == 1:\n",
    "#             if cc == 0.5 or cc == -0.5:\n",
    "#                 if \n",
    "#             elif cc == 0.17 or cc = -0.17:\n",
    "            \n",
    "#             elif cc == 0.05 or cc = -0.05:\n",
    "\n",
    "# width = 0.5\n",
    "# plt.figure()\n",
    "# plt.subplot(221) # q = 0\n",
    "# plt.title(r'$$\\rho^2 = 0$$')\n",
    "# plt.bar(np.arange(72), counts[0][HIT], width, color='cornflowerblue', label='hit')\n",
    "# plt.bar(np.arange(72), counts[0][MISS], width, color='red', label='miss')\n",
    "# plt.legend()\n",
    "\n",
    "# plt.subplot(222)\n",
    "# plt.title(r'$$\\rho^2 = 0.1$$')\n",
    "# plt.bar(np.arange(72), counts[1][HIT], width, color='cornflowerblue', label='hit')\n",
    "# plt.bar(np.arange(72), counts[1][MISS], width, color='red', label='miss')\n",
    "\n",
    "# plt.subplot(223)\n",
    "# plt.title(r'$$\\rho^2 = 0.25$$')\n",
    "# plt.bar(np.arange(72), counts[2][HIT], width, color='cornflowerblue', label='hit')\n",
    "# plt.bar(np.arange(72), counts[2][MISS], width, color='red', label='miss')\n",
    "\n",
    "# plt.subplot(224)\n",
    "# plt.title(r'$$\\rho^2 = 0.5$$')\n",
    "# plt.bar(np.arange(72), counts[3][HIT], width, color='cornflowerblue', label='hit')\n",
    "# plt.bar(np.arange(72), counts[3][MISS], width, color='red', label='miss')\n",
    "# plt.tight_layout()"
   ]
  },
  {
   "cell_type": "code",
   "execution_count": 12,
   "metadata": {},
   "outputs": [
    {
     "name": "stdout",
     "output_type": "stream",
     "text": [
      "(4, 2, 72)\n"
     ]
    }
   ],
   "source": [
    "print(np.shape(counts))"
   ]
  },
  {
   "cell_type": "code",
   "execution_count": 7,
   "metadata": {},
   "outputs": [],
   "source": [
    "ress = np.load('noise_experiment_11.npy', encoding='latin1')\n",
    "targ = np.load('../datafiles/jp2/loaded_data0.npy')\n",
    "\n",
    "context = 1\n",
    "neuron = 18\n",
    "noise = 0\n",
    "trimmed_psth0 = [ ress[noise][HIT][context][i][20:131] for i in range(727) ]\n",
    "neuron1_network0 = [ ress[noise][HIT][i][neuron][20:len(targ[0][0])+20] for i in range(len(ress[0][0])) ]\n",
    "neuron1_network0 = neuron1_network0 / np.linalg.norm(neuron1_network0)\n",
    "\n",
    "noise = 1\n",
    "trimmed_psth1 = [ ress[noise][HIT][context][i][20:131] for i in range(727) ]\n",
    "neuron1_network1 = [ ress[noise][HIT][i][neuron][20:len(targ[0][0])+20] for i in range(len(ress[0][0])) ]\n",
    "neuron1_network1 = neuron1_network1 / np.linalg.norm(neuron1_network1)\n",
    "\n",
    "noise = 2\n",
    "trimmed_psth2 = [ ress[noise][HIT][context][i][20:131] for i in range(727) ]\n",
    "neuron1_network2 = [ ress[noise][HIT][i][neuron][20:len(targ[0][0])+20] for i in range(len(ress[0][0])) ]\n",
    "neuron1_network2 = neuron1_network2 / np.linalg.norm(neuron1_network2)\n",
    "\n",
    "noise = 3\n",
    "trimmed_psth3 = [ ress[noise][HIT][context][i][20:131] for i in range(727) ]\n",
    "neuron1_network3 = [ ress[noise][HIT][i][neuron][20:len(targ[0][0])+20] for i in range(len(ress[0][0])) ]\n",
    "neuron1_network3 = neuron1_network3 / np.linalg.norm(neuron1_network3)\n",
    "\n",
    "target_psth = [ targ[k][context] for k in range(len(targ)) ]\n",
    "target = targ[neuron] / np.linalg.norm(targ[neuron])"
   ]
  },
  {
   "cell_type": "code",
   "execution_count": 8,
   "metadata": {},
   "outputs": [
    {
     "data": {
      "application/vnd.jupyter.widget-view+json": {
       "model_id": "bee8c9af3dba4c8b9dffb5fee8b607bd",
       "version_major": 2,
       "version_minor": 0
      },
      "text/html": [
       "<p>Failed to display Jupyter Widget of type <code>FigureCanvasNbAgg</code>.</p>\n",
       "<p>\n",
       "  If you're reading this message in Jupyter Notebook or JupyterLab, it may mean\n",
       "  that the widgets JavaScript is still loading. If this message persists, it\n",
       "  likely means that the widgets JavaScript library is either not installed or\n",
       "  not enabled. See the <a href=\"https://ipywidgets.readthedocs.io/en/stable/user_install.html\">Jupyter\n",
       "  Widgets Documentation</a> for setup instructions.\n",
       "</p>\n",
       "<p>\n",
       "  If you're reading this message in another notebook frontend (for example, a static\n",
       "  rendering on GitHub or <a href=\"https://nbviewer.jupyter.org/\">NBViewer</a>),\n",
       "  it may mean that your frontend doesn't currently support widgets.\n",
       "</p>\n"
      ],
      "text/plain": [
       "FigureCanvasNbAgg()"
      ]
     },
     "metadata": {},
     "output_type": "display_data"
    }
   ],
   "source": [
    "# plt.figure()\n",
    "# plt.imshow(neuron1_network, aspect='auto')\n",
    "\n",
    "# plt.figure()\n",
    "# plt.imshow(target, aspect='auto')\n",
    "\n",
    "plt.figure()\n",
    "plt.subplot(251)\n",
    "plt.imshow(target_psth / np.linalg.norm(target_psth), aspect='auto')\n",
    "plt.title('target')\n",
    "\n",
    "plt.subplot(252)\n",
    "plt.imshow(trimmed_psth0, aspect='auto')\n",
    "plt.title(r'$$\\rho = 0$$')\n",
    "\n",
    "plt.subplot(253)\n",
    "plt.imshow(trimmed_psth1, aspect='auto')\n",
    "plt.title(r'$$\\rho = 0.1$$')\n",
    "\n",
    "plt.subplot(254)\n",
    "plt.imshow(trimmed_psth2, aspect='auto')\n",
    "plt.title(r'$$\\rho = 0.25$$')\n",
    "\n",
    "plt.subplot(255)\n",
    "plt.imshow(trimmed_psth3, aspect='auto')\n",
    "plt.title(r'$$\\rho = 0.5$$')\n",
    "\n",
    "plt.subplot(256)\n",
    "plt.imshow(target, aspect='auto')\n",
    "\n",
    "plt.subplot(257)\n",
    "plt.imshow(neuron1_network0, aspect='auto')\n",
    "\n",
    "plt.subplot(258)\n",
    "plt.imshow(neuron1_network1, aspect='auto')\n",
    "\n",
    "plt.subplot(259)\n",
    "plt.imshow(neuron1_network2, aspect='auto')\n",
    "\n",
    "plt.subplot(2,5,10)\n",
    "plt.imshow(neuron1_network3, aspect='auto')\n",
    "plt.suptitle('all HITs')\n",
    "plt.tight_layout()"
   ]
  },
  {
   "cell_type": "code",
   "execution_count": 64,
   "metadata": {},
   "outputs": [
    {
     "name": "stdout",
     "output_type": "stream",
     "text": [
      "[ 25.   0.   0.   0.   0.   0.   2.   0.   0.   0.   0.   0.   3.   4.   3.\n",
      "   2.   4.  12.   8.   8.  11.   6.  11.   2.   0.   0.   0.   0.   1.   0.\n",
      "   0.   0.   0.   0.   0.   0.   0.   0.   7.   5.   0.   3.   0.   0.   6.\n",
      "   3.   0.   5.   0.   0.  12.   3.   0.   6.   0.   0.   8.   7.   0.   4.\n",
      "   0.   0.   6.   2.   0.   6.   0.   0.   2.  19.  10.  37.]\n"
     ]
    }
   ],
   "source": [
    "print(counts[3][MISS])"
   ]
  },
  {
   "cell_type": "code",
   "execution_count": 68,
   "metadata": {},
   "outputs": [],
   "source": [
    "context = 0\n",
    "neuron = 18\n",
    "noise = 0\n",
    "# trimmed_psth0m = [ ress[noise][MISS][context][i][20:131] for i in range(727) ]\n",
    "# neuron1_network0 = [ ress[noise][MISS][i][neuron][20:len(targ[0][0])+20] for i in range(len(ress[0][0])) ]\n",
    "# neuron1_network0 = neuron1_network0 / np.linalg.norm(neuron1_network0)\n",
    "\n",
    "noise = 1\n",
    "trimmed_psth1m = [ ress[noise][MISS][context][i][20:131] for i in range(727) ]\n",
    "# neuron1_network1 = [ ress[noise][MISS][i][neuron][20:len(targ[0][0])+20] for i in range(len(ress[0][0])) ]\n",
    "# neuron1_network1 = neuron1_network1 / np.linalg.norm(neuron1_network1)\n",
    "\n",
    "noise = 2\n",
    "trimmed_psth2m = [ ress[noise][MISS][context][i][20:131] for i in range(727) ]\n",
    "# neuron1_network2 = [ ress[noise][MISS][i][neuron][20:len(targ[0][0])+20] for i in range(len(ress[0][0])) ]\n",
    "# neuron1_network2 = neuron1_network2 / np.linalg.norm(neuron1_network2)\n",
    "\n",
    "noise = 3\n",
    "trimmed_psth3m = [ ress[noise][MISS][context][i][20:131] for i in range(727) ]\n",
    "# neuron1_network3 = [ ress[noise][MISS][i][neuron][20:len(targ[0][0])+20] for i in range(len(ress[0][0])) ]\n",
    "# neuron1_network3 = neuron1_network3 / np.linalg.norm(neuron1_network3)\n",
    "\n",
    "target_psthm = [ targ[k][context] for k in range(len(targ)) ]\n",
    "target = targ[neuron] / np.linalg.norm(targ[neuron])"
   ]
  },
  {
   "cell_type": "code",
   "execution_count": 69,
   "metadata": {},
   "outputs": [
    {
     "name": "stderr",
     "output_type": "stream",
     "text": [
      "/Library/Frameworks/Python.framework/Versions/3.6/lib/python3.6/site-packages/matplotlib/pyplot.py:523: RuntimeWarning: More than 20 figures have been opened. Figures created through the pyplot interface (`matplotlib.pyplot.figure`) are retained until explicitly closed and may consume too much memory. (To control this warning, see the rcParam `figure.max_open_warning`).\n",
      "  max_open_warning, RuntimeWarning)\n"
     ]
    },
    {
     "data": {
      "application/vnd.jupyter.widget-view+json": {
       "model_id": "b81e493bc44f4f33b44a9a74cd7368f6",
       "version_major": 2,
       "version_minor": 0
      },
      "text/html": [
       "<p>Failed to display Jupyter Widget of type <code>FigureCanvasNbAgg</code>.</p>\n",
       "<p>\n",
       "  If you're reading this message in Jupyter Notebook or JupyterLab, it may mean\n",
       "  that the widgets JavaScript is still loading. If this message persists, it\n",
       "  likely means that the widgets JavaScript library is either not installed or\n",
       "  not enabled. See the <a href=\"https://ipywidgets.readthedocs.io/en/stable/user_install.html\">Jupyter\n",
       "  Widgets Documentation</a> for setup instructions.\n",
       "</p>\n",
       "<p>\n",
       "  If you're reading this message in another notebook frontend (for example, a static\n",
       "  rendering on GitHub or <a href=\"https://nbviewer.jupyter.org/\">NBViewer</a>),\n",
       "  it may mean that your frontend doesn't currently support widgets.\n",
       "</p>\n"
      ],
      "text/plain": [
       "FigureCanvasNbAgg()"
      ]
     },
     "metadata": {},
     "output_type": "display_data"
    }
   ],
   "source": [
    "plt.figure()\n",
    "plt.subplot(141)\n",
    "plt.imshow(target_psth / np.linalg.norm(target_psth), aspect='auto')\n",
    "plt.title('target')\n",
    "\n",
    "# plt.subplot(152)\n",
    "# plt.imshow(trimmed_psth0m, aspect='auto')\n",
    "# plt.title(r'$$\\rho = 0$$')\n",
    "\n",
    "plt.subplot(142)\n",
    "plt.imshow(trimmed_psth1m, aspect='auto')\n",
    "plt.title(r'$$\\rho = 0.1$$')\n",
    "\n",
    "plt.subplot(143)\n",
    "plt.imshow(trimmed_psth2m, aspect='auto')\n",
    "plt.title(r'$$\\rho = 0.25$$')\n",
    "\n",
    "plt.subplot(144)\n",
    "plt.imshow(trimmed_psth3m, aspect='auto')\n",
    "plt.title(r'$$\\rho = 0.5$$')\n",
    "\n",
    "# plt.subplot(256)\n",
    "# plt.imshow(target, aspect='auto')\n",
    "\n",
    "# plt.subplot(257)\n",
    "# plt.imshow(neuron1_network0, aspect='auto')\n",
    "\n",
    "# plt.subplot(258)\n",
    "# plt.imshow(neuron1_network1, aspect='auto')\n",
    "\n",
    "# plt.subplot(259)\n",
    "# plt.imshow(neuron1_network2, aspect='auto')\n",
    "\n",
    "# plt.subplot(2,5,10)\n",
    "# plt.imshow(neuron1_network3, aspect='auto')\n",
    "plt.suptitle('all MISS')\n",
    "plt.tight_layout()"
   ]
  },
  {
   "cell_type": "code",
   "execution_count": 12,
   "metadata": {},
   "outputs": [
    {
     "name": "stderr",
     "output_type": "stream",
     "text": [
      "/usr/local/Cellar/ipython/7.0.1/libexec/vendor/lib/python3.7/site-packages/ipykernel_launcher.py:9: RuntimeWarning: overflow encountered in exp\n",
      "  if __name__ == '__main__':\n"
     ]
    },
    {
     "data": {
      "application/vnd.jupyter.widget-view+json": {
       "model_id": "4adf7b6f305f47049fd98c1c3bf71f09",
       "version_major": 2,
       "version_minor": 0
      },
      "text/plain": [
       "FigureCanvasNbAgg()"
      ]
     },
     "metadata": {},
     "output_type": "display_data"
    }
   ],
   "source": [
    "counts = np.load('../data_files/x_bind_counts_1.npy')\n",
    "from scipy.optimize import curve_fit\n",
    "\n",
    "HIT, MISS = 0, 1\n",
    "mot = [ np.zeros(6) for i in range(7) ] # num pos\n",
    "col = [ np.zeros(6) for i in range(7) ] # num pos\n",
    "\n",
    "def sigmoid(x, x0, k, t):\n",
    "    y = t * 1 / (1 + np.exp(-k*(x-x0)))\n",
    "    return y\n",
    "\n",
    "divsc = [ np.zeros(6) for i in range(7) ]\n",
    "divsm = [ np.zeros(6) for i in range(7) ]\n",
    "\n",
    "for q in range(7):\n",
    "    for z in range(72):\n",
    "        cc_, mc_, ac, am = vecs[z][0][0], vecs[z][0][1], vecs[z][0][2], vecs[z][0][3]\n",
    "        if cc_ > 0 and ac == 1: # hit is pos, miss is neg\n",
    "            col[q][np.where(cc_ == cc)] += counts[q][HIT][z]\n",
    "            divsc[q][np.where(cc_ == cc)] += counts[q][HIT][z] + counts[q][MISS][z]\n",
    "        if cc_ < 0 and ac == 1: # hit is neg, miss is pos\n",
    "            col[q][np.where(cc_ == cc)] += counts[q][MISS][z]\n",
    "            divsc[q][np.where(cc_ == cc)] += counts[q][MISS][z] + counts[q][HIT][z] \n",
    "        if mc_ > 0 and am == 1: # hit is pos, miss is neg\n",
    "            mot[q][np.where(mc_ == mc)] += counts[q][HIT][z]\n",
    "            divsm[q][np.where(mc_ == mc)] += counts[q][HIT][z] + counts[q][MISS][z]\n",
    "        if mc_ < 0 and am == 1: # hit is neg, miss is pos\n",
    "            mot[q][np.where(mc_ == mc)] += counts[q][MISS][z]\n",
    "            divsm[q][np.where(mc_ == mc)] += counts[q][MISS][z] + counts[q][HIT][z]\n",
    "\n",
    "mot = [ (mot[i] / divsc[i]) * 100 for i in range(7) ] \n",
    "col = [ (col[i] / divsm[i]) * 100 for i in range(7) ]\n",
    "for i in range(7):\n",
    "    col[i][5] = 100\n",
    "    \n",
    "curves_col = [ [] for i in range(7) ]\n",
    "curves_mot = [ [] for i in range(7) ]\n",
    "\n",
    "points = 100\n",
    "for i in range(7):\n",
    "    popt, pcov = curve_fit(sigmoid, cc, col[i], p0=[-40, 0.01, 50])\n",
    "    curves_col[i] = sigmoid(np.linspace(cc[0],cc[-1],num=points), *popt)\n",
    "    \n",
    "    popt, pcov = curve_fit(sigmoid, cc, mot[i], p0=[-40, 0.01, 50])\n",
    "    curves_mot[i] = sigmoid(np.linspace(cc[0],cc[-1],num=points), *popt)\n",
    "\n",
    "\n",
    "alphas = [0.1, 0.2, 0.3, 0.5, 0.7, 0.9, 1]\n",
    "labels = ['0.00', '0.10', '0.25', '0.50', '0.75', '1', '1.5']\n",
    "plt.figure(figsize=(10,5))\n",
    "plt.subplot(121)\n",
    "for i in range(7):\n",
    "    plt.scatter(cc, col[i], label=labels[i], color='cornflowerblue', alpha=alphas[i])\n",
    "    plt.plot(np.linspace(cc[0],cc[-1],num=points), curves_col[i], color='cornflowerblue', alpha=alphas[i])\n",
    "\n",
    "inferred_psych = [2, 7, 34, 65, 89, 99]\n",
    "popt, pcov = curve_fit(sigmoid, cc, inferred_psych, p0=[-40, 0.01, 50])\n",
    "curve = sigmoid(np.linspace(cc[0],cc[-1],num=points), *popt)\n",
    "plt.scatter(cc, inferred_psych, label='monkey', color='black', alpha=alphas[i])\n",
    "plt.plot(np.linspace(cc[0],cc[-1],num=points), curve, color='black', alpha=alphas[i])\n",
    "\n",
    "plt.xticks(cc, ['-0.5', '-0.17', '-0.05', '0.05', '0.17', '0.5'])\n",
    "plt.xlabel('color coherence, color context')\n",
    "plt.ylabel('percent \\'red\\'')\n",
    "plt.legend()\n",
    "\n",
    "plt.subplot(122)\n",
    "for i in range(7):\n",
    "    plt.scatter(cc, mot[i], label=labels[i], color='red', alpha=alphas[i])\n",
    "    plt.plot(np.linspace(cc[0],cc[-1],num=points), curves_mot[i], color='red', alpha=alphas[i])\n",
    "\n",
    "inferred_psych = [2, 14, 41, 64, 87, 99]\n",
    "popt, pcov = curve_fit(sigmoid, cc, inferred_psych, p0=[-40, 0.01, 50])\n",
    "curve = sigmoid(np.linspace(cc[0],cc[-1],num=points), *popt)\n",
    "plt.scatter(cc, inferred_psych, label='monkey', color='black', alpha=alphas[i])\n",
    "plt.plot(np.linspace(cc[0],cc[-1],num=points), curve, color='black', alpha=alphas[i])\n",
    "plt.xticks(cc, ['-0.5', '-0.17', '-0.05', '0.05', '0.17', '0.5'])\n",
    "plt.xlabel('motion coherence, motion context')\n",
    "plt.ylabel('percent \\'right\\'')\n",
    "plt.legend()\n",
    "plt.tight_layout()\n",
    "plt.savefig('psychometric_curves_xpin', dpi=300, bbox_inches='tight')"
   ]
  },
  {
   "cell_type": "code",
   "execution_count": 75,
   "metadata": {},
   "outputs": [],
   "source": [
    "from scipy.io import loadmat\n",
    "monkey_counts = loadmat('../../../../ManteData_justdata/PFCData1/ar090313_1_a2_Vstim_100_850_ms.mat')"
   ]
  },
  {
   "cell_type": "code",
   "execution_count": 76,
   "metadata": {},
   "outputs": [],
   "source": [
    "hit_or_miss = monkey_counts['unit'][0][0][1][0][0][5]\n",
    "color_sig = monkey_counts['unit'][0][0][1][0][0][1]\n",
    "motion_sig = monkey_counts['unit'][0][0][1][0][0][0]\n",
    "context = monkey_counts['unit'][0][0][1][0][0][4]\n",
    "\n",
    "ctarg = np.sort(np.unique(color_sig)).tolist() # color coherence\n",
    "mtarg = np.sort(np.unique(motion_sig)).tolist() # motion coherence\n",
    "\n",
    "counts_monkey = [ np.zeros(72) for i in range(2) ]\n",
    "\n",
    "def det_ind(col, mot, con):\n",
    "    con = 0 if con == 1 else 36\n",
    "    return (ctarg.index(col) * 6 + mtarg.index(mot)) + con\n",
    "\n",
    "for col, mot, con, hit in zip(color_sig, motion_sig, context, hit_or_miss):\n",
    "    ind = det_ind(col, mot, con)\n",
    "    if hit == 1: counts_monkey[HIT][ind] += 1\n",
    "    else: counts_monkey[MISS][ind] += 1"
   ]
  },
  {
   "cell_type": "code",
   "execution_count": 77,
   "metadata": {},
   "outputs": [
    {
     "data": {
      "text/plain": [
       "[array([ 28.,  22.,  16.,  12.,  22.,  27.,  28.,  22.,  19.,   9.,  17.,\n",
       "         27.,  28.,  25.,  14.,  17.,  17.,  30.,  29.,  25.,  18.,  12.,\n",
       "         23.,  26.,  28.,  22.,  16.,  11.,  22.,  29.,  25.,  27.,  18.,\n",
       "         17.,  26.,  25.,  28.,  27.,  22.,  28.,  28.,  27.,  24.,  25.,\n",
       "         24.,  21.,  24.,  22.,  12.,  13.,  18.,  19.,  15.,  16.,  20.,\n",
       "         18.,  23.,  17.,  20.,  22.,  27.,  25.,  26.,  22.,  22.,  22.,\n",
       "         26.,  27.,  27.,  28.,  27.,  28.]),\n",
       " array([  0.,   7.,  12.,  16.,   7.,   2.,   1.,   7.,  10.,  20.,  11.,\n",
       "          1.,   0.,   4.,  15.,  12.,  11.,   0.,   0.,   4.,  11.,  16.,\n",
       "          6.,   2.,   2.,   6.,  12.,  18.,   7.,   0.,   3.,   2.,  12.,\n",
       "         12.,   3.,   4.,   0.,   1.,   6.,   0.,   0.,   1.,   4.,   3.,\n",
       "          4.,   7.,   4.,   6.,  16.,  15.,  10.,   9.,  13.,  12.,   8.,\n",
       "         10.,   5.,  11.,   8.,   6.,   1.,   3.,   2.,   6.,   6.,   6.,\n",
       "          2.,   1.,   1.,   0.,   1.,   0.])]"
      ]
     },
     "execution_count": 77,
     "metadata": {},
     "output_type": "execute_result"
    }
   ],
   "source": [
    "counts_monkey"
   ]
  },
  {
   "cell_type": "code",
   "execution_count": 78,
   "metadata": {},
   "outputs": [],
   "source": [
    "mok_mot = np.zeros(6) # num pos\n",
    "mok_col = np.zeros(6) # num pos\n",
    "\n",
    "divsc_mok = np.zeros(6)\n",
    "divsm_mok = np.zeros(6)\n",
    "\n",
    "for z in range(72):\n",
    "    cc_, mc_, ac, am = vecs[z][0][0], vecs[z][0][1], vecs[z][0][2], vecs[z][0][3]\n",
    "    if cc_ > 0 and ac == 1: # hit is pos, miss is neg\n",
    "        mok_col[np.where(cc_ == cc)] += counts_monkey[HIT][z]\n",
    "        divsc_mok[np.where(cc_ == cc)] += counts_monkey[HIT][z] + counts_monkey[MISS][z]\n",
    "    if cc_ < 0 and ac == 1: # hit is neg, miss is pos\n",
    "        mok_col[np.where(cc_ == cc)] += counts_monkey[MISS][z]\n",
    "        divsc_mok[np.where(cc_ == cc)] += counts_monkey[MISS][z] + counts_monkey[HIT][z] \n",
    "    if mc_ > 0 and am == 1: # hit is pos, miss is neg\n",
    "        mok_mot[np.where(mc_ == mc)] += counts_monkey[HIT][z]\n",
    "        divsm_mok[np.where(mc_ == mc)] += counts_monkey[HIT][z] + counts_monkey[MISS][z]\n",
    "    if mc_ < 0 and am == 1: # hit is neg, miss is pos\n",
    "        mok_mot[np.where(mc_ == mc)] += counts_monkey[MISS][z]\n",
    "        divsm_mok[np.where(mc_ == mc)] += counts_monkey[MISS][z] + counts_monkey[HIT][z]"
   ]
  },
  {
   "cell_type": "code",
   "execution_count": null,
   "metadata": {},
   "outputs": [],
   "source": []
  },
  {
   "cell_type": "code",
   "execution_count": 79,
   "metadata": {},
   "outputs": [
    {
     "name": "stderr",
     "output_type": "stream",
     "text": [
      "/Library/Frameworks/Python.framework/Versions/3.6/lib/python3.6/site-packages/ipykernel_launcher.py:9: RuntimeWarning: overflow encountered in exp\n",
      "  if __name__ == '__main__':\n"
     ]
    }
   ],
   "source": [
    "mok_mot = mok_mot / divsc_mok * 100  \n",
    "mok_col = mok_col / divsm_mok * 100 \n",
    "\n",
    "points = 100\n",
    "popt, pcov = curve_fit(sigmoid, np.arange(6), mok_col, p0=[-40, 0.01, 50])\n",
    "mok_curvec = sigmoid(np.linspace(0,5,num=points), *popt)\n",
    "\n",
    "popt, pcov = curve_fit(sigmoid, np.arange(6), mok_mot, p0=[-40, 0.01, 50])\n",
    "mok_curvem = sigmoid(np.linspace(0,5,num=points), *popt)"
   ]
  },
  {
   "cell_type": "code",
   "execution_count": 80,
   "metadata": {},
   "outputs": [
    {
     "data": {
      "application/vnd.jupyter.widget-view+json": {
       "model_id": "194ee9220eee4f2fab7ff332bb265698",
       "version_major": 2,
       "version_minor": 0
      },
      "text/html": [
       "<p>Failed to display Jupyter Widget of type <code>FigureCanvasNbAgg</code>.</p>\n",
       "<p>\n",
       "  If you're reading this message in Jupyter Notebook or JupyterLab, it may mean\n",
       "  that the widgets JavaScript is still loading. If this message persists, it\n",
       "  likely means that the widgets JavaScript library is either not installed or\n",
       "  not enabled. See the <a href=\"https://ipywidgets.readthedocs.io/en/stable/user_install.html\">Jupyter\n",
       "  Widgets Documentation</a> for setup instructions.\n",
       "</p>\n",
       "<p>\n",
       "  If you're reading this message in another notebook frontend (for example, a static\n",
       "  rendering on GitHub or <a href=\"https://nbviewer.jupyter.org/\">NBViewer</a>),\n",
       "  it may mean that your frontend doesn't currently support widgets.\n",
       "</p>\n"
      ],
      "text/plain": [
       "FigureCanvasNbAgg()"
      ]
     },
     "metadata": {},
     "output_type": "display_data"
    }
   ],
   "source": [
    "plt.figure(figsize=(8,4))\n",
    "plt.subplot(121)\n",
    "plt.scatter(np.arange(6), mok_col, label='monkey', color='cornflowerblue', alpha=0.95)\n",
    "plt.plot(np.linspace(0,5,num=points), mok_curvec, color='cornflowerblue', alpha=0.95)\n",
    "\n",
    "plt.xticks(np.arange(6), ['-0.5', '-0.17', '-0.05', '0.05', '0.17', '0.5'])\n",
    "plt.xlabel('color coherence, color context')\n",
    "plt.ylabel('percent \\'red\\'')\n",
    "plt.legend()\n",
    "\n",
    "plt.subplot(122)\n",
    "plt.scatter(np.arange(6), mok_mot, label='monkey', color='cornflowerblue', alpha=0.95)\n",
    "plt.plot(np.linspace(0,5,num=points), mok_curvem, color='cornflowerblue', alpha=0.95)\n",
    "\n",
    "plt.xticks(np.arange(6), ['-0.5', '-0.17', '-0.05', '0.05', '0.17', '0.5'])\n",
    "plt.xlabel('motion coherence, motion context')\n",
    "plt.ylabel('percent \\'right\\'')\n",
    "plt.tight_layout()"
   ]
  },
  {
   "cell_type": "code",
   "execution_count": 99,
   "metadata": {},
   "outputs": [
    {
     "name": "stderr",
     "output_type": "stream",
     "text": [
      "/Library/Frameworks/Python.framework/Versions/3.6/lib/python3.6/site-packages/matplotlib/pyplot.py:523: RuntimeWarning: More than 20 figures have been opened. Figures created through the pyplot interface (`matplotlib.pyplot.figure`) are retained until explicitly closed and may consume too much memory. (To control this warning, see the rcParam `figure.max_open_warning`).\n",
      "  max_open_warning, RuntimeWarning)\n"
     ]
    },
    {
     "data": {
      "application/vnd.jupyter.widget-view+json": {
       "model_id": "47621b03feaa4749be931922e30963ba",
       "version_major": 2,
       "version_minor": 0
      },
      "text/html": [
       "<p>Failed to display Jupyter Widget of type <code>FigureCanvasNbAgg</code>.</p>\n",
       "<p>\n",
       "  If you're reading this message in Jupyter Notebook or JupyterLab, it may mean\n",
       "  that the widgets JavaScript is still loading. If this message persists, it\n",
       "  likely means that the widgets JavaScript library is either not installed or\n",
       "  not enabled. See the <a href=\"https://ipywidgets.readthedocs.io/en/stable/user_install.html\">Jupyter\n",
       "  Widgets Documentation</a> for setup instructions.\n",
       "</p>\n",
       "<p>\n",
       "  If you're reading this message in another notebook frontend (for example, a static\n",
       "  rendering on GitHub or <a href=\"https://nbviewer.jupyter.org/\">NBViewer</a>),\n",
       "  it may mean that your frontend doesn't currently support widgets.\n",
       "</p>\n"
      ],
      "text/plain": [
       "FigureCanvasNbAgg()"
      ]
     },
     "metadata": {},
     "output_type": "display_data"
    },
    {
     "data": {
      "application/vnd.jupyter.widget-view+json": {
       "model_id": "c13a8b65f8ad454a85c764b4587c35e6",
       "version_major": 2,
       "version_minor": 0
      },
      "text/html": [
       "<p>Failed to display Jupyter Widget of type <code>FigureCanvasNbAgg</code>.</p>\n",
       "<p>\n",
       "  If you're reading this message in Jupyter Notebook or JupyterLab, it may mean\n",
       "  that the widgets JavaScript is still loading. If this message persists, it\n",
       "  likely means that the widgets JavaScript library is either not installed or\n",
       "  not enabled. See the <a href=\"https://ipywidgets.readthedocs.io/en/stable/user_install.html\">Jupyter\n",
       "  Widgets Documentation</a> for setup instructions.\n",
       "</p>\n",
       "<p>\n",
       "  If you're reading this message in another notebook frontend (for example, a static\n",
       "  rendering on GitHub or <a href=\"https://nbviewer.jupyter.org/\">NBViewer</a>),\n",
       "  it may mean that your frontend doesn't currently support widgets.\n",
       "</p>\n"
      ],
      "text/plain": [
       "FigureCanvasNbAgg()"
      ]
     },
     "metadata": {},
     "output_type": "display_data"
    },
    {
     "data": {
      "text/plain": [
       "Text(0,0.5,'PC3')"
      ]
     },
     "execution_count": 99,
     "metadata": {},
     "output_type": "execute_result"
    }
   ],
   "source": [
    "from mpl_toolkits.mplot3d import Axes3D\n",
    "proj_points = np.load('proj_fixed_points1.npy')\n",
    "trace1 = np.load('mot_con.npy')\n",
    "trace2 = np.load('col_con.npy')\n",
    "\n",
    "\n",
    "fig = plt.figure(figsize=(10, 4))\n",
    "ax = fig.add_subplot(151, projection='3d')\n",
    "ax.w_xaxis.set_pane_color(color=(1,1,1,1))\n",
    "ax.w_yaxis.set_pane_color(color=(1,1,1,1))\n",
    "ax.w_zaxis.set_pane_color(color=(1,1,1,1))\n",
    "\n",
    "ax.set_xticks([])\n",
    "ax.set_yticks([])\n",
    "ax.set_zticks([])\n",
    "\n",
    "ax.set_xlabel('PC1')\n",
    "ax.set_ylabel('PC2')\n",
    "ax.set_zlabel('PC3')\n",
    "\n",
    "alphas = [0.5, 0.45, 0.35, 0.25, 0.15]\n",
    "ax.view_init(elev=-137, azim=33)\n",
    "for i in range(5):\n",
    "    ax.scatter3D(trace1[i][:,0], trace1[i][:,1], trace1[i][:,2], color='cornflowerblue', s=5, alpha=alphas[i])\n",
    "    ax.plot3D(trace1[i][:,0], trace1[i][:,1], trace1[i][:,2], color='cornflowerblue', alpha=alphas[i])\n",
    "    \n",
    "    ax.scatter3D(trace2[i][:,0], trace2[i][:,1], trace2[i][:,2], color='red', s=5, alpha=alphas[i])\n",
    "    ax.plot3D(trace2[i][:,0], trace2[i][:,1], trace2[i][:,2], color='red', alpha=alphas[i])\n",
    "    \n",
    "ax.scatter3D(proj_points[0,0], proj_points[0,1], proj_points[0,2], color='red', s=40)\n",
    "\n",
    "fig = plt.figure(figsize=(10, 4))\n",
    "ax = fig.add_subplot(152, projection='3d')\n",
    "ax.w_xaxis.set_pane_color(color=(1,1,1,1))\n",
    "ax.w_yaxis.set_pane_color(color=(1,1,1,1))\n",
    "ax.w_zaxis.set_pane_color(color=(1,1,1,1))\n",
    "\n",
    "ax.set_xticks([])\n",
    "ax.set_yticks([])\n",
    "ax.set_zticks([])\n",
    "\n",
    "ax.set_xlabel('PC1')\n",
    "ax.set_ylabel('PC2')\n",
    "ax.set_zlabel('PC3')\n",
    "\n",
    "alphas = [0.5, 0.45, 0.35, 0.25, 0.15]\n",
    "ax.view_init(elev=-129, azim=-44)\n",
    "for i in range(5):\n",
    "    ax.scatter3D(trace1[i][:,0], trace1[i][:,1], trace1[i][:,2], color='cornflowerblue', s=5, alpha=alphas[i])\n",
    "    ax.plot3D(trace1[i][:,0], trace1[i][:,1], trace1[i][:,2], color='cornflowerblue', alpha=alphas[i])\n",
    "    \n",
    "    ax.scatter3D(trace2[i][:,0], trace2[i][:,1], trace2[i][:,2], color='red', s=5, alpha=alphas[i])\n",
    "    ax.plot3D(trace2[i][:,0], trace2[i][:,1], trace2[i][:,2], color='red', alpha=alphas[i])\n",
    "    \n",
    "ax.scatter3D(proj_points[0,0], proj_points[0,1], proj_points[0,2], color='red', s=40)\n",
    "\n",
    "plt.subplot(153)\n",
    "for i in range(5):\n",
    "    plt.scatter(trace1[i][:,0], trace1[i][:,1], color='red', s=5, alpha=alphas[i])\n",
    "    plt.scatter(trace2[i][:,0], trace2[i][:,1], color='cornflowerblue', s=5, alpha=alphas[i])\n",
    "    plt.plot(trace1[i][:,0], trace1[i][:,1], color='red', alpha=alphas[i])\n",
    "    plt.plot(trace2[i][:,0], trace2[i][:,1], color='cornflowerblue', alpha=alphas[i])\n",
    "plt.xticks([])\n",
    "plt.yticks([])\n",
    "plt.xlabel('PC1')\n",
    "plt.ylabel('PC2')\n",
    "\n",
    "plt.subplot(154)\n",
    "for i in range(5):\n",
    "    plt.scatter(trace1[i][:,0], trace1[i][:,2], color='red', s=5, alpha=alphas[i])\n",
    "    plt.scatter(trace1[i][:,0], trace1[i][:,2], color='cornflowerblue', s=5, alpha=alphas[i])\n",
    "    plt.plot(trace1[i][:,0], trace1[i][:,2], color='red', alpha=alphas[i])\n",
    "    plt.plot(trace1[i][:,0], trace1[i][:,2], color='cornflowerblue', alpha=alphas[i])\n",
    "plt.xticks([])\n",
    "plt.yticks([])\n",
    "plt.xlabel('PC1')\n",
    "plt.ylabel('PC3')\n",
    "\n",
    "plt.subplot(155)\n",
    "for i in range(5):\n",
    "    plt.scatter(trace1[i][:,1], trace1[i][:,2], color='red', s=5, alpha=alphas[i])\n",
    "    plt.scatter(trace1[i][:,1], trace1[i][:,2],color='cornflowerblue', s=5, alpha=alphas[i])\n",
    "    plt.plot(trace1[i][:,1], trace1[i][:,2], color='red', alpha=alphas[i])\n",
    "    plt.plot(trace1[i][:,1], trace1[i][:,2], color='cornflowerblue', alpha=alphas[i])\n",
    "plt.xticks([])\n",
    "plt.yticks([])\n",
    "plt.xlabel('PC2')\n",
    "plt.ylabel('PC3')"
   ]
  },
  {
   "cell_type": "markdown",
   "metadata": {},
   "source": [
    "$$pVar = 1 - \\frac{\\Big(\\sum_{j=1}^N \\sum_{t=1}^T D_i(t) - r_i(t)\\Big)^2}{\\Big(\\sum_{j=1}^N \\sum_{t=1}^T D_i(t) - D_m(t)\\Big)^2}$$"
   ]
  },
  {
   "cell_type": "code",
   "execution_count": 10,
   "metadata": {},
   "outputs": [
    {
     "name": "stderr",
     "output_type": "stream",
     "text": [
      "/usr/local/Cellar/ipython/7.0.1/libexec/vendor/lib/python3.7/site-packages/ipykernel_launcher.py:7: DeprecationWarning: elementwise == comparison failed; this will raise an error in the future.\n",
      "  import sys\n"
     ]
    }
   ],
   "source": [
    "ress = np.load('noise_experiment_10.npy', encoding='latin1')\n",
    "targ = np.load('../datafiles/jp2/loaded_data0.npy')\n",
    "HIT, MISS = 0, 1\n",
    "\n",
    "for q in range(4):\n",
    "    for z in range(72):\n",
    "        if ress[q][HIT][z] == []:\n",
    "            ress[q][HIT][z] = ress[q][MISS][z]\n",
    "        \n",
    "def pVar(targ, net, t_avg):\n",
    "    # normalize first\n",
    "    #targ = targ / np.linalg.norm(targ)\n",
    "    #net = net / np.linalg.norm(net)\n",
    "    \n",
    "    d_m = np.tile(t_avg, (np.shape(targ)[0], 1))\n",
    "    targ_var = np.sum((targ - d_m) ** 2)\n",
    "    net_var = np.sum((targ - net) ** 2)\n",
    "    return 1 - net_var / targ_var\n",
    "\n",
    "\n",
    "pvars = [ np.zeros(72) for i in range(4) ]\n",
    "by_time = [ [] for i in range(4) ]\n",
    "for q in range(4):\n",
    "    for t in range(72):\n",
    "        target_psth = np.array([ targ[k][t] for k in range(len(targ)) ])\n",
    "        target_psth = target_psth / np.linalg.norm(target_psth)\n",
    "        by_time[q].append(np.mean(target_psth, axis=0))\n",
    "    by_time[q] = np.mean(np.array(by_time[q]), axis=0)\n",
    "\n",
    "for q in range(4):\n",
    "    for t in range(72):\n",
    "        trimmed_psth = np.array([ ress[q][HIT][t][i][20:131] for i in range(726) ])\n",
    "        target_psth = np.array([ targ[k][t] for k in range(len(targ)) ])\n",
    "        pvars[q][t] = max(pVar(target_psth, trimmed_psth, by_time[q]), 0)"
   ]
  },
  {
   "cell_type": "code",
   "execution_count": 58,
   "metadata": {},
   "outputs": [],
   "source": [
    "#pvars = [ np.array(list(filter(lambda x: not x == 0, pvars[i]))) for i in range(4)]"
   ]
  },
  {
   "cell_type": "code",
   "execution_count": 59,
   "metadata": {},
   "outputs": [
    {
     "name": "stdout",
     "output_type": "stream",
     "text": [
      "72\n"
     ]
    }
   ],
   "source": [
    "print(len(pvars[0]))"
   ]
  },
  {
   "cell_type": "code",
   "execution_count": 11,
   "metadata": {},
   "outputs": [],
   "source": [
    "test = [ np.mean(pvars[q]) for q in range(4) ]\n",
    "var = [ np.var(pvars[q]) for q in range(4) ]"
   ]
  },
  {
   "cell_type": "code",
   "execution_count": 12,
   "metadata": {},
   "outputs": [
    {
     "name": "stdout",
     "output_type": "stream",
     "text": [
      "[0.8664882182379314, 0.6552545095561162, 0.24955503202645093, 0.037877315665352455]\n",
      "[0.01272062341140325, 0.053082784725511506, 0.046147692270097455, 0.005270844729583752]\n"
     ]
    }
   ],
   "source": [
    "print(test)\n",
    "print(var)"
   ]
  },
  {
   "cell_type": "code",
   "execution_count": 13,
   "metadata": {},
   "outputs": [
    {
     "data": {
      "text/plain": [
       "Text(0, 0.5, 'pVar')"
      ]
     },
     "execution_count": 13,
     "metadata": {},
     "output_type": "execute_result"
    },
    {
     "data": {
      "image/png": "[encoded data removed]",
      "text/plain": [
       "<Figure size 432x288 with 1 Axes>"
      ]
     },
     "metadata": {
      "needs_background": "light"
     },
     "output_type": "display_data"
    }
   ],
   "source": [
    "plt.figure()\n",
    "plt.errorbar(np.arange(4), test, yerr=var, fmt='o', capthick=2, capsize=3)\n",
    "plt.xticks(np.arange(4), ['0.0', '0.1', '0.25', '0.5'])\n",
    "plt.xlabel(r'$$\\rho^2$$')\n",
    "plt.ylim((0,1))\n",
    "plt.ylabel('pVar')"
   ]
  },
  {
   "cell_type": "code",
   "execution_count": 30,
   "metadata": {},
   "outputs": [
    {
     "name": "stdout",
     "output_type": "stream",
     "text": [
      "(726, 72, 111)\n",
      "[0.8996433157797179, 0.8996224075421679, 0.8995528155390579, 0.8995809484493326] [0.9048306930505695, 0.9046990521871974, 0.9042676315035515, 0.9041565225061032]\n"
     ]
    },
    {
     "data": {
      "text/plain": [
       "<matplotlib.legend.Legend at 0x119830dd8>"
      ]
     },
     "execution_count": 30,
     "metadata": {},
     "output_type": "execute_result"
    },
    {
     "data": {
      "image/png": "[encoded data removed]",
      "text/plain": [
       "<Figure size 432x288 with 1 Axes>"
      ]
     },
     "metadata": {
      "needs_background": "light"
     },
     "output_type": "display_data"
    }
   ],
   "source": [
    "ress = np.load('no_noise_n1000_rpin_2.npy', encoding='latin1')\n",
    "res3 = np.load('noise_n1800_0.npy', encoding='latin1')\n",
    "targ = np.load('../datafiles/jp2/loaded_data0.npy')\n",
    "print(np.shape(targ))\n",
    "\n",
    "def normalize(arg, max_, min_):\n",
    "    return min_ + (((arg - np.min(arg)) * (max_ - min_)) / (np.max(arg) - np.min(arg)))\n",
    "\n",
    "targ = [[ targ[i][j] for i in range(len(targ)) ] for j in range(72) ]\n",
    "targ = np.array([ normalize(targ[i], 0.1, 0.9) for i in range(72) ])\n",
    "targ = targ / np.linalg.norm(targ)\n",
    "ress = ress / np.linalg.norm(ress)\n",
    "res3 = res3 / np.linalg.norm(res3)\n",
    "\n",
    "def pVar(targ, net, t_avg):\n",
    "    d_m = np.tile(t_avg, (np.shape(targ)[0], 1))\n",
    "    targ_var = np.linalg.norm(targ - d_m, 'fro')\n",
    "    net_var = np.linalg.norm(targ - net, 'fro')\n",
    "    #targ_var = np.sum((targ - d_m) ** 2)\n",
    "    #net_var = np.sum((targ - net) ** 2)\n",
    "    return 1 - net_var / targ_var\n",
    "\n",
    "pvars = [ np.zeros(72) for i in range(4) ]\n",
    "pvars2 = [ np.zeros(72) for i in range(4) ]\n",
    "pvars3 = [ np.zeros(72) for i in range(4) ]\n",
    "by_time = [ [] for i in range(4) ]\n",
    "for q in range(4):\n",
    "    for t in range(72):\n",
    "        target_psth = targ[t] # np.array([ targ[k][t] for k in range(len(targ)) ])\n",
    "        target_psth = target_psth / np.linalg.norm(target_psth)\n",
    "        by_time[q].append(np.mean(target_psth, axis=0))\n",
    "    by_time[q] = np.mean(np.array(by_time[q]), axis=0)\n",
    "\n",
    "\n",
    "for q in range(4):\n",
    "    for t in range(72):\n",
    "        trimmed_psth = np.array([ ress[q][t][i][20:131] for i in range(726) ])\n",
    "        #trimmed_psth2 = np.array([ res2[q][t][i][20:131] for i in range(726) ])\n",
    "        trimmed_psth3 = np.array([ res3[q][t][i][20:131] for i in range(726) ])\n",
    "        target_psth = targ[t] # np.array([ targ[k][t] for k in range(len(targ)) ])\n",
    "        #pvars2[q][t] = max(pVar(target_psth, trimmed_psth2, by_time[q]), 0)\n",
    "        pvars[q][t] = max(pVar(target_psth, trimmed_psth, by_time[q]), 0)\n",
    "        pvars3[q][t] = max(pVar(target_psth, trimmed_psth3, by_time[q]), 0)\n",
    "\n",
    "\n",
    "test = [ np.mean(pvars[q]) for q in range(4) ]\n",
    "var = [ np.var(pvars[q]) for q in range(4) ]\n",
    "#test2 = [ np.mean(pvars2[q]) for q in range(4) ]\n",
    "#var2 = [ np.var(pvars2[q]) for q in range(4) ]\n",
    "test3 = [ np.mean(pvars3[q]) for q in range(4) ]\n",
    "var3 = [ np.var(pvars3[q]) for q in range(4) ]\n",
    "print(test, test3)\n",
    "\n",
    "plt.figure()\n",
    "plt.errorbar(np.arange(4), test, yerr=var, fmt='o', capthick=2, capsize=3, label='N = 1800')\n",
    "plt.errorbar(np.arange(4), test3, yerr=var3, fmt='o', capthick=2, capsize=3, label='N = 726')\n",
    "plt.xticks(np.arange(4), ['0.0', '0.1', '0.25', '0.5'])\n",
    "plt.xlabel(r'$$\\rho^2$$')\n",
    "plt.ylim((0,1))\n",
    "plt.ylabel('pVar')\n",
    "plt.legend()"
   ]
  },
  {
   "cell_type": "code",
   "execution_count": 247,
   "metadata": {},
   "outputs": [],
   "source": [
    "from mpl_toolkits.axes_grid.inset_locator import inset_axes\n",
    "ress = np.load('noise_experiment_9.npy', encoding='latin1')\n",
    "targ = np.load('../datafiles/jp2/loaded_data0.npy')\n",
    "\n",
    "context = 18\n",
    "neuron = 18\n",
    "noise = 0\n",
    "trimmed_psth0 = [ ress[noise][HIT][context][i][20:131] for i in range(727) ]\n",
    "neuron1_network0 = [ ress[noise][HIT][i][neuron][20:len(targ[0][0])+20] for i in range(len(ress[0][0])) ]\n",
    "neuron1_network0 = neuron1_network0 / np.linalg.norm(neuron1_network0)\n",
    "\n",
    "noise = 1\n",
    "trimmed_psth1 = [ ress[noise][HIT][context][i][20:131] for i in range(727) ]\n",
    "neuron1_network1 = [ ress[noise][HIT][i][neuron][20:len(targ[0][0])+20] for i in range(len(ress[0][0])) ]\n",
    "neuron1_network1 = neuron1_network1 / np.linalg.norm(neuron1_network1)\n",
    "\n",
    "noise = 2\n",
    "trimmed_psth2 = [ ress[noise][HIT][context][i][20:131] for i in range(727) ]\n",
    "neuron1_network2 = [ ress[noise][HIT][i][neuron][20:len(targ[0][0])+20] for i in range(len(ress[0][0])) ]\n",
    "neuron1_network2 = neuron1_network2 / np.linalg.norm(neuron1_network2)\n",
    "\n",
    "noise = 3\n",
    "trimmed_psth3 = [ ress[noise][HIT][context][i][20:131] for i in range(727) ]\n",
    "neuron1_network3 = [ ress[noise][HIT][i][neuron][20:len(targ[0][0])+20] for i in range(len(ress[0][0])) ]\n",
    "neuron1_network3 = neuron1_network3 / np.linalg.norm(neuron1_network3)\n",
    "\n",
    "target_psth = [ targ[k][context] for k in range(len(targ)) ]\n",
    "target = targ[neuron] / np.linalg.norm(targ[neuron])"
   ]
  },
  {
   "cell_type": "code",
   "execution_count": 250,
   "metadata": {},
   "outputs": [],
   "source": [
    "import math\n",
    "def sigmoid(x):\n",
    "    return x / math.sqrt(100 + x * x)\n",
    "\n",
    "poss_maps = {\n",
    "    'baseline': [ 0 for i in range(100)   ],\n",
    "    'pos'     : [ sigmoid(i) for i in range(100)                     ],\n",
    "    'neg'     : [ -1 * sigmoid(i) for i in range(100)                ],\n",
    "    'r_pos'   : [ 1 - sigmoid(i) for i in range(100)                 ],\n",
    "    'r_neg'   : [ -1 * (1 - sigmoid(i)) for i in range(100)          ],\n",
    "    'base'    : [ 0 for i in range(100)                              ]\n",
    "}\n",
    "\n",
    "appendpos = np.append(np.append(poss_maps['pos'], poss_maps['r_pos']), poss_maps['baseline']) "
   ]
  },
  {
   "cell_type": "code",
   "execution_count": 252,
   "metadata": {},
   "outputs": [
    {
     "name": "stderr",
     "output_type": "stream",
     "text": [
      "/Library/Frameworks/Python.framework/Versions/3.6/lib/python3.6/site-packages/matplotlib/pyplot.py:523: RuntimeWarning: More than 20 figures have been opened. Figures created through the pyplot interface (`matplotlib.pyplot.figure`) are retained until explicitly closed and may consume too much memory. (To control this warning, see the rcParam `figure.max_open_warning`).\n",
      "  max_open_warning, RuntimeWarning)\n"
     ]
    },
    {
     "data": {
      "application/vnd.jupyter.widget-view+json": {
       "model_id": "8b61c4fed8044b3a95b8735ee95b2d71",
       "version_major": 2,
       "version_minor": 0
      },
      "text/html": [
       "<p>Failed to display Jupyter Widget of type <code>FigureCanvasNbAgg</code>.</p>\n",
       "<p>\n",
       "  If you're reading this message in Jupyter Notebook or JupyterLab, it may mean\n",
       "  that the widgets JavaScript is still loading. If this message persists, it\n",
       "  likely means that the widgets JavaScript library is either not installed or\n",
       "  not enabled. See the <a href=\"https://ipywidgets.readthedocs.io/en/stable/user_install.html\">Jupyter\n",
       "  Widgets Documentation</a> for setup instructions.\n",
       "</p>\n",
       "<p>\n",
       "  If you're reading this message in another notebook frontend (for example, a static\n",
       "  rendering on GitHub or <a href=\"https://nbviewer.jupyter.org/\">NBViewer</a>),\n",
       "  it may mean that your frontend doesn't currently support widgets.\n",
       "</p>\n"
      ],
      "text/plain": [
       "FigureCanvasNbAgg()"
      ]
     },
     "metadata": {},
     "output_type": "display_data"
    },
    {
     "name": "stderr",
     "output_type": "stream",
     "text": [
      "/Library/Frameworks/Python.framework/Versions/3.6/lib/python3.6/site-packages/matplotlib/figure.py:1999: UserWarning: This figure includes Axes that are not compatible with tight_layout, so results might be incorrect.\n",
      "  warnings.warn(\"This figure includes Axes that are not compatible \"\n"
     ]
    },
    {
     "data": {
      "text/plain": [
       "[<matplotlib.lines.Line2D at 0x157cf4dd8>]"
      ]
     },
     "execution_count": 252,
     "metadata": {},
     "output_type": "execute_result"
    }
   ],
   "source": [
    "plt.figure()\n",
    "ax = plt.subplot(151)\n",
    "plt.imshow(target_psth / np.linalg.norm(target_psth), aspect='auto')\n",
    "plt.title('target')\n",
    "a = inset_axes(ax, width='83%', height='10%', loc=3)\n",
    "a.set_xticks([])\n",
    "a.set_yticks([])\n",
    "a.plot(appendpos, color='cornflowerblue')\n",
    "\n",
    "ax = plt.subplot(152)\n",
    "plt.imshow(trimmed_psth0, aspect='auto')\n",
    "plt.xticks([])\n",
    "plt.yticks([])\n",
    "plt.title(r'$$\\rho = 0$$')\n",
    "a = inset_axes(ax, width='83%', height='10%', loc=3)\n",
    "a.set_xticks([])\n",
    "a.set_yticks([])\n",
    "a.plot(ress[0][HIT][context][-1], color='cornflowerblue')\n",
    "\n",
    "ax = plt.subplot(153)\n",
    "plt.imshow(trimmed_psth1, aspect='auto')\n",
    "plt.xticks([])\n",
    "plt.yticks([])\n",
    "plt.title(r'$$\\rho = 0.1$$')\n",
    "a = inset_axes(ax, width='83%', height='10%', loc=3)\n",
    "a.set_xticks([])\n",
    "a.set_yticks([])\n",
    "a.plot(ress[1][HIT][context][-1], color='cornflowerblue')\n",
    "\n",
    "ax = plt.subplot(154)\n",
    "plt.imshow(trimmed_psth2, aspect='auto')\n",
    "plt.xticks([])\n",
    "plt.yticks([])\n",
    "plt.title(r'$$\\rho = 0.25$$')\n",
    "a = inset_axes(ax, width='83%', height='10%', loc=3)\n",
    "a.set_xticks([])\n",
    "a.set_yticks([])\n",
    "a.plot(ress[2][HIT][context][-1], color='cornflowerblue')\n",
    "\n",
    "ax = plt.subplot(155)\n",
    "plt.imshow(trimmed_psth3, aspect='auto')\n",
    "plt.xticks([])\n",
    "plt.yticks([])\n",
    "plt.title(r'$$\\rho = 0.5$$')\n",
    "plt.tight_layout()\n",
    "a = inset_axes(ax, width='83%', height='10%', loc=3)\n",
    "a.set_xticks([])\n",
    "a.set_yticks([])\n",
    "a.plot(ress[3][HIT][context][-1], color='cornflowerblue')"
   ]
  },
  {
   "cell_type": "code",
   "execution_count": 33,
   "metadata": {},
   "outputs": [
    {
     "data": {
      "application/vnd.jupyter.widget-view+json": {
       "model_id": "68f26aaa19fa4b30afbef1adff415d2a",
       "version_major": 2,
       "version_minor": 0
      },
      "text/html": [
       "<p>Failed to display Jupyter Widget of type <code>FigureCanvasNbAgg</code>.</p>\n",
       "<p>\n",
       "  If you're reading this message in Jupyter Notebook or JupyterLab, it may mean\n",
       "  that the widgets JavaScript is still loading. If this message persists, it\n",
       "  likely means that the widgets JavaScript library is either not installed or\n",
       "  not enabled. See the <a href=\"https://ipywidgets.readthedocs.io/en/stable/user_install.html\">Jupyter\n",
       "  Widgets Documentation</a> for setup instructions.\n",
       "</p>\n",
       "<p>\n",
       "  If you're reading this message in another notebook frontend (for example, a static\n",
       "  rendering on GitHub or <a href=\"https://nbviewer.jupyter.org/\">NBViewer</a>),\n",
       "  it may mean that your frontend doesn't currently support widgets.\n",
       "</p>\n"
      ],
      "text/plain": [
       "FigureCanvasNbAgg()"
      ]
     },
     "metadata": {},
     "output_type": "display_data"
    },
    {
     "data": {
      "text/plain": [
       "Text(0,0.5,'Re($\\\\lambda$)')"
      ]
     },
     "execution_count": 33,
     "metadata": {},
     "output_type": "execute_result"
    }
   ],
   "source": [
    "%matplotlib ipympl\n",
    "eigs = np.load('eigs.npy')\n",
    "plt.figure()\n",
    "for i in range(41):\n",
    "    plt.plot(np.sort(eigs[i].real), '+', color='cornflowerblue', mew=0.05)\n",
    "plt.xticks([])\n",
    "plt.ylabel(r'Re($\\lambda$)')"
   ]
  },
  {
   "cell_type": "code",
   "execution_count": 2,
   "metadata": {},
   "outputs": [
    {
     "data": {
      "text/plain": [
       "Text(0,0.5,'PC3')"
      ]
     },
     "execution_count": 2,
     "metadata": {},
     "output_type": "execute_result"
    },
    {
     "data": {
      "image/png": "[encoded data removed]",
      "text/plain": [
       "<matplotlib.figure.Figure at 0x111708f60>"
      ]
     },
     "metadata": {},
     "output_type": "display_data"
    }
   ],
   "source": [
    "from mpl_toolkits.mplot3d import Axes3D\n",
    "proj_points = np.load('proj_fixed_points1.npy')\n",
    "\n",
    "fig = plt.figure()\n",
    "ax = fig.add_subplot(141, projection='3d')\n",
    "ax.w_xaxis.set_pane_color(color=(1,1,1,1))\n",
    "ax.w_yaxis.set_pane_color(color=(1,1,1,1))\n",
    "ax.w_zaxis.set_pane_color(color=(1,1,1,1))\n",
    "\n",
    "ax.set_xticks([])\n",
    "ax.set_yticks([])\n",
    "ax.set_zticks([])\n",
    "\n",
    "ax.set_xlabel('PC1')\n",
    "ax.set_ylabel('PC2')\n",
    "ax.set_zlabel('PC3')\n",
    "ax.scatter3D(proj_points[:,0], proj_points[:,1], proj_points[:,2], color='cornflowerblue', s=40)\n",
    "\n",
    "plt.subplot(142)\n",
    "plt.scatter(proj_points[:,0], proj_points[:,1], color='cornflowerblue', s=40)\n",
    "plt.xticks([])\n",
    "plt.yticks([])\n",
    "plt.xlabel('PC1')\n",
    "plt.ylabel('PC2')\n",
    "\n",
    "plt.subplot(143)\n",
    "plt.scatter(proj_points[:,0], proj_points[:,2], color='cornflowerblue', s=40)\n",
    "plt.xticks([])\n",
    "plt.yticks([])\n",
    "plt.xlabel('PC1')\n",
    "plt.ylabel('PC3')\n",
    "\n",
    "plt.subplot(144)\n",
    "plt.scatter(proj_points[:,1], proj_points[:,2], color='cornflowerblue', s=40)\n",
    "plt.xticks([])\n",
    "plt.yticks([])\n",
    "plt.xlabel('PC2')\n",
    "plt.ylabel('PC3')"
   ]
  },
  {
   "cell_type": "code",
   "execution_count": 4,
   "metadata": {},
   "outputs": [
    {
     "data": {
      "application/vnd.jupyter.widget-view+json": {
       "model_id": "5b58b1f67caa4967bc9ec87e967d3c1f",
       "version_major": 2,
       "version_minor": 0
      },
      "text/html": [
       "<p>Failed to display Jupyter Widget of type <code>FigureCanvasNbAgg</code>.</p>\n",
       "<p>\n",
       "  If you're reading this message in Jupyter Notebook or JupyterLab, it may mean\n",
       "  that the widgets JavaScript is still loading. If this message persists, it\n",
       "  likely means that the widgets JavaScript library is either not installed or\n",
       "  not enabled. See the <a href=\"https://ipywidgets.readthedocs.io/en/stable/user_install.html\">Jupyter\n",
       "  Widgets Documentation</a> for setup instructions.\n",
       "</p>\n",
       "<p>\n",
       "  If you're reading this message in another notebook frontend (for example, a static\n",
       "  rendering on GitHub or <a href=\"https://nbviewer.jupyter.org/\">NBViewer</a>),\n",
       "  it may mean that your frontend doesn't currently support widgets.\n",
       "</p>\n"
      ],
      "text/plain": [
       "FigureCanvasNbAgg()"
      ]
     },
     "metadata": {},
     "output_type": "display_data"
    },
    {
     "data": {
      "text/plain": [
       "Text(0,0.5,'PC3')"
      ]
     },
     "execution_count": 4,
     "metadata": {},
     "output_type": "execute_result"
    }
   ],
   "source": [
    "paths = np.load('lots_of_paths.npy')\n",
    "%matplotlib ipympl\n",
    "\n",
    "fig = plt.figure(figsize=(5, 4))\n",
    "ax = fig.add_subplot(151, projection='3d')\n",
    "ax.w_xaxis.set_pane_color(color=(1,1,1,1))\n",
    "ax.w_yaxis.set_pane_color(color=(1,1,1,1))\n",
    "ax.w_zaxis.set_pane_color(color=(1,1,1,1))\n",
    "\n",
    "ax.set_xticks([])\n",
    "ax.set_yticks([])\n",
    "ax.set_zticks([])\n",
    "\n",
    "ax.set_xlabel('PC1')\n",
    "ax.set_ylabel('PC2')\n",
    "ax.set_zlabel('PC3')\n",
    "ax.view_init(elev=-137, azim=33)\n",
    "ax.scatter3D(proj_points[:,0], proj_points[:,1], proj_points[:,2], color='cornflowerblue', s=40)\n",
    "for i in range(int(len(paths) / 2)):\n",
    "    ax.scatter3D(paths[i][50,0], paths[i][50,1], paths[i][50,2], color='#fd411e', s=1)\n",
    "    # ax.plot3D(paths[i][:,0], paths[i][:,1], paths[i][:,2], color='#fd411e', linewidth=0.5)\n",
    "\n",
    "ax = fig.add_subplot(152, projection='3d')\n",
    "ax.w_xaxis.set_pane_color(color=(1,1,1,1))\n",
    "ax.w_yaxis.set_pane_color(color=(1,1,1,1))\n",
    "ax.w_zaxis.set_pane_color(color=(1,1,1,1))\n",
    "\n",
    "ax.set_xticks([])\n",
    "ax.set_yticks([])\n",
    "ax.set_zticks([])\n",
    "\n",
    "ax.set_xlabel('PC1')\n",
    "ax.set_ylabel('PC2')\n",
    "ax.set_zlabel('PC3')\n",
    "ax.view_init(elev=-129, azim=-44)\n",
    "ax.scatter3D(proj_points[:,0], proj_points[:,1], proj_points[:,2], color='cornflowerblue', s=40)\n",
    "for i in range(int(len(paths) / 2)):\n",
    "    ax.scatter3D(paths[i][50,0], paths[i][50,1], paths[i][50,2], color='#fd411e', s=1)\n",
    "    # ax.plot3D(paths[i][:,0], paths[i][:,1], paths[i][:,2], color='#fd411e', linewidth=0.5)\n",
    "\n",
    "plt.subplot(153)\n",
    "plt.scatter(proj_points[:,0], proj_points[:,1], color='cornflowerblue', s=40)\n",
    "for i in range(int(len(paths) / 2)):\n",
    "    plt.scatter(paths[i][50,0], paths[i][50,1], color='#fd411e', s=1)\n",
    "plt.xticks([])\n",
    "plt.yticks([])\n",
    "plt.xlabel('PC1')\n",
    "plt.ylabel('PC2')\n",
    "\n",
    "plt.subplot(154)\n",
    "plt.scatter(proj_points[:,0], proj_points[:,2], color='cornflowerblue', s=40)\n",
    "for i in range(int(len(paths) / 2)):\n",
    "    plt.scatter(paths[i][50,0], paths[i][50,2], color='#fd411e', s=1)\n",
    "plt.xticks([])\n",
    "plt.yticks([])\n",
    "plt.xlabel('PC1')\n",
    "plt.ylabel('PC3')\n",
    "\n",
    "plt.subplot(155)\n",
    "plt.scatter(proj_points[:,1], proj_points[:,2], color='cornflowerblue', s=40)\n",
    "for i in range(int(len(paths) / 2)):\n",
    "    plt.scatter(paths[i][50,1], paths[i][50,2], color='#fd411e', s=1)\n",
    "plt.xticks([])\n",
    "plt.yticks([])\n",
    "plt.xlabel('PC2')\n",
    "plt.ylabel('PC3')"
   ]
  },
  {
   "cell_type": "code",
   "execution_count": 11,
   "metadata": {},
   "outputs": [
    {
     "data": {
      "application/vnd.jupyter.widget-view+json": {
       "model_id": "54b8c36099854df6b1e9735cb884c78f",
       "version_major": 2,
       "version_minor": 0
      },
      "text/html": [
       "<p>Failed to display Jupyter Widget of type <code>FigureCanvasNbAgg</code>.</p>\n",
       "<p>\n",
       "  If you're reading this message in Jupyter Notebook or JupyterLab, it may mean\n",
       "  that the widgets JavaScript is still loading. If this message persists, it\n",
       "  likely means that the widgets JavaScript library is either not installed or\n",
       "  not enabled. See the <a href=\"https://ipywidgets.readthedocs.io/en/stable/user_install.html\">Jupyter\n",
       "  Widgets Documentation</a> for setup instructions.\n",
       "</p>\n",
       "<p>\n",
       "  If you're reading this message in another notebook frontend (for example, a static\n",
       "  rendering on GitHub or <a href=\"https://nbviewer.jupyter.org/\">NBViewer</a>),\n",
       "  it may mean that your frontend doesn't currently support widgets.\n",
       "</p>\n"
      ],
      "text/plain": [
       "FigureCanvasNbAgg()"
      ]
     },
     "metadata": {},
     "output_type": "display_data"
    },
    {
     "data": {
      "text/plain": [
       "Text(0,0.5,'PC3')"
      ]
     },
     "execution_count": 11,
     "metadata": {},
     "output_type": "execute_result"
    }
   ],
   "source": [
    "ls = np.load('ls.npy')\n",
    "\n",
    "fig = plt.figure(figsize=(10, 4))\n",
    "ax = fig.add_subplot(151, projection='3d')\n",
    "ax.w_xaxis.set_pane_color(color=(1,1,1,1))\n",
    "ax.w_yaxis.set_pane_color(color=(1,1,1,1))\n",
    "ax.w_zaxis.set_pane_color(color=(1,1,1,1))\n",
    "\n",
    "ax.set_xticks([])\n",
    "ax.set_yticks([])\n",
    "ax.set_zticks([])\n",
    "\n",
    "ax.set_xlabel('PC1')\n",
    "ax.set_ylabel('PC2')\n",
    "ax.set_zlabel('PC3')\n",
    "ax.view_init(elev=-137, azim=33)\n",
    "ax.scatter3D(proj_points[:,0], proj_points[:,1], proj_points[:,2], color='cornflowerblue', s=40)\n",
    "for i in range(int(len(paths) / 2), len(paths)):\n",
    "    ax.scatter3D(paths[i][:,0], paths[i][:,1], paths[i][:,2], color='#02ccfe', s=1)\n",
    "    # ax.plot3D(paths[i][:,0], paths[i][:,1], paths[i][:,2], color='#fd411e', linewidth=0.5)\n",
    "    \n",
    "ax = fig.add_subplot(152, projection='3d')\n",
    "ax.w_xaxis.set_pane_color(color=(1,1,1,1))\n",
    "ax.w_yaxis.set_pane_color(color=(1,1,1,1))\n",
    "ax.w_zaxis.set_pane_color(color=(1,1,1,1))\n",
    "\n",
    "ax.set_xticks([])\n",
    "ax.set_yticks([])\n",
    "ax.set_zticks([])\n",
    "\n",
    "ax.set_xlabel('PC1')\n",
    "ax.set_ylabel('PC2')\n",
    "ax.set_zlabel('PC3')\n",
    "ax.view_init(elev=-129, azim=-44)\n",
    "ax.scatter3D(proj_points[:,0], proj_points[:,1], proj_points[:,2], color='cornflowerblue', s=40)\n",
    "for i in range(int(len(paths) / 2), len(paths)):\n",
    "    ax.scatter3D(paths[i][:,0], paths[i][:,1], paths[i][:,2], color='#02ccfe', s=1)\n",
    "    # ax.plot3D(paths[i][:,0], paths[i][:,1], paths[i][:,2], color='#fd411e', linewidth=0.5)\n",
    "ax.plot3D(np.array([0, 40+ ls[489][0]]), np.array([0, 40+ls[489][1]]), np.array([0, 40+ls[489][2]]), color='red', linewidth=7)\n",
    "\n",
    "\n",
    "plt.subplot(153)\n",
    "plt.scatter(proj_points[:,0], proj_points[:,1], color='cornflowerblue', s=40)\n",
    "for i in range(int(len(paths) / 2), len(paths)):\n",
    "    plt.scatter(paths[i][:,0], paths[i][:,1], color='#02ccfe', s=1)\n",
    "plt.plot(np.array([0, ls[489][0]]), np.array([0, ls[489][1]]), color='red', linewidth=7)\n",
    "plt.xticks([])\n",
    "plt.yticks([])\n",
    "plt.xlabel('PC1')\n",
    "plt.ylabel('PC2')\n",
    "\n",
    "plt.subplot(154)\n",
    "plt.scatter(proj_points[:,0], proj_points[:,2], color='cornflowerblue', s=40)\n",
    "for i in range(int(len(paths) / 2), len(paths)):\n",
    "    plt.scatter(paths[i][:,0], paths[i][:,2], color='#02ccfe', s=1)\n",
    "plt.plot(np.array([0, ls[489][0]]), np.array([0, ls[489][2]]), color='red', linewidth=7)\n",
    "plt.xticks([])\n",
    "plt.yticks([])\n",
    "plt.xlabel('PC1')\n",
    "plt.ylabel('PC3')\n",
    "\n",
    "plt.subplot(155)\n",
    "plt.scatter(proj_points[:,1], proj_points[:,2], color='cornflowerblue', s=40)\n",
    "for i in range(int(len(paths) / 2), len(paths)):\n",
    "    plt.scatter(paths[i][:,1], paths[i][:,2], color='#02ccfe', s=1)\n",
    "plt.plot(np.array([0, ls[489][1]]), np.array([0, ls[489][2]]), color='red', linewidth=7)\n",
    "plt.xticks([])\n",
    "plt.yticks([])\n",
    "plt.xlabel('PC2')\n",
    "plt.ylabel('PC3')"
   ]
  },
  {
   "cell_type": "code",
   "execution_count": 2,
   "metadata": {},
   "outputs": [
    {
     "name": "stderr",
     "output_type": "stream",
     "text": [
      "/usr/local/lib/python3.7/site-packages/matplotlib/__init__.py:880: MatplotlibDeprecationWarning: \n",
      "nbagg.transparent\n",
      "  version, key, obj_type=\"rcparam\", alternative=alt_key)\n"
     ]
    },
    {
     "data": {
      "application/vnd.jupyter.widget-view+json": {
       "model_id": "f83875c336d64d33b84886b3d3e8bbb3",
       "version_major": 2,
       "version_minor": 0
      },
      "text/plain": [
       "FigureCanvasNbAgg()"
      ]
     },
     "metadata": {},
     "output_type": "display_data"
    },
    {
     "data": {
      "text/plain": [
       "<mpl_toolkits.mplot3d.art3d.Path3DCollection at 0x11af8d128>"
      ]
     },
     "execution_count": 2,
     "metadata": {},
     "output_type": "execute_result"
    }
   ],
   "source": [
    "#%matplotlib ipympl\n",
    "from mpl_toolkits.mplot3d import Axes3D\n",
    "colp = np.load('../data_files/new_projected_points_colp_2.npy')\n",
    "motp = np.load('../data_files/new_projected_points_motp_2.npy')\n",
    "coln = np.load('../data_files/new_projected_points_coln_2.npy')\n",
    "motn = np.load('../data_files/new_projected_points_motn_2.npy')\n",
    "\n",
    "fig = plt.figure()\n",
    "ax = fig.add_subplot(111, projection='3d')\n",
    "#ax.view_init(elev=25, azim=128)\n",
    "ax.w_xaxis.set_pane_color(color=(1,1,1,1))\n",
    "ax.w_yaxis.set_pane_color(color=(1,1,1,1))\n",
    "ax.w_zaxis.set_pane_color(color=(1,1,1,1))\n",
    "ax.set_xticks([])\n",
    "ax.set_yticks([])\n",
    "ax.set_zticks([])\n",
    "ax.scatter3D(colp[:,0,0], colp[:,0,1], colp[:,0,2], color='cornflowerblue', s=2)\n",
    "ax.scatter3D(motp[:,0,0], motp[:,0,1], motp[:,0,2], color='red', s=2)\n",
    "ax.scatter3D(coln[:,0,0], coln[:,0,1], coln[:,0,2], color='magenta', s=2)\n",
    "ax.scatter3D(motn[:,0,0], motn[:,0,1], motn[:,0,2], color='y', s=2)\n",
    "\n",
    "#plt.savefig('model_3_fixed', dpi=300, bbox_inches='tight')"
   ]
  },
  {
   "cell_type": "code",
   "execution_count": 3,
   "metadata": {},
   "outputs": [
    {
     "data": {
      "application/vnd.jupyter.widget-view+json": {
       "model_id": "75349e963102458c8bfb82ac845caa53",
       "version_major": 2,
       "version_minor": 0
      },
      "text/plain": [
       "FigureCanvasNbAgg()"
      ]
     },
     "metadata": {},
     "output_type": "display_data"
    },
    {
     "data": {
      "text/plain": [
       "Text(0, 0.5, 'PC3')"
      ]
     },
     "execution_count": 3,
     "metadata": {},
     "output_type": "execute_result"
    }
   ],
   "source": [
    "plt.figure(figsize=(10,4))\n",
    "plt.subplot(131)\n",
    "plt.scatter(colp[:,0,0], colp[:,0,1], color='cornflowerblue', s=2)\n",
    "plt.scatter(motp[:,0,0], motp[:,0,1], color='red', s=2)\n",
    "plt.scatter(coln[:,0,0], coln[:,0,1], color='magenta', s=2)\n",
    "plt.scatter(motn[:,0,0], motn[:,0,1], color='y', s=2)\n",
    "plt.xticks([])\n",
    "plt.yticks([])\n",
    "plt.xlabel('PC1')\n",
    "plt.ylabel('PC2')\n",
    "\n",
    "plt.subplot(132)\n",
    "plt.scatter(colp[:,0,0], colp[:,0,2], color='cornflowerblue', s=2)\n",
    "plt.scatter(motp[:,0,0], motp[:,0,2], color='red', s=2)\n",
    "plt.scatter(coln[:,0,0], coln[:,0,2], color='magenta', s=2)\n",
    "plt.scatter(motn[:,0,0], motn[:,0,2], color='y', s=2)\n",
    "plt.xticks([])\n",
    "plt.yticks([])\n",
    "plt.xlabel('PC1')\n",
    "plt.ylabel('PC3')\n",
    "\n",
    "plt.subplot(133)\n",
    "plt.scatter(colp[:,0,1], colp[:,0,2], color='cornflowerblue', s=2)\n",
    "plt.scatter(motp[:,0,1], motp[:,0,2], color='red', s=2)\n",
    "plt.scatter(coln[:,0,1], coln[:,0,2], color='magenta', s=2)\n",
    "plt.scatter(motn[:,0,1], motn[:,0,2], color='y', s=2)\n",
    "plt.xticks([])\n",
    "plt.yticks([])\n",
    "plt.xlabel('PC2')\n",
    "plt.ylabel('PC3')\n",
    "#plt.savefig('model_3_projected', dpi=300, bbox_inches='tight')"
   ]
  },
  {
   "cell_type": "code",
   "execution_count": 26,
   "metadata": {},
   "outputs": [
    {
     "data": {
      "application/vnd.jupyter.widget-view+json": {
       "model_id": "b25d602c0c1f4ce7a730522bde1c06fc",
       "version_major": 2,
       "version_minor": 0
      },
      "text/plain": [
       "FigureCanvasNbAgg()"
      ]
     },
     "metadata": {},
     "output_type": "display_data"
    },
    {
     "data": {
      "text/plain": [
       "<mpl_toolkits.mplot3d.art3d.Path3DCollection at 0x119b861d0>"
      ]
     },
     "execution_count": 26,
     "metadata": {},
     "output_type": "execute_result"
    }
   ],
   "source": [
    "#col = np.load('../data_files/new_projected_points_col_2.npy')\n",
    "#mot = np.load('../data_files/new_projected_points_mot_2.npy')\n",
    "f_spm = np.load('../data_files/fixed_correct_spm.npy')\n",
    "f_mpm = np.load('../data_files/fixed_correct_mpm.npy')\n",
    "f_wpm = np.load('../data_files/fixed_correct_wpm.npy')\n",
    "f_wnm = np.load('../data_files/fixed_correct_wnm.npy')\n",
    "f_mnm = np.load('../data_files/fixed_correct_mnm.npy')\n",
    "f_snm = np.load('../data_files/fixed_correct_snm.npy')\n",
    "f_spc = np.load('../data_files/fixed_correct_spc.npy')\n",
    "f_mpc = np.load('../data_files/fixed_correct_mpc.npy')\n",
    "f_wpc = np.load('../data_files/fixed_correct_wpc.npy')\n",
    "f_wnc = np.load('../data_files/fixed_correct_wnc.npy')\n",
    "f_mnc = np.load('../data_files/fixed_correct_mnc.npy')\n",
    "f_snc = np.load('../data_files/fixed_correct_snc.npy')\n",
    "from mpl_toolkits.mplot3d import Axes3D\n",
    "fig = plt.figure()\n",
    "ax = fig.add_subplot(111, projection='3d')\n",
    "#ax.view_init(elev=25, azim=128)\n",
    "ax.w_xaxis.set_pane_color(color=(1,1,1,1))\n",
    "ax.w_yaxis.set_pane_color(color=(1,1,1,1))\n",
    "ax.w_zaxis.set_pane_color(color=(1,1,1,1))\n",
    "ax.set_xticks([])\n",
    "ax.set_yticks([])\n",
    "ax.set_zticks([])\n",
    "ax.scatter3D(f_spm[:,0,0], f_spm[:,0,1], f_spm[:,0,2], marker='x', linewidth=1, color='green', alpha=1)\n",
    "ax.scatter3D(f_mpm[:,0,0], f_mpm[:,0,1], f_mpm[:,0,2], marker='x', linewidth=1, color='green', alpha=0.5)\n",
    "ax.scatter3D(f_wpm[:,0,0], f_wpm[:,0,1], f_wpm[:,0,2], marker='x', linewidth=1, color='green', alpha=0.2)\n",
    "ax.scatter3D(f_wnm[:,0,0], f_wnm[:,0,1], f_wnm[:,0,2], marker='x', linewidth=1, color='orange', alpha=0.2)\n",
    "ax.scatter3D(f_mnm[:,0,0], f_mnm[:,0,1], f_mnm[:,0,2], marker='x', linewidth=1, color='orange', alpha=0.5)\n",
    "ax.scatter3D(f_snm[:,0,0], f_snm[:,0,1], f_snm[:,0,2], marker='x', linewidth=1, color='orange', alpha=1)\n",
    "ax.scatter3D(f_spc[:,0,0], f_spc[:,0,1], f_spc[:,0,2], marker='x', linewidth=1, color='blue', alpha=1)\n",
    "ax.scatter3D(f_mpc[:,0,0], f_mpc[:,0,1], f_mpc[:,0,2], marker='x', linewidth=1, color='blue', alpha=0.5)\n",
    "ax.scatter3D(f_wpc[:,0,0], f_wpc[:,0,1], f_wpc[:,0,2], marker='x', linewidth=1, color='blue', alpha=0.2)\n",
    "ax.scatter3D(f_wnc[:,0,0], f_wnc[:,0,1], f_wnc[:,0,2], marker='x', linewidth=1, color='red', alpha=0.2)\n",
    "ax.scatter3D(f_mnc[:,0,0], f_mnc[:,0,1], f_mnc[:,0,2], marker='x', linewidth=1, color='red', alpha=0.5)\n",
    "ax.scatter3D(f_snc[:,0,0], f_snc[:,0,1], f_snc[:,0,2], marker='x', linewidth=1, color='red', alpha=1)"
   ]
  },
  {
   "cell_type": "code",
   "execution_count": 23,
   "metadata": {},
   "outputs": [
    {
     "data": {
      "application/vnd.jupyter.widget-view+json": {
       "model_id": "c31d2bfc196b4d2089b45c62bf835997",
       "version_major": 2,
       "version_minor": 0
      },
      "text/plain": [
       "FigureCanvasNbAgg()"
      ]
     },
     "metadata": {},
     "output_type": "display_data"
    },
    {
     "data": {
      "text/plain": [
       "Text(0, 0.5, 'PC3')"
      ]
     },
     "execution_count": 23,
     "metadata": {},
     "output_type": "execute_result"
    }
   ],
   "source": [
    "plt.figure(figsize=(10,4))\n",
    "plt.subplot(131)\n",
    "#plt.scatter(col[:,0,0], col[:,0,1], color='cornflowerblue', s=2)\n",
    "#plt.scatter(mot[:,0,0], mot[:,0,1], color='red', s=2)\n",
    "plt.scatter(fps[:,0,0], fps[:,0,1], color='red', marker='x', linewidth=1)\n",
    "plt.xticks([])\n",
    "plt.yticks([])\n",
    "plt.xlabel('PC1')\n",
    "plt.ylabel('PC2')\n",
    "\n",
    "plt.subplot(132)\n",
    "#plt.scatter(col[:,0,0], col[:,0,2], color='cornflowerblue', s=2)\n",
    "#plt.scatter(mot[:,0,0], mot[:,0,2], color='red', s=2)\n",
    "plt.scatter(fps[:,0,0], fps[:,0,2], color='red', marker='x', linewidth=1)\n",
    "plt.xticks([])\n",
    "plt.yticks([])\n",
    "plt.xlabel('PC1')\n",
    "plt.ylabel('PC3')\n",
    "\n",
    "plt.subplot(133)\n",
    "#plt.scatter(col[:,0,1], col[:,0,2], color='cornflowerblue', s=2)\n",
    "#plt.scatter(mot[:,0,1], mot[:,0,2], color='red', s=2)\n",
    "plt.scatter(fps[:,0,1], fps[:,0,2], color='red', marker='x', linewidth=1)\n",
    "plt.xticks([])\n",
    "plt.yticks([])\n",
    "plt.xlabel('PC2')\n",
    "plt.ylabel('PC3')\n",
    "#plt.savefig('model_3_projected', dpi=300, bbox_inches='tight')"
   ]
  },
  {
   "cell_type": "code",
   "execution_count": 6,
   "metadata": {},
   "outputs": [
    {
     "data": {
      "application/vnd.jupyter.widget-view+json": {
       "model_id": "4d3a4670599d4a68b585a5fed32a619d",
       "version_major": 2,
       "version_minor": 0
      },
      "text/plain": [
       "FigureCanvasNbAgg()"
      ]
     },
     "metadata": {},
     "output_type": "display_data"
    }
   ],
   "source": [
    "l_trace = np.load('../data_files/proj_trace_just_observed_r.npy')\n",
    "fig = plt.figure()\n",
    "ax = fig.add_subplot(111, projection='3d')\n",
    "\n",
    "## color context\n",
    "ax.w_xaxis.set_pane_color(color=(1,1,1,1))\n",
    "ax.w_yaxis.set_pane_color(color=(1,1,1,1))\n",
    "ax.w_zaxis.set_pane_color(color=(1,1,1,1))\n",
    "ax.set_xticks([])\n",
    "ax.set_yticks([])\n",
    "ax.set_zticks([])\n",
    "\n",
    "ax.scatter3D(fps[:,0], fps[:,1], fps[:,2], color='cornflowerblue', s=2)\n",
    "#ax.scatter3D(mot[:,0,0], mot[:,0,1], mot[:,0,2], color='red', s=2)\n",
    "for i in range(6):\n",
    "    colt = 'red' if i < 3 else 'blue'\n",
    "    alp = (i+1) * 0.2 if i < 3 else (i-2) * 0.2\n",
    "    ax.scatter3D(l_trace[:int(len(l_trace)/2)][111*(i*6):111*(i*6+1),0], \n",
    "                 l_trace[:int(len(l_trace)/2)][111*(i*6):111*(i*6+1),1], \n",
    "                 l_trace[:int(len(l_trace)/2)][111*(i*6):111*(i*6+1),2], c=colt, s=2, alpha=alp)\n",
    "    #ax.scatter3D(l_trace[int(len(l_trace)/2):][:,0], l_trace[int(len(l_trace)/2):][:,1], l_trace[int(len(l_trace)/2):][:,2], c='magenta', s=2)"
   ]
  },
  {
   "cell_type": "code",
   "execution_count": 7,
   "metadata": {},
   "outputs": [
    {
     "data": {
      "application/vnd.jupyter.widget-view+json": {
       "model_id": "72047f5e729b405492bba78fe1e6c472",
       "version_major": 2,
       "version_minor": 0
      },
      "text/plain": [
       "FigureCanvasNbAgg()"
      ]
     },
     "metadata": {},
     "output_type": "display_data"
    },
    {
     "ename": "NameError",
     "evalue": "name 'col' is not defined",
     "output_type": "error",
     "traceback": [
      "\u001b[0;31m---------------------------------------------------------------------------\u001b[0m",
      "\u001b[0;31mNameError\u001b[0m                                 Traceback (most recent call last)",
      "\u001b[0;32m<ipython-input-7-a34c81a58a59>\u001b[0m in \u001b[0;36m<module>\u001b[0;34m\u001b[0m\n\u001b[1;32m      1\u001b[0m \u001b[0mplt\u001b[0m\u001b[0;34m.\u001b[0m\u001b[0mfigure\u001b[0m\u001b[0;34m(\u001b[0m\u001b[0mfigsize\u001b[0m\u001b[0;34m=\u001b[0m\u001b[0;34m(\u001b[0m\u001b[0;36m10\u001b[0m\u001b[0;34m,\u001b[0m\u001b[0;36m4\u001b[0m\u001b[0;34m)\u001b[0m\u001b[0;34m)\u001b[0m\u001b[0;34m\u001b[0m\u001b[0m\n\u001b[1;32m      2\u001b[0m \u001b[0mplt\u001b[0m\u001b[0;34m.\u001b[0m\u001b[0msubplot\u001b[0m\u001b[0;34m(\u001b[0m\u001b[0;36m131\u001b[0m\u001b[0;34m)\u001b[0m\u001b[0;34m\u001b[0m\u001b[0m\n\u001b[0;32m----> 3\u001b[0;31m \u001b[0mplt\u001b[0m\u001b[0;34m.\u001b[0m\u001b[0mscatter\u001b[0m\u001b[0;34m(\u001b[0m\u001b[0mcol\u001b[0m\u001b[0;34m[\u001b[0m\u001b[0;34m:\u001b[0m\u001b[0;34m,\u001b[0m\u001b[0;36m0\u001b[0m\u001b[0;34m,\u001b[0m\u001b[0;36m0\u001b[0m\u001b[0;34m]\u001b[0m\u001b[0;34m,\u001b[0m \u001b[0mcol\u001b[0m\u001b[0;34m[\u001b[0m\u001b[0;34m:\u001b[0m\u001b[0;34m,\u001b[0m\u001b[0;36m0\u001b[0m\u001b[0;34m,\u001b[0m\u001b[0;36m1\u001b[0m\u001b[0;34m]\u001b[0m\u001b[0;34m,\u001b[0m \u001b[0mcolor\u001b[0m\u001b[0;34m=\u001b[0m\u001b[0;34m'cornflowerblue'\u001b[0m\u001b[0;34m,\u001b[0m \u001b[0ms\u001b[0m\u001b[0;34m=\u001b[0m\u001b[0;36m2\u001b[0m\u001b[0;34m)\u001b[0m\u001b[0;34m\u001b[0m\u001b[0m\n\u001b[0m\u001b[1;32m      4\u001b[0m \u001b[0mplt\u001b[0m\u001b[0;34m.\u001b[0m\u001b[0mscatter\u001b[0m\u001b[0;34m(\u001b[0m\u001b[0mmot\u001b[0m\u001b[0;34m[\u001b[0m\u001b[0;34m:\u001b[0m\u001b[0;34m,\u001b[0m\u001b[0;36m0\u001b[0m\u001b[0;34m,\u001b[0m\u001b[0;36m0\u001b[0m\u001b[0;34m]\u001b[0m\u001b[0;34m,\u001b[0m \u001b[0mmot\u001b[0m\u001b[0;34m[\u001b[0m\u001b[0;34m:\u001b[0m\u001b[0;34m,\u001b[0m\u001b[0;36m0\u001b[0m\u001b[0;34m,\u001b[0m\u001b[0;36m1\u001b[0m\u001b[0;34m]\u001b[0m\u001b[0;34m,\u001b[0m \u001b[0mcolor\u001b[0m\u001b[0;34m=\u001b[0m\u001b[0;34m'red'\u001b[0m\u001b[0;34m,\u001b[0m \u001b[0ms\u001b[0m\u001b[0;34m=\u001b[0m\u001b[0;36m2\u001b[0m\u001b[0;34m)\u001b[0m\u001b[0;34m\u001b[0m\u001b[0m\n\u001b[1;32m      5\u001b[0m \u001b[0;32mfor\u001b[0m \u001b[0mi\u001b[0m \u001b[0;32min\u001b[0m \u001b[0mrange\u001b[0m\u001b[0;34m(\u001b[0m\u001b[0;36m6\u001b[0m\u001b[0;34m)\u001b[0m\u001b[0;34m:\u001b[0m\u001b[0;34m\u001b[0m\u001b[0m\n",
      "\u001b[0;31mNameError\u001b[0m: name 'col' is not defined"
     ]
    }
   ],
   "source": [
    "plt.figure(figsize=(10,4))\n",
    "plt.subplot(131)\n",
    "plt.scatter(col[:,0,0], col[:,0,1], color='cornflowerblue', s=2)\n",
    "plt.scatter(mot[:,0,0], mot[:,0,1], color='red', s=2)\n",
    "for i in range(6):\n",
    "    colt = 'red' if i < 3 else 'blue'\n",
    "    alp = (i+1) * 0.2 if i < 3 else (i-2) * 0.2\n",
    "    plt.scatter(l_trace[:int(len(l_trace)/2)][50*(i*6):50*(i*6+1),0], \n",
    "                 l_trace[:int(len(l_trace)/2)][50*(i*6):50*(i*6+1),1], \n",
    "                 c=colt, s=2, alpha=alp)\n",
    "#plt.scatter(l_trace[:50][:,0], l_trace[:50][:,1], c='pink', s=2)\n",
    "#plt.scatter(l_trace[i*50:(i+1)*50][:,0], l_trace[i*50:(i+1)*50][:,1], c='magenta', s=2)\n",
    "plt.xticks([])\n",
    "plt.yticks([])\n",
    "plt.xlabel('PC1')\n",
    "plt.ylabel('PC2')\n",
    "\n",
    "plt.subplot(132)\n",
    "plt.scatter(col[:,0,0], col[:,0,2], color='cornflowerblue', s=2)\n",
    "plt.scatter(mot[:,0,0], mot[:,0,2], color='red', s=2)\n",
    "for i in range(6):\n",
    "    colt = 'red' if i < 3 else 'blue'\n",
    "    alp = (i+1) * 0.2 if i < 3 else (i-2) * 0.2\n",
    "    plt.scatter(l_trace[:int(len(l_trace)/2)][50*(i*6):50*(i*6+1),0], \n",
    "                l_trace[:int(len(l_trace)/2)][50*(i*6):50*(i*6+1),2], c=colt, s=2, alpha=alp)\n",
    "#plt.scatter(l_trace[:50][:,0], l_trace[:50][:,2], c='pink', s=2)\n",
    "#plt.scatter(l_trace[i*50:(i+1)*50][:,0], l_trace[i*50:(i+1)*50][:,2], c='magenta', s=2)\n",
    "plt.xticks([])\n",
    "plt.yticks([])\n",
    "plt.xlabel('PC1')\n",
    "plt.ylabel('PC3')\n",
    "\n",
    "plt.subplot(133)\n",
    "plt.scatter(col[:,0,1], col[:,0,2], color='cornflowerblue', s=2)\n",
    "plt.scatter(mot[:,0,1], mot[:,0,2], color='red', s=2)\n",
    "for i in range(6):\n",
    "    colt = 'red' if i < 3 else 'blue'\n",
    "    alp = (i+1) * 0.2 if i < 3 else (i-2) * 0.2\n",
    "    plt.scatter(l_trace[:int(len(l_trace)/2)][50*(i*6):50*(i*6+1),1], \n",
    "                l_trace[:int(len(l_trace)/2)][50*(i*6):50*(i*6+1),2], c=colt, s=2, alpha=alp)\n",
    "#plt.scatter(l_trace[:50][:,1], l_trace[:50][:,2], c='pink', s=2)\n",
    "#plt.scatter(l_trace[i*50:(i+1)*50][:,1], l_trace[i*50:(i+1)*50][:,2], c='magenta', s=2)\n",
    "plt.xticks([])\n",
    "plt.yticks([])\n",
    "plt.xlabel('PC2')\n",
    "plt.ylabel('PC3')"
   ]
  },
  {
   "cell_type": "code",
   "execution_count": 8,
   "metadata": {},
   "outputs": [
    {
     "data": {
      "application/vnd.jupyter.widget-view+json": {
       "model_id": "5a8715784ee04cf9960f39a7469b39d5",
       "version_major": 2,
       "version_minor": 0
      },
      "text/plain": [
       "FigureCanvasNbAgg()"
      ]
     },
     "metadata": {},
     "output_type": "display_data"
    },
    {
     "data": {
      "text/plain": [
       "Text(0, 0.5, 'PC3')"
      ]
     },
     "execution_count": 8,
     "metadata": {},
     "output_type": "execute_result"
    }
   ],
   "source": [
    "plt.figure(figsize=(10,4))\n",
    "plt.subplot(131)\n",
    "plt.scatter(fps[:,0], fps[:,1], color='cornflowerblue', s=2)\n",
    "for i in range(6):\n",
    "    colt = 'red' if i < 3 else 'blue'\n",
    "    alp = (i+1) * 0.2 if i < 3 else (i-2) * 0.2\n",
    "    plt.scatter(l_trace[:int(len(l_trace)/2)][111*(i*6):111*(i*6+1),0], \n",
    "                l_trace[:int(len(l_trace)/2)][111*(i*6):111*(i*6+1),1], \n",
    "                c=colt, s=2, alpha=alp)\n",
    "#plt.scatter(l_trace[:50][:,0], l_trace[:50][:,1], c='pink', s=2)\n",
    "#plt.scatter(l_trace[i*50:(i+1)*50][:,0], l_trace[i*50:(i+1)*50][:,1], c='magenta', s=2)\n",
    "plt.xticks([])\n",
    "plt.yticks([])\n",
    "plt.xlabel('PC1')\n",
    "plt.ylabel('PC2')\n",
    "\n",
    "plt.subplot(132)\n",
    "plt.scatter(fps[:,0], fps[:,2], color='cornflowerblue', s=2)\n",
    "for i in range(6):\n",
    "    colt = 'red' if i < 3 else 'blue'\n",
    "    alp = (i+1) * 0.2 if i < 3 else (i-2) * 0.2\n",
    "    plt.scatter(l_trace[:int(len(l_trace)/2)][111*(i*6):111*(i*6+1),0], \n",
    "                l_trace[:int(len(l_trace)/2)][111*(i*6):111*(i*6+1),2], c=colt, s=2, alpha=alp)\n",
    "#plt.scatter(l_trace[:50][:,0], l_trace[:50][:,2], c='pink', s=2)\n",
    "#plt.scatter(l_trace[i*50:(i+1)*50][:,0], l_trace[i*50:(i+1)*50][:,2], c='magenta', s=2)\n",
    "plt.xticks([])\n",
    "plt.yticks([])\n",
    "plt.xlabel('PC1')\n",
    "plt.ylabel('PC3')\n",
    "\n",
    "plt.subplot(133)\n",
    "plt.scatter(fps[:,1], fps[:,2], color='cornflowerblue', s=2)\n",
    "for i in range(6):\n",
    "    colt = 'red' if i < 3 else 'blue'\n",
    "    alp = (i+1) * 0.2 if i < 3 else (i-2) * 0.2\n",
    "    plt.scatter(l_trace[:int(len(l_trace)/2)][111*(i*6):111*(i*6+1),1], \n",
    "                l_trace[:int(len(l_trace)/2)][111*(i*6):111*(i*6+1),2], c=colt, s=2, alpha=alp)\n",
    "plt.scatter(l_trace[:50][:,1], l_trace[:50][:,2], c='pink', s=2)\n",
    "plt.xticks([])\n",
    "plt.yticks([])\n",
    "plt.xlabel('PC2')\n",
    "plt.ylabel('PC3')"
   ]
  },
  {
   "cell_type": "code",
   "execution_count": 9,
   "metadata": {},
   "outputs": [
    {
     "data": {
      "application/vnd.jupyter.widget-view+json": {
       "model_id": "842e8217cf4f47b1b7dfbf1e911c0560",
       "version_major": 2,
       "version_minor": 0
      },
      "text/plain": [
       "FigureCanvasNbAgg()"
      ]
     },
     "metadata": {},
     "output_type": "display_data"
    },
    {
     "data": {
      "text/plain": [
       "Text(0, 0.5, 'PC3')"
      ]
     },
     "execution_count": 9,
     "metadata": {},
     "output_type": "execute_result"
    }
   ],
   "source": [
    "plt.figure(figsize=(10,4))\n",
    "plt.subplot(131)\n",
    "plt.scatter(fps[:,0], fps[:,1], color='cornflowerblue', s=2)\n",
    "for i in range(6):\n",
    "    colt = 'red' if i < 3 else 'blue'\n",
    "    alp = (i+1) * 0.2 if i < 3 else (i-2) * 0.2\n",
    "    plt.scatter(l_trace[int(len(l_trace)/2):][111*(i*6):111*(i*6+1),0], \n",
    "                l_trace[int(len(l_trace)/2):][111*(i*6):111*(i*6+1),1], \n",
    "                c=colt, s=2, alpha=alp)\n",
    "#plt.scatter(l_trace[:50][:,0], l_trace[:50][:,1], c='pink', s=2)\n",
    "#plt.scatter(l_trace[i*50:(i+1)*50][:,0], l_trace[i*50:(i+1)*50][:,1], c='magenta', s=2)\n",
    "plt.xticks([])\n",
    "plt.yticks([])\n",
    "plt.xlabel('PC1')\n",
    "plt.ylabel('PC2')\n",
    "\n",
    "plt.subplot(132)\n",
    "plt.scatter(fps[:,0], fps[:,2], color='cornflowerblue', s=2)\n",
    "for i in range(6):\n",
    "    colt = 'red' if i < 3 else 'blue'\n",
    "    alp = (i+1) * 0.2 if i < 3 else (i-2) * 0.2\n",
    "    plt.scatter(l_trace[int(len(l_trace)/2):][111*(i*6):111*(i*6+1),0], \n",
    "                l_trace[int(len(l_trace)/2):][111*(i*6):111*(i*6+1),2], c=colt, s=2, alpha=alp)\n",
    "#plt.scatter(l_trace[:50][:,0], l_trace[:50][:,2], c='pink', s=2)\n",
    "#plt.scatter(l_trace[i*50:(i+1)*50][:,0], l_trace[i*50:(i+1)*50][:,2], c='magenta', s=2)\n",
    "plt.xticks([])\n",
    "plt.yticks([])\n",
    "plt.xlabel('PC1')\n",
    "plt.ylabel('PC3')\n",
    "\n",
    "plt.subplot(133)\n",
    "plt.scatter(fps[:,1], fps[:,2], color='cornflowerblue', s=2)\n",
    "for i in range(6):\n",
    "    colt = 'red' if i < 3 else 'blue'\n",
    "    alp = (i+1) * 0.2 if i < 3 else (i-2) * 0.2\n",
    "    plt.scatter(l_trace[int(len(l_trace)/2):][111*(i*6):111*(i*6+1),1], \n",
    "                l_trace[int(len(l_trace)/2):][111*(i*6):111*(i*6+1),2], c=colt, s=2, alpha=alp)\n",
    "plt.scatter(l_trace[:50][:,1], l_trace[:50][:,2], c='pink', s=2)\n",
    "plt.xticks([])\n",
    "plt.yticks([])\n",
    "plt.xlabel('PC2')\n",
    "plt.ylabel('PC3')"
   ]
  },
  {
   "cell_type": "code",
   "execution_count": 10,
   "metadata": {},
   "outputs": [
    {
     "data": {
      "application/vnd.jupyter.widget-view+json": {
       "model_id": "77783b60eb464e6db1f1e97d3e99b4d1",
       "version_major": 2,
       "version_minor": 0
      },
      "text/plain": [
       "FigureCanvasNbAgg()"
      ]
     },
     "metadata": {},
     "output_type": "display_data"
    },
    {
     "data": {
      "text/plain": [
       "<mpl_toolkits.mplot3d.art3d.Path3DCollection at 0x124472390>"
      ]
     },
     "execution_count": 10,
     "metadata": {},
     "output_type": "execute_result"
    }
   ],
   "source": [
    "#col = np.load('../data_files/new_projected_points_col_2.npy')\n",
    "#mot = np.load('../data_files/new_projected_points_mot_2.npy')\n",
    "fps = np.load('../data_files/fixed_correct.npy')\n",
    "\n",
    "fig = plt.figure()\n",
    "ax = fig.add_subplot(111, projection='3d')\n",
    "#ax.view_init(elev=25, azim=128)\n",
    "ax.w_xaxis.set_pane_color(color=(1,1,1,1))\n",
    "ax.w_yaxis.set_pane_color(color=(1,1,1,1))\n",
    "ax.w_zaxis.set_pane_color(color=(1,1,1,1))\n",
    "ax.set_xticks([])\n",
    "ax.set_yticks([])\n",
    "ax.set_zticks([])\n",
    "ax.scatter3D(fps[:,0], fps[:,1], fps[:,2], color='cornflowerblue', s=2)\n",
    "#ax.scatter3D(mot[:,0,0], mot[:,0,1], mot[:,0,2], color='red', s=2)"
   ]
  },
  {
   "cell_type": "code",
   "execution_count": 11,
   "metadata": {},
   "outputs": [
    {
     "data": {
      "application/vnd.jupyter.widget-view+json": {
       "model_id": "2f5fa9ad53114e0280ecd34de07b0bb0",
       "version_major": 2,
       "version_minor": 0
      },
      "text/plain": [
       "FigureCanvasNbAgg()"
      ]
     },
     "metadata": {},
     "output_type": "display_data"
    }
   ],
   "source": [
    "l_trace = np.load('../data_files/proj_trace_just_observed_all.npy')\n",
    "fig = plt.figure()\n",
    "ax = fig.add_subplot(111, projection='3d')\n",
    "\n",
    "## color context\n",
    "ax.w_xaxis.set_pane_color(color=(1,1,1,1))\n",
    "ax.w_yaxis.set_pane_color(color=(1,1,1,1))\n",
    "ax.w_zaxis.set_pane_color(color=(1,1,1,1))\n",
    "ax.set_xticks([])\n",
    "ax.set_yticks([])\n",
    "ax.set_zticks([])\n",
    "\n",
    "ax.scatter3D(fps[:,0], fps[:,1], fps[:,2], color='cornflowerblue', s=2)\n",
    "#ax.scatter3D(mot[:,0,0], mot[:,0,1], mot[:,0,2], color='red', s=2)\n",
    "for i in range(6):\n",
    "    colt = 'red' if i < 3 else 'blue'\n",
    "    alp = (i+1) * 0.2 if i < 3 else (i-2) * 0.2\n",
    "    ax.scatter3D(l_trace[:int(len(l_trace)/2)][111*(i*6):111*(i*6+1),0], \n",
    "                 l_trace[:int(len(l_trace)/2)][111*(i*6):111*(i*6+1),1], \n",
    "                 l_trace[:int(len(l_trace)/2)][111*(i*6):111*(i*6+1),2], c=colt, s=2, alpha=alp)\n",
    "    #ax.scatter3D(l_trace[int(len(l_trace)/2):][:,0], l_trace[int(len(l_trace)/2):][:,1], l_trace[int(len(l_trace)/2):][:,2], c='magenta', s=2)"
   ]
  },
  {
   "cell_type": "code",
   "execution_count": 12,
   "metadata": {},
   "outputs": [
    {
     "data": {
      "application/vnd.jupyter.widget-view+json": {
       "model_id": "7ebbbd9ac2c64ee783d1e9d83444c5e8",
       "version_major": 2,
       "version_minor": 0
      },
      "text/plain": [
       "FigureCanvasNbAgg()"
      ]
     },
     "metadata": {},
     "output_type": "display_data"
    },
    {
     "data": {
      "text/plain": [
       "Text(0, 0.5, 'PC3')"
      ]
     },
     "execution_count": 12,
     "metadata": {},
     "output_type": "execute_result"
    }
   ],
   "source": [
    "plt.figure(figsize=(10,4))\n",
    "plt.subplot(131)\n",
    "plt.scatter(fps[:,0], fps[:,1], color='cornflowerblue', s=2)\n",
    "for i in range(6):\n",
    "    colt = 'red' if i < 3 else 'blue'\n",
    "    alp = (i+1) * 0.2 if i < 3 else (i-2) * 0.2\n",
    "    plt.scatter(l_trace[:int(len(l_trace)/2)][111*(i*6):111*(i*6+1),0], \n",
    "                l_trace[:int(len(l_trace)/2)][111*(i*6):111*(i*6+1),1], \n",
    "                c=colt, s=2, alpha=alp)\n",
    "#plt.scatter(l_trace[:50][:,0], l_trace[:50][:,1], c='pink', s=2)\n",
    "#plt.scatter(l_trace[i*50:(i+1)*50][:,0], l_trace[i*50:(i+1)*50][:,1], c='magenta', s=2)\n",
    "plt.xticks([])\n",
    "plt.yticks([])\n",
    "plt.xlabel('PC1')\n",
    "plt.ylabel('PC2')\n",
    "\n",
    "plt.subplot(132)\n",
    "plt.scatter(fps[:,0], fps[:,2], color='cornflowerblue', s=2)\n",
    "for i in range(6):\n",
    "    colt = 'red' if i < 3 else 'blue'\n",
    "    alp = (i+1) * 0.2 if i < 3 else (i-2) * 0.2\n",
    "    plt.scatter(l_trace[:int(len(l_trace)/2)][111*(i*6):111*(i*6+1),0], \n",
    "                l_trace[:int(len(l_trace)/2)][111*(i*6):111*(i*6+1),2], c=colt, s=2, alpha=alp)\n",
    "#plt.scatter(l_trace[:50][:,0], l_trace[:50][:,2], c='pink', s=2)\n",
    "#plt.scatter(l_trace[i*50:(i+1)*50][:,0], l_trace[i*50:(i+1)*50][:,2], c='magenta', s=2)\n",
    "plt.xticks([])\n",
    "plt.yticks([])\n",
    "plt.xlabel('PC1')\n",
    "plt.ylabel('PC3')\n",
    "\n",
    "plt.subplot(133)\n",
    "plt.scatter(fps[:,1], fps[:,2], color='cornflowerblue', s=2)\n",
    "for i in range(6):\n",
    "    colt = 'red' if i < 3 else 'blue'\n",
    "    alp = (i+1) * 0.2 if i < 3 else (i-2) * 0.2\n",
    "    plt.scatter(l_trace[:int(len(l_trace)/2)][111*(i*6):111*(i*6+1),1], \n",
    "                l_trace[:int(len(l_trace)/2)][111*(i*6):111*(i*6+1),2], c=colt, s=2, alpha=alp)\n",
    "plt.scatter(l_trace[:50][:,1], l_trace[:50][:,2], c='pink', s=2)\n",
    "plt.xticks([])\n",
    "plt.yticks([])\n",
    "plt.xlabel('PC2')\n",
    "plt.ylabel('PC3')"
   ]
  },
  {
   "cell_type": "code",
   "execution_count": 2,
   "metadata": {},
   "outputs": [
    {
     "name": "stderr",
     "output_type": "stream",
     "text": [
      "/usr/local/lib/python3.7/site-packages/matplotlib/__init__.py:880: MatplotlibDeprecationWarning: \n",
      "nbagg.transparent\n",
      "  version, key, obj_type=\"rcparam\", alternative=alt_key)\n"
     ]
    },
    {
     "data": {
      "application/vnd.jupyter.widget-view+json": {
       "model_id": "0e3e75d9209546aabd4cddbe9c34db1b",
       "version_major": 2,
       "version_minor": 0
      },
      "text/plain": [
       "FigureCanvasNbAgg()"
      ]
     },
     "metadata": {},
     "output_type": "display_data"
    },
    {
     "data": {
      "text/plain": [
       "<mpl_toolkits.mplot3d.art3d.Path3DCollection at 0x1192ac748>"
      ]
     },
     "execution_count": 2,
     "metadata": {},
     "output_type": "execute_result"
    }
   ],
   "source": [
    "col_sub = np.load('../data_files/color_subspace_pts.npy')\n",
    "mot_sub = np.load('../data_files/motion_subspace_pts.npy')\n",
    "from mpl_toolkits.mplot3d import Axes3D\n",
    "fig = plt.figure()\n",
    "ax = fig.add_subplot(111, projection='3d')\n",
    "#ax.view_init(elev=25, azim=128)\n",
    "ax.w_xaxis.set_pane_color(color=(1,1,1,1))\n",
    "ax.w_yaxis.set_pane_color(color=(1,1,1,1))\n",
    "ax.w_zaxis.set_pane_color(color=(1,1,1,1))\n",
    "ax.set_xticks([])\n",
    "ax.set_yticks([])\n",
    "ax.set_zticks([])\n",
    "ax.scatter3D(col_sub[:,0], col_sub[:,1], col_sub[:,2], marker='x', linewidth=1, color='cornflowerblue', alpha=1)\n",
    "ax.scatter3D(mot_sub[:,0], mot_sub[:,1], mot_sub[:,2], marker='x', linewidth=1, color='red', alpha=0.5)"
   ]
  },
  {
   "cell_type": "code",
   "execution_count": 151,
   "metadata": {},
   "outputs": [],
   "source": [
    "from scipy import stats\n",
    "from scipy import interpolate as interp"
   ]
  },
  {
   "cell_type": "code",
   "execution_count": 477,
   "metadata": {},
   "outputs": [
    {
     "data": {
      "application/vnd.jupyter.widget-view+json": {
       "model_id": "8659e639b517413d8bb6b3a5370f5556",
       "version_major": 2,
       "version_minor": 0
      },
      "text/plain": [
       "FigureCanvasNbAgg()"
      ]
     },
     "metadata": {},
     "output_type": "display_data"
    }
   ],
   "source": [
    "res_counts = np.load('../data_files/0_res_counts_hidden_sparse=800.npy', encoding='latin1'); HIT = 0; MISS = 1;\n",
    "plt.close('all')\n",
    "agg = np.load('../data_files/new_data_nans_rightwrong.npy', encoding='latin1')\n",
    "agg = [ np.array([normalize(agg[j][i], 0.1, 0.9) for i in range(len(agg[0]))]) for j in range(len(agg)) ]\n",
    "# agg = np.load('../data_files/new_data_nans_rightwrong.npy', encoding='latin1')\n",
    "plt.figure(figsize=(11,5))\n",
    "noise = 0\n",
    "rc('text.latex', preamble=r'\\usepackage{color}')\n",
    "\"\"\"\n",
    "for i, neuron in enumerate([0, 1, 2, 4, 5]):    \n",
    "    plt.subplot(2,5,i+11)\n",
    "    if not i == 0: plt.xticks([]); plt.yticks([])\n",
    "    else: \n",
    "        plt.ylabel('model output (incorrect, a.u.)')\n",
    "        plt.yticks([])\n",
    "        plt.xlabel('time (ms)')\n",
    "        plt.xticks([0, 198], ['0', '750'])\n",
    "    for j in range(6):\n",
    "        if j < 3: col = 'orange' \n",
    "        if j >= 3: col = 'green' \n",
    "        if j == 0 or j == 5: alpha = 1\n",
    "        elif j == 1 or j == 4: alpha = 0.6\n",
    "        else: alpha = 0.4\n",
    "        psth = [ res_counts[noise][MISS][36 + 6*k+j][neuron][20:220] for k in range(6) \\\n",
    "               if not isinstance(res_counts[noise][MISS][36 + 6*k+j], list)] \n",
    "        plt.plot(np.mean(psth, axis=0), color=col, alpha=alpha)\n",
    "        plt.gca().spines['right'].set_color('none')\n",
    "        plt.gca().spines['top'].set_color('none')\n",
    "\"\"\"\n",
    "for i, neuron in enumerate([0, 1, 2, 350, 5]):    \n",
    "    plt.subplot(2,5,i+6)\n",
    "    if not i == 0: plt.xticks([]); plt.yticks([])\n",
    "    else: \n",
    "        plt.ylabel(r'$\\textbf{model}$' + ' output \\n' + r'$\\textbf{motion context}$' + '\\n (correct, a.u.)', fontsize=14, rotation=0)\n",
    "        plt.yticks([])\n",
    "        #plt.xlabel('time (ms)', fontsize=14)\n",
    "        plt.tick_params(direction='in')\n",
    "        plt.xticks([])\n",
    "    for j in range(6):\n",
    "        if j < 3: col = 'darkturquoise' \n",
    "        if j >= 3: col = 'gold' \n",
    "        if j == 0 or j == 5: alpha = 1\n",
    "        elif j == 1 or j == 4: alpha = 0.6\n",
    "        else: alpha = 0.4\n",
    "        psth = [ res_counts[noise][HIT][36 + 6*k+j][neuron] for k in range(6) \\\n",
    "               if not isinstance(res_counts[noise][HIT][36 + 6*k+j], list)] \n",
    "        plt.plot(np.mean(psth, axis=0), color=col, alpha=alpha)\n",
    "        #psth_inc = [ res_counts[4][MISS][36 + 6*k+j][neuron] for k in range(6) \\\n",
    "        #       if not isinstance(res_counts[4][MISS][36 + 6*k+j], list)]\n",
    "        #plt.plot(np.mean(psth_inc, axis=0), color=col, alpha=alpha, linestyle=':')\n",
    "        plt.xlim((0,150))\n",
    "        plt.ylim((0,1))\n",
    "        plt.gca().spines['right'].set_color('none')\n",
    "        plt.gca().spines['top'].set_color('none')\n",
    "        plt.gca().spines['left'].set_color('none')\n",
    "    \"\"\"\n",
    "    #if not i == 4:\n",
    "        #plt.gca().spines['bottom'].set_color('none')\n",
    "    #else:\n",
    "        #plt.xticks([0, 150], ['100', '850'])\n",
    "        #plt.xlabel(\"time after stimulus onset (ms)\")\n",
    "    \"\"\"\n",
    "    if not i == 4:\n",
    "        plt.gca().spines['bottom'].set_color('none')\n",
    "    else:\n",
    "        plt.xticks([0, 150], ['100', '850'])\n",
    "        plt.xlabel(\"time after stimulus onset (ms)\")\n",
    "    if i == 0:\n",
    "        plt.annotate(r'$\\textit{choice 1}$', (105, 0.78), fontsize=12)\n",
    "        plt.annotate(r'$\\textit{choice 2}$', (102, 0.04), fontsize=12)\n",
    "        \n",
    "\n",
    "for i, neuron in enumerate([0, 1, 2, 350, 5]): # enumerate([0, 1, 2, 350, 5])\n",
    "    plt.subplot(2,5,i+1)\n",
    "    if not i == 0: plt.xticks([]); plt.yticks([])\n",
    "    else: \n",
    "        plt.ylabel(r'$\\textbf{target}$' +' output \\n' + r'$\\textbf{motion context}$' +' \\n (a.u.)', fontsize=14, rotation=0)\n",
    "        plt.yticks([])\n",
    "        plt.xticks([])\n",
    "    for j in range(6):\n",
    "        if j < 3: col = 'darkturquoise' \n",
    "        if j >= 3: col = 'gold' \n",
    "        if j == 0 or j == 5: alpha = 1\n",
    "        elif j == 1 or j == 4: alpha = 0.6\n",
    "        else: alpha = 0.4\n",
    "        psth = [ agg[0][36 + 6*k+j][neuron] for k in range(6) ] \n",
    "        plt.title(r'$\\textit{' + 'neuron {}'.format(str(i+1)) + '}$', fontsize=14)\n",
    "        plt.xlim((0,150))\n",
    "        plt.ylim((0,1))\n",
    "        plt.plot(np.mean(psth, axis=0), color=col, alpha=alpha)\n",
    "        #psth_inc = [ agg[1][36 + 6*k+j][neuron] for k in range(6) if not isinstance(agg[1][36 + 6*k+j], list) ] \n",
    "        #plt.plot(np.mean(psth_inc, axis=0), color=col, alpha=alpha, linestyle=':')\n",
    "        plt.gca().spines['right'].set_color('none')\n",
    "        plt.gca().spines['top'].set_color('none')\n",
    "        plt.gca().spines['left'].set_color('none')\n",
    "        plt.gca().spines['bottom'].set_color('none')\n",
    "        \n",
    "plt.suptitle(r'\\textbf{Model PSTH vs. observed PSTH}', fontsize=16, y=1)\n",
    "plt.tight_layout()\n",
    "plt.subplots_adjust(hspace=0.1)\n",
    "plt.subplots_adjust(wspace=0.15)\n",
    "# plt.savefig('../figures/final_figures/png_files/mc_psth_noise_correctincorrect', dpi=300, bbox_inches='tight')"
   ]
  },
  {
   "cell_type": "code",
   "execution_count": 508,
   "metadata": {},
   "outputs": [
    {
     "data": {
      "application/vnd.jupyter.widget-view+json": {
       "model_id": "170fefc046844423a30a74a14a33c3ff",
       "version_major": 2,
       "version_minor": 0
      },
      "text/plain": [
       "FigureCanvasNbAgg()"
      ]
     },
     "metadata": {},
     "output_type": "display_data"
    }
   ],
   "source": [
    "plt.figure(figsize=(8,5))\n",
    "for i, neuron in enumerate([0]):    \n",
    "    plt.subplot(121)\n",
    "    if not i == 0: plt.xticks([]); plt.yticks([])\n",
    "    else: \n",
    "        plt.ylabel(r'$\\textbf{model}$' + ' output \\n' + r'$\\textbf{motion context}$' + '\\n (correct, a.u.)', fontsize=14, rotation=0)\n",
    "        plt.yticks([])\n",
    "        #plt.xlabel('time (ms)', fontsize=14)\n",
    "        plt.tick_params(direction='in')\n",
    "        plt.xticks([])\n",
    "    for j in range(6):\n",
    "        if j < 3: col = 'gray'; alpha = 0.1\n",
    "        if j >= 3: col = 'gold'; alpha = 1\n",
    "        psth = [ res_counts[0][HIT][36 + 6*k+j][neuron] for k in range(6) \\\n",
    "               if not isinstance(res_counts[noise][HIT][36 + 6*k+j], list)] \n",
    "        m = np.mean(psth, axis=0)\n",
    "        plt.plot(np.arange(20), m[:20], '--', color='bisque')\n",
    "        plt.plot(20 + np.arange(130), m[20:], color=col, alpha=alpha)\n",
    "        plt.xlim((0,150))\n",
    "        plt.ylim((0,1))\n",
    "        plt.gca().spines['right'].set_color('none')\n",
    "        plt.gca().spines['top'].set_color('none')\n",
    "        plt.gca().spines['left'].set_color('none')\n",
    "    \"\"\"\n",
    "    #if not i == 4:\n",
    "        #plt.gca().spines['bottom'].set_color('none')\n",
    "    #else:\n",
    "        #plt.xticks([0, 150], ['100', '850'])\n",
    "        #plt.xlabel(\"time after stimulus onset (ms)\")\n",
    "    \"\"\"\n",
    "    if not i == 4:\n",
    "        plt.gca().spines['bottom'].set_color('none')\n",
    "    else:\n",
    "        plt.xticks([0, 150], ['100', '850'])\n",
    "        plt.xlabel(\"time after stimulus onset (ms)\")\n",
    "    if i == 0:\n",
    "        plt.annotate(r'$\\textit{choice 1}$', (105, 0.78), fontsize=12)\n",
    "        plt.annotate(r'$\\textit{choice 2}$', (102, 0.04), fontsize=12)\n",
    "    plt.title(r'\\textit{observed neuron}', fontsize=14)\n",
    "    \n",
    "for i, neuron in enumerate([7]):\n",
    "    plt.subplot(122)\n",
    "    if not i == 0: plt.xticks([]); plt.yticks([]);\n",
    "    else: \n",
    "        plt.xticks([]); plt.yticks([])\n",
    "        plt.gca().yaxis.set_label_coords(0, 0.77)\n",
    "    for j in range(6):\n",
    "        if j < 3: col = 'gray'; alpha = 0.1\n",
    "        if j >= 3: col = 'gold'; alpha = 1\n",
    "        psth = [ res_counts_h[0][HIT][36 + 6*k+j][neuron] for k in range(6) \\\n",
    "               if not isinstance(res_counts_h[noise][HIT][36 + 6*k+j], list)]\n",
    "        m = np.mean(psth, axis=0)\n",
    "        plt.plot(np.arange(20), m[:20], '--', color='bisque')\n",
    "        plt.plot(20 + np.arange(130), m[20:], color=col, alpha=alpha)\n",
    "        plt.ylim((0,1.1)); plt.xlim((0,150))\n",
    "        plt.gca().spines['right'].set_color('none')\n",
    "        plt.gca().spines['top'].set_color('none')\n",
    "        plt.gca().spines['left'].set_color('none')\n",
    "    if not i == 0:\n",
    "        plt.gca().spines['bottom'].set_color('none')\n",
    "    else:\n",
    "        plt.xticks([0, 20, 150], ['100', '200', '850'])\n",
    "        plt.xlabel(\"time after stimulus onset (ms)\")\n",
    "    plt.title(r'\\textit{hidden neuron}', fontsize=14)\n",
    "plt.tight_layout()\n",
    "plt.subplots_adjust(wspace=0.35)\n",
    "plt.savefig('../figures/final_figures/png_files/hidden_contribution', dpi=300, bbox_inches='tight')"
   ]
  },
  {
   "cell_type": "code",
   "execution_count": 98,
   "metadata": {},
   "outputs": [
    {
     "data": {
      "application/vnd.jupyter.widget-view+json": {
       "model_id": "7372d4a7119e43f5b971af01f00badb6",
       "version_major": 2,
       "version_minor": 0
      },
      "text/plain": [
       "FigureCanvasNbAgg()"
      ]
     },
     "metadata": {},
     "output_type": "display_data"
    }
   ],
   "source": [
    "res_counts = np.load('../data_files/1_res_counts_hidden_sparse=400.npy', encoding='latin1'); HIT = 0; MISS = 1;\n",
    "plt.close('all')\n",
    "agg = np.load('../data_files/new_data_nans_rightwrong.npy', encoding='latin1')\n",
    "agg = [ np.array([normalize(agg[j][i], 0.1, 0.9) for i in range(len(agg[0]))]) for j in range(len(agg)) ]\n",
    "# agg = np.load('../data_files/new_data_nans_rightwrong.npy', encoding='latin1')\n",
    "plt.figure(figsize=(6,5)) # plt.figure(figsize=(11,5))\n",
    "noise = 0\n",
    "rc('text.latex', preamble=r'\\usepackage{color}')\n",
    "\"\"\"\n",
    "for i, neuron in enumerate([0, 1, 2, 4, 5]):    \n",
    "    plt.subplot(2,5,i+11)\n",
    "    if not i == 0: plt.xticks([]); plt.yticks([])\n",
    "    else: \n",
    "        plt.ylabel('model output (incorrect, a.u.)')\n",
    "        plt.yticks([])\n",
    "        plt.xlabel('time (ms)')\n",
    "        plt.xticks([0, 198], ['0', '750'])\n",
    "    for j in range(6):\n",
    "        if j < 3: col = 'orange' \n",
    "        if j >= 3: col = 'green' \n",
    "        if j == 0 or j == 5: alpha = 1\n",
    "        elif j == 1 or j == 4: alpha = 0.6\n",
    "        else: alpha = 0.4\n",
    "        psth = [ res_counts[noise][MISS][36 + 6*k+j][neuron][20:220] for k in range(6) \\\n",
    "               if not isinstance(res_counts[noise][MISS][36 + 6*k+j], list)] \n",
    "        plt.plot(np.mean(psth, axis=0), color=col, alpha=alpha)\n",
    "        plt.gca().spines['right'].set_color('none')\n",
    "        plt.gca().spines['top'].set_color('none')\n",
    "\"\"\"\n",
    "for i, neuron in enumerate([0, 1]):    \n",
    "    plt.subplot(2,2,i+1) # plt.subplot(2,5,i+6)\n",
    "    if not i == 0: plt.xticks([]); plt.yticks([])\n",
    "    else: \n",
    "        plt.ylabel(r'$\\textbf{model}$' + ' output \\n' + r'$\\textbf{no noise}$' + '\\n (correct, a.u.)', fontsize=14, rotation=0)\n",
    "        plt.yticks([])\n",
    "        #plt.xlabel('time (ms)', fontsize=14)\n",
    "        plt.tick_params(direction='in')\n",
    "        plt.xticks([])\n",
    "    for j in range(6):\n",
    "        if j < 3: col = 'darkturquoise' \n",
    "        if j >= 3: col = 'gold' \n",
    "        if j == 0 or j == 5: alpha = 1\n",
    "        elif j == 1 or j == 4: alpha = 0.6\n",
    "        else: alpha = 0.4\n",
    "        psth = [ res_counts[noise][HIT][36 + 6*k+j][neuron] for k in range(6) \\\n",
    "               if not isinstance(res_counts[noise][HIT][36 + 6*k+j], list)]\n",
    "        #plt.title(r'$\\textit{' + 'neuron {}'.format(str(i+1)) + '}$', fontsize=14)\n",
    "        plt.plot(np.mean(psth, axis=0), color=col, alpha=alpha)\n",
    "        #psth_inc = [ res_counts[4][MISS][36 + 6*k+j][neuron] for k in range(6) \\\n",
    "        #       if not isinstance(res_counts[4][MISS][36 + 6*k+j], list)]\n",
    "        #plt.plot(np.mean(psth_inc, axis=0), color=col, alpha=alpha, linestyle=':')\n",
    "        plt.xlim((0,150))\n",
    "        plt.ylim((0,1))\n",
    "        plt.gca().spines['right'].set_color('none')\n",
    "        plt.gca().spines['top'].set_color('none')\n",
    "        plt.gca().spines['left'].set_color('none')\n",
    "        plt.gca().spines['bottom'].set_color('none')\n",
    "    \"\"\"\n",
    "    #if not i == 4:\n",
    "        #plt.gca().spines['bottom'].set_color('none')\n",
    "    #else:\n",
    "        #plt.xticks([0, 150], ['100', '850'])\n",
    "        #plt.xlabel(\"time after stimulus onset (ms)\")\n",
    "    \"\"\"\n",
    "    if i == 0:\n",
    "        plt.annotate(r'$\\textit{choice 1}$', (105, 0.76), fontsize=12)\n",
    "        plt.annotate(r'$\\textit{choice 2}$', (102, 0.02), fontsize=12)\n",
    "        \n",
    "\n",
    "for i, neuron in enumerate([0, 1]): # enumerate([0, 1, 2, 350, 5])\n",
    "    plt.subplot(2,2,i+3) # plt.subplot(2,5,i+1)\n",
    "    if not i == 0: plt.xticks([]); plt.yticks([])\n",
    "    else: \n",
    "        plt.ylabel(r'$\\textbf{target}$' +' output \\n' + r'$\\textbf{noise corruption}$' +' \\n (a.u.)', fontsize=14, rotation=0)\n",
    "        plt.yticks([])\n",
    "        plt.xticks([])\n",
    "    for j in range(6):\n",
    "        if j < 3: col = 'darkturquoise' \n",
    "        if j >= 3: col = 'gold' \n",
    "        if j == 0 or j == 5: alpha = 1\n",
    "        elif j == 1 or j == 4: alpha = 0.6\n",
    "        else: alpha = 0.4\n",
    "        psth = [ res_counts[5][HIT][36 + 6*k+j][neuron] for k in range(6) \\\n",
    "               if not isinstance(res_counts[noise][HIT][36 + 6*k+j], list)] \n",
    "        plt.xlim((0,150))\n",
    "        plt.ylim((0,1))\n",
    "        plt.plot(np.mean(psth, axis=0), color=col, alpha=alpha)\n",
    "        #psth_inc = [ agg[1][36 + 6*k+j][neuron] for k in range(6) if not isinstance(agg[1][36 + 6*k+j], list) ] \n",
    "        #plt.plot(np.mean(psth_inc, axis=0), color=col, alpha=alpha, linestyle=':')\n",
    "        plt.gca().spines['right'].set_color('none')\n",
    "        plt.gca().spines['top'].set_color('none')\n",
    "        plt.gca().spines['left'].set_color('none')\n",
    "        if not i == 1:\n",
    "            plt.gca().spines['bottom'].set_color('none')\n",
    "        else:\n",
    "            plt.xticks([0, 150], ['100', '850'])\n",
    "            plt.xlabel(\"time after stimulus onset (ms)\")\n",
    "        \n",
    "        \n",
    "#plt.suptitle(r'\\textbf{Model PSTH vs. observed PSTH}', fontsize=16, y=1)\n",
    "plt.tight_layout()\n",
    "plt.subplots_adjust(hspace=0.1)\n",
    "plt.subplots_adjust(wspace=0.15)\n",
    "plt.savefig('../figures/final_figures/png_files/bad_model_no_hidden_1', dpi=300, bbox_inches='tight')"
   ]
  },
  {
   "cell_type": "code",
   "execution_count": 482,
   "metadata": {},
   "outputs": [
    {
     "data": {
      "application/vnd.jupyter.widget-view+json": {
       "model_id": "bb7ca962f1f643f4977b37793c26b85f",
       "version_major": 2,
       "version_minor": 0
      },
      "text/plain": [
       "FigureCanvasNbAgg()"
      ]
     },
     "metadata": {},
     "output_type": "display_data"
    },
    {
     "name": "stderr",
     "output_type": "stream",
     "text": [
      "/usr/local/lib/python3.7/site-packages/numpy/core/fromnumeric.py:2920: RuntimeWarning: Mean of empty slice.\n",
      "  out=out, **kwargs)\n",
      "/usr/local/lib/python3.7/site-packages/numpy/core/_methods.py:85: RuntimeWarning: invalid value encountered in double_scalars\n",
      "  ret = ret.dtype.type(ret / rcount)\n"
     ]
    }
   ],
   "source": [
    "plt.close('all')\n",
    "res_counts_h = np.load('../data_files/res_counts_hidden_neurons_hidden_sparse=800.npy', encoding='latin1'); HIT = 0; MISS = 1;\n",
    "plt.figure(figsize=(6,5)) # neuron 1-5\n",
    "# color coherence\\\n",
    "noise = 5;\n",
    "for i, neuron in enumerate([37, 1]):\n",
    "    plt.subplot(2,2,i+1)\n",
    "    if not i == 0: plt.xticks([]); plt.yticks([]);\n",
    "    else: \n",
    "        plt.xticks([]); plt.yticks([])\n",
    "        plt.ylabel(r'$\\textbf{color}$' +' context' + '\\n (incorrect, a.u.)', fontsize=14, rotation=0)\n",
    "    for j in range(6):\n",
    "        if j < 3: col = 'orangered' \n",
    "        if j >= 3: col = 'royalblue' \n",
    "        if j == 0 or j == 5: alpha = 1\n",
    "        elif j == 1 or j == 4: alpha = 0.6\n",
    "        else: alpha = 0.4\n",
    "        psth = [ res_counts_h[noise][MISS][k][neuron] for k in range(j*6, (j+1)*6) \\\n",
    "               if not isinstance(res_counts_h[noise][MISS][k], list)]\n",
    "        plt.plot(np.mean(psth, axis=0), color=col, alpha=alpha)\n",
    "        #if i == 0:\n",
    "        psth = [ res_counts_h[noise][HIT][k][neuron] for k in range(j*6, (j+1)*6) \\\n",
    "                if not isinstance(res_counts_h[noise][HIT][k], list)]\n",
    "        plt.plot(np.mean(psth, axis=0), ':', color=col, alpha=alpha * 0.5)\n",
    "        plt.title(r'$\\textit{' + 'neuron {}'.format(str(i+1)) + '}$', fontsize=14)\n",
    "        plt.gca().spines['right'].set_color('none')\n",
    "        plt.gca().spines['top'].set_color('none')\n",
    "        plt.gca().spines['left'].set_color('none')\n",
    "        plt.gca().spines['bottom'].set_color('none')\n",
    "        plt.ylim((0,1.1)); plt.xlim((0,150))\n",
    "    if i == 0:\n",
    "        plt.annotate(r'$\\textit{choice 1}$', (105, 0.45), fontsize=12)\n",
    "        plt.annotate(r'$\\textit{choice 2}$', (102, 0), fontsize=12)\n",
    "\n",
    "for i, neuron in enumerate([27, 7]):\n",
    "    plt.subplot(2,2,i+3)\n",
    "    if not i == 0: plt.xticks([]); plt.yticks([]);\n",
    "    else: \n",
    "        plt.xticks([]); plt.yticks([])\n",
    "        plt.ylabel(r'$\\textbf{motion}$' +' context' + '\\n (incorrect, a.u.)', fontsize=14, rotation=0)\n",
    "        plt.gca().yaxis.set_label_coords(0, 0.77)\n",
    "    for j in range(6):\n",
    "        if j < 3: col = 'darkturquoise' \n",
    "        if j >= 3: col = 'gold' \n",
    "        if j == 0 or j == 5: alpha = 1\n",
    "        elif j == 1 or j == 4: alpha = 0.6\n",
    "        else: alpha = 0.4\n",
    "        psth = [ res_counts_h[noise][MISS][36 + 6*k+j][neuron] for k in range(6) \\\n",
    "               if not isinstance(res_counts_h[noise][MISS][36 + 6*k+j], list)]\n",
    "        plt.plot(np.mean(psth, axis=0), color=col, alpha=alpha)\n",
    "        psth = [ res_counts_h[noise][HIT][36 + 6*k+j][neuron] for k in range(6) \\\n",
    "               if not isinstance(res_counts_h[noise][HIT][36 + 6*k+j], list)]\n",
    "        plt.plot(np.mean(psth, axis=0), ':', color=col, alpha=alpha * 0.5)\n",
    "        plt.ylim((0,1.1)); plt.xlim((0,150))\n",
    "        plt.gca().spines['right'].set_color('none')\n",
    "        plt.gca().spines['top'].set_color('none')\n",
    "        plt.gca().spines['left'].set_color('none')\n",
    "    if not i == 1:\n",
    "        plt.gca().spines['bottom'].set_color('none')\n",
    "    else:\n",
    "        plt.xticks([0, 150], ['100', '850'])\n",
    "        plt.xlabel(\"time after stimulus onset (ms)\")\n",
    "    if i == 0:\n",
    "        plt.annotate(r'$\\textit{choice 1}$', (105, 0.75), fontsize=12)\n",
    "        plt.annotate(r'$\\textit{choice 2}$', (102, 0.39), fontsize=12)\n",
    "plt.suptitle(r'$\\textbf{Hidden population PSTH with incorrect discrimination}$', fontsize=16)\n",
    "plt.tight_layout(rect=[0, 0.03, 1, 0.95])\n",
    "#plt.savefig('../figures/final_figures/png_files/hidden_psth_incorrect_2', dpi=300, bbox_inches='tight')"
   ]
  },
  {
   "cell_type": "code",
   "execution_count": 99,
   "metadata": {},
   "outputs": [
    {
     "data": {
      "application/vnd.jupyter.widget-view+json": {
       "model_id": "d2d5973a075d4beb856f5f6f56f193b6",
       "version_major": 2,
       "version_minor": 0
      },
      "text/plain": [
       "FigureCanvasNbAgg()"
      ]
     },
     "metadata": {},
     "output_type": "display_data"
    }
   ],
   "source": [
    "noise = 0\n",
    "plt.figure(figsize=(9,4))\n",
    "plt.subplot(121)\n",
    "for i, neuron in enumerate([7]):\n",
    "    if not i == 0: plt.xticks([]); plt.yticks([]);\n",
    "    else: \n",
    "        plt.xticks([]); plt.yticks([])\n",
    "        #plt.ylabel(r'$\\textbf{color}$' +' context' + '\\n (correct, a.u.)', fontsize=14, rotation=0)\n",
    "    for j in range(6):\n",
    "        if j < 3: col = 'darkturquoise' \n",
    "        if j >= 3: col = 'gold' \n",
    "        if j == 0 or j == 5: alpha = 1\n",
    "        elif j == 1 or j == 4: alpha = 0.6\n",
    "        else: alpha = 0.4\n",
    "        psth = [ res_counts_h[noise][HIT][36 + 6*k+j][neuron]for k in range(6) \\\n",
    "               if not isinstance(res_counts_h[noise][HIT][k], list)]\n",
    "        for i in range(2):\n",
    "            if i == 0: col_ = 'orangered' \n",
    "            else: col_ = 'royalblue' \n",
    "            plt.plot(np.mean(psth[3*i:3*(i+1)], axis=0), '--', color=col_, alpha=alpha_, linewidth=0.8)\n",
    "        plt.plot(np.mean(psth, axis=0), color=col, alpha=alpha)\n",
    "        #plt.title(r'$\\textit{' + 'neuron {}'.format(str(i+1)) + '}$', fontsize=14)\n",
    "        plt.gca().spines['right'].set_color('none')\n",
    "        plt.gca().spines['top'].set_color('none')\n",
    "        plt.gca().spines['left'].set_color('none')\n",
    "        plt.gca().spines['bottom'].set_color('none')\n",
    "        plt.ylim((0,1)); plt.xlim((0,150))\n",
    "    #if i == 0:\n",
    "    #    plt.annotate(r'$\\textit{choice 1}$', (105, 0.45), fontsize=12)\n",
    "    #    plt.annotate(r'$\\textit{choice 2}$', (102, 0), fontsize=12)\n",
    "plt.subplot(122)\n",
    "for i, neuron in enumerate([1]):\n",
    "    if not i == 0: plt.xticks([]); plt.yticks([]);\n",
    "    else: \n",
    "        plt.xticks([]); plt.yticks([])\n",
    "        #plt.ylabel(r'$\\textbf{color}$' +' context' + '\\n (correct, a.u.)', fontsize=14, rotation=0)\n",
    "    for j in range(6):\n",
    "        if j < 3: col = 'orangered' \n",
    "        if j >= 3: col = 'royalblue' \n",
    "        if j == 0 or j == 5: alpha = 1\n",
    "        elif j == 1 or j == 4: alpha = 0.6\n",
    "        else: alpha = 0.4\n",
    "        psth = [ res_counts_h[noise][HIT][k][neuron] for k in range(j*6, (j+1)*6) \\\n",
    "               if not isinstance(res_counts_h[noise][HIT][k], list)]\n",
    "        for i in range(6):\n",
    "            if i < 3: col_ = 'darkturquoise' \n",
    "            else: col_ = 'gold' \n",
    "            #plt.plot(np.mean(psth[3*i:3*(i+1)], axis=0), '--', color=col_, alpha=alpha_, linewidth=0.8)\n",
    "            plt.plot(psth[i], '--', color=col_, alpha=alpha_, linewidth=0.8)\n",
    "        plt.plot(np.mean(psth, axis=0), color=col, alpha=alpha)\n",
    "        #plt.title(r'$\\textit{' + 'neuron {}'.format(str(i+1)) + '}$', fontsize=14)\n",
    "        plt.gca().spines['right'].set_color('none')\n",
    "        plt.gca().spines['top'].set_color('none')\n",
    "        plt.gca().spines['left'].set_color('none')\n",
    "        plt.gca().spines['bottom'].set_color('none')\n",
    "        plt.ylim((0,1)); plt.xlim((0,150))"
   ]
  },
  {
   "cell_type": "code",
   "execution_count": 12,
   "metadata": {},
   "outputs": [
    {
     "data": {
      "application/vnd.jupyter.widget-view+json": {
       "model_id": "7dbb6d1fa819479d923a67526fa8eebc",
       "version_major": 2,
       "version_minor": 0
      },
      "text/plain": [
       "FigureCanvasNbAgg()"
      ]
     },
     "metadata": {},
     "output_type": "display_data"
    }
   ],
   "source": [
    "#plt.close('all')\n",
    "plt.figure(figsize=(11,5)) # neuron 1-5\n",
    "# color coherence\n",
    "noise = 0;\n",
    "\"\"\"\n",
    "for i, neuron in enumerate([0, 1, 2, 4, 8]):\n",
    "    plt.subplot(3,5,i+11)\n",
    "    if not i == 0: plt.xticks([]); plt.yticks([]);\n",
    "    else: \n",
    "        plt.ylabel('model output (incorrect, a.u.)')\n",
    "        plt.yticks([])\n",
    "        plt.xlabel('time (ms)')\n",
    "        plt.xticks([0, 198], ['0', '750'])\n",
    "    for j in range(6):\n",
    "        if j < 3: col = 'red' \n",
    "        if j >= 3: col = 'blue' \n",
    "        if j == 0 or j == 5: alpha = 1\n",
    "        elif j == 1 or j == 4: alpha = 0.6\n",
    "        else: alpha = 0.4\n",
    "        psth = [ res_counts[noise][MISS][k][neuron][20:220] for k in range(j*6, (j+1)*6) \\\n",
    "                if not isinstance(res_counts[noise][MISS][k], list)]\n",
    "        plt.plot(np.mean(psth, axis=0), color=col, alpha=alpha)\n",
    "        plt.gca().spines['right'].set_color('none')\n",
    "        plt.gca().spines['top'].set_color('none')\n",
    "\"\"\"\n",
    "plt.rcParams.update({'font.size': 12})\n",
    "plt.rc('axes', titlesize=14)\n",
    "for i, neuron in enumerate([57, 45, 17, 263, 605]):\n",
    "    plt.subplot(2,5,i+6)\n",
    "    if not i == 0: plt.xticks([]); plt.yticks([]);\n",
    "    else: \n",
    "        plt.ylabel(r'$\\textbf{model}$' + ' output \\n' + r'\\textbf{color context}' + '\\n (correct, a.u.)', fontsize=14, rotation=0)\n",
    "        plt.yticks([]); plt.xticks([])\n",
    "        plt.tick_params(direction='in')\n",
    "    for j in range(6):\n",
    "        if j < 3: col = 'orangered' \n",
    "        if j >= 3: col = 'royalblue' \n",
    "        if j == 0 or j == 5: alpha = 1\n",
    "        elif j == 1 or j == 4: alpha = 0.6\n",
    "        else: alpha = 0.4\n",
    "        psth = [ res_counts[noise][HIT][k][neuron] for k in range(j*6, (j+1)*6) \\\n",
    "                if not isinstance(res_counts[noise][HIT][k], list)]\n",
    "        plt.plot(np.mean(psth, axis=0), color=col, alpha=alpha)\n",
    "        plt.xlim((0,150))\n",
    "        plt.ylim((0,1))\n",
    "        plt.gca().spines['top'].set_color('none')\n",
    "        plt.gca().spines['left'].set_color('none')\n",
    "        plt.gca().spines['right'].set_color('none')\n",
    "    if not i == 4:\n",
    "        plt.gca().spines['bottom'].set_color('none')\n",
    "    else:\n",
    "        plt.xticks([0, 150], ['100', '850'])\n",
    "        plt.xlabel(\"time after stimulus onset (ms)\")\n",
    "    if i == 0:\n",
    "        plt.annotate(r'$\\textit{choice 1}$', (105, 0.71), fontsize=12)\n",
    "        plt.annotate(r'$\\textit{choice 2}$', (102, 0.34), fontsize=12)\n",
    "    \n",
    "for i, neuron in enumerate([57, 45, 17, 263, 605]): #8, 79, 105, 129, 450, !58, !616, 605!\n",
    "    plt.subplot(2,5,i+1)\n",
    "    if not i == 0: plt.xticks([]); plt.yticks([])\n",
    "    else: \n",
    "        plt.ylabel(r'$\\textbf{target}$' + ' output \\n' + r'\\textbf{color context}' + '\\n (a.u.)', fontsize=14, rotation=0)\n",
    "        plt.yticks([])\n",
    "        plt.xticks([])\n",
    "    for j in range(6):\n",
    "        if j < 3: col = 'orangered' \n",
    "        if j >= 3: col = 'royalblue' \n",
    "        if j == 0 or j == 5: alpha = 1\n",
    "        elif j == 1 or j == 4: alpha = 0.6\n",
    "        else: alpha = 0.4\n",
    "        psth = [ agg[0][k][neuron] for k in range(j*6, (j+1)*6) ] \n",
    "        plt.plot(np.mean(psth, axis=0), color=col, alpha=alpha)\n",
    "        plt.xlim((0,150))\n",
    "        plt.ylim((0,1))\n",
    "        # plt.title('neuron ' + str(i+1))\n",
    "        plt.gca().spines['right'].set_color('none')\n",
    "        plt.gca().spines['top'].set_color('none')\n",
    "        plt.gca().spines['left'].set_color('none')\n",
    "        plt.gca().spines['bottom'].set_color('none')\n",
    "plt.tight_layout()\n",
    "plt.subplots_adjust(hspace=0.1)\n",
    "plt.subplots_adjust(wspace=0.15)\n",
    "# plt.title(r'\\textbf{Average neuron pVar}' + '\\n' + r'\\textbf{for varying size of hidden population}', fontsize=16)\n",
    "# plt.savefig('../figures/final_figures/png_files/cc_psth_noise_correctincorrect', dpi=300, bbox_inches='tight')"
   ]
  },
  {
   "cell_type": "code",
   "execution_count": 759,
   "metadata": {},
   "outputs": [
    {
     "data": {
      "text/plain": [
       "587"
      ]
     },
     "execution_count": 759,
     "metadata": {},
     "output_type": "execute_result"
    }
   ],
   "source": [
    "neuron"
   ]
  },
  {
   "cell_type": "code",
   "execution_count": 694,
   "metadata": {},
   "outputs": [],
   "source": [
    "from brokenaxes import brokenaxes"
   ]
  },
  {
   "cell_type": "code",
   "execution_count": 500,
   "metadata": {},
   "outputs": [],
   "source": [
    "# pvar for noise\n",
    "pvar = np.zeros((72,6))\n",
    "for q in range(6):\n",
    "    for i in range(72):\n",
    "        obs = np.array([res_counts[q][HIT][i][t][20:220] for t in range(output_num - 1)])\n",
    "        pvar[i][q] = 1 - \\\n",
    "            np.sum((obs - agg[0][i]) ** 2) / \\\n",
    "            np.sum(agg[0][i]  ** 2)"
   ]
  },
  {
   "cell_type": "code",
   "execution_count": 9,
   "metadata": {},
   "outputs": [],
   "source": [
    "pvar_no_hidden = np.load('../data_files/pvars_no_hidden.npy')\n",
    "pvar_hidden_100 = np.load('../data_files/pvars_hidden_100.npy')\n",
    "pvar_hidden_500 = np.load('../data_files/pvars_r.npy')"
   ]
  },
  {
   "cell_type": "code",
   "execution_count": 83,
   "metadata": {},
   "outputs": [
    {
     "data": {
      "application/vnd.jupyter.widget-view+json": {
       "model_id": "6a7ee009d78e44349632b3e8d2ffa017",
       "version_major": 2,
       "version_minor": 0
      },
      "text/plain": [
       "FigureCanvasNbAgg()"
      ]
     },
     "metadata": {},
     "output_type": "display_data"
    },
    {
     "data": {
      "text/plain": [
       "[Text(0, 0, '$\\\\mathsf{\\\\eta = 0}$'),\n",
       " Text(0, 0, '$\\\\mathsf{\\\\eta = 100}$'),\n",
       " Text(0, 0, '$\\\\mathsf{\\\\eta = 500}$')]"
      ]
     },
     "execution_count": 83,
     "metadata": {},
     "output_type": "execute_result"
    }
   ],
   "source": [
    "fig = plt.figure()\n",
    "colors = ['magenta', 'purple', 'mediumpurple', 'cornflowerblue', 'cyan', 'darkcyan']\n",
    "labels = ['$\\sigma^2 = 0$', '$\\sigma^2 = 0.10$', '$\\sigma^2 = 0.25$', '$\\sigma^2 = 0.50$', '$\\sigma^2 = 0.75$', '$\\sigma^2 = 1.00$']\n",
    "bax = brokenaxes(ylims=((-1.3, -0.55), (-0.25, 1.1)), hspace=.05, fig=fig)\n",
    "for i, space in enumerate([-0.3, -0.2, -0.1, 0, 0.1, 0.2]):\n",
    "    bax.bar(space + np.arange(3), [np.mean(pvar_no_hidden[:,i]), np.mean(pvar_hidden_100[:,i]), np.mean(pvar_hidden_500[:,i])],\n",
    "                yerr=[np.std(pvar_no_hidden[:,i]), np.std(pvar_hidden_100[:,i]), np.std(pvar_hidden_500[:,i])], width=0.1, capsize=4, color=colors[i])\n",
    "for ax in bax.axs:\n",
    "    ax.get_xaxis().set_ticks([])\n",
    "    ax.get_yaxis().set_ticks([])\n",
    "bax.big_ax.set_yticks([-1.2, 0, 1])\n",
    "bax.big_ax.set_yticklabels(['-1.2', '0', '1.0'])\n",
    "bax.big_ax.set_xticks(np.arange(3))\n",
    "bax.big_ax.set_xticklabels(['$\\mathsf{\\eta = 0}$', '$\\mathsf{\\eta = 100}$', '$\\mathsf{\\eta = 500}$'])"
   ]
  },
  {
   "cell_type": "code",
   "execution_count": 189,
   "metadata": {},
   "outputs": [
    {
     "name": "stderr",
     "output_type": "stream",
     "text": [
      "/usr/local/lib/python3.7/site-packages/matplotlib/__init__.py:880: MatplotlibDeprecationWarning: \n",
      "nbagg.transparent\n",
      "  version, key, obj_type=\"rcparam\", alternative=alt_key)\n"
     ]
    },
    {
     "data": {
      "application/vnd.jupyter.widget-view+json": {
       "model_id": "c58a2f5b5a994ed98b470f6cb9c1b9d6",
       "version_major": 2,
       "version_minor": 0
      },
      "text/plain": [
       "FigureCanvasNbAgg()"
      ]
     },
     "metadata": {},
     "output_type": "display_data"
    }
   ],
   "source": [
    "plt.figure()\n",
    "colors = ['magenta', 'purple', 'mediumpurple', 'cornflowerblue', 'cyan', 'darkcyan']\n",
    "labels = ['$\\sigma^2 = 0$', '$\\sigma^2 = 0.10$', '$\\sigma^2 = 0.25$', '$\\sigma^2 = 0.50$', '$\\sigma^2 = 0.75$', '$\\sigma^2 = 1.00$']\n",
    "plt.xticks(np.arange(3), ['$\\mathsf{\\eta = 0}$', '$\\mathsf{\\eta = 100}$', '$\\mathsf{\\eta = 500}$'], fontsize=13)\n",
    "for i, space in enumerate([-0.3, -0.2, -0.1, 0, 0.1, 0.2]):\n",
    "    plt.bar(space + np.arange(3), [np.mean(pvar_no_hidden[:,i]), np.mean(pvar_hidden_100[:,i]), np.mean(pvar_hidden_500[:,i])], width=0.1, \n",
    "            color=colors[i], alpha=0.65)\n",
    "    _, caplines, _ = plt.errorbar(space + np.arange(3), [np.mean(pvar_no_hidden[:,i]), np.mean(pvar_hidden_100[:,i]), np.mean(pvar_hidden_500[:,i])],\n",
    "                yerr=[np.std(pvar_no_hidden[:,i]), np.std(pvar_hidden_100[:,i]), np.std(pvar_hidden_500[:,i])], capsize=0, lolims=True,\n",
    "                ls='None', color='k')\n",
    "    caplines[0].set_marker('_')\n",
    "    caplines[0].set_markersize(7)\n",
    "plt.yticks([-0.2, 0, 0.5, 1.05], ['-0.2', '0', '0.5', '1.0'],fontsize=13)\n",
    "plt.xlabel('Number of hidden neurons',fontsize=14)\n",
    "plt.ylabel('$\\mu$-pVar over conditions',fontsize=14)\n",
    "plt.gca().spines['right'].set_color('none')\n",
    "plt.gca().spines['top'].set_color('none')\n",
    "plt.tick_params(direction='in')\n",
    "plt.xlim((-0.35, 2.25))\n",
    "plt.ylim((-0.23, 1.05))\n",
    "plt.title(r'\\textbf{Average neuron pVar}' + '\\n' + r'\\textbf{for varying size of hidden population}', fontsize=16)\n",
    "plt.savefig('../figures/final_figures/png_files/pvars_num_hidden', dpi=300, bbox_inches='tight')"
   ]
  },
  {
   "cell_type": "code",
   "execution_count": 186,
   "metadata": {},
   "outputs": [
    {
     "name": "stderr",
     "output_type": "stream",
     "text": [
      "/usr/local/lib/python3.7/site-packages/matplotlib/__init__.py:880: MatplotlibDeprecationWarning: \n",
      "nbagg.transparent\n",
      "  version, key, obj_type=\"rcparam\", alternative=alt_key)\n"
     ]
    },
    {
     "data": {
      "application/vnd.jupyter.widget-view+json": {
       "model_id": "55a06d83b43644f0a90d9d652a085ed6",
       "version_major": 2,
       "version_minor": 0
      },
      "text/plain": [
       "FigureCanvasNbAgg()"
      ]
     },
     "metadata": {},
     "output_type": "display_data"
    }
   ],
   "source": [
    "plt.figure()\n",
    "mse_no_hidden = np.load('../data_files/mse_c_no_hidden.npy')\n",
    "mse_hidden_100 = np.load('../data_files/mse_c_hidden_100.npy')\n",
    "mse_hidden_500 = np.load('../data_files/mse_c.npy')\n",
    "colors = ['magenta', 'purple', 'mediumpurple', 'cornflowerblue', 'cyan', 'darkcyan']\n",
    "labels = ['$\\sigma^2 = 0$', '$\\sigma^2 = 0.10$', '$\\sigma^2 = 0.25$', '$\\sigma^2 = 0.50$', '$\\sigma^2 = 0.75$', '$\\sigma^2 = 1.00$']\n",
    "plt.xticks(np.arange(3), ['$\\mathsf{\\eta = 0}$', '$\\mathsf{\\eta = 100}$', '$\\mathsf{\\eta = 500}$'], fontsize=13)\n",
    "for i, space in enumerate([-0.3, -0.2, -0.1, 0, 0.1, 0.2]):\n",
    "    plt.bar(space + np.arange(3), [np.mean(mse_no_hidden[:,i]), np.mean(mse_hidden_100[:,i]), np.mean(mse_hidden_500[:,i])], width=0.1, \n",
    "            color=colors[i], alpha=0.65)\n",
    "    _, caplines, _ = plt.errorbar(space + np.arange(3), [np.mean(mse_no_hidden[:,i]), np.mean(mse_hidden_100[:,i]), np.mean(mse_hidden_500[:,i])],\n",
    "                yerr=[np.std(mse_no_hidden[:,i]), np.std(mse_hidden_100[:,i]), np.std(mse_hidden_500[:,i])], capsize=0, lolims=True,\n",
    "                ls='None', color='k')\n",
    "    caplines[0].set_marker('_')\n",
    "    caplines[0].set_markersize(7)\n",
    "plt.yticks([0, 0.06, 0.12], ['0', '0.06', '0.12'], fontsize=13)\n",
    "plt.xlabel('Number of hidden neurons', fontsize=14)\n",
    "plt.ylabel('$\\mu$-MSE over neurons', fontsize=14)\n",
    "plt.gca().spines['right'].set_color('none')\n",
    "plt.gca().spines['top'].set_color('none')\n",
    "plt.tick_params(direction='in')\n",
    "plt.xlim((-0.35, 2.25))\n",
    "plt.ylim((0, 0.12))\n",
    "plt.title(r'\\textbf{Average neuron MSE}' + '\\n' + r'\\textbf{for varying size of hidden population}', fontsize=16)\n",
    "plt.savefig('../figures/final_figures/png_files/mse_num_hidden', dpi=300, bbox_inches='tight')"
   ]
  },
  {
   "cell_type": "code",
   "execution_count": 184,
   "metadata": {},
   "outputs": [
    {
     "name": "stderr",
     "output_type": "stream",
     "text": [
      "/usr/local/lib/python3.7/site-packages/matplotlib/__init__.py:880: MatplotlibDeprecationWarning: \n",
      "nbagg.transparent\n",
      "  version, key, obj_type=\"rcparam\", alternative=alt_key)\n"
     ]
    },
    {
     "data": {
      "application/vnd.jupyter.widget-view+json": {
       "model_id": "c450c2736a03421eb5ad54b88d5235bc",
       "version_major": 2,
       "version_minor": 0
      },
      "text/plain": [
       "FigureCanvasNbAgg()"
      ]
     },
     "metadata": {},
     "output_type": "display_data"
    }
   ],
   "source": [
    "plt.close('all')\n",
    "matplotlib.rcParams['text.latex.preamble']=[r\"\\usepackage{amsmath}\"]\n",
    "plt.rcParams.update({'font.size': 12})\n",
    "plt.rc('axes', titlesize=14)\n",
    "plt.figure()\n",
    "mape_no_hidden = np.load('../data_files/mape_c_no_hidden.npy')\n",
    "mape_hidden_100 = np.load('../data_files/mape_c_hidden_100.npy')\n",
    "mape_hidden_500 = np.load('../data_files/mape_c.npy')\n",
    "colors = ['magenta', 'purple', 'mediumpurple', 'cornflowerblue', 'cyan', 'darkcyan']\n",
    "labels = ['$\\sigma^2 = 0$', '$\\sigma^2 = 0.10$', '$\\sigma^2 = 0.25$', '$\\sigma^2 = 0.50$', '$\\sigma^2 = 0.75$', '$\\sigma^2 = 1.00$']\n",
    "plt.xticks(np.arange(3), ['$\\mathsf{\\eta = 0}$', '$\\mathsf{\\eta = 100}$', '$\\mathsf{\\eta = 500}$'], fontsize=13)\n",
    "for i, space in enumerate([-0.3, -0.2, -0.1, 0, 0.1, 0.2]):\n",
    "    plt.bar(space + np.arange(3), [np.mean(mape_no_hidden[:,i]), np.mean(mape_hidden_100[:,i]), np.mean(mape_hidden_500[:,i])], width=0.1, \n",
    "            color=colors[i], alpha=0.65)\n",
    "    _, caplines, _ = plt.errorbar(space + np.arange(3), [np.mean(mape_no_hidden[:,i]), np.mean(mape_hidden_100[:,i]), np.mean(mape_hidden_500[:,i])],\n",
    "                yerr=[np.std(mape_no_hidden[:,i]), np.std(mape_hidden_100[:,i]), np.std(mape_hidden_500[:,i])], capsize=0, lolims=True,\n",
    "                ls='None', color='k')\n",
    "    caplines[0].set_marker('_')\n",
    "    caplines[0].set_markersize(7)\n",
    "plt.yticks([0.1, 0.5, 1, 1.8], ['10\\%', '50\\%', '100\\%', '180\\%'], fontsize=13)\n",
    "plt.xlabel('Number of hidden neurons', fontsize=14)\n",
    "plt.ylabel('$\\mu$-MAPE over neurons', fontsize=14)\n",
    "plt.gca().spines['right'].set_color('none')\n",
    "plt.gca().spines['top'].set_color('none')\n",
    "plt.tick_params(direction='in')\n",
    "plt.xlim((-0.35, 2.25))\n",
    "plt.ylim((0, 1.8))\n",
    "plt.title(r'\\textbf{Average neuron MAPE}' + '\\n' + r'\\textbf{for varying size of hidden population}', fontsize=16)\n",
    "plt.savefig('../figures/final_figures/png_files/mape_num_hidden', dpi=300, bbox_inches='tight')"
   ]
  },
  {
   "cell_type": "code",
   "execution_count": 367,
   "metadata": {},
   "outputs": [],
   "source": [
    "# mean firing rate of neuron vs. pvar\n",
    "res_counts = np.load('../data_files/res_counts_no_hidden.npy', encoding='latin1'); HIT = 0; MISS = 1;\n",
    "agg = np.load('../data_files/new_data_nans_rightwrong.npy', encoding='latin1')\n",
    "output_num = 763\n",
    "pvars_ = np.zeros((72, 6)) # r^2\n",
    "for q in range(6):\n",
    "    for i in range(72):\n",
    "        obs = np.array([res_counts[q][HIT][i][t][20:220] \\\n",
    "                        if not isinstance(res_counts[q][HIT][i], list) else np.nan+np.zeros(200) \\\n",
    "                        for t in range(output_num - 1) ])\n",
    "        pvars_[i][q] = 1 - \\\n",
    "            np.nansum((obs - agg[0][i]) ** 2) / \\\n",
    "            np.nansum(agg[0][i] ** 2)"
   ]
  },
  {
   "cell_type": "code",
   "execution_count": 50,
   "metadata": {},
   "outputs": [
    {
     "ename": "ValueError",
     "evalue": "operands could not be broadcast together with shapes (762,200) (762,150) ",
     "output_type": "error",
     "traceback": [
      "\u001b[0;31m---------------------------------------------------------------------------\u001b[0m",
      "\u001b[0;31mValueError\u001b[0m                                Traceback (most recent call last)",
      "\u001b[0;32m<ipython-input-50-80d108f48e4e>\u001b[0m in \u001b[0;36m<module>\u001b[0;34m\u001b[0m\n\u001b[1;32m     10\u001b[0m                         for t in range(output_num - 1) ])\n\u001b[1;32m     11\u001b[0m         \u001b[0mpvars_100\u001b[0m\u001b[0;34m[\u001b[0m\u001b[0mi\u001b[0m\u001b[0;34m]\u001b[0m\u001b[0;34m[\u001b[0m\u001b[0mq\u001b[0m\u001b[0;34m]\u001b[0m \u001b[0;34m=\u001b[0m \u001b[0;36m1\u001b[0m \u001b[0;34m-\u001b[0m\u001b[0;31m \u001b[0m\u001b[0;31m\\\u001b[0m\u001b[0;34m\u001b[0m\u001b[0m\n\u001b[0;32m---> 12\u001b[0;31m             \u001b[0mnp\u001b[0m\u001b[0;34m.\u001b[0m\u001b[0mnansum\u001b[0m\u001b[0;34m(\u001b[0m\u001b[0;34m(\u001b[0m\u001b[0mobs\u001b[0m \u001b[0;34m-\u001b[0m \u001b[0magg\u001b[0m\u001b[0;34m[\u001b[0m\u001b[0;36m0\u001b[0m\u001b[0;34m]\u001b[0m\u001b[0;34m[\u001b[0m\u001b[0mi\u001b[0m\u001b[0;34m]\u001b[0m\u001b[0;34m)\u001b[0m \u001b[0;34m**\u001b[0m \u001b[0;36m2\u001b[0m\u001b[0;34m)\u001b[0m \u001b[0;34m/\u001b[0m\u001b[0;31m \u001b[0m\u001b[0;31m\\\u001b[0m\u001b[0;34m\u001b[0m\u001b[0m\n\u001b[0m\u001b[1;32m     13\u001b[0m             \u001b[0mnp\u001b[0m\u001b[0;34m.\u001b[0m\u001b[0mnansum\u001b[0m\u001b[0;34m(\u001b[0m\u001b[0magg\u001b[0m\u001b[0;34m[\u001b[0m\u001b[0;36m0\u001b[0m\u001b[0;34m]\u001b[0m\u001b[0;34m[\u001b[0m\u001b[0mi\u001b[0m\u001b[0;34m]\u001b[0m \u001b[0;34m**\u001b[0m \u001b[0;36m2\u001b[0m\u001b[0;34m)\u001b[0m\u001b[0;34m\u001b[0m\u001b[0m\n",
      "\u001b[0;31mValueError\u001b[0m: operands could not be broadcast together with shapes (762,200) (762,150) "
     ]
    }
   ],
   "source": [
    "# mean firing rate of neuron vs. pvar\n",
    "res_counts = np.load('../data_files/res_counts_hidden_100.npy', encoding='latin1'); HIT = 0; MISS = 1;\n",
    "agg = np.load('../data_files/new_data_nans_rightwrong.npy', encoding='latin1')\n",
    "output_num = 763\n",
    "pvars_100 = np.zeros((72, 6)) # r^2\n",
    "for q in range(6):\n",
    "    for i in range(72):\n",
    "        obs = np.array([res_counts[q][HIT][i][t][20:220] \\\n",
    "                        if not isinstance(res_counts[q][HIT][i], list) else np.nan+np.zeros(200) \\\n",
    "                        for t in range(output_num - 1) ])\n",
    "        pvars_100[i][q] = 1 - \\\n",
    "            np.nansum((obs - agg[0][i]) ** 2) / \\\n",
    "            np.nansum(agg[0][i] ** 2)"
   ]
  },
  {
   "cell_type": "code",
   "execution_count": 3,
   "metadata": {},
   "outputs": [],
   "source": [
    "def normalize(run, min_, max_):\n",
    "    return min_ + ((run - np.nanmin(run)) * (max_ - min_)) / (np.nanmax(run) - np.nanmin(run))"
   ]
  },
  {
   "cell_type": "code",
   "execution_count": 21,
   "metadata": {},
   "outputs": [],
   "source": [
    "# mean firing rate of neuron vs. pvar\n",
    "res_counts = np.load('../data_files/0_res_counts_hidden_sparse=800.npy', encoding='latin1'); HIT = 0; MISS = 1;\n",
    "#agg = np.load('../data_files/new_data_nans_rightwrong.npy', encoding='latin1')\n",
    "# mean firing rate of neuron vs. pvar\n",
    "output_num = 763\n",
    "pvars_400_sparse_c = np.zeros((output_num-1, 6)) # r^2\n",
    "mfr_c = np.zeros((output_num-1, 6)) # firing rates\n",
    "m = np.nanmean(agg)\n",
    "for q in range(6):\n",
    "    for t in range(output_num-1):\n",
    "        obs = np.array([ res_counts[q][HIT][i][t] \\\n",
    "                        if not isinstance(res_counts[q][HIT][i],list) else np.nan+np.zeros(150) for i in range(72) ])\n",
    "        targ = np.array([ agg[0][i][t] for i in range(72) ])\n",
    "        mfr_c[t][q] = np.nanmean(obs)\n",
    "        if mfr_c[t][q] == np.nan:\n",
    "            pvars_400_sparse_c[t][q] = np.nan\n",
    "            continue\n",
    "        #targ = normalize(targ, 0.01, 0.99)\n",
    "        #obs = normalize(obs, 0.01, 0.99)\n",
    "        pvars_400_sparse_c[t][q] = 1 - \\\n",
    "            (np.nansum((targ - obs) ** 2) / np.nansum((targ - np.tile(np.mean(targ, axis=0), (72,1))) ** 2))"
   ]
  },
  {
   "cell_type": "code",
   "execution_count": 22,
   "metadata": {},
   "outputs": [],
   "source": [
    "# mean firing rate of neuron vs. pvar\n",
    "res_counts = np.load('../data_files/1_res_counts_hidden_sparse=400.npy', encoding='latin1'); HIT = 0; MISS = 1; output_num=763\n",
    "#agg = np.load('../data_files/new_data_nans_rightwrong.npy', encoding='latin1')\n",
    "# mean firing rate of neuron vs. pvar\n",
    "pvars_400_sparse_i = np.zeros((output_num-1, 6)) # r^2\n",
    "mfr_i = np.zeros((output_num-1, 6)) # firing rates\n",
    "for q in range(6):\n",
    "    for t in range(output_num-1):\n",
    "        obs = np.array([ res_counts[q][HIT][i][t][:150] \\\n",
    "                        if not isinstance(res_counts[q][HIT][i],list) else np.nan+np.zeros(150) for i in range(72) ])\n",
    "        targ = np.array([ agg[0][i][t] for i in range(72) ])\n",
    "        mfr_i[t][q] = np.nanmean(obs)\n",
    "        if mfr_i[t][q] == np.nan:\n",
    "            pvars_400_sparse_i[t][q] = np.nan\n",
    "            continue\n",
    "        #targ = normalize(targ, 0.01, 0.99)\n",
    "        #obs = normalize(obs, 0.01, 0.99)\n",
    "        pvars_400_sparse_i[t][q] = 1 - \\\n",
    "            (np.nansum((targ - obs) ** 2) / np.nansum((targ - np.tile(np.nanmean(targ, axis=0), (72,1))) ** 2))"
   ]
  },
  {
   "cell_type": "code",
   "execution_count": 501,
   "metadata": {},
   "outputs": [
    {
     "data": {
      "application/vnd.jupyter.widget-view+json": {
       "model_id": "423481eb2072490fa5808b456f1f9de5",
       "version_major": 2,
       "version_minor": 0
      },
      "text/plain": [
       "FigureCanvasNbAgg()"
      ]
     },
     "metadata": {},
     "output_type": "display_data"
    },
    {
     "data": {
      "text/plain": [
       "Text(0.5, 1.0, '\\\\textbf{Average conditional pVar}\\n\\\\textbf{for varying size of hidden population}')"
      ]
     },
     "execution_count": 501,
     "metadata": {},
     "output_type": "execute_result"
    }
   ],
   "source": [
    "plt.figure()\n",
    "colors = ['magenta', 'purple', 'mediumpurple', 'cornflowerblue', 'cyan', 'darkcyan']\n",
    "labels = ['$\\sigma^2 = 0$', '$\\sigma^2 = 0.10$', '$\\sigma^2 = 0.25$', '$\\sigma^2 = 0.50$', '$\\sigma^2 = 0.75$', '$\\sigma^2 = 1.00$']\n",
    "plt.xticks(np.arange(3), ['$\\mathsf{\\eta = 0}$', '$\\mathsf{\\eta = 100}$', '$\\mathsf{\\eta = 500}$'], fontsize=13)\n",
    "for i, space in enumerate([-0.3, -0.2, -0.1, 0, 0.1, 0.2]):\n",
    "    plt.bar(space + np.arange(3), [np.nanmean(pvars_[:,i]), np.mean(pvars_100[:,i]), np.mean(pvar[:,i])], width=0.1, \n",
    "            color=colors[i], alpha=0.65)\n",
    "    _, caplines, _ = plt.errorbar(space + np.arange(3), [np.nanmean(pvars_[:,i]), np.mean(pvars_100[:,i]), np.mean(pvar[:,i])],\n",
    "                yerr=[np.nanstd(pvars_[:,i]), np.std(pvars_100[:,i]), np.std(pvars_500[:,i])], capsize=0, lolims=True,\n",
    "                ls='None', color='k')\n",
    "    caplines[0].set_marker('_')\n",
    "    caplines[0].set_markersize(7)\n",
    "plt.yticks([-0.2, 0, 0.5, 1.05], ['-0.2', '0', '0.5', '1.0'],fontsize=13)\n",
    "plt.xlabel('Number of hidden neurons',fontsize=14)\n",
    "plt.ylabel('$\\mu$-pVar over conditions',fontsize=14)\n",
    "plt.gca().spines['right'].set_color('none')\n",
    "plt.gca().spines['top'].set_color('none')\n",
    "plt.tick_params(direction='in')\n",
    "plt.xlim((-0.35, 2.25))\n",
    "plt.ylim((0, 1.05))\n",
    "plt.title(r'\\textbf{Average conditional pVar}' + '\\n' + r'\\textbf{for varying size of hidden population}', fontsize=16)\n",
    "#plt.savefig('../figures/final_figures/png_files/pvars_num_hidden_alt', dpi=300, bbox_inches='tight')"
   ]
  },
  {
   "cell_type": "code",
   "execution_count": 252,
   "metadata": {},
   "outputs": [],
   "source": [
    "mse_c = np.load('../data_files/mse_c_hidden_100.npy'); mfr_c = np.load('../data_files/mfr_c_hidden_100.npy')\n",
    "mse_i = np.load('../data_files/mse_i_hidden_100.npy'); mfr_i = np.load('../data_files/mfr_i_hidden_100.npy')"
   ]
  },
  {
   "cell_type": "code",
   "execution_count": 267,
   "metadata": {},
   "outputs": [
    {
     "data": {
      "application/vnd.jupyter.widget-view+json": {
       "model_id": "dcc02763f80e4449be53f87600c1d2aa",
       "version_major": 2,
       "version_minor": 0
      },
      "text/plain": [
       "FigureCanvasNbAgg()"
      ]
     },
     "metadata": {},
     "output_type": "display_data"
    }
   ],
   "source": [
    "plt.figure(figsize=(10,5))\n",
    "plt.subplot(121)\n",
    "ss = 12\n",
    "plt.scatter(mfr_c[:,0], mse_c[:,0], marker='.', s = ss, color='magenta', label='sigma = 0', alpha=0.4)\n",
    "plt.scatter(mfr_c[:,1], mse_c[:,1], marker='.', s = ss, color='purple', label='sigma = 0.1', alpha=0.4)\n",
    "plt.scatter(mfr_c[:,2], mse_c[:,2], marker='.', s = ss, color='mediumpurple', label='sigma = 0.25', alpha=0.4)\n",
    "plt.scatter(mfr_c[:,3], mse_c[:,3], marker='.', s = ss, color='cornflowerblue', label='sigma = 0.5', alpha=0.4)\n",
    "plt.scatter(mfr_c[:,4], mse_c[:,4], marker='.', s = ss, color='cyan', label='sigma = 0.75', alpha=0.4)\n",
    "plt.scatter(mfr_c[:,5], mse_c[:,5], marker='.', s = ss, color='darkcyan', label='sigma = 1', alpha=0.4)\n",
    "plt.scatter(np.mean(mfr_c), np.nanmean(mse_c), s=20, color='black')\n",
    "plt.hlines(np.nanmean(mse_c), 0, np.nanmean(mfr_c))\n",
    "plt.vlines(np.nanmean(mfr_c), 0, np.nanmean(mse_c))\n",
    "plt.ylim((0, max(np.max(mse_c), np.nanmax(mse_i)))); plt.xlim((0, 1));\n",
    "plt.gca().spines['right'].set_color('none')\n",
    "plt.gca().spines['top'].set_color('none')\n",
    "plt.xticks([0, 0.5, 1], ['0', '0.5', '1.0'])\n",
    "plt.yticks([0, 0.04, 0.08, 0.12, 0.16], ['0', '0.04', '0.08', '0.12', '0.16'])\n",
    "plt.tick_params(direction='in')\n",
    "plt.title('Correct trials', fontsize=14)\n",
    "plt.xlabel('Mean firing rate', fontsize=14)\n",
    "plt.ylabel('MSE', fontsize=14)\n",
    "plt.subplot(122)\n",
    "plt.scatter(mfr_i[:,0], mse_i[:,0], marker='.', s = ss, color='magenta', label='sigma = 0', alpha=0.4)\n",
    "plt.scatter(mfr_i[:,1], mse_i[:,1], marker='.', s = ss, color='purple', label='sigma = 0.1', alpha=0.4)\n",
    "plt.scatter(mfr_i[:,2], mse_i[:,2], marker='.', s = ss, color='mediumpurple', label='sigma = 0.25', alpha=0.4)\n",
    "plt.scatter(mfr_i[:,3], mse_i[:,3], marker='.', s = ss, color='cornflowerblue', label='sigma = 0.5', alpha=0.4)\n",
    "plt.scatter(mfr_i[:,4], mse_i[:,4], marker='.', s = ss, color='cyan', label='sigma = 0.75', alpha=0.4)\n",
    "plt.scatter(mfr_i[:,5], mse_i[:,5], marker='.', s = ss, color='darkcyan', label='sigma = 1', alpha=0.4)\n",
    "plt.scatter(np.nanmean(mfr_i), np.nanmean(mse_i), s=20, color='black')\n",
    "plt.hlines(np.nanmean(mse_i), 0, np.nanmean(mfr_i))\n",
    "plt.vlines(np.nanmean(mfr_i), 0, np.nanmean(mse_i))\n",
    "plt.yticks([]); plt.xticks([0, 0.5, 1], ['0', '0.5', '1.0'])\n",
    "plt.tick_params(direction='in')\n",
    "plt.ylim((0, max(np.max(mse_c), np.nanmax(mse_i)))); plt.xlim((0, 1));\n",
    "plt.gca().spines['right'].set_color('none')\n",
    "plt.gca().spines['top'].set_color('none')\n",
    "plt.title('Incorrect trials', fontsize=14)\n",
    "plt.tight_layout()\n",
    "plt.savefig('../figures/final_figures/png_files/mfr_mse', dpi=300, bbox_inches='tight')"
   ]
  },
  {
   "cell_type": "code",
   "execution_count": 380,
   "metadata": {},
   "outputs": [],
   "source": [
    "mape_c = np.load('../data_files/mape_c_hidden_100.npy'); mfr_c = np.load('../data_files/mfr_c_hidden_100.npy')\n",
    "mape_i = np.load('../data_files/mape_i_hidden_100.npy'); mfr_i = np.load('../data_files/mfr_i_hidden_100.npy')"
   ]
  },
  {
   "cell_type": "code",
   "execution_count": 275,
   "metadata": {},
   "outputs": [
    {
     "name": "stderr",
     "output_type": "stream",
     "text": [
      "/usr/local/lib/python3.7/site-packages/matplotlib/pyplot.py:513: RuntimeWarning: More than 20 figures have been opened. Figures created through the pyplot interface (`matplotlib.pyplot.figure`) are retained until explicitly closed and may consume too much memory. (To control this warning, see the rcParam `figure.max_open_warning`).\n",
      "  max_open_warning, RuntimeWarning)\n",
      "/usr/local/lib/python3.7/site-packages/matplotlib/__init__.py:880: MatplotlibDeprecationWarning: \n",
      "nbagg.transparent\n",
      "  version, key, obj_type=\"rcparam\", alternative=alt_key)\n"
     ]
    },
    {
     "data": {
      "application/vnd.jupyter.widget-view+json": {
       "model_id": "1ac12b8e457f4fe8bac99e05347042a8",
       "version_major": 2,
       "version_minor": 0
      },
      "text/plain": [
       "FigureCanvasNbAgg()"
      ]
     },
     "metadata": {},
     "output_type": "display_data"
    }
   ],
   "source": [
    "plt.figure(figsize=(10,5))\n",
    "colors = ['magenta', 'purple', 'mediumpurple', 'cornflowerblue', 'cyan', 'darkcyan']\n",
    "labels = ['$\\sigma^2 = 0$', '$\\sigma^2 = 0.10$', '$\\sigma^2 = 0.25$', '$\\sigma^2 = 0.50$', '$\\sigma^2 = 0.75$', '$\\sigma^2 = 1.00$']\n",
    "plt.subplot(121)\n",
    "plt.rcParams.update({'font.size': 12})\n",
    "plt.rc('axes', titlesize=14)\n",
    "for i in range(6): \n",
    "    plt.scatter(mfr_c[:,i], mape_c[:,i], marker='.', color=colors[i], label=labels[i], s=12, alpha=0.4)\n",
    "plt.scatter(np.mean(mfr_c), np.nanmean(mape_c), s=20, color='black')\n",
    "plt.hlines(np.nanmean(mape_c), 0, np.nanmean(mfr_c))\n",
    "plt.vlines(np.nanmean(mfr_c), 0, np.nanmean(mape_c))\n",
    "plt.ylim((0, max(np.max(mape_c), np.nanmax(mape_i)))); plt.xlim((0, 1));\n",
    "plt.xlabel('Mean firing rate', fontsize=14)\n",
    "plt.xticks([0, 0.5, 1], ['0', '0.5', '1.0'])\n",
    "plt.ylabel('MAPE', fontsize=14)\n",
    "plt.title('Correct discrimination', fontsize=14)\n",
    "plt.gca().spines['right'].set_color('none')\n",
    "plt.gca().spines['top'].set_color('none')\n",
    "plt.tick_params(direction='in')\n",
    "\n",
    "plt.yticks([0, 0.5, 1, 1.5, 2.0, 2.5], ['0', '50\\%', '100\\%', '150\\%', '200\\%', '250\\%'])\n",
    "# plt.legend()\n",
    "\n",
    "plt.subplot(122)\n",
    "for i in range(6): \n",
    "    plt.scatter(mfr_c[:,i], mape_i[:,i], marker='.', color=colors[i], label=labels[i], s=12, alpha=0.4)\n",
    "plt.scatter(np.nanmean(mfr_i), np.nanmean(mape_i), s=20, color='black')\n",
    "plt.hlines(np.nanmean(mape_i), 0, np.nanmean(mfr_i))\n",
    "plt.vlines(np.nanmean(mfr_i), 0, np.nanmean(mape_i))\n",
    "plt.yticks([]); plt.xticks([0, 0.5, 1], ['0', '0.5', '1.0'])\n",
    "plt.ylim((0, max(np.max(mape_c), np.nanmax(mape_i)))); plt.xlim((0, 1));\n",
    "plt.gca().spines['right'].set_color('none')\n",
    "plt.gca().spines['top'].set_color('none')\n",
    "plt.title('Incorrect discrimination', fontsize=14)\n",
    "plt.tick_params(direction='in')\n",
    "plt.tight_layout()\n",
    "plt.suptitle(r'\\textbf{Mean firing rate vs. error}', y=1, fontsize=16)\n",
    "plt.savefig('../figures/final_figures/png_files/mfr_mape', dpi=300, bbox_inches='tight')"
   ]
  },
  {
   "cell_type": "code",
   "execution_count": 10,
   "metadata": {},
   "outputs": [
    {
     "name": "stderr",
     "output_type": "stream",
     "text": [
      "/usr/local/lib/python3.7/site-packages/matplotlib/__init__.py:880: MatplotlibDeprecationWarning: \n",
      "nbagg.transparent\n",
      "  version, key, obj_type=\"rcparam\", alternative=alt_key)\n"
     ]
    },
    {
     "data": {
      "application/vnd.jupyter.widget-view+json": {
       "model_id": "8f41e0087c5643a1a9c4000a6add6b5e",
       "version_major": 2,
       "version_minor": 0
      },
      "text/plain": [
       "FigureCanvasNbAgg()"
      ]
     },
     "metadata": {},
     "output_type": "display_data"
    }
   ],
   "source": [
    "#pvars_i = np.load('../data_files/pvars_c_hidden_100.npy')\n",
    "#pvars_c = np.load('../data_files/pvars_i_hidden_100.npy')\n",
    "from scipy import stats\n",
    "colors = ['orangered', 'darkblue', 'dodgerblue', 'gold', 'darkturquoise', 'darkcyan']\n",
    "\n",
    "plt.figure(figsize=(10,5))\n",
    "plt.rcParams['text.latex.preamble']=[r\"\\usepackage{amsmath}\"]\n",
    "# colors = ['magenta', 'purple', 'mediumpurple', 'cornflowerblue', 'cyan', 'darkcyan']\n",
    "labels = ['$\\sigma^2 = 0$', '$\\sigma^2 = 0.10$', '$\\sigma^2 = 0.25$', '$\\sigma^2 = 0.50$', '$\\sigma^2 = 0.75$', '$\\sigma^2 = 1.00$']\n",
    "ax = plt.subplot2grid((4, 4), (0, 0), colspan=2, rowspan=4)\n",
    "plt.rcParams.update({'font.size': 12})\n",
    "plt.rc('axes', titlesize=14)\n",
    "ax.scatter(mfr_c[:,0], pvars_400_sparse_c[:,0], marker='.', color=colors[2], label=labels[i], s=20, alpha=0.8, edgecolor=None)\n",
    "ax.set_ylim((-1, 1)); ax.set_xlim((0.05, 0.65));\n",
    "ax.set_xlabel('Mean firing rate', fontsize=14)\n",
    "ax.set_ylabel(r'$R^2$', fontsize=14)\n",
    "plt.yticks([-1, 0, 1], ['-1.0', '0', '1.0'])\n",
    "plt.xticks([0.05, 0.35, 0.65], ['0', '0.35', '0.7'])\n",
    "plt.title(r\"\\textbf{Mean firing rate vs.} $R^2$, \" + r\"$\\boldsymbol{\\sigma}^2 \\textbf{ = 0}$\", fontsize=16)\n",
    "ax.spines['right'].set_visible(False)\n",
    "ax.spines['top'].set_visible(False)\n",
    "\n",
    "ax2 = plt.subplot2grid((4, 4), (0, 2), colspan=1, rowspan=2)\n",
    "ax2.scatter(mfr_c[:,1], pvars_400_sparse_c[:,1], marker='.', color=colors[1], label=labels[i], s=12, alpha=0.8, edgecolor=None)\n",
    "ax2.set_ylim((-1, 1)); ax2.set_xlim((0.05, 0.65));\n",
    "ax2.set_xticks([])\n",
    "plt.yticks([-1, 1], ['-1.0', '1.0'], fontsize=8)\n",
    "plt.tick_params(direction='in')\n",
    "plt.title(r\"$\\boldsymbol{\\sigma}^2 \\textbf{ = 0.1}$\", fontsize=16)\n",
    "ax2.spines['right'].set_visible(False)\n",
    "ax2.spines['top'].set_visible(False)\n",
    "ax2.spines['bottom'].set_visible(False)\n",
    "\n",
    "ax2 = plt.subplot2grid((4, 4), (0, 3), colspan=1, rowspan=2)\n",
    "ax2.scatter(mfr_c[:,2], pvars_400_sparse_c[:,2], marker='.', color=colors[4], label=labels[i], s=12, alpha=0.4, edgecolor=None)\n",
    "ax2.set_ylim((-1, 1)); ax2.set_xlim((0.05, 0.65));\n",
    "ax2.set_xticks([])\n",
    "plt.yticks([-1, 1], ['-1.0', '1.0'], fontsize=8)\n",
    "plt.tick_params(direction='in')\n",
    "plt.title(r\"$\\boldsymbol{\\sigma}^2 \\textbf{ = 0.25}$\", fontsize=16)\n",
    "ax2.spines['right'].set_visible(False)\n",
    "ax2.spines['top'].set_visible(False)\n",
    "ax2.spines['bottom'].set_visible(False)\n",
    "#plt.tight_layout()\n",
    "\n",
    "ax2 = plt.subplot2grid((4, 4), (2, 2), colspan=1, rowspan=2)\n",
    "ax2.scatter(mfr_c[:,3], pvars_400_sparse_c[:,3], marker='.', color=colors[0], label=labels[i], s=12, alpha=0.4, edgecolor=None)\n",
    "ax2.set_ylim((-1, 1)); ax2.set_xlim((0.05, 0.65));\n",
    "ax2.set_xticks([])\n",
    "plt.yticks([-1, 1], ['-1.0', '1.0'], fontsize=8)\n",
    "plt.tick_params(direction='in')\n",
    "plt.title(r\"$\\boldsymbol{\\sigma}^2 \\textbf{ = 0.5}$\", fontsize=16)\n",
    "ax2.spines['right'].set_visible(False)\n",
    "ax2.spines['top'].set_visible(False)\n",
    "ax2.spines['bottom'].set_visible(False)\n",
    "\n",
    "ax2 = plt.subplot2grid((4, 4), (2, 3), colspan=1, rowspan=2)\n",
    "ax2.scatter(mfr_c[:,5], pvars_400_sparse_c[:,5], marker='.', color=colors[3], label=labels[i], s=12, alpha=0.4, edgecolor=None)\n",
    "ax2.set_ylim((-1, 1)); ax2.set_xlim((0.05, 0.65));\n",
    "plt.yticks([-1, 1], ['-1.0', '1.0'], fontsize=8)\n",
    "plt.tick_params(direction='in')\n",
    "plt.title(r\"$\\boldsymbol{\\sigma}^2 \\textbf{ = 1}$\", fontsize=16)\n",
    "ax2.set_xticks([])\n",
    "ax2.spines['right'].set_visible(False)\n",
    "ax2.spines['top'].set_visible(False)\n",
    "ax2.spines['bottom'].set_visible(False)\n",
    "plt.tight_layout()\n",
    "# plt.savefig('../figures/final_figures/png_files/mfr_rsq', dpi=300, bbox_inches='tight')"
   ]
  },
  {
   "cell_type": "code",
   "execution_count": 42,
   "metadata": {},
   "outputs": [
    {
     "data": {
      "application/vnd.jupyter.widget-view+json": {
       "model_id": "c0f98a71d9f549119ec7a550f760a09e",
       "version_major": 2,
       "version_minor": 0
      },
      "text/plain": [
       "FigureCanvasNbAgg()"
      ]
     },
     "metadata": {},
     "output_type": "display_data"
    }
   ],
   "source": [
    "#pvars_i = np.load('../data_files/pvars_c_hidden_100.npy')\n",
    "#pvars_c = np.load('../data_files/pvars_i_hidden_100.npy')\n",
    "from scipy import stats\n",
    "colors = ['orangered', 'darkblue', 'dodgerblue', 'gold', 'darkturquoise', 'darkcyan']\n",
    "\n",
    "plt.figure(figsize=(10,5))\n",
    "plt.rcParams['text.latex.preamble']=[r\"\\usepackage{amsmath}\"]\n",
    "labels = ['$\\sigma^2 = 0$', '$\\sigma^2 = 0.10$', '$\\sigma^2 = 0.25$', '$\\sigma^2 = 0.50$', '$\\sigma^2 = 0.75$', '$\\sigma^2 = 1.00$']\n",
    "ax = plt.subplot2grid((4, 4), (0, 0), colspan=2, rowspan=4)\n",
    "plt.rcParams.update({'font.size': 12})\n",
    "plt.rc('axes', titlesize=14)\n",
    "ax.scatter(mfr_c[:,0], pvars_400_sparse_c[:,0], marker='.', color='darkblue', label=labels[i], s=20, alpha=0.8, edgecolor=None)\n",
    "ax.scatter(mfr_c[:,0], pvars_400_sparse_i[:,0], marker='.', color='orangered', label=labels[i], s=20, alpha=0.8, edgecolor=None)\n",
    "ax.set_ylim((-1, 1)); ax.set_xlim((0.05, 0.65));\n",
    "ax.set_xlabel('Mean firing rate', fontsize=14)\n",
    "ax.set_ylabel(r'$R^2$', fontsize=14)\n",
    "plt.yticks([-1, 0, 1], ['-1', '0', '1.0'])\n",
    "plt.xticks([0.05, 0.35, 0.65], ['0', '0.35', '0.7'])\n",
    "plt.title(r\"\\textbf{Mean firing rate vs.} $R^2$, \" + r\"$\\boldsymbol{\\sigma}^2 \\textbf{ = 0}$\", fontsize=16)\n",
    "ax.spines['right'].set_visible(False)\n",
    "ax.spines['top'].set_visible(False)\n",
    "\n",
    "ax2 = plt.subplot2grid((4, 4), (0, 2), colspan=1, rowspan=2)\n",
    "ax2.scatter(mfr_c[:,1], pvars_400_sparse_c[:,1], marker='.', color='darkblue', label=labels[i], s=12, alpha=0.4, edgecolor=None)\n",
    "ax2.scatter(mfr_c[:,0], pvars_400_sparse_i[:,0], marker='.', color='orangered', label=labels[i], s=12, alpha=0.4, edgecolor=None)\n",
    "ax2.set_ylim((-1, 1)); ax2.set_xlim((0.05, 0.65));\n",
    "ax2.set_xticks([])\n",
    "plt.yticks([-1, 0, 1], ['-1', '0', '1.0'], fontsize=8)\n",
    "plt.tick_params(direction='in')\n",
    "plt.title(r\"$\\boldsymbol{\\sigma}^2 \\textbf{ = 0.1}$\", fontsize=16)\n",
    "ax2.spines['right'].set_visible(False)\n",
    "ax2.spines['top'].set_visible(False)\n",
    "ax2.spines['bottom'].set_visible(False)\n",
    "\n",
    "ax2 = plt.subplot2grid((4, 4), (0, 3), colspan=1, rowspan=2)\n",
    "ax2.scatter(mfr_c[:,2], pvars_400_sparse_c[:,2], marker='.', color='darkblue', label=labels[i], s=12, alpha=0.4, edgecolor=None)\n",
    "ax2.scatter(mfr_c[:,2], pvars_400_sparse_i[:,2], marker='.', color='orangered', label=labels[i], s=12, alpha=0.4, edgecolor=None)\n",
    "ax2.set_ylim((-1, 1)); ax2.set_xlim((0.05, 0.65));\n",
    "ax2.set_xticks([])\n",
    "plt.yticks([-1, 0, 1], ['-1', '0', '1.0'], fontsize=8)\n",
    "plt.tick_params(direction='in')\n",
    "plt.title(r\"$\\boldsymbol{\\sigma}^2 \\textbf{ = 0.25}$\", fontsize=16)\n",
    "ax2.spines['right'].set_visible(False)\n",
    "ax2.spines['top'].set_visible(False)\n",
    "ax2.spines['bottom'].set_visible(False)\n",
    "#plt.tight_layout()\n",
    "\n",
    "ax2 = plt.subplot2grid((4, 4), (2, 2), colspan=1, rowspan=2)\n",
    "ax2.scatter(mfr_c[:,3], pvars_400_sparse_c[:,3], marker='.', color='darkblue', label=labels[i], s=12, alpha=0.4, edgecolor=None)\n",
    "ax2.scatter(mfr_c[:,3], pvars_400_sparse_i[:,3], marker='.', color='orangered', label=labels[i], s=12, alpha=0.4, edgecolor=None)\n",
    "ax2.set_ylim((-1, 1)); ax2.set_xlim((0.05, 0.65));\n",
    "ax2.set_xticks([])\n",
    "plt.yticks([-1, 0, 1], ['-1', '0', '1.0'], fontsize=8)\n",
    "plt.tick_params(direction='in')\n",
    "plt.title(r\"$\\boldsymbol{\\sigma}^2 \\textbf{ = 0.5}$\", fontsize=16)\n",
    "ax2.spines['right'].set_visible(False)\n",
    "ax2.spines['top'].set_visible(False)\n",
    "ax2.spines['bottom'].set_visible(False)\n",
    "\n",
    "ax2 = plt.subplot2grid((4, 4), (2, 3), colspan=1, rowspan=2)\n",
    "ax2.scatter(mfr_c[:,5], pvars_400_sparse_c[:,5], marker='.', color='darkblue', label=labels[i], s=12, alpha=0.4, edgecolor=None)\n",
    "ax2.scatter(mfr_c[:,5], pvars_400_sparse_i[:,5], marker='.', color='orangered', label=labels[i], s=12, alpha=0.4, edgecolor=None)\n",
    "ax2.set_ylim((-1, 1)); ax2.set_xlim((0.05, 0.65));\n",
    "plt.yticks([-1, 0, 1], ['-1', '0', '1.0'], fontsize=8)\n",
    "plt.tick_params(direction='in')\n",
    "plt.title(r\"$\\boldsymbol{\\sigma}^2 \\textbf{ = 1}$\", fontsize=16)\n",
    "ax2.set_xticks([])\n",
    "ax2.spines['right'].set_visible(False)\n",
    "ax2.spines['top'].set_visible(False)\n",
    "ax2.spines['bottom'].set_visible(False)\n",
    "plt.tight_layout()\n",
    "plt.savefig('../figures/final_figures/png_files/mfr_rsq_comparison', dpi=300, bbox_inches='tight')"
   ]
  },
  {
   "cell_type": "code",
   "execution_count": null,
   "metadata": {},
   "outputs": [],
   "source": [
    "#pvars_i = np.load('../data_files/pvars_c_hidden_100.npy')\n",
    "#pvars_c = np.load('../data_files/pvars_i_hidden_100.npy')\n",
    "from scipy import stats\n",
    "colors = ['orangered', 'darkblue', 'dodgerblue', 'gold', 'darkturquoise', 'darkcyan']\n",
    "\n",
    "plt.figure(figsize=(10,5))\n",
    "plt.rcParams['text.latex.preamble']=[r\"\\usepackage{amsmath}\"]\n",
    "labels = ['$\\sigma^2 = 0$', '$\\sigma^2 = 0.10$', '$\\sigma^2 = 0.25$', '$\\sigma^2 = 0.50$', '$\\sigma^2 = 0.75$', '$\\sigma^2 = 1.00$']\n",
    "ax = plt.subplot2grid((4, 4), (0, 0), colspan=2, rowspan=4)\n",
    "plt.rcParams.update({'font.size': 12})\n",
    "plt.rc('axes', titlesize=14)\n",
    "ax.scatter(mfr_c[:,0], pvars_400_sparse_c[:,0], marker='.', color=colors[2], label=labels[i], s=20, alpha=0.8, edgecolor=None)\n",
    "ax.set_ylim((-1, 1)); ax.set_xlim((0.05, 0.65));\n",
    "ax.set_xlabel('Mean firing rate', fontsize=14)\n",
    "ax.set_ylabel(r'$R^2$', fontsize=14)\n",
    "plt.yticks([-1, 0, 1], ['-1.0', '0', '1.0'])\n",
    "plt.xticks([0.05, 0.35, 0.65], ['0', '0.35', '0.7'])\n",
    "plt.title(r\"\\textbf{Mean firing rate vs.} $R^2$, \" + r\"$\\boldsymbol{\\sigma}^2 \\textbf{ = 0}$\", fontsize=16)\n",
    "ax.spines['right'].set_visible(False)\n",
    "ax.spines['top'].set_visible(False)\n",
    "\n",
    "ax2 = plt.subplot2grid((4, 4), (0, 2), colspan=1, rowspan=2)\n",
    "ax2.scatter(mfr_c[:,1], pvars_400_sparse_c[:,1], marker='.', color=colors[1], label=labels[i], s=12, alpha=0.8, edgecolor=None)\n",
    "ax2.set_ylim((-1, 1)); ax2.set_xlim((0.05, 0.65));\n",
    "ax2.set_xticks([])\n",
    "plt.yticks([-1, 1], ['-1.0', '1.0'], fontsize=8)\n",
    "plt.tick_params(direction='in')\n",
    "plt.title(r\"$\\boldsymbol{\\sigma}^2 \\textbf{ = 0.1}$\", fontsize=16)\n",
    "ax2.spines['right'].set_visible(False)\n",
    "ax2.spines['top'].set_visible(False)\n",
    "ax2.spines['bottom'].set_visible(False)\n",
    "\n",
    "ax2 = plt.subplot2grid((4, 4), (0, 3), colspan=1, rowspan=2)\n",
    "ax2.scatter(mfr_c[:,2], pvars_400_sparse_c[:,2], marker='.', color=colors[4], label=labels[i], s=12, alpha=0.4, edgecolor=None)\n",
    "ax2.set_ylim((-1, 1)); ax2.set_xlim((0.05, 0.65));\n",
    "ax2.set_xticks([])\n",
    "plt.yticks([-1, 1], ['-1.0', '1.0'], fontsize=8)\n",
    "plt.tick_params(direction='in')\n",
    "plt.title(r\"$\\boldsymbol{\\sigma}^2 \\textbf{ = 0.25}$\", fontsize=16)\n",
    "ax2.spines['right'].set_visible(False)\n",
    "ax2.spines['top'].set_visible(False)\n",
    "ax2.spines['bottom'].set_visible(False)\n",
    "#plt.tight_layout()\n",
    "\n",
    "ax2 = plt.subplot2grid((4, 4), (2, 2), colspan=1, rowspan=2)\n",
    "ax2.scatter(mfr_c[:,3], pvars_400_sparse_c[:,3], marker='.', color=colors[0], label=labels[i], s=12, alpha=0.4, edgecolor=None)\n",
    "ax2.set_ylim((-1, 1)); ax2.set_xlim((0.05, 0.65));\n",
    "ax2.set_xticks([])\n",
    "plt.yticks([-1, 1], ['-1.0', '1.0'], fontsize=8)\n",
    "plt.tick_params(direction='in')\n",
    "plt.title(r\"$\\boldsymbol{\\sigma}^2 \\textbf{ = 0.5}$\", fontsize=16)\n",
    "ax2.spines['right'].set_visible(False)\n",
    "ax2.spines['top'].set_visible(False)\n",
    "ax2.spines['bottom'].set_visible(False)\n",
    "#plt.tight_layout()\n",
    "\n",
    "ax2 = plt.subplot2grid((4, 4), (2, 3), colspan=1, rowspan=2)\n",
    "ax2.scatter(mfr_c[:,5], pvars_400_sparse_c[:,5], marker='.', color=colors[3], label=labels[i], s=12, alpha=0.4, edgecolor=None)\n",
    "ax2.set_ylim((-1, 1)); ax2.set_xlim((0.05, 0.65));\n",
    "plt.yticks([-1, 1], ['-1.0', '1.0'], fontsize=8)\n",
    "plt.tick_params(direction='in')\n",
    "plt.title(r\"$\\boldsymbol{\\sigma}^2 \\textbf{ = 1}$\", fontsize=16)\n",
    "ax2.set_xticks([])\n",
    "ax2.spines['right'].set_visible(False)\n",
    "ax2.spines['top'].set_visible(False)\n",
    "ax2.spines['bottom'].set_visible(False)\n",
    "plt.tight_layout()\n",
    "# plt.savefig('../figures/final_figures/png_files/mfr_rsq', dpi=300, bbox_inches='tight')"
   ]
  },
  {
   "cell_type": "code",
   "execution_count": 66,
   "metadata": {},
   "outputs": [
    {
     "data": {
      "application/vnd.jupyter.widget-view+json": {
       "model_id": "1a29b03241d749c6ad08f20291360062",
       "version_major": 2,
       "version_minor": 0
      },
      "text/plain": [
       "FigureCanvasNbAgg()"
      ]
     },
     "metadata": {},
     "output_type": "display_data"
    },
    {
     "ename": "NameError",
     "evalue": "name 'mape_c' is not defined",
     "output_type": "error",
     "traceback": [
      "\u001b[0;31m---------------------------------------------------------------------------\u001b[0m",
      "\u001b[0;31mNameError\u001b[0m                                 Traceback (most recent call last)",
      "\u001b[0;32m<ipython-input-66-243f622551ce>\u001b[0m in \u001b[0;36m<module>\u001b[0;34m\u001b[0m\n\u001b[1;32m     12\u001b[0m     \u001b[0mplt\u001b[0m\u001b[0;34m.\u001b[0m\u001b[0mgca\u001b[0m\u001b[0;34m(\u001b[0m\u001b[0;34m)\u001b[0m\u001b[0;34m.\u001b[0m\u001b[0mspines\u001b[0m\u001b[0;34m[\u001b[0m\u001b[0;34m'right'\u001b[0m\u001b[0;34m]\u001b[0m\u001b[0;34m.\u001b[0m\u001b[0mset_color\u001b[0m\u001b[0;34m(\u001b[0m\u001b[0;34m'none'\u001b[0m\u001b[0;34m)\u001b[0m\u001b[0;34m\u001b[0m\u001b[0m\n\u001b[1;32m     13\u001b[0m     \u001b[0mplt\u001b[0m\u001b[0;34m.\u001b[0m\u001b[0mgca\u001b[0m\u001b[0;34m(\u001b[0m\u001b[0;34m)\u001b[0m\u001b[0;34m.\u001b[0m\u001b[0mspines\u001b[0m\u001b[0;34m[\u001b[0m\u001b[0;34m'top'\u001b[0m\u001b[0;34m]\u001b[0m\u001b[0;34m.\u001b[0m\u001b[0mset_color\u001b[0m\u001b[0;34m(\u001b[0m\u001b[0;34m'none'\u001b[0m\u001b[0;34m)\u001b[0m\u001b[0;34m\u001b[0m\u001b[0m\n\u001b[0;32m---> 14\u001b[0;31m     \u001b[0mplt\u001b[0m\u001b[0;34m.\u001b[0m\u001b[0mscatter\u001b[0m\u001b[0;34m(\u001b[0m\u001b[0mmfr_c\u001b[0m\u001b[0;34m[\u001b[0m\u001b[0;34m:\u001b[0m\u001b[0;34m,\u001b[0m\u001b[0;36m0\u001b[0m\u001b[0;34m]\u001b[0m\u001b[0;34m,\u001b[0m \u001b[0mmape_c\u001b[0m\u001b[0;34m[\u001b[0m\u001b[0;34m:\u001b[0m\u001b[0;34m,\u001b[0m\u001b[0mi\u001b[0m\u001b[0;34m]\u001b[0m\u001b[0;34m,\u001b[0m \u001b[0mmarker\u001b[0m\u001b[0;34m=\u001b[0m\u001b[0;34m'.'\u001b[0m\u001b[0;34m,\u001b[0m \u001b[0mcolor\u001b[0m\u001b[0;34m=\u001b[0m\u001b[0mcolors\u001b[0m\u001b[0;34m[\u001b[0m\u001b[0mi\u001b[0m\u001b[0;34m]\u001b[0m\u001b[0;34m,\u001b[0m \u001b[0ms\u001b[0m\u001b[0;34m=\u001b[0m\u001b[0;36m4\u001b[0m\u001b[0;34m)\u001b[0m\u001b[0;34m\u001b[0m\u001b[0m\n\u001b[0m\u001b[1;32m     15\u001b[0m     \u001b[0mplt\u001b[0m\u001b[0;34m.\u001b[0m\u001b[0mylim\u001b[0m\u001b[0;34m(\u001b[0m\u001b[0;34m(\u001b[0m\u001b[0;36m0\u001b[0m\u001b[0;34m,\u001b[0m \u001b[0mnp\u001b[0m\u001b[0;34m.\u001b[0m\u001b[0mmax\u001b[0m\u001b[0;34m(\u001b[0m\u001b[0mmape_c\u001b[0m\u001b[0;34m)\u001b[0m\u001b[0;34m)\u001b[0m\u001b[0;34m)\u001b[0m\u001b[0;34m;\u001b[0m \u001b[0mplt\u001b[0m\u001b[0;34m.\u001b[0m\u001b[0mxlim\u001b[0m\u001b[0;34m(\u001b[0m\u001b[0;34m(\u001b[0m\u001b[0;36m0\u001b[0m\u001b[0;34m,\u001b[0m \u001b[0;36m1\u001b[0m\u001b[0;34m)\u001b[0m\u001b[0;34m)\u001b[0m\u001b[0;34m;\u001b[0m\u001b[0;34m\u001b[0m\u001b[0m\n\u001b[1;32m     16\u001b[0m \u001b[0mplt\u001b[0m\u001b[0;34m.\u001b[0m\u001b[0mtight_layout\u001b[0m\u001b[0;34m(\u001b[0m\u001b[0;34m)\u001b[0m\u001b[0;34m\u001b[0m\u001b[0m\n",
      "\u001b[0;31mNameError\u001b[0m: name 'mape_c' is not defined"
     ]
    }
   ],
   "source": [
    "plt.figure(figsize=(11,3))\n",
    "colors = ['magenta', 'purple', 'mediumpurple', 'cornflowerblue', 'cyan', 'darkcyan']\n",
    "for i in range(6):\n",
    "    plt.subplot(1,6,i+1)\n",
    "    if not i == 0:\n",
    "        plt.xticks([])\n",
    "        plt.yticks([])\n",
    "    else:\n",
    "        plt.tick_params(direction='in')\n",
    "        plt.xticks([0, 0.5, 1], ['0', '0.5', '1.0'])\n",
    "        plt.yticks([0, 0.5, 1, 1.5, 2.0, 2.5], ['0', '0.5', '1.0', '1.5', '2.0', '2.5'])\n",
    "    plt.gca().spines['right'].set_color('none')\n",
    "    plt.gca().spines['top'].set_color('none')\n",
    "    plt.scatter(mfr_c[:,0], mape_c[:,i], marker='.', color=colors[i], s=4)\n",
    "    plt.ylim((0, np.max(mape_c))); plt.xlim((0, 1));\n",
    "plt.tight_layout()"
   ]
  },
  {
   "cell_type": "code",
   "execution_count": 124,
   "metadata": {},
   "outputs": [],
   "source": [
    "mape_c_ts = np.load('../data_files/mape_c_ts.npy');\n",
    "mape_i_ts = np.load('../data_files/mape_i_ts.npy');"
   ]
  },
  {
   "cell_type": "code",
   "execution_count": 173,
   "metadata": {},
   "outputs": [
    {
     "data": {
      "application/vnd.jupyter.widget-view+json": {
       "model_id": "2d276f4eb29c4ba896d68d5acea1b6de",
       "version_major": 2,
       "version_minor": 0
      },
      "text/plain": [
       "FigureCanvasNbAgg()"
      ]
     },
     "metadata": {},
     "output_type": "display_data"
    }
   ],
   "source": [
    "plt.figure(figsize=(10,5))\n",
    "colors = ['magenta', 'purple', 'mediumpurple', 'cornflowerblue', 'cyan', 'darkcyan']\n",
    "labels = ['$\\sigma^2 = 0$', '$\\sigma^2 = 0.10$', '$\\sigma^2 = 0.25$', '$\\sigma^2 = 0.50$', '$\\sigma^2 = 0.75$', '$\\sigma^2 = 1.00$']\n",
    "plt.subplot(121)\n",
    "for q in range(6):\n",
    "    mu = np.array([np.mean(mape_c_ts[q,i,:]) for i in range(200)]); \n",
    "    std = np.array([np.std(mape_c_ts[q,i,:]) ** 2 for i in range(200)]);\n",
    "    plt.scatter(np.arange(200), mu, marker='.', color=colors[q], s=10, label=labels[q])\n",
    "    plt.fill_between(np.arange(200), mu+std, y2=mu-std, facecolor=colors[q], alpha=0.1)\n",
    "plt.xticks([0, 200], ['0', '750']);\n",
    "plt.ylim((0, 0.75)); plt.xlim((0,200))\n",
    "plt.yticks([0, 0.1875, 0.375, 0.5625, 0.75], ['0', '0.19', '0.38', '0.56', '0.75'])\n",
    "plt.gca().spines['right'].set_color('none')\n",
    "plt.gca().spines['top'].set_color('none')\n",
    "plt.tick_params(direction='in')\n",
    "plt.xlabel('time (ms)')\n",
    "plt.ylabel('$\\mu$-MAPE $\\pm$ $\\sigma^2$-MAPE')\n",
    "plt.title('correct discrimination')\n",
    "\n",
    "plt.subplot(122)\n",
    "for q in range(6):\n",
    "    mu = np.array([np.mean(mape_i_ts[q,i,:]) for i in range(200)]); \n",
    "    std = np.array([np.std(mape_i_ts[q,i,:]) ** 2 for i in range(200)]);\n",
    "    plt.scatter(np.arange(200), mu, marker='.', color=colors[q], s=10, label=labels[q])\n",
    "    plt.fill_between(np.arange(200), mu+std, y2=mu-std, facecolor=colors[q], alpha=0.1)\n",
    "plt.xticks([]); plt.yticks([]); plt.xlim((0,200)); plt.ylim((0, 0.75));\n",
    "plt.gca().spines['right'].set_color('none')\n",
    "plt.gca().spines['top'].set_color('none')\n",
    "plt.tick_params(direction='in')\n",
    "plt.title('incorrect discrimination')\n",
    "plt.tight_layout()\n",
    "# plt.savefig('../figures/final_figures/png_files/mape_ts', dpi=300, bbox_inches='tight')"
   ]
  },
  {
   "cell_type": "code",
   "execution_count": 189,
   "metadata": {},
   "outputs": [
    {
     "data": {
      "application/vnd.jupyter.widget-view+json": {
       "model_id": "77f4ecaf3bda45aa9d82461e135a72de",
       "version_major": 2,
       "version_minor": 0
      },
      "text/plain": [
       "FigureCanvasNbAgg()"
      ]
     },
     "metadata": {},
     "output_type": "display_data"
    }
   ],
   "source": [
    "plt.figure()\n",
    "plt.xlabel('time')\n",
    "plt.ylabel('$\\mu$-MAPE $\\pm$ $\\sigma^2$-MAPE')\n",
    "mu = np.array([np.mean(mape_c_ts[0,i,:]) for i in range(200)]); \n",
    "std = np.array([np.std(mape_c_ts[0,i,:]) ** 2 for i in range(200)]);\n",
    "plt.scatter(np.arange(200), mu, marker='.', color=colors[0], s=20)\n",
    "plt.fill_between(np.arange(200), mu+std, y2=mu-std, facecolor=colors[0], alpha=0.1)\n",
    "plt.gca().spines['right'].set_color('none')\n",
    "plt.gca().spines['top'].set_color('none')\n",
    "plt.gca().spines['bottom'].set_color('none')\n",
    "plt.gca().spines['left'].set_color('none')\n",
    "plt.yticks([]); plt.xticks([])\n",
    "# plt.savefig('../figures/final_figures/png_files/no_noise_mape_c', dpi=300, bbox_inches='tight')"
   ]
  },
  {
   "cell_type": "code",
   "execution_count": 190,
   "metadata": {},
   "outputs": [
    {
     "name": "stderr",
     "output_type": "stream",
     "text": [
      "/usr/local/lib/python3.7/site-packages/matplotlib/pyplot.py:513: RuntimeWarning: More than 20 figures have been opened. Figures created through the pyplot interface (`matplotlib.pyplot.figure`) are retained until explicitly closed and may consume too much memory. (To control this warning, see the rcParam `figure.max_open_warning`).\n",
      "  max_open_warning, RuntimeWarning)\n",
      "/usr/local/lib/python3.7/site-packages/matplotlib/__init__.py:880: MatplotlibDeprecationWarning: \n",
      "nbagg.transparent\n",
      "  version, key, obj_type=\"rcparam\", alternative=alt_key)\n"
     ]
    },
    {
     "data": {
      "application/vnd.jupyter.widget-view+json": {
       "model_id": "742a7d69fa0442f297336b1ae5bad2a3",
       "version_major": 2,
       "version_minor": 0
      },
      "text/plain": [
       "FigureCanvasNbAgg()"
      ]
     },
     "metadata": {},
     "output_type": "display_data"
    }
   ],
   "source": [
    "plt.figure()\n",
    "plt.xlabel('time')\n",
    "plt.ylabel('$\\mu$-MAPE $\\pm$ $\\sigma^2$-MAPE')\n",
    "mu = np.array([np.mean(mape_c_ts[2,i,:]) for i in range(200)]); \n",
    "std = np.array([np.std(mape_c_ts[2,i,:]) ** 2 for i in range(200)]);\n",
    "plt.scatter(np.arange(200), mu, marker='.', color=colors[2], s=20)\n",
    "plt.fill_between(np.arange(200), mu+std, y2=mu-std, facecolor=colors[2], alpha=0.1)\n",
    "plt.gca().spines['right'].set_color('none')\n",
    "plt.gca().spines['top'].set_color('none')\n",
    "plt.gca().spines['bottom'].set_color('none')\n",
    "plt.gca().spines['left'].set_color('none')\n",
    "plt.yticks([]); plt.xticks([])\n",
    "# plt.savefig('../figures/final_figures/png_files/small_noise_mape_c', dpi=300, bbox_inches='tight')"
   ]
  },
  {
   "cell_type": "code",
   "execution_count": 191,
   "metadata": {},
   "outputs": [
    {
     "data": {
      "application/vnd.jupyter.widget-view+json": {
       "model_id": "b763d22888fc47acbcd2743f785f13d8",
       "version_major": 2,
       "version_minor": 0
      },
      "text/plain": [
       "FigureCanvasNbAgg()"
      ]
     },
     "metadata": {},
     "output_type": "display_data"
    }
   ],
   "source": [
    "plt.figure()\n",
    "plt.xlabel('time')\n",
    "plt.ylabel('$\\mu$-MAPE $\\pm$ $\\sigma^2$-MAPE')\n",
    "mu = np.array([np.mean(mape_c_ts[3,i,:]) for i in range(200)]); \n",
    "std = np.array([np.std(mape_c_ts[3,i,:]) ** 2 for i in range(200)]);\n",
    "plt.scatter(np.arange(200), mu, marker='.', color=colors[3], s=20)\n",
    "plt.fill_between(np.arange(200), mu+std, y2=mu-std, facecolor=colors[3], alpha=0.1)\n",
    "plt.gca().spines['right'].set_color('none')\n",
    "plt.gca().spines['top'].set_color('none')\n",
    "plt.gca().spines['bottom'].set_color('none')\n",
    "plt.gca().spines['left'].set_color('none')\n",
    "plt.yticks([]); plt.xticks([])\n",
    "# plt.savefig('../figures/final_figures/png_files/medium_noise_mape_c', dpi=300, bbox_inches='tight')"
   ]
  },
  {
   "cell_type": "code",
   "execution_count": 193,
   "metadata": {},
   "outputs": [
    {
     "data": {
      "application/vnd.jupyter.widget-view+json": {
       "model_id": "ce113a3dad904e2f860ea47ec74e3b85",
       "version_major": 2,
       "version_minor": 0
      },
      "text/plain": [
       "FigureCanvasNbAgg()"
      ]
     },
     "metadata": {},
     "output_type": "display_data"
    }
   ],
   "source": [
    "plt.figure()\n",
    "plt.xlabel('time')\n",
    "plt.ylabel('$\\mu$-MAPE $\\pm$ $\\sigma^2$-MAPE')\n",
    "mu = np.array([np.mean(mape_c_ts[4,i,:]) for i in range(200)]); \n",
    "std = np.array([np.std(mape_c_ts[4,i,:]) ** 2 for i in range(200)]);\n",
    "plt.scatter(np.arange(200), mu, marker='.', color=colors[4], s=20)\n",
    "plt.fill_between(np.arange(200), mu+std, y2=mu-std, facecolor=colors[4], alpha=0.1)\n",
    "plt.gca().spines['right'].set_color('none')\n",
    "plt.gca().spines['top'].set_color('none')\n",
    "plt.gca().spines['bottom'].set_color('none')\n",
    "plt.gca().spines['left'].set_color('none')\n",
    "plt.yticks([]); plt.xticks([])\n",
    "# plt.savefig('../figures/final_figures/png_files/strong_noise_mape_c', dpi=300, bbox_inches='tight')"
   ]
  },
  {
   "cell_type": "code",
   "execution_count": 294,
   "metadata": {},
   "outputs": [],
   "source": [
    "stim = [-3, -2, -1, 1, 2, 3]\n",
    "resp = {'resp':np.zeros((762,15,72))}\n",
    "X = {'stim':np.zeros((72,4))}\n",
    "for choice in range(2):\n",
    "    for i in range(6):\n",
    "        for k in range(6):\n",
    "            X['stim'][choice*36 + i*6 + k,0] = stim[i]\n",
    "            X['stim'][choice*36 + i*6 + k,1] = stim[k]\n",
    "            X['stim'][choice*36 + i*6 + k,2] = 1 if choice == 0 else -1\n",
    "            if choice == 0 and stim[i] < 0:\n",
    "                X['stim'][choice*36 + i*6 + k,3] = -1\n",
    "            elif choice == 0 and stim[i] > 0:\n",
    "                X['stim'][choice*36 + i*6 + k,3] = 1\n",
    "            elif choice == 1 and stim[k] < 0:\n",
    "                X['stim'][choice*36 + i*6 + k,3] = -1\n",
    "            else:\n",
    "                X['stim'][choice*36 + i*6 + k,3] = 1\n",
    "            resp['resp'][:,:,choice*36 + i*6 + k] = res_counts[0][HIT][choice*36 + i*6 + k][:-1,::10]"
   ]
  },
  {
   "cell_type": "code",
   "execution_count": 295,
   "metadata": {},
   "outputs": [],
   "source": [
    "import scipy.io as sp\n",
    "sp.savemat('stim_ex', X) \n",
    "sp.savemat('resp_ex', resp)"
   ]
  },
  {
   "cell_type": "code",
   "execution_count": 225,
   "metadata": {},
   "outputs": [
    {
     "data": {
      "text/plain": [
       "(762, 200, 72)"
      ]
     },
     "execution_count": 225,
     "metadata": {},
     "output_type": "execute_result"
    }
   ],
   "source": [
    "np.shape(resp['resp'])"
   ]
  },
  {
   "cell_type": "code",
   "execution_count": 25,
   "metadata": {},
   "outputs": [],
   "source": [
    "cc   = [-0.5, -0.17, -0.05, 0.05, 0.17, 0.5] # color coherence values\n",
    "mc   = [-0.5, -0.17, -0.05, 0.05, 0.17, 0.5] # motion coherence values\n",
    "vecs = []  # context / coherence vecs\n",
    "ret = [0, 0, 0, 0, 1]\n",
    "\n",
    "for i in range(2):\n",
    "    for j in range(len(cc)):\n",
    "        for k in range(len(mc)):\n",
    "            if i == 0: vecs.append((np.array([ cc[j], mc[k], 1, 0, 0 ]), True if cc[j] > 0 else False))\n",
    "            else: vecs.append((np.array([ cc[j], mc[k], 0, 1, 0 ]), True if mc[k] > 0 else False))"
   ]
  },
  {
   "cell_type": "code",
   "execution_count": 28,
   "metadata": {},
   "outputs": [
    {
     "name": "stderr",
     "output_type": "stream",
     "text": [
      "/usr/local/Cellar/ipython/7.0.1/libexec/vendor/lib/python3.7/site-packages/ipykernel_launcher.py:12: RuntimeWarning: overflow encountered in exp\n",
      "  if sys.path[0] == '':\n",
      "/usr/local/lib/python3.7/site-packages/matplotlib/__init__.py:880: MatplotlibDeprecationWarning: \n",
      "nbagg.transparent\n",
      "  version, key, obj_type=\"rcparam\", alternative=alt_key)\n"
     ]
    },
    {
     "data": {
      "application/vnd.jupyter.widget-view+json": {
       "model_id": "828de4d1d4ba428cb6b13f13f45b6263",
       "version_major": 2,
       "version_minor": 0
      },
      "text/plain": [
       "FigureCanvasNbAgg()"
      ]
     },
     "metadata": {},
     "output_type": "display_data"
    }
   ],
   "source": [
    "counts = np.load('../data_files/counts_hidden_sparse800.npy')\n",
    "from scipy.optimize import curve_fit\n",
    "from scipy import stats\n",
    "\n",
    "HIT, MISS = 0, 1\n",
    "mot = [ np.zeros(6) for i in range(6) ] # num pos\n",
    "col = [ np.zeros(6) for i in range(6) ] # num pos\n",
    "mot_c = [ np.zeros(6) for i in range(6) ]\n",
    "col_m = [ np.zeros(6) for i in range(6) ]\n",
    "\n",
    "def sigmoid(x, x0, k, t):\n",
    "    y = t * 1 / (1 + np.exp(-k*(x-x0)))\n",
    "    return y\n",
    "\n",
    "divsc = [ np.zeros(6) for i in range(6) ]\n",
    "divsm = [ np.zeros(6) for i in range(6) ]\n",
    "\n",
    "divsmc = [ np.zeros(6) for i in range(6) ]\n",
    "divscm = [ np.zeros(6) for i in range(6) ]\n",
    "\n",
    "labels = ['$\\sigma^2 = 0$', '$\\sigma^2 = 0.10$', '$\\sigma^2 = 0.25$', '$\\sigma^2 = 0.50$', '$\\sigma^2 = 0.75$', '$\\sigma^2 = 1.00$']\n",
    "\n",
    "\n",
    "for q in range(6):\n",
    "    for z in range(72):\n",
    "        cc_, mc_, ac, am = vecs[z][0][0], vecs[z][0][1], vecs[z][0][2], vecs[z][0][3]\n",
    "        if cc_ > 0 and ac == 1: # hit is pos, miss is neg\n",
    "            col[q][np.where(cc_ == cc)] += counts[q][HIT][z]\n",
    "            divsc[q][np.where(cc_ == cc)] += counts[q][HIT][z] + counts[q][MISS][z]\n",
    "        elif cc_ < 0 and ac == 1: # hit is neg, miss is pos\n",
    "            col[q][np.where(cc_ == cc)] += counts[q][MISS][z]\n",
    "            divsc[q][np.where(cc_ == cc)] += counts[q][MISS][z] + counts[q][HIT][z] \n",
    "        elif mc_ > 0 and am == 1: # hit is pos, miss is neg\n",
    "            mot[q][np.where(mc_ == mc)] += counts[q][HIT][z]\n",
    "            divsm[q][np.where(mc_ == mc)] += counts[q][HIT][z] + counts[q][MISS][z]\n",
    "        elif mc_ < 0 and am == 1: # hit is neg, miss is pos\n",
    "            mot[q][np.where(mc_ == mc)] += counts[q][MISS][z]\n",
    "            divsm[q][np.where(mc_ == mc)] += counts[q][MISS][z] + counts[q][HIT][z]\n",
    "        \n",
    "        if ac == 1:\n",
    "            if cc_ > 0: # hit is pos col\n",
    "                if mc_ > 0:\n",
    "                    col_m[q][np.where(mc_ == cc)] += counts[q][HIT][z]\n",
    "                    divscm[q][np.where(mc_ == cc)] += counts[q][HIT][z] + counts[q][MISS][z]\n",
    "                else:\n",
    "                    col_m[q][np.where(mc_ == cc)] += counts[q][MISS][z]\n",
    "                    divscm[q][np.where(mc_ == cc)] += counts[q][HIT][z] + counts[q][MISS][z]\n",
    "            else:\n",
    "                if mc_ > 0:\n",
    "                    col_m[q][np.where(mc_ == cc)] += counts[q][MISS][z]\n",
    "                    divscm[q][np.where(mc_ == cc)] += counts[q][HIT][z] + counts[q][MISS][z]\n",
    "                else:\n",
    "                    col_m[q][np.where(mc_ == cc)] += counts[q][HIT][z]\n",
    "                    divscm[q][np.where(mc_ == cc)] += counts[q][HIT][z] + counts[q][MISS][z]\n",
    "        else:\n",
    "            if mc_ > 0: # hit is pos col\n",
    "                if cc_ > 0:\n",
    "                    mot_c[q][np.where(mc_ == cc)] += counts[q][HIT][z]\n",
    "                    divsmc[q][np.where(mc_ == cc)] += counts[q][HIT][z] + counts[q][MISS][z]\n",
    "                else:\n",
    "                    mot_c[q][np.where(mc_ == cc)] += counts[q][MISS][z]\n",
    "                    divsmc[q][np.where(mc_ == cc)] += counts[q][HIT][z] + counts[q][MISS][z]\n",
    "            else:\n",
    "                if cc_ > 0:\n",
    "                    mot_c[q][np.where(mc_ == cc)] += counts[q][MISS][z]\n",
    "                    divsmc[q][np.where(mc_ == cc)] += counts[q][HIT][z] + counts[q][MISS][z]\n",
    "                else:\n",
    "                    mot_c[q][np.where(mc_ == cc)] += counts[q][HIT][z]\n",
    "                    divsmc[q][np.where(mc_ == cc)] += counts[q][HIT][z] + counts[q][MISS][z]\n",
    "\"\"\"\n",
    "        if mc_ > 0 and ac == 1:\n",
    "            col_m[q][np.where(mc_ == cc)] += counts[q][HIT][z]\n",
    "            divscm[q][np.where(mc_ == cc)] += counts[q][HIT][z] + counts[q][MISS][z]\n",
    "            continue\n",
    "        if mc_ < 0 and ac == 1:\n",
    "            col_m[q][np.where(mc_ == cc)] += counts[q][MISS][z]\n",
    "            divscm[q][np.where(mc_ == cc)] += counts[q][HIT][z] + counts[q][MISS][z]\n",
    "            continue\n",
    "        if cc_ > 0 and am == 1:\n",
    "            mot_c[q][np.where(cc_ == mc)] += counts[q][HIT][z]\n",
    "            divsmc[q][np.where(cc_ == mc)] += counts[q][HIT][z] + counts[q][MISS][z]\n",
    "            continue\n",
    "        if cc_ < 0 and am == 1:\n",
    "            mot_c[q][np.where(cc_ == mc)] += counts[q][MISS][z]\n",
    "            divsmc[q][np.where(cc_ == mc)] += counts[q][HIT][z] + counts[q][MISS][z]\n",
    "            continue\n",
    "\"\"\"\n",
    "mot = [ (mot[i] / divsc[i]) * 100 for i in range(6) ] \n",
    "col = [ (col[i] / divsm[i]) * 100 for i in range(6) ]\n",
    "\n",
    "mot_c = [ (mot_c[i] / divscm[i]) * 100 for i in range(6) ] \n",
    "col_m = [ (col_m[i] / divsmc[i]) * 100 for i in range(6) ]\n",
    "#for i in range(6):\n",
    "#    col[i][5] = 100\n",
    "    \n",
    "curves_col = [ [] for i in range(6) ]\n",
    "curves_mot = [ [] for i in range(6) ]\n",
    "points = 100\n",
    "\n",
    "for i in range(6):\n",
    "    popt, pcov = curve_fit(sigmoid, cc, col[i], p0=[-40, 0.01, 50])\n",
    "    curves_col[i] = sigmoid(np.linspace(cc[0],cc[-1],num=points), *popt)\n",
    "    \n",
    "    popt, pcov = curve_fit(sigmoid, cc, mot[i], p0=[-40, 0.01, 50])\n",
    "    curves_mot[i] = sigmoid(np.linspace(cc[0],cc[-1],num=points), *popt)\n",
    "\n",
    "\n",
    "plt.figure(figsize=(11,5))\n",
    "inferred_psych = [2, 7, 34, 65, 89, 99]\n",
    "for i in range(6):\n",
    "    plt.subplot(2,6,i+1)\n",
    "    plt.xticks([]); plt.yticks([])\n",
    "    popt, pcov = curve_fit(sigmoid, cc, inferred_psych, p0=[-40, 0.01, 50])\n",
    "    curve = sigmoid(np.linspace(cc[0],cc[-1],num=points), *popt)\n",
    "    plt.scatter(cc, inferred_psych, label='monkey', color='black')\n",
    "    plt.plot(np.linspace(cc[0],cc[-1],num=points), curve, color='black')\n",
    "    plt.scatter(cc, col[i], label=labels[i], color='cornflowerblue')\n",
    "    plt.plot(np.linspace(cc[0],cc[-1],num=points), curves_col[i], color='cornflowerblue')\n",
    "    \n",
    "\n",
    "inferred_psych = [2, 14, 41, 64, 87, 99]\n",
    "for i in range(6):\n",
    "    plt.subplot(2,6,i+7)\n",
    "    plt.xticks([]); plt.yticks([])\n",
    "    popt, pcov = curve_fit(sigmoid, cc, inferred_psych, p0=[-40, 0.01, 50])\n",
    "    curve = sigmoid(np.linspace(cc[0],cc[-1],num=points), *popt)\n",
    "    plt.scatter(cc, inferred_psych, label='monkey', color='black')\n",
    "    plt.plot(np.linspace(cc[0],cc[-1],num=points), curve, color='black')\n",
    "    plt.scatter(cc, mot[i], label=labels[i], color='red')\n",
    "    plt.plot(np.linspace(cc[0],cc[-1],num=points), curves_mot[i], color='red')\n",
    "    \n",
    "plt.tight_layout()\n",
    "# plt.savefig('psychometric_curves_xpin', dpi=300, bbox_inches='tight')"
   ]
  },
  {
   "cell_type": "code",
   "execution_count": 34,
   "metadata": {},
   "outputs": [
    {
     "data": {
      "application/vnd.jupyter.widget-view+json": {
       "model_id": "e5ae2f06773f4c3191161798ecc290a0",
       "version_major": 2,
       "version_minor": 0
      },
      "text/plain": [
       "FigureCanvasNbAgg()"
      ]
     },
     "metadata": {},
     "output_type": "display_data"
    },
    {
     "name": "stderr",
     "output_type": "stream",
     "text": [
      "/usr/local/Cellar/ipython/7.0.1/libexec/vendor/lib/python3.7/site-packages/ipykernel_launcher.py:12: RuntimeWarning: overflow encountered in exp\n",
      "  if sys.path[0] == '':\n"
     ]
    },
    {
     "data": {
      "text/plain": [
       "(-6, 104)"
      ]
     },
     "execution_count": 34,
     "metadata": {},
     "output_type": "execute_result"
    }
   ],
   "source": [
    "plt.close('all')\n",
    "plt.figure()\n",
    "plt.subplot(221)\n",
    "plt.xticks([]); plt.yticks([])\n",
    "inferred_psych = [2, 7, 34, 65, 89, 99]\n",
    "popt, pcov = curve_fit(sigmoid, cc, inferred_psych, p0=[-40, 0.01, 50])\n",
    "curve = sigmoid(np.linspace(cc[0],cc[-1],num=points), *popt)\n",
    "plt.scatter(cc, inferred_psych, edgecolor='darkblue', color='white', s=50, zorder=2)\n",
    "plt.plot(np.linspace(cc[0],cc[-1],num=points), curve, color='darkblue', label='monkey A', zorder=1)\n",
    "plt.scatter(cc, col[-1], edgecolor='dodgerblue', color='white', s=50, zorder=2)\n",
    "plt.plot(np.linspace(cc[0],cc[-1],num=points), curves_col[-1], color='dodgerblue', label='model', zorder=1)\n",
    "plt.gca().spines['right'].set_color('none')\n",
    "plt.gca().spines['top'].set_color('none')\n",
    "plt.gca().spines['bottom'].set_color('none')\n",
    "plt.ylabel(\"percent choice to \" + r\"$\\textbf{right}$\")\n",
    "plt.legend(frameon=False, loc=(0.55,0.1), title=r'$\\textbf{motion context}$')\n",
    "plt.yticks([0, 25, 50, 75, 104], ['0%', '25%', '50%', '75%', '100%'])\n",
    "#plt.gca().spines['left'].set_color('none')\n",
    "plt.ylim((-6, 104))\n",
    "\n",
    "plt.subplot(222)\n",
    "plt.xticks([]); plt.yticks([])\n",
    "inferred_psych = [43.5, 50, 51.5, 52, 52.5, 57.5]\n",
    "slope, intercept, r_value, p_value, std_err = stats.linregress(cc, inferred_psych)\n",
    "plt.scatter(cc, inferred_psych, label='monkey', edgecolor='darkblue', color='white', s=50, zorder=2)\n",
    "plt.plot(cc, np.array(cc) * slope + intercept, color='darkblue', label='monkey A', zorder=1)\n",
    "plt.scatter(cc, col_m[-3], edgecolor='dodgerblue', color='white', s=50, zorder=2)\n",
    "slope, intercept, r_value, p_value, std_err = stats.linregress(cc, col_m[-3])\n",
    "plt.plot(cc, np.array(cc) * slope + intercept, color='dodgerblue', label='model', zorder=1)\n",
    "plt.gca().spines['right'].set_color('none')\n",
    "plt.gca().spines['top'].set_color('none')\n",
    "plt.gca().spines['bottom'].set_color('none')\n",
    "#plt.gca().spines['left'].set_color('none')\n",
    "plt.ylabel(\"percent choice to \" + r\"$\\textbf{green}$\")\n",
    "plt.yticks([0, 25, 50, 75, 104], ['0%', '25%', '50%', '75%', '100%'])\n",
    "plt.ylim((-6, 104))\n",
    "\n",
    "plt.subplot(223)\n",
    "plt.xticks([]); plt.yticks([])\n",
    "inferred_psych = [43.5, 49.2, 51.5, 52.5, 54, 57.5]\n",
    "plt.scatter(cc, inferred_psych, edgecolor='gold', color='white', s=50, zorder=2)\n",
    "slope, intercept, r_value, p_value, std_err = stats.linregress(cc, inferred_psych)\n",
    "plt.plot(cc, np.array(cc) * slope + intercept, color='gold', zorder=1)\n",
    "plt.scatter(cc, mot_c[-3], edgecolor='orangered', color='white', s=50, zorder=2)\n",
    "slope, intercept, r_value, p_value, std_err = stats.linregress(cc, mot_c[-3])\n",
    "plt.plot(cc, np.array(cc) * slope + intercept, color='orangered', zorder=1)\n",
    "plt.gca().spines['right'].set_color('none')\n",
    "plt.gca().spines['top'].set_color('none')\n",
    "#plt.gca().spines['bottom'].set_color('none')\n",
    "#plt.gca().spines['left'].set_color('none')\n",
    "plt.ylabel(\"percent choice to \" + r\"$\\textbf{right}$\")\n",
    "plt.yticks([0, 25, 50, 75, 104], ['0%', '25%', '50%', '75%', '100%'])\n",
    "plt.xticks([-0.5, -0.19, -0.06, 0.06, 0.19, 0.5], [r'-m$_3$', r'-m$_2$', r'-m$_1$', r'm$_1$', r'm$_2$', r'm$_3$'])\n",
    "plt.ylim((-6, 104))\n",
    "\n",
    "plt.subplot(224)\n",
    "plt.xticks([]); plt.yticks([])\n",
    "inferred_psych = [2, 14, 41, 64, 87, 99]\n",
    "popt, pcov = curve_fit(sigmoid, cc, inferred_psych, p0=[-40, 0.01, 50])\n",
    "curve = sigmoid(np.linspace(cc[0],cc[-1],num=points), *popt)\n",
    "plt.scatter(cc, inferred_psych, edgecolor='gold', zorder=2, color='white', s=50)\n",
    "plt.plot(np.linspace(cc[0],cc[-1],num=points), curve, color='gold', label='monkey A', zorder=1)\n",
    "plt.scatter(cc, mot[-1], edgecolor='orangered', color='white', zorder=2, s=50)\n",
    "plt.plot(np.linspace(cc[0],cc[-1],num=points), curves_mot[-1], color='orangered', label='model', zorder=1)\n",
    "plt.legend(frameon=False, loc=(0.55, 0.1), title=r'$\\textbf{color context}$')\n",
    "plt.gca().spines['right'].set_color('none')\n",
    "plt.gca().spines['top'].set_color('none')\n",
    "#plt.gca().spines['bottom'].set_color('none')\n",
    "#plt.gca().spines['left'].set_color('none')\n",
    "plt.yticks([0, 25, 50, 75, 104], ['0%', '25%', '50%', '75%', '100%'])\n",
    "plt.xticks(cc, [r'-c$_3$', r'-c$_2$', r'-c$_1$', r'c$_1$', r'c$_2$', r'c$_3$'])\n",
    "plt.ylabel(\"percent choice to \" + r'$\\textbf{green}$')\n",
    "plt.suptitle(r'\\textbf{Psychophysical response of monkey and model}')\n",
    "plt.tight_layout(rect=[0, 0.03, 1, 0.95])\n",
    "plt.ylim((-6, 104))\n",
    "#plt.savefig('../figures/final_figures/png_files/psychophysical', dpi=300, bbox_inches='tight')"
   ]
  },
  {
   "cell_type": "code",
   "execution_count": 237,
   "metadata": {},
   "outputs": [
    {
     "data": {
      "text/plain": [
       "array([50., 50., 50., 50., 50., 50.])"
      ]
     },
     "execution_count": 237,
     "metadata": {},
     "output_type": "execute_result"
    }
   ],
   "source": [
    "col_m[-5]"
   ]
  },
  {
   "cell_type": "code",
   "execution_count": 364,
   "metadata": {},
   "outputs": [
    {
     "data": {
      "application/vnd.jupyter.widget-view+json": {
       "model_id": "b7779f53306d435dbbfa5843e69a81c4",
       "version_major": 2,
       "version_minor": 0
      },
      "text/plain": [
       "FigureCanvasNbAgg()"
      ]
     },
     "metadata": {},
     "output_type": "display_data"
    }
   ],
   "source": [
    "\"\"\" Inverse of 1/(1+e^(-x)) function\"\"\"\n",
    "def inv_sig(x):\n",
    "    return np.log(x / (1 - x))\n",
    "\n",
    "\"\"\" 1/(1+e^(-x)) function\"\"\"\n",
    "def sig(x):\n",
    "    return 1 / (1 + np.exp(-x))\n",
    "\n",
    "plt.figure(figsize=(9,5))\n",
    "plt.subplot(121)\n",
    "plt.plot(np.linspace(-6, 6, num=200), sig(np.linspace(-6, 6, num=200)))\n",
    "plt.gca().spines['right'].set_color('none')\n",
    "plt.gca().spines['top'].set_color('none')\n",
    "plt.subplot(122)\n",
    "plt.plot(np.linspace(0.001, 0.999, num=200), inv_sig(np.linspace(0.001, 0.999, num=200)))\n",
    "plt.gca().spines['right'].set_color('none')\n",
    "plt.gca().spines['top'].set_color('none')"
   ]
  },
  {
   "cell_type": "code",
   "execution_count": 170,
   "metadata": {},
   "outputs": [],
   "source": [
    "r_sq_median = np.zeros((5, 6))\n",
    "r_sq_mean = np.zeros((5, 6))\n",
    "r_sq_mot = np.zeros((6,6)); r_sq_col = np.zeros((6,6))\n",
    "files = ['../data_files/0_res_counts_hidden_sparse=200.npy', '../data_files/0_res_counts_hidden_sparse=400.npy',\n",
    "         '../data_files/0_res_counts_hidden_sparse=800.npy', '../data_files/1_res_counts_hidden_sparse=400.npy',\n",
    "         '../data_files/0_res_counts_hidden_sparse=1600.npy']\n",
    "\n",
    "def det_place(t):\n",
    "    if t < 36:\n",
    "        return (int(t / 6), t % 6)\n",
    "    else:\n",
    "        return (t % 6, int(t / 6)-6)\n",
    "    \n",
    "m = np.nanmean(agg[0]); output_num = 763\n",
    "mean_mfr = np.mean(agg[0], axis=0)\n",
    "for k, f in enumerate(files):\n",
    "    res_ = np.load(f, encoding='latin1')\n",
    "    for i in range(6):\n",
    "        meas = []\n",
    "        for t in range(72):\n",
    "            obs = res_[i][HIT][t][:output_num-1] if not isinstance(res_[i][HIT][t], list) else None\n",
    "            targ = agg[0][t]\n",
    "            if obs is None:\n",
    "                meas.append(np.nan)\n",
    "                continue\n",
    "            r_sq = 1 - (np.nansum((obs - targ) ** 2) / np.nansum((targ - np.tile(np.mean(targ, axis=0), (762,1))) ** 2))\n",
    "            if k == 7 and i == 0:\n",
    "                if t < 36:\n",
    "                    r_sq_col[det_place(t)] = r_sq\n",
    "                else:\n",
    "                    r_sq_mot[det_place(t)] = r_sq\n",
    "            meas.append(r_sq)\n",
    "        r_sq_median[k][i] = np.nanmedian(meas)\n",
    "        r_sq_mean[k][i] = np.nanmean(meas)"
   ]
  },
  {
   "cell_type": "code",
   "execution_count": 172,
   "metadata": {},
   "outputs": [
    {
     "name": "stderr",
     "output_type": "stream",
     "text": [
      "/usr/local/lib/python3.7/site-packages/matplotlib/__init__.py:880: MatplotlibDeprecationWarning: \n",
      "nbagg.transparent\n",
      "  version, key, obj_type=\"rcparam\", alternative=alt_key)\n"
     ]
    },
    {
     "data": {
      "application/vnd.jupyter.widget-view+json": {
       "model_id": "2581f7d208a94f45856c663195c8f69c",
       "version_major": 2,
       "version_minor": 0
      },
      "text/plain": [
       "FigureCanvasNbAgg()"
      ]
     },
     "metadata": {},
     "output_type": "display_data"
    }
   ],
   "source": [
    "colors = ['dodgerblue', 'darkblue', 'darkturquoise', 'gold', 'orangered']\n",
    "labels = [r'200 \\textit{sparse}', r'400 \\textit{sparse}', r'800 \\textit{sparse}', r'1600 \\textit{sparse}']\n",
    "plt.figure(figsize=(5,5))\n",
    "#plt.subplot(121)\n",
    "plt.ylim((-0.02,1))\n",
    "plt.yticks([0, 0.5, 1], ['0', '0.5', '1.0'])\n",
    "plt.xticks(np.arange(5), ['0', '0.1', '0.25', '0.5', '1'])\n",
    "for i in range(len(files)):\n",
    "    if i == 3:\n",
    "        plt.plot(np.arange(5), r_sq_median[i,[0,1,2,3,5]], ':', color=colors[2], zorder=1, label=labels[i], linewidth=0.9)\n",
    "        plt.scatter(np.arange(5), r_sq_median[i,[0,1,2,3,5]], marker='^', s=80, facecolors='white', edgecolors=colors[2], zorder=2, linewidth=0.75) \n",
    "    else:\n",
    "        plt.plot(np.arange(5), r_sq_median[i,[0,1,2,3,5]], color=colors[i], zorder=1, label=labels[i], linewidth=0.9)\n",
    "        plt.scatter(np.arange(5), r_sq_median[i,[0,1,2,3,5]], facecolors='white', edgecolors=colors[i], s=80, zorder=2, linewidth=0.75)\n",
    "plt.gca().spines['right'].set_color('none')\n",
    "plt.gca().spines['top'].set_color('none')\n",
    "plt.title(r'\\textbf{Median} $R^2$ \\textbf{vs. number of hidden neurons} ' + '\\n' + r'\\textbf{across noise levels}', y=1, fontsize=16)\n",
    "plt.ylabel(r'$R^2$'); plt.xlabel('variance of stimulus noise, ' + r'$\\sigma^2$')\n",
    "plt.tight_layout(rect=[0, 0.03, 1, 0.95])\n",
    "plt.legend(frameon=False, loc=(0.07, 0.03), title=r'$\\textbf{Hidden population size}$')\n",
    "plt.savefig('../figures/final_figures/png_files/hidden_v_error_alt', dpi=300, bbox_inches='tight')"
   ]
  },
  {
   "cell_type": "code",
   "execution_count": 117,
   "metadata": {},
   "outputs": [
    {
     "data": {
      "application/vnd.jupyter.widget-view+json": {
       "model_id": "99a2f950f75441299081c0c446ca7725",
       "version_major": 2,
       "version_minor": 0
      },
      "text/plain": [
       "FigureCanvasNbAgg()"
      ]
     },
     "metadata": {},
     "output_type": "display_data"
    },
    {
     "ename": "IndexError",
     "evalue": "index 5 is out of bounds for axis 0 with size 5",
     "output_type": "error",
     "traceback": [
      "\u001b[0;31m---------------------------------------------------------------------------\u001b[0m",
      "\u001b[0;31mIndexError\u001b[0m                                Traceback (most recent call last)",
      "\u001b[0;32m<ipython-input-117-9632f05d2b1c>\u001b[0m in \u001b[0;36m<module>\u001b[0;34m\u001b[0m\n\u001b[1;32m      9\u001b[0m           rotation=25)\n\u001b[1;32m     10\u001b[0m \u001b[0;32mfor\u001b[0m \u001b[0mi\u001b[0m \u001b[0;32min\u001b[0m \u001b[0mrange\u001b[0m\u001b[0;34m(\u001b[0m\u001b[0;36m8\u001b[0m\u001b[0;34m)\u001b[0m\u001b[0;34m:\u001b[0m\u001b[0;34m\u001b[0m\u001b[0m\n\u001b[0;32m---> 11\u001b[0;31m     \u001b[0mplt\u001b[0m\u001b[0;34m.\u001b[0m\u001b[0mplot\u001b[0m\u001b[0;34m(\u001b[0m\u001b[0mnp\u001b[0m\u001b[0;34m.\u001b[0m\u001b[0marange\u001b[0m\u001b[0;34m(\u001b[0m\u001b[0;36m6\u001b[0m\u001b[0;34m)\u001b[0m\u001b[0;34m,\u001b[0m \u001b[0mr_sq_mean\u001b[0m\u001b[0;34m[\u001b[0m\u001b[0mi\u001b[0m\u001b[0;34m]\u001b[0m\u001b[0;34m,\u001b[0m \u001b[0mcolor\u001b[0m\u001b[0;34m=\u001b[0m\u001b[0mcolors\u001b[0m\u001b[0;34m[\u001b[0m\u001b[0mi\u001b[0m\u001b[0;34m]\u001b[0m\u001b[0;34m,\u001b[0m \u001b[0mzorder\u001b[0m\u001b[0;34m=\u001b[0m\u001b[0;36m1\u001b[0m\u001b[0;34m)\u001b[0m\u001b[0;34m\u001b[0m\u001b[0m\n\u001b[0m\u001b[1;32m     12\u001b[0m     \u001b[0mplt\u001b[0m\u001b[0;34m.\u001b[0m\u001b[0mscatter\u001b[0m\u001b[0;34m(\u001b[0m\u001b[0mnp\u001b[0m\u001b[0;34m.\u001b[0m\u001b[0marange\u001b[0m\u001b[0;34m(\u001b[0m\u001b[0;36m6\u001b[0m\u001b[0;34m)\u001b[0m\u001b[0;34m,\u001b[0m \u001b[0mr_sq_mean\u001b[0m\u001b[0;34m[\u001b[0m\u001b[0mi\u001b[0m\u001b[0;34m]\u001b[0m\u001b[0;34m,\u001b[0m \u001b[0mfacecolors\u001b[0m\u001b[0;34m=\u001b[0m\u001b[0;34m'white'\u001b[0m\u001b[0;34m,\u001b[0m \u001b[0medgecolors\u001b[0m\u001b[0;34m=\u001b[0m\u001b[0mcolors\u001b[0m\u001b[0;34m[\u001b[0m\u001b[0mi\u001b[0m\u001b[0;34m]\u001b[0m\u001b[0;34m,\u001b[0m \u001b[0ms\u001b[0m\u001b[0;34m=\u001b[0m\u001b[0;36m30\u001b[0m\u001b[0;34m,\u001b[0m \u001b[0mzorder\u001b[0m\u001b[0;34m=\u001b[0m\u001b[0;36m2\u001b[0m\u001b[0;34m,\u001b[0m \u001b[0mlabel\u001b[0m\u001b[0;34m=\u001b[0m\u001b[0mlabels\u001b[0m\u001b[0;34m[\u001b[0m\u001b[0mi\u001b[0m\u001b[0;34m]\u001b[0m\u001b[0;34m)\u001b[0m\u001b[0;34m\u001b[0m\u001b[0m\n\u001b[1;32m     13\u001b[0m \u001b[0mplt\u001b[0m\u001b[0;34m.\u001b[0m\u001b[0mgca\u001b[0m\u001b[0;34m(\u001b[0m\u001b[0;34m)\u001b[0m\u001b[0;34m.\u001b[0m\u001b[0mspines\u001b[0m\u001b[0;34m[\u001b[0m\u001b[0;34m'right'\u001b[0m\u001b[0;34m]\u001b[0m\u001b[0;34m.\u001b[0m\u001b[0mset_color\u001b[0m\u001b[0;34m(\u001b[0m\u001b[0;34m'none'\u001b[0m\u001b[0;34m)\u001b[0m\u001b[0;34m\u001b[0m\u001b[0m\n",
      "\u001b[0;31mIndexError\u001b[0m: index 5 is out of bounds for axis 0 with size 5"
     ]
    }
   ],
   "source": [
    "colors = ['purple', 'mediumpurple', 'cornflowerblue', 'cyan', 'darkcyan', 'gold', 'violet', 'blue']\n",
    "labels = [r'$\\eta = 50$', r'$\\eta = 100$', r'$\\eta = 150$', r'$\\eta = 200$', r'$\\eta = 300$', r'$\\eta = 400$', r'$\\eta_{\\textsf{sparse}} = 400$', \n",
    "          r'$\\eta_{\\textsf{sparse}} = 800$']\n",
    "plt.figure(figsize=(11,5))\n",
    "plt.subplot(121)\n",
    "plt.ylim((-0.35,1))\n",
    "plt.yticks([-0.3, 0, 1], ['-0.3', '0', '1.0'])\n",
    "plt.xticks(np.arange(6), ['$\\sigma^2 = 0$', '$\\sigma^2 = 0.10$', '$\\sigma^2 = 0.25$', '$\\sigma^2 = 0.50$', '$\\sigma^2 = 0.75$', '$\\sigma^2 = 1.00$'],\n",
    "          rotation=25)\n",
    "for i in range(8):\n",
    "    plt.plot(np.arange(6), r_sq_mean[i], color=colors[i], zorder=1)\n",
    "    plt.scatter(np.arange(6), r_sq_mean[i], facecolors='white', edgecolors=colors[i], s=30, zorder=2, label=labels[i])\n",
    "plt.gca().spines['right'].set_color('none')\n",
    "plt.gca().spines['top'].set_color('none')\n",
    "plt.title(r'\\textbf{Mean} $R^2$ \\textbf{vs. number of hidden neurons}', y=1, fontsize=16)\n",
    "plt.legend()\n",
    "\n",
    "plt.subplot(122)\n",
    "plt.ylim((-0.35,1))\n",
    "plt.yticks([-0.3, 0, 1], ['-0.3', '0', '1.0'])\n",
    "plt.xticks(np.arange(6), ['$\\sigma^2 = 0$', '$\\sigma^2 = 0.10$', '$\\sigma^2 = 0.25$', '$\\sigma^2 = 0.50$', '$\\sigma^2 = 0.75$', '$\\sigma^2 = 1.00$'],\n",
    "          rotation=25)\n",
    "for i in range(8):\n",
    "    plt.plot(np.arange(6), r_sq_median[i], color=colors[i], zorder=1)\n",
    "    plt.scatter(np.arange(6), r_sq_median[i], facecolors='white', edgecolors=colors[i], s=30, zorder=2, label=labels[i])\n",
    "plt.gca().spines['right'].set_color('none')\n",
    "plt.gca().spines['top'].set_color('none')\n",
    "plt.title(r'\\textbf{Median} $R^2$ \\textbf{vs. number of hidden neurons}', y=1, fontsize=16)"
   ]
  },
  {
   "cell_type": "code",
   "execution_count": 22,
   "metadata": {},
   "outputs": [
    {
     "name": "stderr",
     "output_type": "stream",
     "text": [
      "/usr/local/Cellar/ipython/7.0.1/libexec/vendor/lib/python3.7/site-packages/ipykernel_launcher.py:18: RuntimeWarning: divide by zero encountered in true_divide\n",
      "/usr/local/lib/python3.7/site-packages/numpy/lib/function_base.py:3250: RuntimeWarning: All-NaN slice encountered\n",
      "  r = func(a, **kwargs)\n"
     ]
    }
   ],
   "source": [
    "mapes = np.zeros((6, 6))\n",
    "files = ['../data_files/res_counts_hidden=10.npy', '../data_files/res_counts_hidden=50.npy', '../data_files/res_counts_hidden=100.npy', \n",
    "         '../data_files/res_counts_hidden=150.npy', '../data_files/res_counts_hidden=200.npy', '../data_files/res_counts.npy']\n",
    "m = np.nanmean(agg[0]); output_num = 763\n",
    "for k, f in enumerate(files):\n",
    "    res_ = np.load(f, encoding='latin1')\n",
    "    for i in range(6):\n",
    "        meas = []\n",
    "        for t in range(output_num-1):\n",
    "            if k == 5:\n",
    "                obs = np.array([ res_[i][HIT][p][t][20:220] \\\n",
    "                               if not isinstance(res_[i][HIT][p],list) else np.nan+np.zeros(200) for p in range(72)])\n",
    "                targ = np.array([ agg[0][p][t] for p in range(72) ])\n",
    "            else:\n",
    "                obs = np.array([ res_[i][HIT][p][t] \\\n",
    "                               if not isinstance(res_[i][HIT][p],list) else np.nan+np.zeros(200) for p in range(72)])\n",
    "                targ = np.array([ agg[0][p][t] for p in range(72) ])\n",
    "            a = np.abs(np.divide(obs - targ, targ))\n",
    "            a[np.isinf(a)] = np.nan\n",
    "            meas.append(np.mean(a))\n",
    "        mapes[k][i] = np.nanmedian(meas)"
   ]
  },
  {
   "cell_type": "code",
   "execution_count": 24,
   "metadata": {},
   "outputs": [
    {
     "name": "stderr",
     "output_type": "stream",
     "text": [
      "/usr/local/lib/python3.7/site-packages/matplotlib/__init__.py:880: MatplotlibDeprecationWarning: \n",
      "nbagg.transparent\n",
      "  version, key, obj_type=\"rcparam\", alternative=alt_key)\n"
     ]
    },
    {
     "data": {
      "application/vnd.jupyter.widget-view+json": {
       "model_id": "6f499968bd3e48108a0c18f6a37ebbff",
       "version_major": 2,
       "version_minor": 0
      },
      "text/plain": [
       "FigureCanvasNbAgg()"
      ]
     },
     "metadata": {},
     "output_type": "display_data"
    },
    {
     "data": {
      "text/plain": [
       "<matplotlib.legend.Legend at 0x116158400>"
      ]
     },
     "execution_count": 24,
     "metadata": {},
     "output_type": "execute_result"
    }
   ],
   "source": [
    "colors = ['magenta', 'purple', 'mediumpurple', 'cornflowerblue', 'cyan', 'darkcyan']\n",
    "labels = ['$\\sigma^2 = 0$', '$\\sigma^2 = 0.10$', '$\\sigma^2 = 0.25$', '$\\sigma^2 = 0.50$', '$\\sigma^2 = 0.75$', '$\\sigma^2 = 1.00$']\n",
    "plt.close('all')\n",
    "plt.figure()\n",
    "plt.xticks(np.arange(5), [r'$\\eta = 10$', r'$\\eta = 50$', r'$\\eta = 100$', r'$\\eta = 150$', r'$\\eta = 200$'])\n",
    "for i in range(6):\n",
    "    plt.plot(np.arange(6), mapes[:,i], color=colors[i], zorder=1)\n",
    "    plt.scatter(np.arange(6), mapes[:,i], facecolors='white', edgecolors=colors[i], s=50, zorder=2, label=labels[i])\n",
    "plt.gca().spines['right'].set_color('none')\n",
    "plt.gca().spines['top'].set_color('none')\n",
    "plt.title(r'\\textbf{Mean MAPE vs. number of hidden neurons}', y=1, fontsize=16)\n",
    "plt.legend()"
   ]
  },
  {
   "cell_type": "code",
   "execution_count": null,
   "metadata": {},
   "outputs": [],
   "source": [
    "from mpl_toolkits.mplot3d import Axes3D\n",
    "\n",
    "fig = plt.figure()\n",
    "ax = fig.add_subplot(111, projection='3d')\n",
    "x = y = np.arange(-3.0, 3.0, 0.05)\n",
    "X, Y = np.meshgrid(x, y)\n",
    "zs = np.array(fun(np.ravel(X), np.ravel(Y)))\n",
    "Z = zs.reshape(X.shape)\n",
    "\n",
    "ax.plot_surface(X, Y, Z)\n",
    "\n",
    "ax.set_xlabel('X Label')\n",
    "ax.set_ylabel('Y Label')\n",
    "ax.set_zlabel('Z Label')\n",
    "\n",
    "plt.show()"
   ]
  },
  {
   "cell_type": "code",
   "execution_count": 197,
   "metadata": {},
   "outputs": [
    {
     "name": "stderr",
     "output_type": "stream",
     "text": [
      "/usr/local/lib/python3.7/site-packages/matplotlib/__init__.py:880: MatplotlibDeprecationWarning: \n",
      "nbagg.transparent\n",
      "  version, key, obj_type=\"rcparam\", alternative=alt_key)\n"
     ]
    },
    {
     "data": {
      "application/vnd.jupyter.widget-view+json": {
       "model_id": "d335e0ba7c894895911205f1e5e2f34e",
       "version_major": 2,
       "version_minor": 0
      },
      "text/plain": [
       "FigureCanvasNbAgg()"
      ]
     },
     "metadata": {},
     "output_type": "display_data"
    },
    {
     "data": {
      "text/plain": [
       "<matplotlib.colorbar.Colorbar at 0x11de03a58>"
      ]
     },
     "execution_count": 197,
     "metadata": {},
     "output_type": "execute_result"
    }
   ],
   "source": [
    "plt.figure()\n",
    "plt.imshow(r_sq_col, aspect='auto')\n",
    "plt.colorbar()"
   ]
  },
  {
   "cell_type": "code",
   "execution_count": 218,
   "metadata": {},
   "outputs": [
    {
     "name": "stdout",
     "output_type": "stream",
     "text": [
      "[0.14136325 0.1154943  0.1206187  0.14114954 0.11773716 0.12201523\n",
      " 0.12254522 0.14578457 0.06098315 0.13548982 0.13885506 0.13778655\n",
      " 0.12974935 0.10446099 0.11241082 0.1378209  0.11157265 0.11270246\n",
      " 0.10219566 0.12389223 0.10321721 0.12923703 0.1439231  0.09295371\n",
      " 0.11336232 0.12301314 0.14163086 0.13191259 0.11346241 0.13277494\n",
      " 0.13525743 0.14639384 0.13184174 0.11157071 0.14549354 0.11688329]\n"
     ]
    }
   ],
   "source": [
    "print(np.array([np.mean(agg[0][i]) for i in range(len(agg[0]))][:36]))"
   ]
  },
  {
   "cell_type": "code",
   "execution_count": 241,
   "metadata": {},
   "outputs": [
    {
     "data": {
      "application/vnd.jupyter.widget-view+json": {
       "model_id": "8aa5c81f5a5c431991cd88272cc4d3f6",
       "version_major": 2,
       "version_minor": 0
      },
      "text/plain": [
       "FigureCanvasNbAgg()"
      ]
     },
     "metadata": {},
     "output_type": "display_data"
    },
    {
     "data": {
      "text/plain": [
       "<matplotlib.colorbar.Colorbar at 0x11d1d6400>"
      ]
     },
     "execution_count": 241,
     "metadata": {},
     "output_type": "execute_result"
    }
   ],
   "source": [
    "plt.figure()\n",
    "plt.imshow(r_sq_mot, aspect='auto')\n",
    "plt.colorbar()"
   ]
  },
  {
   "cell_type": "code",
   "execution_count": 265,
   "metadata": {},
   "outputs": [
    {
     "name": "stdout",
     "output_type": "stream",
     "text": [
      "[0.24243665 0.34399697 0.29399832 0.20536071 0.30710515 0.38594538\n",
      " 0.25742328 0.31601191 0.15830883 0.30625938 0.31602538 0.34395204\n",
      " 0.33785024 0.34559706 0.2717265  0.25949097 0.40823841 0.34684841\n",
      " 0.28868651 0.22808514 0.29784483 0.27326866 0.2702177  0.27092968\n",
      " 0.29240266 0.28602975 0.26261442 0.29197333 0.32023705 0.3444474\n",
      " 0.36339717 0.23610194 0.42593598 0.28449664 0.19704937 0.45917008]\n"
     ]
    }
   ],
   "source": [
    "print(np.array([np.mean(agg[0][i]) for i in range(len(agg[0]))][36:]))"
   ]
  },
  {
   "cell_type": "code",
   "execution_count": 210,
   "metadata": {},
   "outputs": [
    {
     "name": "stderr",
     "output_type": "stream",
     "text": [
      "/usr/local/lib/python3.7/site-packages/matplotlib/__init__.py:880: MatplotlibDeprecationWarning: \n",
      "nbagg.transparent\n",
      "  version, key, obj_type=\"rcparam\", alternative=alt_key)\n"
     ]
    },
    {
     "data": {
      "application/vnd.jupyter.widget-view+json": {
       "model_id": "1544a7175dbc44f0be4ebd32548263f1",
       "version_major": 2,
       "version_minor": 0
      },
      "text/plain": [
       "FigureCanvasNbAgg()"
      ]
     },
     "metadata": {},
     "output_type": "display_data"
    },
    {
     "data": {
      "text/plain": [
       "<matplotlib.colorbar.Colorbar at 0x12aa40c18>"
      ]
     },
     "execution_count": 210,
     "metadata": {},
     "output_type": "execute_result"
    }
   ],
   "source": [
    "plt.close('all')\n",
    "weight_matrix = np.load('../data_files/800_hidden_r_weights.npy')\n",
    "plt.figure()\n",
    "plt.imshow(weight_matrix[:200,:200], aspect='auto')\n",
    "plt.colorbar()"
   ]
  },
  {
   "cell_type": "code",
   "execution_count": 71,
   "metadata": {},
   "outputs": [
    {
     "data": {
      "text/plain": [
       "-0.003933773784223484"
      ]
     },
     "execution_count": 71,
     "metadata": {},
     "output_type": "execute_result"
    }
   ],
   "source": [
    "np.mean(weight_matrix[:output_num-1,:output_num-1])"
   ]
  },
  {
   "cell_type": "code",
   "execution_count": 72,
   "metadata": {},
   "outputs": [
    {
     "data": {
      "text/plain": [
       "0.0037682454024958994"
      ]
     },
     "execution_count": 72,
     "metadata": {},
     "output_type": "execute_result"
    }
   ],
   "source": [
    "np.mean(weight_matrix[:output_num-1,output_num:])"
   ]
  },
  {
   "cell_type": "code",
   "execution_count": 253,
   "metadata": {},
   "outputs": [
    {
     "data": {
      "application/vnd.jupyter.widget-view+json": {
       "model_id": "38fda2e74ace43349171db4cfbf82242",
       "version_major": 2,
       "version_minor": 0
      },
      "text/plain": [
       "FigureCanvasNbAgg()"
      ]
     },
     "metadata": {},
     "output_type": "display_data"
    }
   ],
   "source": [
    "hist = np.histogram(weight_matrix[:output_num-1,:output_num-1], bins=np.linspace(-10, 10, num=200))\n",
    "hist2 = np.histogram(weight_matrix[:output_num-1,output_num:], bins=np.linspace(-10, 10, num=200))\n",
    "hist = hist[0] / (output_num ** 2); hist2 = hist2[0] / (800 * output_num)\n",
    "plt.figure(figsize=(6,5))\n",
    "#plt.scatter(5 * np.arange(40), hist[::5], edgecolor='royalblue', color='white', s=70, zorder=2, linewidth=0.75)\n",
    "plt.plot(np.linspace(0, 200, num=199), hist, label='observed ' + r'$\\rightarrow$' + ' observed', color='royalblue', zorder=1, linewidth=0.9)\n",
    "#plt.scatter(5 * np.arange(40), hist2[::5], edgecolor='orangered', color='white', s=70, zorder=2, linewidth=0.75)\n",
    "plt.plot(np.linspace(0, 200, num=199), hist2, label='hidden ' + r'$\\rightarrow$' + ' observed', color='orangered', zorder=1, linewidth=0.9)\n",
    "plt.xticks([0, 50, 100, 150, 197], ['-10.0', '-5.0', '0', '5.0', '10.0'])\n",
    "plt.yticks([0, 0.02, 0.04], [r'0\\%', r'2\\%', r'4\\%'])\n",
    "plt.gca().spines['right'].set_color('none')\n",
    "plt.gca().spines['top'].set_color('none')\n",
    "plt.title(r'\\textbf{Hidden vs. observed synaptic}' +' \\n' + r'\\textbf{weight distribution}', fontsize=16)\n",
    "plt.ylabel('percent of synapses', fontsize=14)\n",
    "plt.xlabel('synaptic strength', fontsize=14)\n",
    "plt.xlim((-2,198)); plt.ylim((-0.003, 0.04))\n",
    "plt.legend(frameon=False, title=r'\\textbf{Synapse type}', loc=(0.025, 0.7))\n",
    "plt.tight_layout(rect=[0, 0.03, 1, 0.95])\n",
    "plt.savefig('../figures/final_figures/png_files/synaptic_weight_distribution', dpi=300, bbox_inches='tight')"
   ]
  },
  {
   "cell_type": "code",
   "execution_count": 158,
   "metadata": {},
   "outputs": [
    {
     "name": "stderr",
     "output_type": "stream",
     "text": [
      "/usr/local/lib/python3.7/site-packages/matplotlib/pyplot.py:513: RuntimeWarning: More than 20 figures have been opened. Figures created through the pyplot interface (`matplotlib.pyplot.figure`) are retained until explicitly closed and may consume too much memory. (To control this warning, see the rcParam `figure.max_open_warning`).\n",
      "  max_open_warning, RuntimeWarning)\n",
      "/usr/local/lib/python3.7/site-packages/matplotlib/__init__.py:880: MatplotlibDeprecationWarning: \n",
      "nbagg.transparent\n",
      "  version, key, obj_type=\"rcparam\", alternative=alt_key)\n"
     ]
    },
    {
     "data": {
      "application/vnd.jupyter.widget-view+json": {
       "model_id": "d28da5080ed64cd3b381d03672e28190",
       "version_major": 2,
       "version_minor": 0
      },
      "text/plain": [
       "FigureCanvasNbAgg()"
      ]
     },
     "metadata": {},
     "output_type": "display_data"
    },
    {
     "data": {
      "text/plain": [
       "<matplotlib.legend.Legend at 0x13ef935f8>"
      ]
     },
     "execution_count": 158,
     "metadata": {},
     "output_type": "execute_result"
    }
   ],
   "source": [
    "hist = np.histogram(weight_matrix[output_num-1][:output_num], bins=np.linspace(-3, 3, num=200))\n",
    "hist2 = np.histogram(weight_matrix[output_num-1][output_num:], bins=np.linspace(-3, 3, num=200))\n",
    "plt.figure()\n",
    "plt.scatter(5 * np.arange(40), hist[0][::5], edgecolor='royalblue', color='white', s=45, zorder=2)\n",
    "plt.plot(np.linspace(0, 200, num=199), hist[0], label='observed ' + r'$\\rightarrow$' + ' observed', color='royalblue', zorder=1)\n",
    "plt.scatter(5 * np.arange(40), hist2[0][::5], edgecolor='orangered', color='white', s=45, zorder=2)\n",
    "plt.plot(np.linspace(0, 200, num=199), hist2[0], label='hidden ' + r'$\\rightarrow$' + ' observed', color='orangered', zorder=1)\n",
    "plt.xticks([0, 50, 100, 150, 200], ['-10.0', '-5.0', '0', '5.0', '10.0'])\n",
    "plt.legend()"
   ]
  },
  {
   "cell_type": "code",
   "execution_count": 175,
   "metadata": {},
   "outputs": [],
   "source": [
    "fixed_points = np.load('../data_files/fixed_400_better.npy')\n",
    "sense = np.load('../data_files/fixed_400_better_inputs.npy')\n",
    "from sklearn.manifold import TSNE\n",
    "from sklearn.decomposition import PCA\n",
    "pca = PCA(n_components=3, svd_solver='full')\n",
    "reduced = pca.fit_transform(fixed_points)\n",
    "embedding_color = np.array([ reduced[i] for i in range(len(reduced)) if sense[i][3] == 10 ])\n",
    "embedding_motion = np.array([ reduced[i] for i in range(len(reduced)) if sense[i][2] == 10  ])"
   ]
  },
  {
   "cell_type": "code",
   "execution_count": 31,
   "metadata": {},
   "outputs": [
    {
     "name": "stderr",
     "output_type": "stream",
     "text": [
      "/usr/local/lib/python3.7/site-packages/matplotlib/__init__.py:880: MatplotlibDeprecationWarning: \n",
      "nbagg.transparent\n",
      "  version, key, obj_type=\"rcparam\", alternative=alt_key)\n"
     ]
    },
    {
     "data": {
      "application/vnd.jupyter.widget-view+json": {
       "model_id": "e0f75493ad1d4c01a3af5264f7ae8c9b",
       "version_major": 2,
       "version_minor": 0
      },
      "text/plain": [
       "FigureCanvasNbAgg()"
      ]
     },
     "metadata": {},
     "output_type": "display_data"
    },
    {
     "data": {
      "text/plain": [
       "<mpl_toolkits.mplot3d.art3d.Path3DCollection at 0x122a27dd8>"
      ]
     },
     "execution_count": 31,
     "metadata": {},
     "output_type": "execute_result"
    }
   ],
   "source": [
    "from mpl_toolkits.mplot3d import Axes3D\n",
    "fig = plt.figure(figsize=(10,7))\n",
    "ax = fig.add_subplot(111, projection='3d')\n",
    "ax.scatter(embedding_color[:,0], embedding_color[:,1], embedding_color[:,2], color='blue', marker='x')\n",
    "ax.scatter(embedding_motion[:,0], embedding_motion[:,1], embedding_motion[:,2], color='red', marker='x')\n",
    "ax.scatter(path[:,0,0], path[:,0,1], path[:,0,2], color='green', s=5)"
   ]
  },
  {
   "cell_type": "code",
   "execution_count": 30,
   "metadata": {},
   "outputs": [],
   "source": [
    "path = np.array([pca.transform(np.array(response)[:,i].reshape(1,-1)) for i in range(len(response[0]))])"
   ]
  },
  {
   "cell_type": "code",
   "execution_count": 182,
   "metadata": {},
   "outputs": [
    {
     "data": {
      "application/vnd.jupyter.widget-view+json": {
       "model_id": "0e879eba2d994614a68081ce94396701",
       "version_major": 2,
       "version_minor": 0
      },
      "text/plain": [
       "FigureCanvasNbAgg()"
      ]
     },
     "metadata": {},
     "output_type": "display_data"
    },
    {
     "data": {
      "text/plain": [
       "(-60, 60)"
      ]
     },
     "execution_count": 182,
     "metadata": {},
     "output_type": "execute_result"
    }
   ],
   "source": [
    "plt.figure()\n",
    "plt.scatter(embedding_color[:,1], embedding_color[:,2], marker='x', color='royalblue')\n",
    "plt.xlim((-80, 80)); plt.ylim((-60, 60))"
   ]
  },
  {
   "cell_type": "code",
   "execution_count": 101,
   "metadata": {},
   "outputs": [],
   "source": [
    "import sys\n",
    "sys.path.insert(0, '/Users/zachcohen/Dropbox/SeniorYear/thesis/code')"
   ]
  },
  {
   "cell_type": "code",
   "execution_count": 173,
   "metadata": {},
   "outputs": [
    {
     "name": "stdout",
     "output_type": "stream",
     "text": [
      "Initializing Driver...\n",
      " > > > > > Initializing network...\n",
      " > > > > > Network initialized.\n",
      "Driver initialized.\n"
     ]
    }
   ],
   "source": [
    "import dynamicalAnalysis\n",
    "from CleanDriver_v3 import Driver\n",
    "\"\"\" 1/(1+e^(-x)) function\"\"\"\n",
    "def sig(x):\n",
    "    return 1 / (1 + np.exp(-x))\n",
    "num_neurons = 763 + 400; output_num = 763;\n",
    "chaotic_constant = 1.4; input_num = 5; gg_sparseness = 0.7; \n",
    "alpha = 1.0; dt = 0.1; p = 0.1; sigma = 0.0; epochs = 6;\n",
    "driv = Driver(num_neurons, p, chaotic_constant, input_num, output_num, \n",
    "              gg_sparseness, alpha, dt, sigma, sig, target_in_network=True)\n",
    "driv.network.connectivity_matrix = np.load('../data_files/recurrent_reservoir_400_goodfixedpointrun.npy')\n",
    "driv.network.input = np.load('../data_files/input_matrix_400_goodfixedpointrun.npy')\n",
    "da = dynamicalAnalysis.dynamicAnalysis(driv.network, sig)"
   ]
  },
  {
   "cell_type": "code",
   "execution_count": 176,
   "metadata": {},
   "outputs": [
    {
     "name": "stderr",
     "output_type": "stream",
     "text": [
      "/usr/local/lib/python3.7/site-packages/matplotlib/__init__.py:880: MatplotlibDeprecationWarning: \n",
      "nbagg.transparent\n",
      "  version, key, obj_type=\"rcparam\", alternative=alt_key)\n"
     ]
    },
    {
     "data": {
      "application/vnd.jupyter.widget-view+json": {
       "model_id": "782550b3919b42f6b8abd68149bbb5c8",
       "version_major": 2,
       "version_minor": 0
      },
      "text/plain": [
       "FigureCanvasNbAgg()"
      ]
     },
     "metadata": {},
     "output_type": "display_data"
    },
    {
     "data": {
      "text/plain": [
       "<matplotlib.collections.PathCollection at 0x145218390>"
      ]
     },
     "execution_count": 176,
     "metadata": {},
     "output_type": "execute_result"
    }
   ],
   "source": [
    "E, L, R = da.decompose(da.M(fixed_points[0]))\n",
    "plt.figure()\n",
    "plt.scatter(np.arange(len(E)), np.sort(E.real))"
   ]
  },
  {
   "cell_type": "code",
   "execution_count": 9,
   "metadata": {},
   "outputs": [
    {
     "name": "stderr",
     "output_type": "stream",
     "text": [
      "/usr/local/lib/python3.7/site-packages/matplotlib/__init__.py:880: MatplotlibDeprecationWarning: \n",
      "nbagg.transparent\n",
      "  version, key, obj_type=\"rcparam\", alternative=alt_key)\n"
     ]
    },
    {
     "data": {
      "application/vnd.jupyter.widget-view+json": {
       "model_id": "a03ae2a0d07048d98cbccdf2d286a4c9",
       "version_major": 2,
       "version_minor": 0
      },
      "text/plain": [
       "FigureCanvasNbAgg()"
      ]
     },
     "metadata": {},
     "output_type": "display_data"
    },
    {
     "data": {
      "text/plain": [
       "<mpl_toolkits.mplot3d.art3d.Path3DCollection at 0x1076eac18>"
      ]
     },
     "execution_count": 9,
     "metadata": {},
     "output_type": "execute_result"
    }
   ],
   "source": [
    "from mpl_toolkits.mplot3d import Axes3D\n",
    "fig = plt.figure(figsize=(10,7))\n",
    "ax = fig.add_subplot(111, projection='3d')\n",
    "embedding_color = np.array([ fixed_points[i] for i in range(len(reduced)) if sense[i][3] == 10 ])\n",
    "embedding_motion = np.array([ fixed_points[i] for i in range(len(reduced)) if sense[i][2] == 10  ])\n",
    "ax.scatter(embedding_color[:,0], embedding_color[:,1], embedding_color[:,2], color='blue')\n",
    "ax.scatter(embedding_motion[:,0], embedding_motion[:,1], embedding_motion[:,2], color='red')\n",
    "# ax.set_xlim((-20,-60))"
   ]
  },
  {
   "cell_type": "code",
   "execution_count": 29,
   "metadata": {},
   "outputs": [],
   "source": [
    "res = np.zeros((24, 150))\n",
    "for i, val in enumerate([-5, -1.7, -0.5, 0.5, 1.7, 5]):\n",
    "    for k, val_ in enumerate([-5, -1.7, -0.5, 0.5, 1.7, 5]):\n",
    "        driv.test(np.zeros((763 + 400,40)), np.array([0, 0, 10, 0, 0]))\n",
    "        _, _,a, h = driv.test(np.zeros((763 + 400,150)), np.array([val, val_, 10, 0, 0]), hidden=True, twn=True, scale=0)\n",
    "        response = np.concatenate((a[:762],np.zeros((1,150)),h))\n",
    "        proj_color_axis = [ np.dot(Q[:,0], response[:,k]) for k in range(len(a[0])) ]\n",
    "        res[i] = res[i] + proj_color_axis\n",
    "    res[i] /= 6\n",
    "\n",
    "for i, val in enumerate([-5, -1.7, -0.5, 0.5, 1.7, 5]):\n",
    "    for k, val_ in enumerate([-5, -1.7, -0.5, 0.5, 1.7, 5]):\n",
    "        driv.test(np.zeros((763 + 400,40)), np.array([0, 0, 10, 0, 0]))\n",
    "        a, h, _, _ = driv.test(np.zeros((763 + 400,150)), np.array([val, val_, 10, 0, 0]), hidden=True, twn=True, scale=0)\n",
    "        response = np.concatenate((a[:762],np.zeros((1,150)),h))\n",
    "        proj_color_axis = [ np.dot(Q[:,1], response[:,k]) for k in range(len(a[0])) ]\n",
    "        res[i+6] = res[i+6] + proj_color_axis\n",
    "    res[i+6] /= 6\n",
    "\n",
    "for i, val in enumerate([-5, -1.7, -0.5, 0.5, 1.7, 5]):\n",
    "    for k, val_ in enumerate([-5, -1.7, -0.5, 0.5, 1.7, 5]):\n",
    "        driv.test(np.zeros((763 + 400,40)), np.array([0, 0, 0, 10, 0]))\n",
    "        a, h, _, _ = driv.test(np.zeros((763 + 400,150)), np.array([val_, val, 0, 10, 0]), hidden=True, twn=True, scale=0)\n",
    "        response = np.concatenate((a[:762],np.zeros((1,150)),h))\n",
    "        proj_color_axis = [ np.dot(Q[:,1], response[:,k]) for k in range(len(a[0])) ]\n",
    "        res[i+12] = res[i+12] + proj_color_axis\n",
    "    res[i+12] /= 6\n",
    "\n",
    "for i, val in enumerate([-5, -1.7, -0.5, 0.5, 1.7, 5]):\n",
    "    for k, val_ in enumerate([-5, -1.7, -0.5, 0.5, 1.7, 5]):\n",
    "        driv.test(np.zeros((763 + 400,40)), np.array([0, 0, 10, 0, 0]))\n",
    "        a, h, _, _ = driv.test(np.zeros((763 + 400,150)), np.array([val_, val, 0, 10, 0]), hidden=True, twn=True, scale=0)\n",
    "        response = np.concatenate((a[:762],np.zeros((1,150)),h))\n",
    "        proj_color_axis = [ np.dot(Q[:,0], response[:,k]) for k in range(len(a[0])) ]\n",
    "        res[i+18] = res[i+18] + proj_color_axis\n",
    "    res[i+18] /= 6"
   ]
  },
  {
   "cell_type": "code",
   "execution_count": 11,
   "metadata": {},
   "outputs": [],
   "source": [
    "Q, R = np.linalg.qr(np.array([driv.network.input[:,0], driv.network.input[:,1], driv.network.input[:,2], driv.network.input[:,3]]).T)"
   ]
  },
  {
   "cell_type": "code",
   "execution_count": 417,
   "metadata": {},
   "outputs": [
    {
     "data": {
      "application/vnd.jupyter.widget-view+json": {
       "model_id": "dd40f3e959984eaf8077a8167a6f7bf5",
       "version_major": 2,
       "version_minor": 0
      },
      "text/plain": [
       "FigureCanvasNbAgg()"
      ]
     },
     "metadata": {},
     "output_type": "display_data"
    }
   ],
   "source": [
    "plt.figure(figsize=(6,6))\n",
    "plt.subplot(221)\n",
    "plt.ylim((-10,-1)); plt.xlim((0,150))\n",
    "for i in range(6):\n",
    "    if i < 3: col = 'orangered' \n",
    "    if i >= 3: col = 'royalblue'\n",
    "    #if i < 3: col = 'darkturquoise' \n",
    "    #if i >= 3: col = 'gold'\n",
    "    if i == 0 or i == 5: alpha = 1\n",
    "    elif i == 1 or i == 4: alpha = 0.6\n",
    "    else: alpha = 0.4\n",
    "    plt.plot(res[i], color=col, alpha=alpha)\n",
    "plt.gca().spines['right'].set_color('none')\n",
    "plt.gca().spines['top'].set_color('none')\n",
    "plt.gca().spines['left'].set_color('none')\n",
    "plt.gca().spines['bottom'].set_color('none')\n",
    "plt.annotate(r'\\textit{choice 1}', (115, -2.3))\n",
    "plt.annotate(r'\\textit{choice 2}', (115, -10))\n",
    "plt.yticks([]); plt.xticks([])\n",
    "plt.ylabel(r'\\textbf{color}' +' \\n context', rotation=0)\n",
    "plt.title('Projection onto ' + r'\\textbf{color}' + ' axis')\n",
    "plt.hlines(-6.4, 0, 150, linewidth=0.75)\n",
    "plt.gca().yaxis.set_label_coords(-0.2, 0.5)\n",
    "\n",
    "plt.subplot(222)\n",
    "plt.ylim((-10,-1)); plt.xlim((0,150))\n",
    "for i in range(6):\n",
    "    if i < 3: col = 'orangered' \n",
    "    if i >= 3: col = 'royalblue'\n",
    "    #if i < 3: col = 'darkturquoise' \n",
    "    #if i >= 3: col = 'gold'\n",
    "    if i == 0 or i == 5: alpha = 1\n",
    "    elif i == 1 or i == 4: alpha = 0.6\n",
    "    else: alpha = 0.4\n",
    "    plt.plot(res[i+18], color=col, alpha=alpha)\n",
    "plt.gca().spines['right'].set_color('none')\n",
    "plt.gca().spines['top'].set_color('none')\n",
    "plt.gca().spines['left'].set_color('none')\n",
    "plt.gca().spines['bottom'].set_color('none')\n",
    "plt.yticks([]); plt.xticks([])\n",
    "plt.hlines(-6.4, 0, 150, linewidth=0.75)\n",
    "plt.title('Projection onto ' + r'\\textbf{motion}' + ' axis')\n",
    "plt.suptitle(r'\\textbf{PSTH projection onto subspace axes}')\n",
    "plt.tight_layout(rect=[0, 0.03, 1, 0.95])\n",
    "\n",
    "plt.subplot(223)\n",
    "plt.ylim((-10,0)); plt.xlim((0,150))\n",
    "for i in range(6):\n",
    "    #if i < 3: col = 'orangered' \n",
    "    #if i >= 3: col = 'royalblue'\n",
    "    if i < 3: col = 'darkturquoise' \n",
    "    if i >= 3: col = 'gold'\n",
    "    if i == 0 or i == 5: alpha = 1\n",
    "    elif i == 1 or i == 4: alpha = 0.6\n",
    "    else: alpha = 0.4\n",
    "    plt.plot(res[i+6], color=col, alpha=alpha)\n",
    "plt.hlines(-4.7, 0, 150, linewidth=0.75)\n",
    "plt.gca().spines['right'].set_color('none')\n",
    "plt.gca().spines['top'].set_color('none')\n",
    "plt.gca().spines['left'].set_color('none')\n",
    "plt.gca().spines['bottom'].set_color('none')\n",
    "plt.yticks([]); plt.xticks([])\n",
    "#plt.xlabel('time after stimulus onset (ms)')\n",
    "plt.ylabel(r'\\textbf{motion}' +' \\n context', rotation=0)\n",
    "plt.gca().yaxis.set_label_coords(-0.2, 0.5)\n",
    "\n",
    "plt.subplot(224)\n",
    "plt.ylim((-10,0)); plt.xlim((0,150))\n",
    "for i in range(6):\n",
    "    #if i < 3: col = 'orangered' \n",
    "    #if i >= 3: col = 'royalblue'\n",
    "    if i < 3: col = 'darkturquoise' \n",
    "    if i >= 3: col = 'gold'\n",
    "    if i == 0 or i == 5: alpha = 1\n",
    "    elif i == 1 or i == 4: alpha = 0.6\n",
    "    else: alpha = 0.4\n",
    "    plt.plot(res[i+12], color=col, alpha=alpha)\n",
    "plt.hlines(-4.7, 0, 150, linewidth=0.75)\n",
    "plt.gca().spines['right'].set_color('none')\n",
    "plt.gca().spines['top'].set_color('none')\n",
    "plt.gca().spines['left'].set_color('none')\n",
    "plt.gca().spines['bottom'].set_color('none')\n",
    "plt.annotate(r'\\textit{choice 1}', (115, -0.65))\n",
    "plt.annotate(r'\\textit{choice 2}', (115, -8.2))\n",
    "plt.yticks([]); plt.xticks([])\n",
    "plt.savefig('../figures/final_figures/png_files/single_axis_subspace_projection', dpi=300, bbox_inches='tight')"
   ]
  },
  {
   "cell_type": "code",
   "execution_count": 18,
   "metadata": {},
   "outputs": [],
   "source": [
    "res_ = np.zeros((24, 170))\n",
    "for i, val in enumerate([-5, -1.7, -0.5, 0.5, 1.7, 5]):\n",
    "    for k, val_ in enumerate([-5, -1.7, -0.5, 0.5, 1.7, 5]):\n",
    "        driv.test(np.zeros((763 + 400,20)), np.array([0, 0, 0, 0, 10]))\n",
    "        a1, h1, _, _ = driv.test(np.zeros((763 + 400,20)), np.array([0, 0, 10, 0, 0]), hidden=True)\n",
    "        a2, h2, _, _ = driv.test(np.zeros((763 + 400,150)), np.array([val, val_, 10, 0, 0]), hidden=True, twn=True, scale=0)\n",
    "        a = np.concatenate((a1, a2), axis=1); h = np.concatenate((h1, h2), axis=1)\n",
    "        response = np.concatenate((a[:762],np.zeros((1,170)),h))\n",
    "        proj_color_axis = [ np.dot(Q[:,2], response[:,k]) for k in range(len(a[0])) ]\n",
    "        res_[i] = res_[i] + proj_color_axis\n",
    "    res_[i] /= 6\n",
    "\n",
    "for i, val in enumerate([-5, -1.7, -0.5, 0.5, 1.7, 5]):\n",
    "    for k, val_ in enumerate([-5, -1.7, -0.5, 0.5, 1.7, 5]):\n",
    "        driv.test(np.zeros((763 + 400,20)), np.array([0, 0, 0, 0, 10]))\n",
    "        a1, h1, _, _ = driv.test(np.zeros((763 + 400,20)), np.array([0, 0, 10, 0, 0]), hidden=True)\n",
    "        a2, h2, _, _ = driv.test(np.zeros((763 + 400,150)), np.array([val, val_, 10, 0, 0]), hidden=True, twn=True, scale=0)\n",
    "        a = np.concatenate((a1, a2), axis=1); h = np.concatenate((h1, h2), axis=1)\n",
    "        response = np.concatenate((a[:762],np.zeros((1,170)),h))\n",
    "        proj_color_axis = [ np.dot(Q[:,3], response[:,k]) for k in range(len(a[0])) ]\n",
    "        res_[i+6] = res_[i+6] + proj_color_axis\n",
    "    res_[i+6] /= 6\n",
    "\n",
    "for i, val in enumerate([-5, -1.7, -0.5, 0.5, 1.7, 5]):\n",
    "    for k, val_ in enumerate([-5, -1.7, -0.5, 0.5, 1.7, 5]):\n",
    "        driv.test(np.zeros((763 + 400,20)), np.array([0, 0, 0, 0, 10]))\n",
    "        a1, h1, _, _ = driv.test(np.zeros((763 + 400,20)), np.array([0, 0, 0, 10, 0]), hidden=True)\n",
    "        a2, h2, _, _ = driv.test(np.zeros((763 + 400,150)), np.array([val_, val, 0, 10, 0]), hidden=True, twn=True, scale=0)\n",
    "        a = np.concatenate((a1, a2), axis=1); h = np.concatenate((h1, h2), axis=1)\n",
    "        response = np.concatenate((a[:762],np.zeros((1,170)),h))\n",
    "        proj_color_axis = [ np.dot(Q[:,3], response[:,k]) for k in range(len(a[0])) ]\n",
    "        res_[i+12] = res_[i+12] + proj_color_axis\n",
    "    res_[i+12] /= 6\n",
    "\n",
    "for i, val in enumerate([-5, -1.7, -0.5, 0.5, 1.7, 5]):\n",
    "    for k, val_ in enumerate([-5, -1.7, -0.5, 0.5, 1.7, 5]):\n",
    "        driv.test(np.zeros((763 + 400,20)), np.array([0, 0, 0, 0, 10]))\n",
    "        a1, h1, _, _ = driv.test(np.zeros((763 + 400,20)), np.array([0, 0, 0, 10, 0]), hidden=True)\n",
    "        a2, h2, _, _ = driv.test(np.zeros((763 + 400,150)), np.array([val_, val, 0, 10, 0]), hidden=True, twn=True, scale=0)\n",
    "        a = np.concatenate((a1, a2), axis=1); h = np.concatenate((h1, h2), axis=1)\n",
    "        response = np.concatenate((a[:762],np.zeros((1,170)),h))\n",
    "        proj_color_axis = [ np.dot(Q[:,2], response[:,k]) for k in range(len(a[0])) ]\n",
    "        res_[i+18] = res_[i+18] + proj_color_axis\n",
    "    res_[i+18] /= 6"
   ]
  },
  {
   "cell_type": "code",
   "execution_count": 23,
   "metadata": {},
   "outputs": [
    {
     "data": {
      "application/vnd.jupyter.widget-view+json": {
       "model_id": "a713fb2ce6ee4d3c96dc14a10f9f14b9",
       "version_major": 2,
       "version_minor": 0
      },
      "text/plain": [
       "FigureCanvasNbAgg()"
      ]
     },
     "metadata": {},
     "output_type": "display_data"
    }
   ],
   "source": [
    "plt.close('all')\n",
    "plt.figure(figsize=(6,6))\n",
    "plt.subplot(221)\n",
    "plt.ylim((-9,-3)); plt.xlim((0,150))\n",
    "for i in range(6):\n",
    "    if i < 3: col = 'orangered' \n",
    "    if i >= 3: col = 'royalblue'\n",
    "    #if i < 3: col = 'darkturquoise' \n",
    "    #if i >= 3: col = 'gold'\n",
    "    if i == 0 or i == 5: alpha = 1\n",
    "    elif i == 1 or i == 4: alpha = 0.6\n",
    "    else: alpha = 0.4\n",
    "    plt.plot(res_[i], color=col, alpha=alpha)\n",
    "plt.gca().spines['right'].set_color('none')\n",
    "plt.gca().spines['top'].set_color('none')\n",
    "plt.gca().spines['left'].set_color('none')\n",
    "plt.gca().spines['bottom'].set_color('none')\n",
    "#plt.annotate(r'\\textit{choice 1}', (115, -2.3))\n",
    "#plt.annotate(r'\\textit{choice 2}', (115, -10))\n",
    "plt.yticks([]); plt.xticks([])\n",
    "#plt.ylabel(r'\\textbf{color}' +' \\n context', rotation=0)\n",
    "#plt.title('Projection onto ' + r'\\textbf{color}' + ' axis')\n",
    "plt.hlines(-5, 0, 150, linewidth=0.75)\n",
    "plt.gca().yaxis.set_label_coords(-0.2, 0.5)\n",
    "\n",
    "plt.subplot(222)\n",
    "plt.ylim((-9,-3)); plt.xlim((0,150))\n",
    "for i in range(6):\n",
    "    if i < 3: col = 'orangered' \n",
    "    if i >= 3: col = 'royalblue'\n",
    "    #if i < 3: col = 'darkturquoise' \n",
    "    #if i >= 3: col = 'gold'\n",
    "    if i == 0 or i == 5: alpha = 1\n",
    "    elif i == 1 or i == 4: alpha = 0.6\n",
    "    else: alpha = 0.4\n",
    "    plt.plot(res_[i+6], color=col, alpha=alpha)\n",
    "plt.gca().spines['right'].set_color('none')\n",
    "plt.gca().spines['top'].set_color('none')\n",
    "plt.gca().spines['left'].set_color('none')\n",
    "plt.gca().spines['bottom'].set_color('none')\n",
    "plt.yticks([]); plt.xticks([])\n",
    "plt.hlines(-5, 0, 150, linewidth=0.75)\n",
    "#plt.title('Projection onto ' + r'\\textbf{motion}' + ' axis')\n",
    "#plt.suptitle(r'\\textbf{PSTH projection onto subspace axes}')\n",
    "\n",
    "plt.subplot(223)\n",
    "plt.ylim((-8,-2)); plt.xlim((0,170))\n",
    "for i in range(6):\n",
    "    #if i < 3: col = 'orangered' \n",
    "    #if i >= 3: col = 'royalblue'\n",
    "    if i < 3: col = 'darkturquoise' \n",
    "    if i >= 3: col = 'gold'\n",
    "    if i == 0 or i == 5: alpha = 1\n",
    "    elif i == 1 or i == 4: alpha = 0.6\n",
    "    else: alpha = 0.4\n",
    "    plt.plot(res_[i+12], color=col, alpha=alpha)\n",
    "plt.hlines(-5, 0, 150, linewidth=0.75)\n",
    "plt.gca().spines['right'].set_color('none')\n",
    "plt.gca().spines['top'].set_color('none')\n",
    "plt.gca().spines['left'].set_color('none')\n",
    "plt.gca().spines['bottom'].set_color('none')\n",
    "plt.yticks([]); plt.xticks([])\n",
    "#plt.xlabel('time after stimulus onset (ms)')\n",
    "#plt.ylabel(r'\\textbf{motion}' +' \\n context', rotation=0)\n",
    "plt.gca().yaxis.set_label_coords(-0.2, 0.5)\n",
    "\n",
    "plt.subplot(224)\n",
    "plt.ylim((-8,-2)); plt.xlim((0,170))\n",
    "for i in range(6):\n",
    "    #if i < 3: col = 'orangered' \n",
    "    #if i >= 3: col = 'royalblue'\n",
    "    if i < 3: col = 'darkturquoise' \n",
    "    if i >= 3: col = 'gold'\n",
    "    if i == 0 or i == 5: alpha = 1\n",
    "    elif i == 1 or i == 4: alpha = 0.6\n",
    "    else: alpha = 0.4\n",
    "    plt.plot(res_[i+18], color=col, alpha=alpha)\n",
    "plt.hlines(-5, 0, 150, linewidth=0.75)\n",
    "plt.gca().spines['right'].set_color('none')\n",
    "plt.gca().spines['top'].set_color('none')\n",
    "plt.gca().spines['left'].set_color('none')\n",
    "plt.gca().spines['bottom'].set_color('none')\n",
    "#plt.annotate(r'\\textit{choice 1}', (115, -0.65))\n",
    "#plt.annotate(r'\\textit{choice 2}', (115, -8.2))\n",
    "plt.yticks([]); plt.xticks([])\n",
    "plt.tight_layout(rect=[0, 0.03, 1, 0.95])\n",
    "#plt.savefig('../figures/final_figures/png_files/single_axis_subspace_projection', dpi=300, bbox_inches='tight')"
   ]
  },
  {
   "cell_type": "code",
   "execution_count": 24,
   "metadata": {},
   "outputs": [
    {
     "name": "stderr",
     "output_type": "stream",
     "text": [
      "/usr/local/Cellar/ipython/7.0.1/libexec/vendor/lib/python3.7/site-packages/ipykernel_launcher.py:6: ComplexWarning: Casting complex values to real discards the imaginary part\n",
      "  \n"
     ]
    }
   ],
   "source": [
    "choice_subspace = np.zeros((num_neurons,6))\n",
    "choice_subspace[:,1] = driv.network.input[:,0]; choice_subspace[:,2] = driv.network.input[:,1];\n",
    "choice_subspace[:,3] = driv.network.input[:,2]; choice_subspace[:,4] = driv.network.input[:,3];\n",
    "for point in fixed_points:\n",
    "    E, _, R = da.decompose(da.M(point))\n",
    "    choice_subspace[:,0] = choice_subspace[:,0] + R[:,np.argmax(E.real)]\n",
    "choice_subspace[:,0] /= len(fixed_points)\n",
    "Q_choice, R_choice = np.linalg.qr(choice_subspace)"
   ]
  },
  {
   "cell_type": "code",
   "execution_count": 37,
   "metadata": {},
   "outputs": [],
   "source": [
    "res_c = np.zeros((12, 170))\n",
    "for i, val in enumerate([-5, -1.7, -0.5, 0.5, 1.7, 5]):\n",
    "    for k, val_ in enumerate([-5, -1.7, -0.5, 0.5, 1.7, 5]):\n",
    "        driv.test(np.zeros((763 + 400,20)), np.array([0, 0, 0, 0, 10]))\n",
    "        a1, h1, _, _ = driv.test(np.zeros((763 + 400,20)), np.array([0, 0, 10, 0, 0]), hidden=True)\n",
    "        a2, h2, _, _ = driv.test(np.zeros((763 + 400,150)), np.array([val, val_, 10, 0, 0]), hidden=True, twn=True, scale=0)\n",
    "        a = np.concatenate((a1, a2), axis=1); h = np.concatenate((h1, h2), axis=1)\n",
    "        response = np.concatenate((a[:762],np.zeros((1,170)),h))\n",
    "        proj_color_axis = [ np.dot(Q_choice[:,0], response[:,k]) for k in range(len(a[0])) ]\n",
    "        res_c[i] = res_c[i] + proj_color_axis\n",
    "    res_c[i] /= 6\n",
    "\n",
    "for i, val in enumerate([-5, -1.7, -0.5, 0.5, 1.7, 5]):\n",
    "    for k, val_ in enumerate([-5, -1.7, -0.5, 0.5, 1.7, 5]):\n",
    "        driv.test(np.zeros((763 + 400,20)), np.array([0, 0, 0, 0, 10]))\n",
    "        a1, h1, _, _ = driv.test(np.zeros((763 + 400,20)), np.array([0, 0, 0, 10, 0]), hidden=True)\n",
    "        a2, h2, _, _ = driv.test(np.zeros((763 + 400,150)), np.array([val, val_, 0, 10, 0]), hidden=True, twn=True, scale=0)\n",
    "        a = np.concatenate((a1, a2), axis=1); h = np.concatenate((h1, h2), axis=1)\n",
    "        response = np.concatenate((a[:762],np.zeros((1,170)),h))\n",
    "        proj_color_axis = [ np.dot(Q_choice[:,0], response[:,k]) for k in range(len(a[0])) ]\n",
    "        res_c[i+6] = res_c[i+6] + proj_color_axis\n",
    "    res_c[i+6] /= 6"
   ]
  },
  {
   "cell_type": "code",
   "execution_count": 40,
   "metadata": {},
   "outputs": [
    {
     "data": {
      "application/vnd.jupyter.widget-view+json": {
       "model_id": "57f9c45f0c714b2b813334d06c321cb0",
       "version_major": 2,
       "version_minor": 0
      },
      "text/plain": [
       "FigureCanvasNbAgg()"
      ]
     },
     "metadata": {},
     "output_type": "display_data"
    },
    {
     "data": {
      "text/plain": [
       "([], <a list of 0 Text xticklabel objects>)"
      ]
     },
     "execution_count": 40,
     "metadata": {},
     "output_type": "execute_result"
    }
   ],
   "source": [
    "plt.figure(figsize=(10,5))\n",
    "plt.subplot(121)\n",
    "#plt.ylim((-9,-3)); plt.xlim((0,150))\n",
    "for i in range(6):\n",
    "    if i < 3: col = 'orangered' \n",
    "    if i >= 3: col = 'royalblue'\n",
    "    #if i < 3: col = 'darkturquoise' \n",
    "    #if i >= 3: col = 'gold'\n",
    "    if i == 0 or i == 5: alpha = 1\n",
    "    elif i == 1 or i == 4: alpha = 0.6\n",
    "    else: alpha = 0.4\n",
    "    plt.plot(res_c[i], color=col, alpha=alpha)\n",
    "plt.gca().spines['right'].set_color('none')\n",
    "plt.gca().spines['top'].set_color('none')\n",
    "plt.gca().spines['left'].set_color('none')\n",
    "plt.gca().spines['bottom'].set_color('none')\n",
    "#plt.annotate(r'\\textit{choice 1}', (115, -2.3))\n",
    "#plt.annotate(r'\\textit{choice 2}', (115, -10))\n",
    "plt.yticks([]); plt.xticks([])\n",
    "#plt.ylabel(r'\\textbf{color}' +' \\n context', rotation=0)\n",
    "#plt.title('Projection onto ' + r'\\textbf{color}' + ' axis')\n",
    "#plt.hlines(-5, 0, 150, linewidth=0.75)\n",
    "plt.gca().yaxis.set_label_coords(-0.2, 0.5)\n",
    "\n",
    "plt.subplot(122)\n",
    "#plt.ylim((-9,-3)); plt.xlim((0,150))\n",
    "for i in range(6):\n",
    "    #if i < 3: col = 'orangered' \n",
    "    #if i >= 3: col = 'royalblue'\n",
    "    if i < 3: col = 'darkturquoise' \n",
    "    if i >= 3: col = 'gold'\n",
    "    if i == 0 or i == 5: alpha = 1\n",
    "    elif i == 1 or i == 4: alpha = 0.6\n",
    "    else: alpha = 0.4\n",
    "    plt.plot(res_c[i+6], color=col, alpha=alpha)\n",
    "plt.gca().spines['right'].set_color('none')\n",
    "plt.gca().spines['top'].set_color('none')\n",
    "plt.gca().spines['left'].set_color('none')\n",
    "plt.gca().spines['bottom'].set_color('none')\n",
    "plt.yticks([]); plt.xticks([])\n",
    "#plt.hlines(-5, 0, 150, linewidth=0.75)\n",
    "#plt.title('Projection onto ' + r'\\textbf{motion}' + ' axis')\n",
    "#plt.suptitle(r'\\textbf{PSTH projection onto subspace axes}')"
   ]
  },
  {
   "cell_type": "code",
   "execution_count": 177,
   "metadata": {},
   "outputs": [
    {
     "name": "stdout",
     "output_type": "stream",
     "text": [
      "Initializing Driver...\n",
      " > > > > > Initializing network...\n",
      " > > > > > Network initialized.\n",
      "Driver initialized.\n"
     ]
    }
   ],
   "source": [
    "import dynamicalAnalysis\n",
    "from CleanDriver_v3 import Driver\n",
    "from mpl_toolkits.mplot3d import Axes3D\n",
    "\"\"\" 1/(1+e^(-x)) function\"\"\"\n",
    "def sig(x):\n",
    "    return 1 / (1 + np.exp(-x))\n",
    "num_neurons = 763 + 400; output_num = 763;\n",
    "chaotic_constant = 1.4; input_num = 5; gg_sparseness = 0.7; \n",
    "alpha = 1.0; dt = 0.1; p = 0.1; sigma = 0.0; epochs = 6;\n",
    "driv = Driver(num_neurons, p, chaotic_constant, input_num, output_num, \n",
    "              gg_sparseness, alpha, dt, sigma, sig, target_in_network=True)\n",
    "driv.network.connectivity_matrix = np.load('../data_files/recurrent_reservoir_400_goodfixedpointrun.npy')\n",
    "driv.network.input = np.load('../data_files/input_matrix_400_goodfixedpointrun.npy')"
   ]
  },
  {
   "cell_type": "code",
   "execution_count": 451,
   "metadata": {},
   "outputs": [],
   "source": [
    "from sklearn.decomposition import PCA\n",
    "rep = np.load('../data_files/fixed_400_better.npy')\n",
    "pca = PCA(n_components=3, svd_solver='full')\n",
    "pca.fit(rep)\n",
    "reduced = pca.transform(np.concatenate((np.load('../data_files/fixed_400_better_second_try_more.npy'), \n",
    "                                        np.load('../data_files/fixed_400_better_second_try.npy')), axis=0))\n",
    "sense_ = np.concatenate((np.load('../data_files/fixed_400_better_inputs_second_try_more.npy'), \n",
    "                         np.load('../data_files/fixed_400_better_inputs_second_try.npy')), axis=0)\n",
    "embedding_color = np.array([ reduced[i] for i in range(len(reduced)) if sense_[i][3] == 10 ])\n",
    "embedding_motion = np.array([ reduced[i] for i in range(len(reduced)) if sense_[i][2] == 10  ])\n",
    "\n",
    "reduced_ = pca.transform(rep)\n",
    "_sense = np.load('../data_files/fixed_400_better_inputs.npy')\n",
    "embedding_color_ = np.array([ reduced_[i] for i in range(len(reduced_)) if _sense[i][3] == 10 ])\n",
    "embedding_motion_ = np.array([ reduced_[i] for i in range(len(reduced_)) if _sense[i][2] == 10  ])"
   ]
  },
  {
   "cell_type": "code",
   "execution_count": 501,
   "metadata": {},
   "outputs": [],
   "source": [
    "path = np.zeros((763+400,190))\n",
    "for k, coh in enumerate([-5,-1.7,-0.5,0.5,1.7,5]):\n",
    "    driv.test(np.zeros((num_neurons, 20)), np.array([0,0,0,0,10]), hidden=True)\n",
    "    _, _, a2, x2 = driv.test(np.zeros((num_neurons, 40)), np.array([0,0,10,0,0]), hidden=True)\n",
    "    _, _, a3, x3 = driv.test(np.zeros((num_neurons, 150)), np.array([-5,coh,10,0,0]), hidden=True)\n",
    "    path = path + np.concatenate((np.concatenate((a2[:762], a3[:762]), axis=1), np.zeros((1,190)),\n",
    "                           np.concatenate((x2, x3), axis=1)), axis=0)\n",
    "path /= 6"
   ]
  },
  {
   "cell_type": "code",
   "execution_count": 460,
   "metadata": {},
   "outputs": [],
   "source": [
    "driv.test(np.zeros((num_neurons, 20)), np.array([0,0,0,0,10]), hidden=True)\n",
    "r1, h1, a2, x2 = driv.test(np.zeros((num_neurons, 40)), np.array([0,0,10,0,0]), hidden=True)\n",
    "r2, h2, a3, x3 = driv.test(np.zeros((num_neurons, 100)), np.array([5,5,10,0,0]), hidden=True)\n",
    "path = np.concatenate((np.concatenate((a2[:762], a3[:762]), axis=1), np.zeros((1,140)),\n",
    "                       np.concatenate((x2, x3), axis=1)), axis=0)"
   ]
  },
  {
   "cell_type": "code",
   "execution_count": 453,
   "metadata": {},
   "outputs": [],
   "source": [
    "path = np.concatenate((np.concatenate((r1, r2), axis=1),\n",
    "                       np.concatenate((h1, h2), axis=1)), axis=0)"
   ]
  },
  {
   "cell_type": "code",
   "execution_count": 502,
   "metadata": {},
   "outputs": [],
   "source": [
    "path_ = np.array([pca.transform(path[:,i].reshape(1,-1)) for i in range(len(path[0]))])"
   ]
  },
  {
   "cell_type": "code",
   "execution_count": 505,
   "metadata": {},
   "outputs": [
    {
     "data": {
      "application/vnd.jupyter.widget-view+json": {
       "model_id": "ffd8c05197434291a468859d2275d1ff",
       "version_major": 2,
       "version_minor": 0
      },
      "text/plain": [
       "FigureCanvasNbAgg()"
      ]
     },
     "metadata": {},
     "output_type": "display_data"
    }
   ],
   "source": [
    "# from mpl_toolkits.mplot3d import Axes3D\n",
    "plt.close('all') #organered = neg color, royalblue = pos col, gold = pos motion, darktorquois = neg motion\n",
    "fig = plt.figure(figsize=(10,7))\n",
    "ax = fig.add_subplot(111, projection='3d')\n",
    "ax._axis3don = False\n",
    "#ax.scatter(embedding_color[:,0], embedding_color[:,1], embedding_color[:,2], color='blue', marker='x', linewidth=0.5)\n",
    "ax.scatter(embedding_motion[:,0], embedding_motion[:,1], embedding_motion[:,2], color='black', marker='x', linewidth=0.5)\n",
    "#ax.scatter(embedding_color_[:,0], embedding_color_[:,1], embedding_color_[:,2], color='plum', marker='+', linewidth=0.75)\n",
    "ax.scatter(embedding_motion_[:,0], embedding_motion_[:,1], embedding_motion_[:,2], color='magenta', marker='+', linewidth=0.75)\n",
    "ax.scatter(path_[:40,0,0], path_[:40,0,1], path_[:40,0,2], edgecolor='black', color='white', s=15)\n",
    "ax.plot(path_[:40,0,0], path_[:40,0,1], path_[:40,0,2], color='black', linewidth=0.5)\n",
    "ax.scatter(path_[40:60,0,0], path_[40:60,0,1], path_[40:60,0,2], edgecolor='bisque', color='white', s=15, alpha=1)\n",
    "ax.plot(path_[39:60,0,0], path_[39:60,0,1], path_[39:60,0,2], color='bisque', linewidth=0.5, alpha=1)\n",
    "ax.scatter(path_[60:,0,0], path_[60:,0,1], path_[60:,0,2], edgecolor='gold', color='white', s=15, alpha=1)\n",
    "ax.plot(path_[60:,0,0], path_[60:,0,1], path_[60:,0,2], color='gold', alpha=1, linewidth=0.5)\n",
    "#ax.scatter(reduced[0,0], reduced[0,1], reduced[0,2], color='green', s=200)\n",
    "#ax.scatter(reduce_axes[0,0], reduce_axes[0,1], reduce_axes[0,2], s=200)\n",
    "#ax.plot(np.array([reduced[1,0], reduce_axes[0,0]]), \n",
    "#        [reduced[1,1], reduce_axes[0,1]], [reduced[1,2], reduce_axes[0,2]])\n",
    "ax.set_xlabel('x'); ax.set_ylabel('y'); ax.set_zlabel('z')\n",
    "ax.w_xaxis.set_pane_color(color=(1,1,1,1))\n",
    "ax.w_yaxis.set_pane_color(color=(1,1,1,1))\n",
    "ax.w_zaxis.set_pane_color(color=(1,1,1,1))\n",
    "ax.set_xticks([])\n",
    "ax.set_yticks([])\n",
    "ax.set_zticks([])\n",
    "#ax.set_xlim((-1.2661751953832017, 41.023130633206726))\n",
    "#ax.set_ylim((-55.29764270021054, 52.21604575621304))\n",
    "fig.savefig('../figures/final_figures/png_files/mot_plane_mot_driven_fixed_avg', dpi=300, bbox_inches='tight')"
   ]
  },
  {
   "cell_type": "code",
   "execution_count": 62,
   "metadata": {},
   "outputs": [
    {
     "data": {
      "application/vnd.jupyter.widget-view+json": {
       "model_id": "1119a9b7b20b4a319db022665fd1eab7",
       "version_major": 2,
       "version_minor": 0
      },
      "text/plain": [
       "FigureCanvasNbAgg()"
      ]
     },
     "metadata": {},
     "output_type": "display_data"
    },
    {
     "data": {
      "text/plain": [
       "[]"
      ]
     },
     "execution_count": 62,
     "metadata": {},
     "output_type": "execute_result"
    }
   ],
   "source": [
    "fig = plt.figure(figsize=(10,7))\n",
    "ax = fig.add_subplot(111, projection='3d')\n",
    "ax._axis3don = False\n",
    "ax.scatter(embedding_color[:,0], embedding_color[:,1], embedding_color[:,2], color='blue', marker='x', linewidth=0.5)\n",
    "#ax.scatter(embedding_motion[:,0], embedding_motion[:,1], embedding_motion[:,2], color='black')\n",
    "ax.scatter(embedding_color_[:,0], embedding_color_[:,1], embedding_color_[:,2], color='cornflowerblue', marker='x', linewidth=0.75)\n",
    "#ax.scatter(embedding_motion_[:,0], embedding_motion_[:,1], embedding_motion_[:,2], color='magenta', alpha=0.5)\n",
    "ax.scatter(path_[30:,0,0], path_[30:,0,1], path_[30:,0,2], edgecolor='darkturquoise', color='white', s=20)\n",
    "ax.set_xlabel('x'); ax.set_ylabel('y'); ax.set_zlabel('z')\n",
    "ax.w_xaxis.set_pane_color(color=(1,1,1,1))\n",
    "ax.w_yaxis.set_pane_color(color=(1,1,1,1))\n",
    "ax.w_zaxis.set_pane_color(color=(1,1,1,1))\n",
    "ax.set_xticks([])\n",
    "ax.set_yticks([])\n",
    "ax.set_zticks([])"
   ]
  },
  {
   "cell_type": "code",
   "execution_count": 229,
   "metadata": {},
   "outputs": [
    {
     "name": "stderr",
     "output_type": "stream",
     "text": [
      "/usr/local/lib/python3.7/site-packages/matplotlib/__init__.py:880: MatplotlibDeprecationWarning: \n",
      "nbagg.transparent\n",
      "  version, key, obj_type=\"rcparam\", alternative=alt_key)\n"
     ]
    },
    {
     "data": {
      "application/vnd.jupyter.widget-view+json": {
       "model_id": "ddb6858868b643e684cdac07e8209e8f",
       "version_major": 2,
       "version_minor": 0
      },
      "text/plain": [
       "FigureCanvasNbAgg()"
      ]
     },
     "metadata": {},
     "output_type": "display_data"
    }
   ],
   "source": [
    "# from mpl_toolkits.mplot3d import Axes3D\n",
    "plt.close('all')\n",
    "fig = plt.figure(figsize=(10,7))\n",
    "ax = fig.add_subplot(111, projection='3d')\n",
    "ax._axis3don = False\n",
    "ax.scatter(embedding_color[:,0], embedding_color[:,1], embedding_color[:,2], color='blue', marker='x', linewidth=0.5)\n",
    "ax.scatter(embedding_motion[:,0], embedding_motion[:,1], embedding_motion[:,2], color='black', marker='x', linewidth=0.5)\n",
    "ax.scatter(embedding_color_[:,0], embedding_color_[:,1], embedding_color_[:,2], color='plum', marker='+', linewidth=1)\n",
    "ax.scatter(embedding_motion_[:,0], embedding_motion_[:,1], embedding_motion_[:,2], color='magenta',  marker='+', linewidth=1)\n",
    "ax.set_xlabel('x'); ax.set_ylabel('y'); ax.set_zlabel('z')\n",
    "ax.w_xaxis.set_pane_color(color=(1,1,1,1))\n",
    "ax.w_yaxis.set_pane_color(color=(1,1,1,1))\n",
    "ax.w_zaxis.set_pane_color(color=(1,1,1,1))\n",
    "ax.set_xticks([])\n",
    "ax.set_yticks([])\n",
    "ax.set_zticks([])\n",
    "#ax.set_xlim((-39.948852435367904, -4.867458174825036))\n",
    "#ax.set_ylim((-53.43567286187623, 55.11972081896661))\n",
    "plt.title(r'\\textbf{Fixed points in PC space according to context}', fontsize=16)\n",
    "fig.savefig('../figures/final_figures/png_files/fixed_points', dpi=300, bbox_inches='tight')"
   ]
  },
  {
   "cell_type": "code",
   "execution_count": 17,
   "metadata": {},
   "outputs": [
    {
     "name": "stderr",
     "output_type": "stream",
     "text": [
      "/usr/local/lib/python3.7/site-packages/matplotlib/__init__.py:880: MatplotlibDeprecationWarning: \n",
      "nbagg.transparent\n",
      "  version, key, obj_type=\"rcparam\", alternative=alt_key)\n"
     ]
    },
    {
     "data": {
      "application/vnd.jupyter.widget-view+json": {
       "model_id": "126e6ff4a49446a7b734fcc707b46461",
       "version_major": 2,
       "version_minor": 0
      },
      "text/plain": [
       "FigureCanvasNbAgg()"
      ]
     },
     "metadata": {},
     "output_type": "display_data"
    }
   ],
   "source": [
    "plt.close('all')\n",
    "fps = np.concatenate((np.load('../data_files/fixed_400_better_second_try_more.npy'), \n",
    "                                    np.load('../data_files/fixed_400_better_second_try.npy')), axis=0)\n",
    "E_toy = np.load('../data_files/Ereal_toy.npy')\n",
    "E, L, R = da.decompose(da.M(fps[0]))\n",
    "idx = np.argsort(E)[::-1]\n",
    "plt.figure()\n",
    "plt.scatter(np.arange(len(E)), E.real[idx], marker='+', linewidth=0.5)\n",
    "idx = np.argsort(E_toy)[::-1]\n",
    "plt.scatter(np.arange(len(E_toy)), E_toy.real[idx], marker='+', linewidth=0.5)\n",
    "plt.gca().spines['right'].set_color('none')\n",
    "plt.gca().spines['top'].set_color('none')"
   ]
  },
  {
   "cell_type": "code",
   "execution_count": 36,
   "metadata": {},
   "outputs": [
    {
     "data": {
      "application/vnd.jupyter.widget-view+json": {
       "model_id": "a3c06345a6654d36bfee8132df089fe2",
       "version_major": 2,
       "version_minor": 0
      },
      "text/plain": [
       "FigureCanvasNbAgg()"
      ]
     },
     "metadata": {},
     "output_type": "display_data"
    }
   ],
   "source": [
    "plt.figure()\n",
    "plt.subplot(221)\n",
    "plt.scatter(E.real, E.imag,  s=9, edgecolor='lightseagreen', color='white', linewidth=0.55)\n",
    "plt.gca().spines['right'].set_color('none')\n",
    "plt.gca().spines['top'].set_color('none')\n",
    "plt.suptitle(r'\\textbf{Eigenspectrum of fixed points}', fontsize=16)\n",
    "plt.xticks([-10, -5, 0], ['-10', '-5', '0']); plt.xlim((-10,0.15))\n",
    "plt.yticks([-3, -2, -1, 0, 1, 2, 3], ['-3', '-2', '-1', '0', '1', '2', '3'])\n",
    "plt.xlabel(r'Re$(\\lambda)$', fontsize=13)\n",
    "plt.ylabel(r'Im$(\\lambda)$', fontsize=13)\n",
    "\n",
    "plt.subplot(222)\n",
    "plt.scatter(E_toy.real, E_toy.imag, s=9, edgecolor='darkslateblue', color='white', linewidth=0.55)\n",
    "plt.gca().spines['right'].set_color('none')\n",
    "plt.gca().spines['top'].set_color('none')\n",
    "plt.xticks([-1.25, -0.5, 0], ['-1.25', '-0.5', '0']); plt.xlim((-1.25,0.05))\n",
    "plt.yticks([-0.3, -0.2, -0.1, 0, 0.1, 0.2,0.3], ['-0.3', '-0.2', '-0.1', '0', '0.1', '0.2', '0.3'])\n",
    "plt.xlabel(r'Re$(\\lambda)$', fontsize=13)\n",
    "plt.ylabel(r'Im$(\\lambda)$', fontsize=13)\n",
    "\n",
    "plt.subplot(223)\n",
    "idx = np.argsort(E)[::-1]\n",
    "plt.scatter(np.arange(len(E)), E.real[idx],  s=9, edgecolor='lightseagreen', color='white', zorder=2, linewidth=0.55)\n",
    "plt.plot(np.arange(len(E)), E.real[idx], color='lightseagreen', linewidth=0.175, zorder=1)\n",
    "plt.gca().spines['right'].set_color('none')\n",
    "plt.gca().spines['top'].set_color('none')\n",
    "plt.xticks([0, 600, 1163], ['0', '600', '1163']); plt.xlim((-30,1180))\n",
    "plt.yticks([-10, -8, -6, -4, -2, 0], ['-10', '-8', '-6', '-4', '-2', '0'])\n",
    "plt.xlabel('Eigenvalue index', fontsize=13)\n",
    "plt.ylabel(r'Re$(\\lambda)$', fontsize=13)\n",
    "\n",
    "plt.subplot(224)\n",
    "idx = np.argsort(E_toy)[::-1]\n",
    "plt.scatter(np.arange(len(E_toy)), E_toy.real[idx], s=9, edgecolor='darkslateblue', color='white', zorder=2, linewidth=0.55)\n",
    "plt.plot(np.arange(len(E_toy)), E_toy.real[idx], color='darkslateblue', linewidth=0.175, zorder=1)\n",
    "plt.gca().spines['right'].set_color('none')\n",
    "plt.gca().spines['top'].set_color('none')\n",
    "plt.xticks([0, 100, 200], ['0', '100', '200']); plt.xlim((-9,201))\n",
    "plt.yticks([-1.25, -1, -0.75, -0.5, -0.25, 0.02], ['-1.25', '-1.00', '-0.75', '-0.50', '-0.25', '0'])\n",
    "plt.xlabel('Eigenvalue index', fontsize=13)\n",
    "plt.ylabel(r'Re$(\\lambda)$', fontsize=13)\n",
    "plt.tight_layout(rect=[0, 0.03, 1, 0.95])\n",
    "plt.savefig('../figures/final_figures/png_files/eigenspectrum_2', dpi=300, bbox_inches='tight')"
   ]
  },
  {
   "cell_type": "code",
   "execution_count": 194,
   "metadata": {},
   "outputs": [],
   "source": [
    "new_subspace = np.zeros((num_neurons, 3))\n",
    "new_subspace[:,0] = driv.network.input[:,0]; new_subspace[:,1] = driv.network.input[:,1]\n",
    "new_subspace[:,2] = driv.network.connectivity_matrix[output_num - 1]\n",
    "Q, R = np.linalg.qr(new_subspace)"
   ]
  },
  {
   "cell_type": "code",
   "execution_count": 214,
   "metadata": {},
   "outputs": [],
   "source": [
    "points = np.concatenate((np.load('../data_files/fixed_400_better_second_try_more.npy'), \n",
    "                                        np.load('../data_files/fixed_400_better_second_try.npy')), axis=0)\n",
    "sense_ = np.concatenate((np.load('../data_files/fixed_400_better_inputs_second_try_more.npy'), \n",
    "                         np.load('../data_files/fixed_400_better_inputs_second_try.npy')), axis=0)\n",
    "rep = np.load('../data_files/fixed_400_better.npy')\n",
    "_sense = np.load('../data_files/fixed_400_better_inputs.npy')\n",
    "\n",
    "embedding_color = np.array([ points[i] for i in range(len(points)) if sense_[i][3] == 10 ])\n",
    "embedding_motion = np.array([ points[i] for i in range(len(points)) if sense_[i][2] == 10  ])\n",
    "\n",
    "_embedding_color = np.array([ np.dot(Q.T, embedding_color[i]) for i in range (len(embedding_color))])\n",
    "_embedding_motion = np.array([ np.dot(Q.T, embedding_motion[i]) for i in range (len(embedding_motion))])\n",
    "\n",
    "embedding_color = np.array([ rep[i] for i in range(len(rep)) if _sense[i][3] == 10 ])\n",
    "embedding_motion = np.array([ rep[i] for i in range(len(rep)) if _sense[i][2] == 10  ])\n",
    "\n",
    "_embedding_color_ = np.array([ np.dot(Q.T, embedding_color[i]) for i in range (len(embedding_color))])\n",
    "_embedding_motion_ = np.array([ np.dot(Q.T, embedding_motion[i]) for i in range (len(embedding_motion))])\n",
    "\n",
    "path_ = np.array([ np.dot(Q.T, path[:,i]) for i in range (len(path[0]))])"
   ]
  },
  {
   "cell_type": "code",
   "execution_count": 215,
   "metadata": {},
   "outputs": [
    {
     "data": {
      "application/vnd.jupyter.widget-view+json": {
       "model_id": "4773916016764ae5a8175ad1e150dc2e",
       "version_major": 2,
       "version_minor": 0
      },
      "text/plain": [
       "FigureCanvasNbAgg()"
      ]
     },
     "metadata": {},
     "output_type": "display_data"
    },
    {
     "data": {
      "text/plain": [
       "<mpl_toolkits.mplot3d.art3d.Path3DCollection at 0x11dfc6128>"
      ]
     },
     "execution_count": 215,
     "metadata": {},
     "output_type": "execute_result"
    }
   ],
   "source": [
    "plt.close('all')\n",
    "fig = plt.figure(figsize=(10,7))\n",
    "ax = fig.add_subplot(111, projection='3d')\n",
    "ax._axis3don = False\n",
    "ax.scatter(_embedding_color[:,0], _embedding_color[:,1], _embedding_color[:,2], color='blue', marker='x', linewidth=0.5)\n",
    "ax.scatter(_embedding_motion[:,0], _embedding_motion[:,1], _embedding_motion[:,2], color='black', marker='x', linewidth=0.5)\n",
    "ax.scatter(_embedding_color_[:,0], _embedding_color_[:,1], _embedding_color_[:,2], color='magenta', marker='x', linewidth=0.5)\n",
    "ax.scatter(_embedding_motion_[:,0], _embedding_motion_[:,1], _embedding_motion_[:,2], color='plum', marker='x', linewidth=0.5)\n",
    "ax.scatter(path_[:,0], path_[:,1], path_[:,2], color='gold', marker='o', linewidth=0.5)"
   ]
  },
  {
   "cell_type": "code",
   "execution_count": 433,
   "metadata": {},
   "outputs": [
    {
     "data": {
      "text/plain": [
       "array([ 0.5, -1.7, 10. ,  0. ,  0. ])"
      ]
     },
     "execution_count": 433,
     "metadata": {},
     "output_type": "execute_result"
    }
   ],
   "source": [
    "_sense[200]"
   ]
  },
  {
   "cell_type": "code",
   "execution_count": 440,
   "metadata": {},
   "outputs": [],
   "source": [
    "NUM = 50\n",
    "conv_comb = np.zeros((NUM, NUM, num_neurons))\n",
    "for i, sense in enumerate(_sense):\n",
    "    if sense[3] == 10:\n",
    "        if sense[0] == 5:\n",
    "            if sense[1] == 5: conv_comb[0,0,:] = rep[i]\n",
    "            elif sense[1] == -5: conv_comb[NUM-1,0,:] = rep[i]\n",
    "        elif sense[0] == -5:\n",
    "            if sense[1] == 5: conv_comb[0,NUM-1,:] = rep[i]\n",
    "            elif sense[1] == -5: conv_comb[NUM-1,NUM-1,:] = rep[i]\n",
    "\n",
    "conv = np.linspace(0, 1, num=NUM)\n",
    "for k in range(1,NUM-1):\n",
    "    conv_comb[k,0,:] = (1 - conv[k]) * conv_comb[0,0,:] + conv[k] * conv_comb[NUM-1,0,:]\n",
    "for k in range(1,NUM-1):\n",
    "    conv_comb[0,k,:] = (1 - conv[k]) * conv_comb[0,0,:] + conv[k] * conv_comb[0,NUM-1,:]\n",
    "for k in range(1,NUM-1):\n",
    "    conv_comb[k,NUM-1,:] = (1 - conv[k]) * conv_comb[0,NUM-1,:] + conv[k] * conv_comb[NUM-1,NUM-1,:]\n",
    "for k in range(1,NUM-1):\n",
    "    conv_comb[NUM-1,k,:] = (1 - conv[k]) * conv_comb[NUM-1,0,:] + conv[k] * conv_comb[NUM-1,NUM-1,:]\n",
    "\n",
    "for i in range(num_neurons):\n",
    "    for k in range(NUM):\n",
    "        conv_comb[:,k,i] = conv_comb[:,0,i]"
   ]
  },
  {
   "cell_type": "code",
   "execution_count": 443,
   "metadata": {},
   "outputs": [
    {
     "data": {
      "application/vnd.jupyter.widget-view+json": {
       "model_id": "00bee986b50c4dde85886c7764e9dadf",
       "version_major": 2,
       "version_minor": 0
      },
      "text/plain": [
       "FigureCanvasNbAgg()"
      ]
     },
     "metadata": {},
     "output_type": "display_data"
    },
    {
     "data": {
      "text/plain": [
       "<matplotlib.image.AxesImage at 0x1b039bba8>"
      ]
     },
     "execution_count": 443,
     "metadata": {},
     "output_type": "execute_result"
    }
   ],
   "source": [
    "plt.figure()\n",
    "plt.imshow(conv_comb[:,:,2])"
   ]
  },
  {
   "cell_type": "code",
   "execution_count": 419,
   "metadata": {},
   "outputs": [],
   "source": [
    "sense_comb = np.zeros((NUM,NUM,5))\n",
    "sense_comb[0,0,:] = [5,5,10,0,0]; sense_comb[NUM-1,0,:] = [5,-5,10,0,0]\n",
    "sense_comb[0,NUM-1,:] = [-5,5,10,0,0]; sense_comb[NUM-1,NUM-1,:] = [-5,-5,10,0,0]\n",
    "\n",
    "conv = np.linspace(0, 1, num=NUM)\n",
    "for k in range(1,NUM-1):\n",
    "    sense_comb[k,0,:] = (1 - conv[k]) * sense_comb[0,0,:] + conv[k] * sense_comb[NUM-1,0,:]\n",
    "    sense_comb[k,0,2] = 10\n",
    "for k in range(1,NUM-1):\n",
    "    sense_comb[0,k,:] = (1 - conv[k]) * sense_comb[0,0,:] + conv[k] * sense_comb[0,NUM-1,:]\n",
    "    sense_comb[0,k,2] = 10\n",
    "for k in range(1,NUM-1):\n",
    "    sense_comb[k,NUM-1,:] = (1 - conv[k]) * sense_comb[0,NUM-1,:] + conv[k] * sense_comb[NUM-1,NUM-1,:]\n",
    "    sense_comb[k,NUM-1,2] = 10\n",
    "for k in range(1,NUM-1):\n",
    "    sense_comb[NUM-1,k,:] = (1 - conv[k]) * sense_comb[NUM-1,0,:] + conv[k] * sense_comb[NUM-1,NUM-1,:]\n",
    "    sense_comb[NUM-1,k,2] = 10\n",
    "\n",
    "for i in range(50):\n",
    "    sense_comb[i,:,0] = sense_comb[0,:,0]\n",
    "    sense_comb[i,:,2] = 10\n",
    "for i in range(50):\n",
    "    sense_comb[:,i,1] = sense_comb[:,0,1]"
   ]
  },
  {
   "cell_type": "code",
   "execution_count": 444,
   "metadata": {},
   "outputs": [],
   "source": [
    "pca = PCA(n_components=2, svd_solver='full')\n",
    "pca.fit(rep)\n",
    "X, Y = np.meshgrid(np.arange(50), np.arange(50)); con = [5, 5, 0, 10, 0]\n",
    "U = np.zeros((50,50)); V = np.zeros((50,50))\n",
    "for i in range(50):\n",
    "    for k in range(50):\n",
    "        da.network.membrane_potential = conv_comb[i,k,:]\n",
    "        res = da.p_prop(sense_comb[i,k,:])\n",
    "        proj = pca.transform(res.reshape(1,-1))\n",
    "        U[i,k] = proj[0,0]; V[i,k] = proj[0,1]"
   ]
  },
  {
   "cell_type": "code",
   "execution_count": 445,
   "metadata": {},
   "outputs": [
    {
     "name": "stderr",
     "output_type": "stream",
     "text": [
      "/usr/local/lib/python3.7/site-packages/matplotlib/pyplot.py:513: RuntimeWarning: More than 20 figures have been opened. Figures created through the pyplot interface (`matplotlib.pyplot.figure`) are retained until explicitly closed and may consume too much memory. (To control this warning, see the rcParam `figure.max_open_warning`).\n",
      "  max_open_warning, RuntimeWarning)\n",
      "/usr/local/lib/python3.7/site-packages/matplotlib/__init__.py:880: MatplotlibDeprecationWarning: \n",
      "nbagg.transparent\n",
      "  version, key, obj_type=\"rcparam\", alternative=alt_key)\n"
     ]
    },
    {
     "data": {
      "application/vnd.jupyter.widget-view+json": {
       "model_id": "f88e02d0235e4e7ab08cfac6875566ba",
       "version_major": 2,
       "version_minor": 0
      },
      "text/plain": [
       "FigureCanvasNbAgg()"
      ]
     },
     "metadata": {},
     "output_type": "display_data"
    },
    {
     "data": {
      "text/plain": [
       "<matplotlib.quiver.Quiver at 0x17f0505c0>"
      ]
     },
     "execution_count": 445,
     "metadata": {},
     "output_type": "execute_result"
    }
   ],
   "source": [
    "plt.figure()\n",
    "plt.quiver(X, Y, U, V)"
   ]
  },
  {
   "cell_type": "code",
   "execution_count": null,
   "metadata": {},
   "outputs": [],
   "source": []
  }
 ],
 "metadata": {
  "kernelspec": {
   "display_name": "Python 3",
   "language": "python",
   "name": "python3"
  },
  "language_info": {
   "codemirror_mode": {
    "name": "ipython",
    "version": 3
   },
   "file_extension": ".py",
   "mimetype": "text/x-python",
   "name": "python",
   "nbconvert_exporter": "python",
   "pygments_lexer": "ipython3",
   "version": "3.7.0"
  }
 },
 "nbformat": 4,
 "nbformat_minor": 2
}
